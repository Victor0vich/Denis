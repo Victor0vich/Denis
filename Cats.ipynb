{
  "nbformat": 4,
  "nbformat_minor": 0,
  "metadata": {
    "colab": {
      "provenance": [],
      "authorship_tag": "ABX9TyPtZmXijqXw5KpIvWcND6Hd",
      "include_colab_link": true
    },
    "kernelspec": {
      "name": "python3",
      "display_name": "Python 3"
    },
    "language_info": {
      "name": "python"
    }
  },
  "cells": [
    {
      "cell_type": "markdown",
      "metadata": {
        "id": "view-in-github",
        "colab_type": "text"
      },
      "source": [
        "<a href=\"https://colab.research.google.com/github/Victor0vich/Denis/blob/main/Cats.ipynb\" target=\"_parent\"><img src=\"https://colab.research.google.com/assets/colab-badge.svg\" alt=\"Open In Colab\"/></a>"
      ]
    },
    {
      "cell_type": "code",
      "execution_count": null,
      "metadata": {
        "id": "udIwh3Fz2Qbz"
      },
      "outputs": [],
      "source": []
    },
    {
      "cell_type": "code",
      "source": [
        "Код мастер-класса:\n",
        "import telebot\n",
        "from telebot import types\n",
        "import json\n",
        "import time\n",
        "import requests\n",
        "import base64\n",
        "\n",
        "api_key = \"\"\n",
        "secret_key = \"\"\n",
        "token = \"\"\n",
        "\n",
        "bot = telebot.TeleBot(token)\n",
        "\n",
        "styles = {\n",
        "    'KANDINSKY': 'KANDINSKY',\n",
        "    'Детальное фото': 'UHD',\n",
        "    'ANIME': 'ANIME',\n",
        "    'No style': 'DEFAULT'\n",
        "}\n",
        "\n",
        "\n",
        "class GenerateModel:  # Создаем класс для работы с API\n",
        "    def __init__(self, url, api_key, secret_key):\n",
        "        self.URL = url\n",
        "        self.AUTH_HEADERS = {\n",
        "            'X-Key': f'Key {api_key}',\n",
        "            'X-Secret': f'Secret {secret_key}',\n",
        "        }\n",
        "\n",
        "    def get_model(self):\n",
        "        response = requests.get(self.URL + 'key/api/v1/models', headers=self.AUTH_HEADERS)\n",
        "        data = response.json()\n",
        "        return data[0]['id']  # id модели\n",
        "\n",
        "    def generate(self, prompt, model, style, images=1, width=1024, height=1024):\n",
        "        params = {\n",
        "            \"type\": \"GENERATE\",\n",
        "            \"numImages\": images,\n",
        "            \"width\": width,\n",
        "            \"height\": height,\n",
        "            \"style\": style,\n",
        "            \"generateParams\": {\n",
        "                \"query\": f\"{prompt}\"\n",
        "            }\n",
        "        }\n",
        "        data = {\n",
        "            'model_id': (None, model),\n",
        "            'params': (None, json.dumps(params), 'application/json')\n",
        "        }\n",
        "        response = requests.post(self.URL + 'key/api/v1/text2image/run', headers=self.AUTH_HEADERS, files=data)\n",
        "        data = response.json()\n",
        "        return data['uuid']  # уникальный идентификатор задачи на генерацию\n",
        "\n",
        "    def check_generation(self, request_id, attempts=10, delay=10):\n",
        "        while attempts > 0:\n",
        "            response = requests.get(self.URL + 'key/api/v1/text2image/status/' + request_id, headers=self.AUTH_HEADERS)\n",
        "            data = response.json()\n",
        "            if data['status'] == 'DONE':\n",
        "                return data['images']\n",
        "            attempts -= 1\n",
        "            time.sleep(delay)\n",
        "\n",
        "\n",
        "@bot.message_handler(commands=['start'])\n",
        "def welcome_func(message):\n",
        "    bot.send_message(message.chat.id,\n",
        "                     \"Привет! Я бот, который генерирует картинки по твоему запросу! Чтобы начать, отправь мне команду /generate\")\n",
        "\n",
        "\n",
        "@bot.message_handler(commands=['generate'])\n",
        "def generate_func(message):\n",
        "    kb = types.ReplyKeyboardMarkup()\n",
        "    for key in styles.keys():\n",
        "        button = types.KeyboardButton(key)\n",
        "        kb.add(button)\n",
        "    bot.send_message(message.chat.id, \"Выбери стиль:\", reply_markup=kb)\n",
        "\n",
        "\n",
        "@bot.message_handler(func=lambda message: message.text in list(styles.keys()))  # ???\n",
        "def generate_with_style(message):\n",
        "    bot.send_message(message.chat.id, f'Вы выбрали стиль: {message.text}.Введите свой промт')\n",
        "    style = styles[message.text]\n",
        "    bot.register_next_step_handler(message, generate_picture, style)\n",
        "\n",
        "\n",
        "def generate_picture(message, style):\n",
        "    promt = message.text\n",
        "    url = 'https://api-key.fusionbrain.ai/'\n",
        "    api = GenerateModel(url, api_key=api_key, secret_key=secret_key)\n",
        "    model_id = api.get_model()\n",
        "    uuid = api.generate(promt, model_id, style)\n",
        "    images = api.check_generation(uuid)\n",
        "    if images != None:\n",
        "        images_base64 = images[0]\n",
        "        image_data = base64.b64decode(images_base64)\n",
        "        with open('generate_images.jpg', 'wb') as f:\n",
        "            f.write(image_data)\n",
        "        with open('generate_images.jpg', 'rb') as f:\n",
        "            bot.send_photo(message.chat.id, f, caption=promt)\n",
        "    else:\n",
        "        bot.send_message(message.chat.id, 'Не удалось сгенерировать изображение')\n",
        "\n",
        "\n",
        "bot.infinity_polling()"
      ],
      "metadata": {
        "colab": {
          "base_uri": "https://localhost:8080/",
          "height": 109
        },
        "id": "4_wdoSo-2Vhf",
        "outputId": "d9bb5481-bfbe-4c48-b70e-f252da84c18d"
      },
      "execution_count": null,
      "outputs": [
        {
          "output_type": "error",
          "ename": "SyntaxError",
          "evalue": "invalid syntax (<ipython-input-1-063edcc2d7da>, line 1)",
          "traceback": [
            "\u001b[0;36m  File \u001b[0;32m\"<ipython-input-1-063edcc2d7da>\"\u001b[0;36m, line \u001b[0;32m1\u001b[0m\n\u001b[0;31m    Код мастер-класса:\u001b[0m\n\u001b[0m        ^\u001b[0m\n\u001b[0;31mSyntaxError\u001b[0m\u001b[0;31m:\u001b[0m invalid syntax\n"
          ]
        }
      ]
    },
    {
      "cell_type": "code",
      "source": [],
      "metadata": {
        "id": "08AUeobQoEj4"
      },
      "execution_count": null,
      "outputs": []
    },
    {
      "cell_type": "code",
      "source": [],
      "metadata": {
        "id": "qFvdyZDC2Sde"
      },
      "execution_count": null,
      "outputs": []
    }
  ]
}