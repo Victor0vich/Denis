{
  "nbformat": 4,
  "nbformat_minor": 0,
  "metadata": {
    "colab": {
      "provenance": []
    },
    "kernelspec": {
      "name": "python3",
      "display_name": "Python 3"
    },
    "language_info": {
      "name": "python"
    }
  },
  "cells": [
    {
      "cell_type": "markdown",
      "source": [
        "# Данные"
      ],
      "metadata": {
        "id": "czBQVkmo5pE5"
      }
    },
    {
      "cell_type": "code",
      "execution_count": null,
      "metadata": {
        "id": "o9NOHTgiLV4n",
        "colab": {
          "base_uri": "https://localhost:8080/",
          "height": 206
        },
        "outputId": "b47d66a3-253e-4ad1-f2c7-ff8eba213c2c"
      },
      "outputs": [
        {
          "output_type": "execute_result",
          "data": {
            "text/plain": [
              "   Unnamed: 0  price  totsp  livesp  kitsp  dist  metrdist  walk  brick  floor\n",
              "0           1     81     58      40    6.0  12.5         7     1      1      1\n",
              "1           2     75     44      28    6.0  13.5         7     1      0      1\n",
              "2           3    128     70      42    6.0  14.5         3     1      1      1\n",
              "3           4     95     61      37    6.0  13.5         7     1      0      1\n",
              "4           5    330    104      60   11.0  10.5         7     0      1      1"
            ],
            "text/html": [
              "\n",
              "  <div id=\"df-6ae63089-f8c2-4a67-ad83-70ea78b7130c\" class=\"colab-df-container\">\n",
              "    <div>\n",
              "<style scoped>\n",
              "    .dataframe tbody tr th:only-of-type {\n",
              "        vertical-align: middle;\n",
              "    }\n",
              "\n",
              "    .dataframe tbody tr th {\n",
              "        vertical-align: top;\n",
              "    }\n",
              "\n",
              "    .dataframe thead th {\n",
              "        text-align: right;\n",
              "    }\n",
              "</style>\n",
              "<table border=\"1\" class=\"dataframe\">\n",
              "  <thead>\n",
              "    <tr style=\"text-align: right;\">\n",
              "      <th></th>\n",
              "      <th>Unnamed: 0</th>\n",
              "      <th>price</th>\n",
              "      <th>totsp</th>\n",
              "      <th>livesp</th>\n",
              "      <th>kitsp</th>\n",
              "      <th>dist</th>\n",
              "      <th>metrdist</th>\n",
              "      <th>walk</th>\n",
              "      <th>brick</th>\n",
              "      <th>floor</th>\n",
              "    </tr>\n",
              "  </thead>\n",
              "  <tbody>\n",
              "    <tr>\n",
              "      <th>0</th>\n",
              "      <td>1</td>\n",
              "      <td>81</td>\n",
              "      <td>58</td>\n",
              "      <td>40</td>\n",
              "      <td>6.0</td>\n",
              "      <td>12.5</td>\n",
              "      <td>7</td>\n",
              "      <td>1</td>\n",
              "      <td>1</td>\n",
              "      <td>1</td>\n",
              "    </tr>\n",
              "    <tr>\n",
              "      <th>1</th>\n",
              "      <td>2</td>\n",
              "      <td>75</td>\n",
              "      <td>44</td>\n",
              "      <td>28</td>\n",
              "      <td>6.0</td>\n",
              "      <td>13.5</td>\n",
              "      <td>7</td>\n",
              "      <td>1</td>\n",
              "      <td>0</td>\n",
              "      <td>1</td>\n",
              "    </tr>\n",
              "    <tr>\n",
              "      <th>2</th>\n",
              "      <td>3</td>\n",
              "      <td>128</td>\n",
              "      <td>70</td>\n",
              "      <td>42</td>\n",
              "      <td>6.0</td>\n",
              "      <td>14.5</td>\n",
              "      <td>3</td>\n",
              "      <td>1</td>\n",
              "      <td>1</td>\n",
              "      <td>1</td>\n",
              "    </tr>\n",
              "    <tr>\n",
              "      <th>3</th>\n",
              "      <td>4</td>\n",
              "      <td>95</td>\n",
              "      <td>61</td>\n",
              "      <td>37</td>\n",
              "      <td>6.0</td>\n",
              "      <td>13.5</td>\n",
              "      <td>7</td>\n",
              "      <td>1</td>\n",
              "      <td>0</td>\n",
              "      <td>1</td>\n",
              "    </tr>\n",
              "    <tr>\n",
              "      <th>4</th>\n",
              "      <td>5</td>\n",
              "      <td>330</td>\n",
              "      <td>104</td>\n",
              "      <td>60</td>\n",
              "      <td>11.0</td>\n",
              "      <td>10.5</td>\n",
              "      <td>7</td>\n",
              "      <td>0</td>\n",
              "      <td>1</td>\n",
              "      <td>1</td>\n",
              "    </tr>\n",
              "  </tbody>\n",
              "</table>\n",
              "</div>\n",
              "    <div class=\"colab-df-buttons\">\n",
              "\n",
              "  <div class=\"colab-df-container\">\n",
              "    <button class=\"colab-df-convert\" onclick=\"convertToInteractive('df-6ae63089-f8c2-4a67-ad83-70ea78b7130c')\"\n",
              "            title=\"Convert this dataframe to an interactive table.\"\n",
              "            style=\"display:none;\">\n",
              "\n",
              "  <svg xmlns=\"http://www.w3.org/2000/svg\" height=\"24px\" viewBox=\"0 -960 960 960\">\n",
              "    <path d=\"M120-120v-720h720v720H120Zm60-500h600v-160H180v160Zm220 220h160v-160H400v160Zm0 220h160v-160H400v160ZM180-400h160v-160H180v160Zm440 0h160v-160H620v160ZM180-180h160v-160H180v160Zm440 0h160v-160H620v160Z\"/>\n",
              "  </svg>\n",
              "    </button>\n",
              "\n",
              "  <style>\n",
              "    .colab-df-container {\n",
              "      display:flex;\n",
              "      gap: 12px;\n",
              "    }\n",
              "\n",
              "    .colab-df-convert {\n",
              "      background-color: #E8F0FE;\n",
              "      border: none;\n",
              "      border-radius: 50%;\n",
              "      cursor: pointer;\n",
              "      display: none;\n",
              "      fill: #1967D2;\n",
              "      height: 32px;\n",
              "      padding: 0 0 0 0;\n",
              "      width: 32px;\n",
              "    }\n",
              "\n",
              "    .colab-df-convert:hover {\n",
              "      background-color: #E2EBFA;\n",
              "      box-shadow: 0px 1px 2px rgba(60, 64, 67, 0.3), 0px 1px 3px 1px rgba(60, 64, 67, 0.15);\n",
              "      fill: #174EA6;\n",
              "    }\n",
              "\n",
              "    .colab-df-buttons div {\n",
              "      margin-bottom: 4px;\n",
              "    }\n",
              "\n",
              "    [theme=dark] .colab-df-convert {\n",
              "      background-color: #3B4455;\n",
              "      fill: #D2E3FC;\n",
              "    }\n",
              "\n",
              "    [theme=dark] .colab-df-convert:hover {\n",
              "      background-color: #434B5C;\n",
              "      box-shadow: 0px 1px 3px 1px rgba(0, 0, 0, 0.15);\n",
              "      filter: drop-shadow(0px 1px 2px rgba(0, 0, 0, 0.3));\n",
              "      fill: #FFFFFF;\n",
              "    }\n",
              "  </style>\n",
              "\n",
              "    <script>\n",
              "      const buttonEl =\n",
              "        document.querySelector('#df-6ae63089-f8c2-4a67-ad83-70ea78b7130c button.colab-df-convert');\n",
              "      buttonEl.style.display =\n",
              "        google.colab.kernel.accessAllowed ? 'block' : 'none';\n",
              "\n",
              "      async function convertToInteractive(key) {\n",
              "        const element = document.querySelector('#df-6ae63089-f8c2-4a67-ad83-70ea78b7130c');\n",
              "        const dataTable =\n",
              "          await google.colab.kernel.invokeFunction('convertToInteractive',\n",
              "                                                    [key], {});\n",
              "        if (!dataTable) return;\n",
              "\n",
              "        const docLinkHtml = 'Like what you see? Visit the ' +\n",
              "          '<a target=\"_blank\" href=https://colab.research.google.com/notebooks/data_table.ipynb>data table notebook</a>'\n",
              "          + ' to learn more about interactive tables.';\n",
              "        element.innerHTML = '';\n",
              "        dataTable['output_type'] = 'display_data';\n",
              "        await google.colab.output.renderOutput(dataTable, element);\n",
              "        const docLink = document.createElement('div');\n",
              "        docLink.innerHTML = docLinkHtml;\n",
              "        element.appendChild(docLink);\n",
              "      }\n",
              "    </script>\n",
              "  </div>\n",
              "\n",
              "\n",
              "<div id=\"df-da2a32f4-3d1a-4f09-bb76-b1a568c06896\">\n",
              "  <button class=\"colab-df-quickchart\" onclick=\"quickchart('df-da2a32f4-3d1a-4f09-bb76-b1a568c06896')\"\n",
              "            title=\"Suggest charts\"\n",
              "            style=\"display:none;\">\n",
              "\n",
              "<svg xmlns=\"http://www.w3.org/2000/svg\" height=\"24px\"viewBox=\"0 0 24 24\"\n",
              "     width=\"24px\">\n",
              "    <g>\n",
              "        <path d=\"M19 3H5c-1.1 0-2 .9-2 2v14c0 1.1.9 2 2 2h14c1.1 0 2-.9 2-2V5c0-1.1-.9-2-2-2zM9 17H7v-7h2v7zm4 0h-2V7h2v10zm4 0h-2v-4h2v4z\"/>\n",
              "    </g>\n",
              "</svg>\n",
              "  </button>\n",
              "\n",
              "<style>\n",
              "  .colab-df-quickchart {\n",
              "      --bg-color: #E8F0FE;\n",
              "      --fill-color: #1967D2;\n",
              "      --hover-bg-color: #E2EBFA;\n",
              "      --hover-fill-color: #174EA6;\n",
              "      --disabled-fill-color: #AAA;\n",
              "      --disabled-bg-color: #DDD;\n",
              "  }\n",
              "\n",
              "  [theme=dark] .colab-df-quickchart {\n",
              "      --bg-color: #3B4455;\n",
              "      --fill-color: #D2E3FC;\n",
              "      --hover-bg-color: #434B5C;\n",
              "      --hover-fill-color: #FFFFFF;\n",
              "      --disabled-bg-color: #3B4455;\n",
              "      --disabled-fill-color: #666;\n",
              "  }\n",
              "\n",
              "  .colab-df-quickchart {\n",
              "    background-color: var(--bg-color);\n",
              "    border: none;\n",
              "    border-radius: 50%;\n",
              "    cursor: pointer;\n",
              "    display: none;\n",
              "    fill: var(--fill-color);\n",
              "    height: 32px;\n",
              "    padding: 0;\n",
              "    width: 32px;\n",
              "  }\n",
              "\n",
              "  .colab-df-quickchart:hover {\n",
              "    background-color: var(--hover-bg-color);\n",
              "    box-shadow: 0 1px 2px rgba(60, 64, 67, 0.3), 0 1px 3px 1px rgba(60, 64, 67, 0.15);\n",
              "    fill: var(--button-hover-fill-color);\n",
              "  }\n",
              "\n",
              "  .colab-df-quickchart-complete:disabled,\n",
              "  .colab-df-quickchart-complete:disabled:hover {\n",
              "    background-color: var(--disabled-bg-color);\n",
              "    fill: var(--disabled-fill-color);\n",
              "    box-shadow: none;\n",
              "  }\n",
              "\n",
              "  .colab-df-spinner {\n",
              "    border: 2px solid var(--fill-color);\n",
              "    border-color: transparent;\n",
              "    border-bottom-color: var(--fill-color);\n",
              "    animation:\n",
              "      spin 1s steps(1) infinite;\n",
              "  }\n",
              "\n",
              "  @keyframes spin {\n",
              "    0% {\n",
              "      border-color: transparent;\n",
              "      border-bottom-color: var(--fill-color);\n",
              "      border-left-color: var(--fill-color);\n",
              "    }\n",
              "    20% {\n",
              "      border-color: transparent;\n",
              "      border-left-color: var(--fill-color);\n",
              "      border-top-color: var(--fill-color);\n",
              "    }\n",
              "    30% {\n",
              "      border-color: transparent;\n",
              "      border-left-color: var(--fill-color);\n",
              "      border-top-color: var(--fill-color);\n",
              "      border-right-color: var(--fill-color);\n",
              "    }\n",
              "    40% {\n",
              "      border-color: transparent;\n",
              "      border-right-color: var(--fill-color);\n",
              "      border-top-color: var(--fill-color);\n",
              "    }\n",
              "    60% {\n",
              "      border-color: transparent;\n",
              "      border-right-color: var(--fill-color);\n",
              "    }\n",
              "    80% {\n",
              "      border-color: transparent;\n",
              "      border-right-color: var(--fill-color);\n",
              "      border-bottom-color: var(--fill-color);\n",
              "    }\n",
              "    90% {\n",
              "      border-color: transparent;\n",
              "      border-bottom-color: var(--fill-color);\n",
              "    }\n",
              "  }\n",
              "</style>\n",
              "\n",
              "  <script>\n",
              "    async function quickchart(key) {\n",
              "      const quickchartButtonEl =\n",
              "        document.querySelector('#' + key + ' button');\n",
              "      quickchartButtonEl.disabled = true;  // To prevent multiple clicks.\n",
              "      quickchartButtonEl.classList.add('colab-df-spinner');\n",
              "      try {\n",
              "        const charts = await google.colab.kernel.invokeFunction(\n",
              "            'suggestCharts', [key], {});\n",
              "      } catch (error) {\n",
              "        console.error('Error during call to suggestCharts:', error);\n",
              "      }\n",
              "      quickchartButtonEl.classList.remove('colab-df-spinner');\n",
              "      quickchartButtonEl.classList.add('colab-df-quickchart-complete');\n",
              "    }\n",
              "    (() => {\n",
              "      let quickchartButtonEl =\n",
              "        document.querySelector('#df-da2a32f4-3d1a-4f09-bb76-b1a568c06896 button');\n",
              "      quickchartButtonEl.style.display =\n",
              "        google.colab.kernel.accessAllowed ? 'block' : 'none';\n",
              "    })();\n",
              "  </script>\n",
              "</div>\n",
              "\n",
              "    </div>\n",
              "  </div>\n"
            ],
            "application/vnd.google.colaboratory.intrinsic+json": {
              "type": "dataframe",
              "variable_name": "data_flats",
              "summary": "{\n  \"name\": \"data_flats\",\n  \"rows\": 2040,\n  \"fields\": [\n    {\n      \"column\": \"Unnamed: 0\",\n      \"properties\": {\n        \"dtype\": \"number\",\n        \"std\": 589,\n        \"min\": 1,\n        \"max\": 2040,\n        \"num_unique_values\": 2040,\n        \"samples\": [\n          1317,\n          1001,\n          1069\n        ],\n        \"semantic_type\": \"\",\n        \"description\": \"\"\n      }\n    },\n    {\n      \"column\": \"price\",\n      \"properties\": {\n        \"dtype\": \"number\",\n        \"std\": 51,\n        \"min\": 50,\n        \"max\": 730,\n        \"num_unique_values\": 180,\n        \"samples\": [\n          125,\n          180,\n          309\n        ],\n        \"semantic_type\": \"\",\n        \"description\": \"\"\n      }\n    },\n    {\n      \"column\": \"totsp\",\n      \"properties\": {\n        \"dtype\": \"number\",\n        \"std\": 15,\n        \"min\": 44,\n        \"max\": 192,\n        \"num_unique_values\": 91,\n        \"samples\": [\n          53,\n          92,\n          101\n        ],\n        \"semantic_type\": \"\",\n        \"description\": \"\"\n      }\n    },\n    {\n      \"column\": \"livesp\",\n      \"properties\": {\n        \"dtype\": \"number\",\n        \"std\": 7,\n        \"min\": 28,\n        \"max\": 102,\n        \"num_unique_values\": 58,\n        \"samples\": [\n          40,\n          50,\n          74\n        ],\n        \"semantic_type\": \"\",\n        \"description\": \"\"\n      }\n    },\n    {\n      \"column\": \"kitsp\",\n      \"properties\": {\n        \"dtype\": \"number\",\n        \"std\": 2.7870730451527135,\n        \"min\": 5.0,\n        \"max\": 25.0,\n        \"num_unique_values\": 22,\n        \"samples\": [\n          6.0,\n          5.0,\n          14.0\n        ],\n        \"semantic_type\": \"\",\n        \"description\": \"\"\n      }\n    },\n    {\n      \"column\": \"dist\",\n      \"properties\": {\n        \"dtype\": \"number\",\n        \"std\": 3.375538613531872,\n        \"min\": 3.0,\n        \"max\": 17.0,\n        \"num_unique_values\": 22,\n        \"samples\": [\n          12.5,\n          7.0,\n          3.5\n        ],\n        \"semantic_type\": \"\",\n        \"description\": \"\"\n      }\n    },\n    {\n      \"column\": \"metrdist\",\n      \"properties\": {\n        \"dtype\": \"number\",\n        \"std\": 3,\n        \"min\": 1,\n        \"max\": 20,\n        \"num_unique_values\": 14,\n        \"samples\": [\n          6,\n          12,\n          7\n        ],\n        \"semantic_type\": \"\",\n        \"description\": \"\"\n      }\n    },\n    {\n      \"column\": \"walk\",\n      \"properties\": {\n        \"dtype\": \"number\",\n        \"std\": 0,\n        \"min\": 0,\n        \"max\": 1,\n        \"num_unique_values\": 2,\n        \"samples\": [\n          0,\n          1\n        ],\n        \"semantic_type\": \"\",\n        \"description\": \"\"\n      }\n    },\n    {\n      \"column\": \"brick\",\n      \"properties\": {\n        \"dtype\": \"number\",\n        \"std\": 0,\n        \"min\": 0,\n        \"max\": 1,\n        \"num_unique_values\": 2,\n        \"samples\": [\n          0,\n          1\n        ],\n        \"semantic_type\": \"\",\n        \"description\": \"\"\n      }\n    },\n    {\n      \"column\": \"floor\",\n      \"properties\": {\n        \"dtype\": \"number\",\n        \"std\": 0,\n        \"min\": 0,\n        \"max\": 1,\n        \"num_unique_values\": 2,\n        \"samples\": [\n          0,\n          1\n        ],\n        \"semantic_type\": \"\",\n        \"description\": \"\"\n      }\n    }\n  ]\n}"
            }
          },
          "metadata": {},
          "execution_count": 3
        }
      ],
      "source": [
        "import pandas as pd\n",
        "\n",
        "# csv-файл есть по ссылке: https://disk.yandex.ru/d/2g3zn7JyuhUBLQ\n",
        "\n",
        "# from google.colab import drive\n",
        "# drive.mount('/content/drive')\n",
        "data_flats = pd.read_csv('/content/drive/MyDrive/MathsHub/EDA_files/flats_moscow.csv')\n",
        "data_flats.drop(columns = ['code'], inplace=True)\n",
        "\n",
        "data_flats.head(5)"
      ]
    },
    {
      "cell_type": "markdown",
      "source": [
        "price &mdash;\n",
        "цена квартиры в $1000\n",
        "\n",
        "totsp &mdash;\n",
        "общая площадь квартиры, кв.м.\n",
        "\n",
        "livesp &mdash;\n",
        "жилая площадь квартиры, кв.м.\n",
        "\n",
        "kitsp &mdash;\n",
        "площадь кухни, кв.м.\n",
        "\n",
        "dist &mdash;\n",
        "расстояние от центра в км.\n",
        "\n",
        "metrdist &mdash;\n",
        "расстояние до метро в минутах\n",
        "\n",
        "walk &mdash;\n",
        "1: пешком от метро, 0: на транспорте\n",
        "\n",
        "brick &mdash;\n",
        "1: кирпичный, монолит ж/б, 0: другой\n",
        "\n",
        "floor &mdash;\n",
        "1: этаж кроме первого и последнего, 0: иначе."
      ],
      "metadata": {
        "id": "Ig1wiPTG_w4N"
      }
    },
    {
      "cell_type": "code",
      "source": [
        "data_flats.describe()"
      ],
      "metadata": {
        "colab": {
          "base_uri": "https://localhost:8080/",
          "height": 300
        },
        "id": "ahnxzSW7wdnW",
        "outputId": "c05d4791-fbde-4422-83eb-f615b0194168"
      },
      "execution_count": null,
      "outputs": [
        {
          "output_type": "execute_result",
          "data": {
            "text/plain": [
              "        Unnamed: 0        price        totsp       livesp        kitsp  \\\n",
              "count  2040.000000  2040.000000  2040.000000  2040.000000  2040.000000   \n",
              "mean   1020.500000   127.496569    73.084314    46.337255     8.898529   \n",
              "std     589.041594    51.878220    15.123450     7.894348     2.787073   \n",
              "min       1.000000    50.000000    44.000000    28.000000     5.000000   \n",
              "25%     510.750000    95.000000    62.000000    42.000000     7.000000   \n",
              "50%    1020.500000   115.000000    73.500000    45.000000     9.000000   \n",
              "75%    1530.250000   142.000000    79.000000    50.000000    10.000000   \n",
              "max    2040.000000   730.000000   192.000000   102.000000    25.000000   \n",
              "\n",
              "              dist     metrdist         walk        brick        floor  \n",
              "count  2040.000000  2040.000000  2040.000000  2040.000000  2040.000000  \n",
              "mean     11.015686     8.117157     0.685784     0.323039     0.790686  \n",
              "std       3.375539     3.815574     0.464317     0.467752     0.406918  \n",
              "min       3.000000     1.000000     0.000000     0.000000     0.000000  \n",
              "25%       9.000000     5.000000     0.000000     0.000000     1.000000  \n",
              "50%      12.000000     7.000000     1.000000     0.000000     1.000000  \n",
              "75%      13.500000    10.000000     1.000000     1.000000     1.000000  \n",
              "max      17.000000    20.000000     1.000000     1.000000     1.000000  "
            ],
            "text/html": [
              "\n",
              "  <div id=\"df-03a5e308-4405-41a2-b8ef-51dd2c2972d6\" class=\"colab-df-container\">\n",
              "    <div>\n",
              "<style scoped>\n",
              "    .dataframe tbody tr th:only-of-type {\n",
              "        vertical-align: middle;\n",
              "    }\n",
              "\n",
              "    .dataframe tbody tr th {\n",
              "        vertical-align: top;\n",
              "    }\n",
              "\n",
              "    .dataframe thead th {\n",
              "        text-align: right;\n",
              "    }\n",
              "</style>\n",
              "<table border=\"1\" class=\"dataframe\">\n",
              "  <thead>\n",
              "    <tr style=\"text-align: right;\">\n",
              "      <th></th>\n",
              "      <th>Unnamed: 0</th>\n",
              "      <th>price</th>\n",
              "      <th>totsp</th>\n",
              "      <th>livesp</th>\n",
              "      <th>kitsp</th>\n",
              "      <th>dist</th>\n",
              "      <th>metrdist</th>\n",
              "      <th>walk</th>\n",
              "      <th>brick</th>\n",
              "      <th>floor</th>\n",
              "    </tr>\n",
              "  </thead>\n",
              "  <tbody>\n",
              "    <tr>\n",
              "      <th>count</th>\n",
              "      <td>2040.000000</td>\n",
              "      <td>2040.000000</td>\n",
              "      <td>2040.000000</td>\n",
              "      <td>2040.000000</td>\n",
              "      <td>2040.000000</td>\n",
              "      <td>2040.000000</td>\n",
              "      <td>2040.000000</td>\n",
              "      <td>2040.000000</td>\n",
              "      <td>2040.000000</td>\n",
              "      <td>2040.000000</td>\n",
              "    </tr>\n",
              "    <tr>\n",
              "      <th>mean</th>\n",
              "      <td>1020.500000</td>\n",
              "      <td>127.496569</td>\n",
              "      <td>73.084314</td>\n",
              "      <td>46.337255</td>\n",
              "      <td>8.898529</td>\n",
              "      <td>11.015686</td>\n",
              "      <td>8.117157</td>\n",
              "      <td>0.685784</td>\n",
              "      <td>0.323039</td>\n",
              "      <td>0.790686</td>\n",
              "    </tr>\n",
              "    <tr>\n",
              "      <th>std</th>\n",
              "      <td>589.041594</td>\n",
              "      <td>51.878220</td>\n",
              "      <td>15.123450</td>\n",
              "      <td>7.894348</td>\n",
              "      <td>2.787073</td>\n",
              "      <td>3.375539</td>\n",
              "      <td>3.815574</td>\n",
              "      <td>0.464317</td>\n",
              "      <td>0.467752</td>\n",
              "      <td>0.406918</td>\n",
              "    </tr>\n",
              "    <tr>\n",
              "      <th>min</th>\n",
              "      <td>1.000000</td>\n",
              "      <td>50.000000</td>\n",
              "      <td>44.000000</td>\n",
              "      <td>28.000000</td>\n",
              "      <td>5.000000</td>\n",
              "      <td>3.000000</td>\n",
              "      <td>1.000000</td>\n",
              "      <td>0.000000</td>\n",
              "      <td>0.000000</td>\n",
              "      <td>0.000000</td>\n",
              "    </tr>\n",
              "    <tr>\n",
              "      <th>25%</th>\n",
              "      <td>510.750000</td>\n",
              "      <td>95.000000</td>\n",
              "      <td>62.000000</td>\n",
              "      <td>42.000000</td>\n",
              "      <td>7.000000</td>\n",
              "      <td>9.000000</td>\n",
              "      <td>5.000000</td>\n",
              "      <td>0.000000</td>\n",
              "      <td>0.000000</td>\n",
              "      <td>1.000000</td>\n",
              "    </tr>\n",
              "    <tr>\n",
              "      <th>50%</th>\n",
              "      <td>1020.500000</td>\n",
              "      <td>115.000000</td>\n",
              "      <td>73.500000</td>\n",
              "      <td>45.000000</td>\n",
              "      <td>9.000000</td>\n",
              "      <td>12.000000</td>\n",
              "      <td>7.000000</td>\n",
              "      <td>1.000000</td>\n",
              "      <td>0.000000</td>\n",
              "      <td>1.000000</td>\n",
              "    </tr>\n",
              "    <tr>\n",
              "      <th>75%</th>\n",
              "      <td>1530.250000</td>\n",
              "      <td>142.000000</td>\n",
              "      <td>79.000000</td>\n",
              "      <td>50.000000</td>\n",
              "      <td>10.000000</td>\n",
              "      <td>13.500000</td>\n",
              "      <td>10.000000</td>\n",
              "      <td>1.000000</td>\n",
              "      <td>1.000000</td>\n",
              "      <td>1.000000</td>\n",
              "    </tr>\n",
              "    <tr>\n",
              "      <th>max</th>\n",
              "      <td>2040.000000</td>\n",
              "      <td>730.000000</td>\n",
              "      <td>192.000000</td>\n",
              "      <td>102.000000</td>\n",
              "      <td>25.000000</td>\n",
              "      <td>17.000000</td>\n",
              "      <td>20.000000</td>\n",
              "      <td>1.000000</td>\n",
              "      <td>1.000000</td>\n",
              "      <td>1.000000</td>\n",
              "    </tr>\n",
              "  </tbody>\n",
              "</table>\n",
              "</div>\n",
              "    <div class=\"colab-df-buttons\">\n",
              "\n",
              "  <div class=\"colab-df-container\">\n",
              "    <button class=\"colab-df-convert\" onclick=\"convertToInteractive('df-03a5e308-4405-41a2-b8ef-51dd2c2972d6')\"\n",
              "            title=\"Convert this dataframe to an interactive table.\"\n",
              "            style=\"display:none;\">\n",
              "\n",
              "  <svg xmlns=\"http://www.w3.org/2000/svg\" height=\"24px\" viewBox=\"0 -960 960 960\">\n",
              "    <path d=\"M120-120v-720h720v720H120Zm60-500h600v-160H180v160Zm220 220h160v-160H400v160Zm0 220h160v-160H400v160ZM180-400h160v-160H180v160Zm440 0h160v-160H620v160ZM180-180h160v-160H180v160Zm440 0h160v-160H620v160Z\"/>\n",
              "  </svg>\n",
              "    </button>\n",
              "\n",
              "  <style>\n",
              "    .colab-df-container {\n",
              "      display:flex;\n",
              "      gap: 12px;\n",
              "    }\n",
              "\n",
              "    .colab-df-convert {\n",
              "      background-color: #E8F0FE;\n",
              "      border: none;\n",
              "      border-radius: 50%;\n",
              "      cursor: pointer;\n",
              "      display: none;\n",
              "      fill: #1967D2;\n",
              "      height: 32px;\n",
              "      padding: 0 0 0 0;\n",
              "      width: 32px;\n",
              "    }\n",
              "\n",
              "    .colab-df-convert:hover {\n",
              "      background-color: #E2EBFA;\n",
              "      box-shadow: 0px 1px 2px rgba(60, 64, 67, 0.3), 0px 1px 3px 1px rgba(60, 64, 67, 0.15);\n",
              "      fill: #174EA6;\n",
              "    }\n",
              "\n",
              "    .colab-df-buttons div {\n",
              "      margin-bottom: 4px;\n",
              "    }\n",
              "\n",
              "    [theme=dark] .colab-df-convert {\n",
              "      background-color: #3B4455;\n",
              "      fill: #D2E3FC;\n",
              "    }\n",
              "\n",
              "    [theme=dark] .colab-df-convert:hover {\n",
              "      background-color: #434B5C;\n",
              "      box-shadow: 0px 1px 3px 1px rgba(0, 0, 0, 0.15);\n",
              "      filter: drop-shadow(0px 1px 2px rgba(0, 0, 0, 0.3));\n",
              "      fill: #FFFFFF;\n",
              "    }\n",
              "  </style>\n",
              "\n",
              "    <script>\n",
              "      const buttonEl =\n",
              "        document.querySelector('#df-03a5e308-4405-41a2-b8ef-51dd2c2972d6 button.colab-df-convert');\n",
              "      buttonEl.style.display =\n",
              "        google.colab.kernel.accessAllowed ? 'block' : 'none';\n",
              "\n",
              "      async function convertToInteractive(key) {\n",
              "        const element = document.querySelector('#df-03a5e308-4405-41a2-b8ef-51dd2c2972d6');\n",
              "        const dataTable =\n",
              "          await google.colab.kernel.invokeFunction('convertToInteractive',\n",
              "                                                    [key], {});\n",
              "        if (!dataTable) return;\n",
              "\n",
              "        const docLinkHtml = 'Like what you see? Visit the ' +\n",
              "          '<a target=\"_blank\" href=https://colab.research.google.com/notebooks/data_table.ipynb>data table notebook</a>'\n",
              "          + ' to learn more about interactive tables.';\n",
              "        element.innerHTML = '';\n",
              "        dataTable['output_type'] = 'display_data';\n",
              "        await google.colab.output.renderOutput(dataTable, element);\n",
              "        const docLink = document.createElement('div');\n",
              "        docLink.innerHTML = docLinkHtml;\n",
              "        element.appendChild(docLink);\n",
              "      }\n",
              "    </script>\n",
              "  </div>\n",
              "\n",
              "\n",
              "<div id=\"df-a2419a46-743a-4bb8-be37-33b5b31323b4\">\n",
              "  <button class=\"colab-df-quickchart\" onclick=\"quickchart('df-a2419a46-743a-4bb8-be37-33b5b31323b4')\"\n",
              "            title=\"Suggest charts\"\n",
              "            style=\"display:none;\">\n",
              "\n",
              "<svg xmlns=\"http://www.w3.org/2000/svg\" height=\"24px\"viewBox=\"0 0 24 24\"\n",
              "     width=\"24px\">\n",
              "    <g>\n",
              "        <path d=\"M19 3H5c-1.1 0-2 .9-2 2v14c0 1.1.9 2 2 2h14c1.1 0 2-.9 2-2V5c0-1.1-.9-2-2-2zM9 17H7v-7h2v7zm4 0h-2V7h2v10zm4 0h-2v-4h2v4z\"/>\n",
              "    </g>\n",
              "</svg>\n",
              "  </button>\n",
              "\n",
              "<style>\n",
              "  .colab-df-quickchart {\n",
              "      --bg-color: #E8F0FE;\n",
              "      --fill-color: #1967D2;\n",
              "      --hover-bg-color: #E2EBFA;\n",
              "      --hover-fill-color: #174EA6;\n",
              "      --disabled-fill-color: #AAA;\n",
              "      --disabled-bg-color: #DDD;\n",
              "  }\n",
              "\n",
              "  [theme=dark] .colab-df-quickchart {\n",
              "      --bg-color: #3B4455;\n",
              "      --fill-color: #D2E3FC;\n",
              "      --hover-bg-color: #434B5C;\n",
              "      --hover-fill-color: #FFFFFF;\n",
              "      --disabled-bg-color: #3B4455;\n",
              "      --disabled-fill-color: #666;\n",
              "  }\n",
              "\n",
              "  .colab-df-quickchart {\n",
              "    background-color: var(--bg-color);\n",
              "    border: none;\n",
              "    border-radius: 50%;\n",
              "    cursor: pointer;\n",
              "    display: none;\n",
              "    fill: var(--fill-color);\n",
              "    height: 32px;\n",
              "    padding: 0;\n",
              "    width: 32px;\n",
              "  }\n",
              "\n",
              "  .colab-df-quickchart:hover {\n",
              "    background-color: var(--hover-bg-color);\n",
              "    box-shadow: 0 1px 2px rgba(60, 64, 67, 0.3), 0 1px 3px 1px rgba(60, 64, 67, 0.15);\n",
              "    fill: var(--button-hover-fill-color);\n",
              "  }\n",
              "\n",
              "  .colab-df-quickchart-complete:disabled,\n",
              "  .colab-df-quickchart-complete:disabled:hover {\n",
              "    background-color: var(--disabled-bg-color);\n",
              "    fill: var(--disabled-fill-color);\n",
              "    box-shadow: none;\n",
              "  }\n",
              "\n",
              "  .colab-df-spinner {\n",
              "    border: 2px solid var(--fill-color);\n",
              "    border-color: transparent;\n",
              "    border-bottom-color: var(--fill-color);\n",
              "    animation:\n",
              "      spin 1s steps(1) infinite;\n",
              "  }\n",
              "\n",
              "  @keyframes spin {\n",
              "    0% {\n",
              "      border-color: transparent;\n",
              "      border-bottom-color: var(--fill-color);\n",
              "      border-left-color: var(--fill-color);\n",
              "    }\n",
              "    20% {\n",
              "      border-color: transparent;\n",
              "      border-left-color: var(--fill-color);\n",
              "      border-top-color: var(--fill-color);\n",
              "    }\n",
              "    30% {\n",
              "      border-color: transparent;\n",
              "      border-left-color: var(--fill-color);\n",
              "      border-top-color: var(--fill-color);\n",
              "      border-right-color: var(--fill-color);\n",
              "    }\n",
              "    40% {\n",
              "      border-color: transparent;\n",
              "      border-right-color: var(--fill-color);\n",
              "      border-top-color: var(--fill-color);\n",
              "    }\n",
              "    60% {\n",
              "      border-color: transparent;\n",
              "      border-right-color: var(--fill-color);\n",
              "    }\n",
              "    80% {\n",
              "      border-color: transparent;\n",
              "      border-right-color: var(--fill-color);\n",
              "      border-bottom-color: var(--fill-color);\n",
              "    }\n",
              "    90% {\n",
              "      border-color: transparent;\n",
              "      border-bottom-color: var(--fill-color);\n",
              "    }\n",
              "  }\n",
              "</style>\n",
              "\n",
              "  <script>\n",
              "    async function quickchart(key) {\n",
              "      const quickchartButtonEl =\n",
              "        document.querySelector('#' + key + ' button');\n",
              "      quickchartButtonEl.disabled = true;  // To prevent multiple clicks.\n",
              "      quickchartButtonEl.classList.add('colab-df-spinner');\n",
              "      try {\n",
              "        const charts = await google.colab.kernel.invokeFunction(\n",
              "            'suggestCharts', [key], {});\n",
              "      } catch (error) {\n",
              "        console.error('Error during call to suggestCharts:', error);\n",
              "      }\n",
              "      quickchartButtonEl.classList.remove('colab-df-spinner');\n",
              "      quickchartButtonEl.classList.add('colab-df-quickchart-complete');\n",
              "    }\n",
              "    (() => {\n",
              "      let quickchartButtonEl =\n",
              "        document.querySelector('#df-a2419a46-743a-4bb8-be37-33b5b31323b4 button');\n",
              "      quickchartButtonEl.style.display =\n",
              "        google.colab.kernel.accessAllowed ? 'block' : 'none';\n",
              "    })();\n",
              "  </script>\n",
              "</div>\n",
              "\n",
              "    </div>\n",
              "  </div>\n"
            ],
            "application/vnd.google.colaboratory.intrinsic+json": {
              "type": "dataframe",
              "summary": "{\n  \"name\": \"data_flats\",\n  \"rows\": 8,\n  \"fields\": [\n    {\n      \"column\": \"Unnamed: 0\",\n      \"properties\": {\n        \"dtype\": \"number\",\n        \"std\": 734.9210954840805,\n        \"min\": 1.0,\n        \"max\": 2040.0,\n        \"num_unique_values\": 6,\n        \"samples\": [\n          2040.0,\n          1020.5,\n          1530.25\n        ],\n        \"semantic_type\": \"\",\n        \"description\": \"\"\n      }\n    },\n    {\n      \"column\": \"price\",\n      \"properties\": {\n        \"dtype\": \"number\",\n        \"std\": 692.242381506938,\n        \"min\": 50.0,\n        \"max\": 2040.0,\n        \"num_unique_values\": 8,\n        \"samples\": [\n          127.49656862745098,\n          115.0,\n          2040.0\n        ],\n        \"semantic_type\": \"\",\n        \"description\": \"\"\n      }\n    },\n    {\n      \"column\": \"totsp\",\n      \"properties\": {\n        \"dtype\": \"number\",\n        \"std\": 695.9310895115481,\n        \"min\": 15.123449795341656,\n        \"max\": 2040.0,\n        \"num_unique_values\": 8,\n        \"samples\": [\n          73.08431372549019,\n          73.5,\n          2040.0\n        ],\n        \"semantic_type\": \"\",\n        \"description\": \"\"\n      }\n    },\n    {\n      \"column\": \"livesp\",\n      \"properties\": {\n        \"dtype\": \"number\",\n        \"std\": 705.5250959001156,\n        \"min\": 7.894347983033159,\n        \"max\": 2040.0,\n        \"num_unique_values\": 8,\n        \"samples\": [\n          46.33725490196078,\n          45.0,\n          2040.0\n        ],\n        \"semantic_type\": \"\",\n        \"description\": \"\"\n      }\n    },\n    {\n      \"column\": \"kitsp\",\n      \"properties\": {\n        \"dtype\": \"number\",\n        \"std\": 717.8613700978492,\n        \"min\": 2.7870730451527135,\n        \"max\": 2040.0,\n        \"num_unique_values\": 8,\n        \"samples\": [\n          8.898529411764706,\n          9.0,\n          2040.0\n        ],\n        \"semantic_type\": \"\",\n        \"description\": \"\"\n      }\n    },\n    {\n      \"column\": \"dist\",\n      \"properties\": {\n        \"dtype\": \"number\",\n        \"std\": 717.7853056255558,\n        \"min\": 3.0,\n        \"max\": 2040.0,\n        \"num_unique_values\": 8,\n        \"samples\": [\n          11.015686274509804,\n          12.0,\n          2040.0\n        ],\n        \"semantic_type\": \"\",\n        \"description\": \"\"\n      }\n    },\n    {\n      \"column\": \"metrdist\",\n      \"properties\": {\n        \"dtype\": \"number\",\n        \"std\": 718.4966997987846,\n        \"min\": 1.0,\n        \"max\": 2040.0,\n        \"num_unique_values\": 8,\n        \"samples\": [\n          8.117156862745098,\n          7.0,\n          2040.0\n        ],\n        \"semantic_type\": \"\",\n        \"description\": \"\"\n      }\n    },\n    {\n      \"column\": \"walk\",\n      \"properties\": {\n        \"dtype\": \"number\",\n        \"std\": 721.0394264558067,\n        \"min\": 0.0,\n        \"max\": 2040.0,\n        \"num_unique_values\": 5,\n        \"samples\": [\n          0.6857843137254902,\n          1.0,\n          0.46431656236065133\n        ],\n        \"semantic_type\": \"\",\n        \"description\": \"\"\n      }\n    },\n    {\n      \"column\": \"brick\",\n      \"properties\": {\n        \"dtype\": \"number\",\n        \"std\": 721.1080804620595,\n        \"min\": 0.0,\n        \"max\": 2040.0,\n        \"num_unique_values\": 5,\n        \"samples\": [\n          0.32303921568627453,\n          1.0,\n          0.46775221203122136\n        ],\n        \"semantic_type\": \"\",\n        \"description\": \"\"\n      }\n    },\n    {\n      \"column\": \"floor\",\n      \"properties\": {\n        \"dtype\": \"number\",\n        \"std\": 720.9864904074593,\n        \"min\": 0.0,\n        \"max\": 2040.0,\n        \"num_unique_values\": 5,\n        \"samples\": [\n          0.7906862745098039,\n          1.0,\n          0.4069184903406473\n        ],\n        \"semantic_type\": \"\",\n        \"description\": \"\"\n      }\n    }\n  ]\n}"
            }
          },
          "metadata": {},
          "execution_count": 4
        }
      ]
    },
    {
      "cell_type": "markdown",
      "source": [
        "# Графики"
      ],
      "metadata": {
        "id": "uJ_XamsOkqF5"
      }
    },
    {
      "cell_type": "markdown",
      "source": [
        "### Гистограммы частот:"
      ],
      "metadata": {
        "id": "6AFok6HktTLQ"
      }
    },
    {
      "cell_type": "code",
      "source": [
        "# Посмотрим на две переменные:\n",
        "data_flats.hist(['livesp', 'totsp'], bins=50, figsize=(12, 5));    # by = 'brick', legend=True"
      ],
      "metadata": {
        "colab": {
          "base_uri": "https://localhost:8080/",
          "height": 468
        },
        "id": "4hp9KE6OOd1G",
        "outputId": "1b9ffcee-1002-4773-b09a-8246695e7efe"
      },
      "execution_count": null,
      "outputs": [
        {
          "output_type": "display_data",
          "data": {
            "text/plain": [
              "<Figure size 1200x500 with 2 Axes>"
            ],
            "image/png": "[encoded data removed]"
          },
          "metadata": {}
        }
      ]
    },
    {
      "cell_type": "markdown",
      "source": [
        "### Бокс-плот *aka* Диаграмма размаха *aka* Ящик с усами"
      ],
      "metadata": {
        "id": "xKCvKtahncKO"
      }
    },
    {
      "cell_type": "code",
      "source": [
        "# и построим для них бокс-плоты\n",
        "data_flats.boxplot(['livesp', 'totsp'], figsize=(10,10), whis=2);    # , whis=(0,100)), by = ['brick']\n",
        "\n",
        "# whis = whiskers: если одно число, то сколько IQR отступить влево от Q1 и вправо от Q3\n",
        "# если два числа -- то процентили, на которых обрубать усы"
      ],
      "metadata": {
        "colab": {
          "base_uri": "https://localhost:8080/",
          "height": 835
        },
        "id": "anQAVjJLAcH7",
        "outputId": "cb0c38a9-ad39-4395-9da5-6f2145358e73"
      },
      "execution_count": null,
      "outputs": [
        {
          "output_type": "display_data",
          "data": {
            "text/plain": [
              "<Figure size 1000x1000 with 1 Axes>"
            ],
            "image/png": "[encoded data removed]"
          },
          "metadata": {}
        }
      ]
    },
    {
      "cell_type": "markdown",
      "source": [
        "### Правило трёх сигм:"
      ],
      "metadata": {
        "id": "4qe73nnItcjh"
      }
    },
    {
      "cell_type": "code",
      "source": [
        "variable = 'totsp'\n",
        "\n",
        "avg = data_flats[variable].mean()\n",
        "std = data_flats[variable].std()\n",
        "\n",
        "print('среднее минус три сигмы для', variable, ':', avg - 3*std)\n",
        "print('среднее плюс три сигмы для', variable, ':', avg + 3*std)"
      ],
      "metadata": {
        "colab": {
          "base_uri": "https://localhost:8080/"
        },
        "id": "yuXyWyxtrCvK",
        "outputId": "28c58de8-7108-4739-df5f-aa0ed918847f"
      },
      "execution_count": null,
      "outputs": [
        {
          "output_type": "stream",
          "name": "stdout",
          "text": [
            "среднее минус три сигмы для totsp : 27.71396433946522\n",
            "среднее плюс три сигмы для totsp : 118.45466311151516\n"
          ]
        }
      ]
    },
    {
      "cell_type": "markdown",
      "source": [
        "### Второй коэффициент скошенности Пирсона"
      ],
      "metadata": {
        "id": "phaN9R6Knw76"
      }
    },
    {
      "cell_type": "markdown",
      "source": [
        "Возьмём одну из переменных на графиках выше\n",
        "и найдём для неё 2-й коэф-т скошенности Пирсона:"
      ],
      "metadata": {
        "id": "zL4_3wBslig1"
      }
    },
    {
      "cell_type": "code",
      "source": [
        "variable = 'totsp'\n",
        "med = data_flats[variable].median()\n",
        "avg = data_flats[variable].mean()\n",
        "print('медиана:', med, 'среднее:', avg)\n",
        "std = data_flats[variable].std()\n",
        "print('Второй коэффициент скошенности Пирсона для', variable, 'равен', 3*(avg-med)/std)"
      ],
      "metadata": {
        "id": "tfcllcx3Sxyp",
        "colab": {
          "base_uri": "https://localhost:8080/"
        },
        "outputId": "73f750e0-bba4-41aa-9a45-e3ddf7b68c87"
      },
      "execution_count": null,
      "outputs": [
        {
          "output_type": "stream",
          "name": "stdout",
          "text": [
            "медиана: 73.5 среднее: 73.08431372549019\n",
            "Второй коэффициент скошенности Пирсона для totsp равен -0.08245862157148491\n"
          ]
        }
      ]
    },
    {
      "cell_type": "markdown",
      "source": [
        "### Интерполяция для процентилей"
      ],
      "metadata": {
        "id": "wXbn-L8BwYq7"
      }
    },
    {
      "cell_type": "code",
      "source": [
        "import numpy as np\n",
        "\n",
        "data = pd.Series([0,15,20,30,40])\n",
        "\n",
        "proc_25 = np.percentile(data, 30)\n",
        "proc_75 = np.percentile(data, 75)\n",
        "print(proc_25, proc_75)"
      ],
      "metadata": {
        "colab": {
          "base_uri": "https://localhost:8080/"
        },
        "id": "-rUWRPeXv_EW",
        "outputId": "cc3d9170-3d4b-4c91-d592-c494d3097fb8"
      },
      "execution_count": null,
      "outputs": [
        {
          "output_type": "stream",
          "name": "stdout",
          "text": [
            "16.0 30.0\n"
          ]
        }
      ]
    },
    {
      "cell_type": "markdown",
      "source": [
        "### Интерполяция для 1 и 3 квартилей (и, следовательно, межквартильного размаха)"
      ],
      "metadata": {
        "id": "K3jjC8NlnrGM"
      }
    },
    {
      "cell_type": "code",
      "source": [
        "from scipy import stats\n",
        "\n",
        "data = pd.Series([0,1,2,3,5,6,11])\n",
        "\n",
        "iqr = stats.iqr(data)\n",
        "iqr"
      ],
      "metadata": {
        "colab": {
          "base_uri": "https://localhost:8080/"
        },
        "id": "Px4iQTdfmqZa",
        "outputId": "ee7a4bc6-c887-4e89-a887-71118e7c4caf"
      },
      "execution_count": null,
      "outputs": [
        {
          "output_type": "execute_result",
          "data": {
            "text/plain": [
              "4.0"
            ]
          },
          "metadata": {},
          "execution_count": 53
        }
      ]
    },
    {
      "cell_type": "markdown",
      "source": [
        "Почему 4, а не 5?"
      ],
      "metadata": {
        "id": "oukbgojMnCkw"
      }
    },
    {
      "cell_type": "code",
      "source": [
        "import numpy as np\n",
        "\n",
        "data = pd.Series([0,1,2,3,5,6,11])\n",
        "\n",
        "proc_25 = np.percentile(data, 25)\n",
        "proc_75 = np.percentile(data, 75)\n",
        "print(proc_25, proc_75)\n",
        "\n",
        "diff = proc_75 - proc_25\n",
        "print(diff)"
      ],
      "metadata": {
        "colab": {
          "base_uri": "https://localhost:8080/"
        },
        "id": "KGQSrPrrnLg2",
        "outputId": "a2a33a18-8484-44de-eac9-efb58d92782f"
      },
      "execution_count": null,
      "outputs": [
        {
          "output_type": "stream",
          "name": "stdout",
          "text": [
            "1.5 5.5\n",
            "4.0\n"
          ]
        }
      ]
    },
    {
      "cell_type": "markdown",
      "source": [
        "### Гистограммы"
      ],
      "metadata": {
        "id": "Ezr7QX4hmkDT"
      }
    },
    {
      "cell_type": "markdown",
      "source": [
        "Гистограмма частот для переменной dist - расстояние от квартиры до центра города в км (значения разбиты на 30 одинаковых по ширине классов между минимальным и максимальным значениями)"
      ],
      "metadata": {
        "id": "HkabfM2Ylq1A"
      }
    },
    {
      "cell_type": "code",
      "source": [
        "data_flats.hist('dist', bins=30);"
      ],
      "metadata": {
        "colab": {
          "base_uri": "https://localhost:8080/",
          "height": 452
        },
        "id": "jQeo2tOtOUk1",
        "outputId": "83823458-e376-4ff9-8a5d-5528e6386901"
      },
      "execution_count": null,
      "outputs": [
        {
          "output_type": "display_data",
          "data": {
            "text/plain": [
              "<Figure size 640x480 with 1 Axes>"
            ],
            "image/png": "[encoded data removed]"
          },
          "metadata": {}
        }
      ]
    },
    {
      "cell_type": "markdown",
      "source": [
        "Гистограммы частот для переменной dist\n",
        "(значения разбиты на несколько неодинаковых по ширине классов,\n",
        "границы которых указаны в аргументе bins).\n",
        "\n",
        "По выводу первой ячейки мы видели минимум и максимум для этой переменной,\n",
        "поэтому знаем какие должны быть самая левая и правая границы."
      ],
      "metadata": {
        "id": "uC2dT2Oil52f"
      }
    },
    {
      "cell_type": "code",
      "source": [
        "data_flats.hist('dist', bins=[3, 6, 10, 13, 17], figsize=(5,3));\n",
        "data_flats.hist('dist', bins=[3, 6, 10, 12, 17], figsize=(5,3));"
      ],
      "metadata": {
        "colab": {
          "base_uri": "https://localhost:8080/",
          "height": 611
        },
        "id": "ZItX6m0WAOdd",
        "outputId": "55f479b0-db65-493b-cbd1-c45909e572b1"
      },
      "execution_count": null,
      "outputs": [
        {
          "output_type": "display_data",
          "data": {
            "text/plain": [
              "<Figure size 500x300 with 1 Axes>"
            ],
            "image/png": "[encoded data removed]"
          },
          "metadata": {}
        },
        {
          "output_type": "display_data",
          "data": {
            "text/plain": [
              "<Figure size 500x300 with 1 Axes>"
            ],
            "image/png": "[encoded data removed]"
          },
          "metadata": {}
        }
      ]
    },
    {
      "cell_type": "markdown",
      "source": [
        "Гистограммы плотностей для переменной dist\n",
        "(те же варианты разбиения на классы значений)"
      ],
      "metadata": {
        "id": "pN_aHaSXmIOH"
      }
    },
    {
      "cell_type": "code",
      "source": [
        "data_flats.hist('dist', bins=[3, 6, 10, 13, 17], figsize=(5,3), density=True);\n",
        "data_flats.hist('dist', bins=[3, 6, 10, 12, 17], figsize=(5,3), density=True);"
      ],
      "metadata": {
        "colab": {
          "base_uri": "https://localhost:8080/",
          "height": 611
        },
        "id": "_2SrjPiSEEiv",
        "outputId": "612a8e04-ad33-45ef-ca86-39e94d2370a4"
      },
      "execution_count": null,
      "outputs": [
        {
          "output_type": "display_data",
          "data": {
            "text/plain": [
              "<Figure size 500x300 with 1 Axes>"
            ],
            "image/png": "[encoded data removed]"
          },
          "metadata": {}
        },
        {
          "output_type": "display_data",
          "data": {
            "text/plain": [
              "<Figure size 500x300 with 1 Axes>"
            ],
            "image/png": "[encoded data removed]"
          },
          "metadata": {}
        }
      ]
    },
    {
      "cell_type": "markdown",
      "source": [
        "Исчез провал на одном графике там, где пик у другого.\n",
        "\n",
        "Если помнить, что тут частота отображается площадью, а не высотой столбцов, то видно, что разница между гистограммами уже не так велика."
      ],
      "metadata": {
        "id": "maznt4vv8eJK"
      }
    },
    {
      "cell_type": "markdown",
      "source": [
        "# Практика №1 / дз №1 по курсу EDA"
      ],
      "metadata": {
        "id": "TjZBDiVoiuVS"
      }
    },
    {
      "cell_type": "markdown",
      "source": [
        "## Задача 1"
      ],
      "metadata": {
        "id": "4jDd4TurjJUo"
      }
    },
    {
      "cell_type": "markdown",
      "source": [
        "Выберите две небинарных переменных из файла данных о московских квартирах.\n",
        "\n",
        "Для каждой из выбранных переменных предлагается сделать следующее:\n",
        "* Разбить на 10-20 классов и получить таблицу частот;\n",
        "* Оценить по этой таблице среднее и медиану для выбранных переменных;\n",
        "* Найти истинные среднее и медиану для выбранных переменных, и рассчитать ошибку оценки в % (ошибка в процентах = 100 * (оценка - истинное_значение) / истинное_значение)\n",
        "* (*дополнительное задание*) Исследовать точность полученных оценок:\n",
        "  * Что будет точнее оценено для одного и того же количества: среднее или медиана? Предположите чем обусловлена разница в точности или её отсутствие.\n",
        "  * Будет ли ошибка уменьшаться или увеличиваться если разбивать на большее количество классов? Почему?\n",
        "  * Для какой из двух выбранных переменных изменение ошибки с ростом количества классов более заметно? Если будет разница, предположите чем она обусловлена."
      ],
      "metadata": {
        "id": "wgdglUcP5zcU"
      }
    },
    {
      "cell_type": "markdown",
      "source": [
        "*([Ниже](#scrollTo=B-AH9JLli1xG&line=1&uniqifier=1) приведён код разбиения данных для переменной \"расстояние квартиры от центра\" на 10 равных по ширине классов и построения таблицы частот: сколько значений попало в каждый класс. Также указано как получить границы этих классов.)*"
      ],
      "metadata": {
        "id": "Ooej_7Cxj5zH"
      }
    },
    {
      "cell_type": "markdown",
      "source": [
        "## Задача 2"
      ],
      "metadata": {
        "id": "qDZ8Bm4UkF2d"
      }
    },
    {
      "cell_type": "markdown",
      "source": [
        "На гистограмме отображено время, в минутах, которое потребовалось пловцам, чтобы проплыть 500 метров (по горизонтали время, по вертикали плотность частоты):\n",
        "![2023-03-02_21-27-17.png](data:image/png;base64,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)"
      ],
      "metadata": {
        "id": "XLIC9bE27BJq"
      }
    },
    {
      "cell_type": "markdown",
      "source": [
        "Неполная таблица частот для этого же набора данных выглядит так (верхний ряд - значения времени пловцов, нижний - частота):\n",
        "![2023-03-02_21-30-20.png](data:image/png;base64,iVBORw0KGgoAAAANSUhEUgAAAoYAAACECAIAAACCv30MAAAZ2UlEQVR4nO2de1RU5cLGZ88FVErFGyKIFxQ/pPJ+y/SkR7tpHq1jefmON9Qg7+Y1C8/p5q3jXY+ZaGl5OGRkounSSFMpTVeKZsLqw5CViS7huFDXMIvZi2/2gDozMMMQ7P28Mz6//3QYfH1+vO+zL+9sdDpCCCGEEEIIIYQ4UUJwUAEcKsDC/OFQARxWsihQARwqwML84VABHFayKFABHCrAwvzhUAEcVrIoUAEcKsDC/OFQARxWsihQARwqwML84VABHFayKFABHCrAwvzhUAEcVrIoUAEcKsDC/OFQARxWsihQARwqwML84VABHFayKFABHCrAwvzhUAEcVrIoUAEcKsDC/OFQARxWsihQARwqwML84VABHFayKFABHCrAwvzhUAEcVrIoUAEcKsDC/OFQARxWsihQARwqwML84VABHFayKFABHCrAwvzhUAEcVrIoUAEcKsDC/OFQARxWsihQARwqwML84VABHFayKFABHCrAwvzhUAEcVrIoUAEcKsDC/OFQARxWsihQARwqwML84VABHFayKFABHCrAwvzhUAEcVrIoUAEcKsDC/OFQARwRKtly/ZeMs85knPu1QK7+dy7KPbLpjVVp//X8Vdbrp5NXJcyaMm3Bsh3pvxVV/5/9Q2ioAB6LdwNwoDB97ZTxsUsPFdTkKMohnAIHajoBLwZQfO3MFxvfnjftlclxMxYu3fLVhf/WwJT0hJarkDcCVAmgKDd958o3Z8VPjpu+cGniwcybnr9cvcWxQrRQIFgClcwszdsBX8nWS+sH1pWcxqGT6vR5P8tane9qzklbG9+/ZR1JF9B/3RX3+oqydsZ1bVy//YuL1m354N2JPZoEd5z4SSailjVRAI/F2wE4UXBgSjuT7R39VueqWgpCKXCiJhPwagB3zm8d91hwk67j3v049fDRb/ZsXTw8pn6TXjN2ZVuq+++7R5tVyDsBqgRw89S64VFBjoudFBDad+6XOcVu3qDO4ugBtRUIl4DHmQVpB3gl3zk8PcroErm+yctJN/7w0mPN/jwhdvjgJ9rW1SvfzMO8k698PqFNgLHVhN3XSr9CvrE/LsoUGBWb4u1aWXOorQAei/cDcB7N9dSJkSblJ8TnKxmegJcDkK99MaGVKah7wsnbDn95NXl0uLH2Y/OO3qrGCDyi+irkrQBVApBzP3kpzCjViejx/OhJr8aNfjqmoV2qTqodM/1gfkUDqfnFsTJUVSBcAh5nFqodwJUsX970bKPosev/k+zAZynHf3V30OQN1mLl3dbsFU8ESJ7mXV7yqDCDFNRv9aX7R1zW7NX96kiGZiOS8jQuZfXXI3QsXg7AZTQpY1s3ah6urKE+X8n4BLwaQPG5f3QJkGo/u/m6898Xpb3awiDVG7LtmkoW1F+FvBOgSgB30qa0Cen7euol873B5H29qHcD5eBAMnV441S5JU+VxbES1FQgWgIeZxauHbCVbD42Ozpk6DZ1DjrMKaMV227n3Y8JnQIkKfDJ1TmOL8u56/rXkiTTY4tOqXiJrgK0UgCPpZIBOCJfSRoZETZs80eTmxv8oZLLgCfgeQD5W56zqa7z/DaXu2vF5/7exaQztp9/UqWZodkqVIkANQIw73+l1/gU1y6XL28eFKxUkqnz4gyXnlF1cXSHigoES8DzzAK2A7KS5d+2DG4Y9vK2X26qcmekaF9sM4PbeVf07Yw2Rp3OGDX7uHO4lhPz2ysvRE4/ouktZa0UwGPxPAAH5MvbXwyLGJl05c6hOL+qZHgCngdQkDiotqTTN/zL1t+cXjUr75IeenbzVZ89Sy6jEgEqBCDn7lyWeLGCde5W8kjl6MAQEX/IaV6pvDi6Qz0FYiVQycxCtgOwkou+m9fefh1fMgW37Ttq0bbvr9boFZmi/ZPC3M47y0l7tFLgU5tcrk6VFGwdbJuQOtOji07V5HAqQ7M+QMficQD3sV7aMqRZ63Ff5MklRf5WyegEPA+g+PxbXZXruoZmQz64eG9Fkq/9Z1Qzg7FlbKpq2961q2TPArQMoPjUokdNtmnVMeGs4+qn9uLoDkARABKobGZB2wFWyfLvHw1tqHf81yVDcKcJW84W1tS/4GneyVc3Dgi0JatvOiHV7PKaeW9sqF7ZcjAosaaG4g0i9IEmsXhVSNasjc+ERr2yz76N44GsZDUTqGQA8pVPh4ca7Kth+KAV3yufN7Fkfjg0zNTgiYRvVfv8jTiVrGUAlqPK+Zih+eQDDhNO/cXRHYBK1jyBSmcWth1wlXz9/Dd7d+3YtOKN+OF9Iuvd3VWnD+6dcNT7T2t6wtO8s6S/1s52GKQzRs874XpTwHJ0ZlvlNdthW42Mw0tE6ANNYvGikIovrOofEjPj7qdGH8BKVjeBSgcgX9s/s+ND9jmpr9c5bs2KkVFNOoxPPKfaZms7wlSydgHIOaueDJRM0XO/c7wOqv7i6A5AEWicgBczC9sOsEp2Qi44++mc/uEB9usUxuajk2vibpWneWfeMy7Evqeg2zs/u96psJyYF62Ebmg1tfqD8B4R+kCTWCpdDy0ZS/uGdJx/7N7y98BVstoJeHOabr2yb3a3+mUnKoZmL26/rPo+I4EquUSbAKy/vN+ntqHxsI89jEOVxdEdmheBxgl4NbOw7SBGJduxXv4i7tE6knK1yHbIVP0NbZ7m3Z3PRtRXBJt6r8guF3rZMZKhRXy1x1AFROgDTWKpZD00n367V0i3hBN3HN7xYFWy+gl4eTO74PDsx2oZ9KUfHQ2KHrv9outlvJpFrEouUT+AwkOvtjE1eHrDL5VuYKrpxdEdWheBtgl4ObOw7SBQJduw/Lyyn3JcWn6n2x/A4+ng7jGN7MdBvZaWewyM5cj0SPtli6jZ1R1CVRChDzSJxeN6eOf7N7s27f3uGaftjA9UJWuRgDdXzn/dFd+paadpe07vmdOzgb50n034kI3nVWxloSpZ/QDMPyR0CWo2bNuv3u0ortHF0R3aFoG2CXg9s7DtIFYl29I4OivKqJNqPbdF2dZ4Oy87K9M7snJuuOxK93jT9Nis0jsCnRefc93HZ04d37RMiHr/z/KI0AfexqKWl1vH5ncM7jR7z0/O3+Onj0crn1kx9Uw4dtH2HbOv1mwi9xBAgdcJqDY1FOS81PjoOnX7Lv/JvvIVnl7zfPPS3a8B7aYe9Psd114FUC0Byvc8tqBzww4zD1bhOVTOi6MqaFkE1U6gSgpy0rxeW7DtIFollxSlTWlp0AU89a9rcknRN3O7RIR7R8uBy887x+dxa/HvG+x76gwtp3zjOltu7RimPIRVHzwiWc3/qCsC9IG3sajlxXbEGmHQVYa+ydgajuQueAVeJ6De1FC2NiWPDjMYwmL33t/MZL7wwdBwZZONFNAp4UeVPo8jSiV7E0D1BMi5yX9r2+qFxKyqnew5Lo7qoJmCGkigSgr+POml5t6uLdh2EK6SrZlLepr0oRP2Vvv6kMd5V3xyQYzyybOgodtdfhGJ9eJ7PUzKzOvzz0vVHUJVwPdBiTaxuB+A5ejCHi0qmlBNHrYvhrWCw2x/iOg4q3oDcAtegUYJePwZsF5a9WQtSar/UpLz9uLC4693Ue7lmTomnFGnkwWpZNUDuJm+uHfrfkt+qPL27ZpbHN2hkQLtE6jSzIK2g3CVrNw+NzV86d/51f5Onudd2WZ2Y7s56c7HaaVXJqSA7u9c8JPn5jgDj8XbvTUO73iQ7iVX/A4N7yWbUyfYTBtaTzviegJTmBpre5u+6fhyn9asGQSpZHUDMJ9bN7ht19cOXf8DImtucXSHFgqESqDimYVsB9EqueiHhY8GdXj9RA08rayyR/RkvNU1UJICHl/mdAu/+GxCJ5NOqjtwvZd7DmoKQfpA/VjgheQWQRRU9A4NK9mSPqedUadvPGb3HZdX5KsbBgTojDELVHrItSCVrGIART9v+WvUI7G7cstPosKTO5LOVPLumlsc3aG6AtEScDOzgO2AqmTr1RNJmz86mHXb6W9vfrf48dAu84/UyMfhy27EB/xpVU6Fy5icv3dSpEkK7LnE4cmr9ifLSwHtZ3+r7lMRyqOVAngslQ2gPP5WyfAEPA9A2UNjkoxtph12ORcsPvX6IyZT+3lqfQhHs1WoEgEqBaC0UWT4gPfSMrMd+L+sC6eP7Fod1ztq2La80i/UYHF0h7oKBEzA3czCtQOokou+sj/3Xf9Q1F8W7TienX/71u8Ze/45rnNE5/hdNfS7x+Tctf1rSTqdse30I24uM8n5X02Nrm0MH7GzTIf5/NpnGhvr91qcrvqT68qhkQJ4LF4MwBU/q2R4ApUNQL62N/5/aukf7r7omMPTIy1Zm/8SGhQzdb9qv61Xq1WoUgEqBHA7Y8PQ0k3bFaNv9HJS2T5qDRZHt6ioQMwE3M8sVDuAKlm+vndqTJCDHikwpOOwNz77uSaOPiwnNsaNeaFv5EOlT96RTCGdnhs5ccmBirYpWnNSZj4eWq9V/wlz5sYPiQkOfmTkmu9VfIyve1RXAI+lKgNwwm8qGZ6A1wMozvly4cAWdR6OenbqOxu2JP5r2dyXu7aOHvKPg1dUvJ2j/irk9v9f7itrNoCClDFhRvdtZGuf0LG77y70qi6OlaCaAlET8DizIO0AqmSF2znHP9u8atnS99dv/c+Bs1e1/e3ETtzMTPv3BytXrNm27/wNbW8gO4BQ4BkhYtES8RRgKco7d+DTTauXL12x5sPkwxfz1f5dRMLlr3UA90EtjuIoEKYetF4GgZVMnKACOFSAhfnDoQI4rGRRoAI4VICF+cOhAjisZFGgAjhUgIX5w6ECOKxkUaACOFSAhfnDoQI4rGRRoAI4VICF+cOhAjisZFGgAjhUgIX5w6ECOKxkUaACOFSAhfnDoQI4rGRRoAI4VICF+cOhAjisZFGgAjhUgIX5w6ECOKxkUaACOFSAhfnDoQI4rGRRoAI4VICF+cOhAjisZFGgAjhUgIX5w6ECOKxkUaACOFSAhfnDoQI4rGRRoAI4VICF+cOhAjisZFGgAjhUgIX5w6ECOKxkUaACOFSAhfnDoQI4rGRRoAI4VICF+cOhAjisZFGgAjhUgIX5w6ECOKxkUaACOFSAhfnDoQI4rGRRoAI4VICF+cOhAjisZFGgAjhUgIX5w6ECODpCCCGEEEIIIYRUBPqU/YGGCuBQARbmD4cK4LCSRYEK4FABFuYPhwrgsJJFgQrgUAEW5g+HCuCwkkWBCuBQARbmD4cK4LCSRYEK4FABFuYPhwrgsJJFgQrgUAEW5g+HCuCwkkWBCuBQARbmD4cK4LCSRYEK4FABFuYPhwrgsJJFgQrgUAEW5g+HCuCwkkWBCuBQARbmD4cK4LCSRYEK4FABFuYPhwrgsJJFgQrgUAEW5g+HCuCwkkWBCuBQARbmD4cK4LCSRYEK4FABFuYPhwrgsJJFgQrgUAEW5g+HCuCwkkWBCuBQARbmD4cK4LCSRYEK4FABFuYPhwrgsJJFgQrgUAEW5g+HCuCwkkWBCuBQARbmD4cK4LCSRYEK4FABFuYPhwrgsJJFgQrgUAEW5g+HCuD4YCUX5R7Z9MaqtP96/irr9dPJqxJmTZm2YNmO9N+KtBladfA/BY7czv1hz4fLE+ZOmzz5vf3XZPWGVh18QEFRbvrOlW/Oip8cN33h0sSDmTe9fWNh+top42OXHipQc3TVxAfy93eoAI5PVbI5J21tfP+WdSRdQP91V9yv60VZO+O6Nq7f/sVF67Z88O7EHk2CO078JFPwWvYvBfeQ808lzniqbb26bZ6esvzTrzNyC4vVH+UfRHAFN0+tGx4VJDlMWCkgtO/cL3MqT7TgwJR2JpuzfqtzBT0cUhA8/wcBKoDjK5Vszf48IXb44Cfa1tUrI/XQB/KVzye0CTC2mrC77GRMvrE/LsoUGBWb4k2FwPAjBXeR89NXDGlVy1C/+/TkzDvajLI6iKxAzv3kpTCjVCeix/OjJ70aN/rpmIYmeztLtWOmH8z3ZEK+njox0v7FrGTiGSqA4yuVXGItVs4FrNkrngiQPPSBnJc8KswgBfVbfcl6/73Zq/vVkQzNRiTlibsg+Y2CMuTf987oXE9vaPLnZSe9vryKRWAFd9KmtAnp+3rqJfPdv7Hmfb2odwPl6EgydXjjlNszZTkvZWzrRs3DlQMpVjLxDBXA8ZlKLsOcMlpZhtz1QfGPCZ0CJCnwydU5ji/Luev615Ik02OLTlm0GmlV8RcFpRQee7N7Xb0U0C7+q+sCl4Az4iow73+l1/gU13vw8uXNg4KVUjZ1XpxRcSfLV5JGRoQN2/zR5OYGVjKpDCqA42uVXLQvtpnBbR8UfTujjVGnM0bNPu5cvZYT89srL0ROPyLqLWU/UaAg37BfKZWMbeIOVGELGBxhFci5O5clXrSWf+FW8kjl8MgQEX+oop9r+fL2F8MiRiZduXMojpVMKocK4PhcJe+fFOa2Dywn7cUrBT616brLSwVbB9eWbKcTjy5yf4kPi38oULh9eIayl0h6eMD6XyuoEXHxGQX3KD616FGT7ce6Y8LZ8j/W1ktbhjRrPe6LPLmkiJVMvIEK4PhTJctXNw4ItPWuvumEVLPLa+a9saF6ZS/MoMR8jYZaRfxCQYlyZvavZ+opFkJGfVb2iRvZahW4CO7jMwruYTmqXBYyNJ98wPUHvsSatfGZ0KhX9t1QomclE6+gAjj+VMmW9Nfa2U6SdcboeSdcbxlbjs5sq7xmO584o9FQq4hfKLA1QebSx+3HRY1GJB5Pemv8wMfC6pr0hoDgNn3GLU/7TdBLFKX4jIK7yDmrngyUTNFzv3O9bF18YVX/kJgZdz86zkomXkEFcPypks17xoXYN7t0e+dn1wumlhPzopVKNrSaelibkVYVv1BgO0de06+W8nkbfd2QqJ4jFq79NHX/7sSEF6MfkpQ7CpGjdmSLey3bZxSUYf3l/T61DY2HfewqwpKxtG9Ix/nHbt39C1Yy8QoqgONPlXznsxH1lTYw9V5Rbt2/ewZtaBH/tUZDrSJ+oaDE/OXYxsphkbFd3Fd59yXIV3eNaWFUTp7rP7VB2FL2GQWlFB56tY2pwdMbfnHJ03z67V4h3RJOOHwSnJVMvIIK4PhTJZt3j2lkP0vutTSrXCUfmR5pv6gdNfu4RkOtIn6hQP5tbb8AnXLPfshHzh9GlnM2DHzYfsDU4Y0fBb187TMKFMw/JHQJajZsm+sOujvfv9m1ae93zzhdymYlE6+gAjj+VMmWY7NK7xd3XnzOddE3p45vereuNRpqFfELBdasJT1NymXr0Al7XTYcyXkfDiq9ej1gw1Wtxlo1fEaB8rnvBZ0bdph58IaLglvH5ncM7jR7z0+ZTvz08Wjlg2umngnHLmZmZmVfvY0Ztmd8KH9/hQrg+FMly79vsO+4NrSc8o3rdpdbO4YpTwfWB49IFnI18qHJ4FFB7hr7WbKh5atp5XYcZSzurNS1qcvfz2k01CriKwrk3OS/tW31QmJWuefe2M6GIwy6ytA3GftluR3aAuAr+fsxVADHnyq5pPjkghjlc8lBQ7e7PMLRevG9HiblMf19/nlJ0DuZ/qHAvGdcE71t0W/4vynlFv38zc8GKpXc5/1Lmgy0yviGgpvpi3u37rfkh1sVvGY5urBHi/AKaPKwcidfqhUcZvtDRMdZFT5ZBI1v5O/XUAEcv6rkux91Mrabk+58AlF63VoK6P7OBUEb2Xcmg+cd11c/HKTcMq5o1/vNrYNtlWwIn3xAxD4o8QkF5nPrBrft+tqhKj6llPeSiVdQARz/quSS4oy3ugZKUsDjy5w2eBWfTehk0kl1Bwr8OCk/USBf+/SvjWxHP3UGrHdZ/a0X3u5m0hlavHJQ1F8KJbqCop+3/DXqkdhdueV/iAtP7kjy8IF7VjLxCiqA42uVXLZNK+BPq3IqXFvk/L2TIk1SYM8lDo8ELj739y4mKaD97G8rutgnCH6jwHLm7Z5BklSr+zvnHTfZWS+t7ldHX3/A2nK74YVBaAVKH0eGD3gvLTPbgf/LunD6yK7Vcb2jhm3L8/BmVjLxBiqA42OVLOeu7a88icLYdvoRNxtU5PyvpkbXNoaP2Fm2+pjPr32msbF+r8XphRqOtMr4kQLLT+ufDTHoG/x55bm7X1F8afvw5oEtR+wQ9Va+grgKbmdsGNq89PcjV4i+0ctJBR7ez0omXkEFcHymki0nNsaNeaFv5EN6+1AlU0in50ZOXHLA9RfWKVhzUmY+HlqvVf8Jc+bGD4kJDn5k5JrvCwReixT8S0HhjxtHta9natztb2+u3rTxvfh+bVr+aVZyloj7fO8jqoKClDFhRvd9rHzmbOxuj8ebrGTiFVQAx2cqucrczEz79wcrV6zZtu/8DYHPzO7hfwqKr2Xs+3jdiuUrN36059Tvgm7pcsT/FPgWzB8OFcDx30r2NagADhVgYf5wqAAOK1kUqAAOFWBh/nCoAA4rWRSoAA4VYGH+cKgADitZFKgADhVgYf5wqAAOK1kUqAAOFWBh/nCoAA4rWRSoAA4VYGH+cKgADitZFKgADhVgYf5wqAAOK1kUqAAOFWBh/nCoAA4rWRSoAA4VYGH+cKgADitZFKgADhVgYf5wqAAOK1kUqAAOFWBh/nCoAA4rWRSoAA4VYGH+cKgADitZFKgADhVgYf5wqAAOK1kUqAAOFWBh/nCoAA4rWRSoAA4VYGH+cKgADitZFKgADhVgYf5wqAAOK1kUqAAOFWBh/nCoAA4rWRSoAA4VYGH+cKgADitZFKgADhVgYf5wqAAOK1kUqAAOFWBh/nCoAA4rWRSoAA4VYGH+cKgAjo4QQggh4vD/7LEQ87APv7EAAAAUdEVYdFNvZnR3YXJlAFlhbmRleC5EaXNrTl/4kQAAAABJRU5ErkJggg==)"
      ],
      "metadata": {
        "id": "xWV2H9Do8X1r"
      }
    },
    {
      "cell_type": "markdown",
      "source": [
        "Дополните таблицу частот и оцените количество пловцов, время которых превышает 20 минут.\n",
        "Покажите ваш расчёт (его можно сделать, например, в колабе)."
      ],
      "metadata": {
        "id": "XS2Esji1kPpL"
      }
    },
    {
      "cell_type": "markdown",
      "source": [
        "## Может пригодиться для задачи 1"
      ],
      "metadata": {
        "id": "B-AH9JLli1xG"
      }
    },
    {
      "cell_type": "markdown",
      "source": [
        "### Разбивка на интервалы и подсчёт их частот (результат в Series)"
      ],
      "metadata": {
        "id": "JULg5Qiyi75k"
      }
    },
    {
      "cell_type": "code",
      "source": [
        "data_flats['dist'].value_counts(bins=5, sort=False)"
      ],
      "metadata": {
        "colab": {
          "base_uri": "https://localhost:8080/"
        },
        "id": "aM8xNp2biOAX",
        "outputId": "3ea90829-a331-4803-c09f-b0277a7c694f"
      },
      "execution_count": null,
      "outputs": [
        {
          "output_type": "execute_result",
          "data": {
            "text/plain": [
              "dist\n",
              "(2.9850000000000003, 5.8]    167\n",
              "(5.8, 8.6]                   295\n",
              "(8.6, 11.4]                  376\n",
              "(11.4, 14.2]                 887\n",
              "(14.2, 17.0]                 315\n",
              "Name: count, dtype: int64"
            ]
          },
          "metadata": {},
          "execution_count": 14
        }
      ]
    },
    {
      "cell_type": "markdown",
      "source": [
        "### Разбивка на интервалы и подсчёт их частот (результат в DataFrame):"
      ],
      "metadata": {
        "id": "0U8rA2MijBr_"
      }
    },
    {
      "cell_type": "code",
      "source": [
        "bins_number = 5\n",
        "\n",
        "bins_f = data_flats['dist'].value_counts(bins=bins_number, sort=False)\n",
        "\n",
        "frequency_table = pd.DataFrame({'interval': bins_f.index, 'frequency': bins_f.values})\n",
        "\n",
        "print('Таблица частот для ', bins_number, ' классов:')\n",
        "display(frequency_table)"
      ],
      "metadata": {
        "colab": {
          "base_uri": "https://localhost:8080/",
          "height": 223
        },
        "id": "l56Q9EQ5iT6a",
        "outputId": "6ecfd8ac-6061-4fe2-874c-0e15cec7dc67"
      },
      "execution_count": null,
      "outputs": [
        {
          "output_type": "stream",
          "name": "stdout",
          "text": [
            "Таблица частот для  5  классов:\n"
          ]
        },
        {
          "output_type": "display_data",
          "data": {
            "text/plain": [
              "                    interval  frequency\n",
              "0  (2.9850000000000003, 5.8]        167\n",
              "1                 (5.8, 8.6]        295\n",
              "2                (8.6, 11.4]        376\n",
              "3               (11.4, 14.2]        887\n",
              "4               (14.2, 17.0]        315"
            ],
            "text/html": [
              "\n",
              "  <div id=\"df-5ac6e816-737f-428b-8ead-76517e332896\" class=\"colab-df-container\">\n",
              "    <div>\n",
              "<style scoped>\n",
              "    .dataframe tbody tr th:only-of-type {\n",
              "        vertical-align: middle;\n",
              "    }\n",
              "\n",
              "    .dataframe tbody tr th {\n",
              "        vertical-align: top;\n",
              "    }\n",
              "\n",
              "    .dataframe thead th {\n",
              "        text-align: right;\n",
              "    }\n",
              "</style>\n",
              "<table border=\"1\" class=\"dataframe\">\n",
              "  <thead>\n",
              "    <tr style=\"text-align: right;\">\n",
              "      <th></th>\n",
              "      <th>interval</th>\n",
              "      <th>frequency</th>\n",
              "    </tr>\n",
              "  </thead>\n",
              "  <tbody>\n",
              "    <tr>\n",
              "      <th>0</th>\n",
              "      <td>(2.9850000000000003, 5.8]</td>\n",
              "      <td>167</td>\n",
              "    </tr>\n",
              "    <tr>\n",
              "      <th>1</th>\n",
              "      <td>(5.8, 8.6]</td>\n",
              "      <td>295</td>\n",
              "    </tr>\n",
              "    <tr>\n",
              "      <th>2</th>\n",
              "      <td>(8.6, 11.4]</td>\n",
              "      <td>376</td>\n",
              "    </tr>\n",
              "    <tr>\n",
              "      <th>3</th>\n",
              "      <td>(11.4, 14.2]</td>\n",
              "      <td>887</td>\n",
              "    </tr>\n",
              "    <tr>\n",
              "      <th>4</th>\n",
              "      <td>(14.2, 17.0]</td>\n",
              "      <td>315</td>\n",
              "    </tr>\n",
              "  </tbody>\n",
              "</table>\n",
              "</div>\n",
              "    <div class=\"colab-df-buttons\">\n",
              "\n",
              "  <div class=\"colab-df-container\">\n",
              "    <button class=\"colab-df-convert\" onclick=\"convertToInteractive('df-5ac6e816-737f-428b-8ead-76517e332896')\"\n",
              "            title=\"Convert this dataframe to an interactive table.\"\n",
              "            style=\"display:none;\">\n",
              "\n",
              "  <svg xmlns=\"http://www.w3.org/2000/svg\" height=\"24px\" viewBox=\"0 -960 960 960\">\n",
              "    <path d=\"M120-120v-720h720v720H120Zm60-500h600v-160H180v160Zm220 220h160v-160H400v160Zm0 220h160v-160H400v160ZM180-400h160v-160H180v160Zm440 0h160v-160H620v160ZM180-180h160v-160H180v160Zm440 0h160v-160H620v160Z\"/>\n",
              "  </svg>\n",
              "    </button>\n",
              "\n",
              "  <style>\n",
              "    .colab-df-container {\n",
              "      display:flex;\n",
              "      gap: 12px;\n",
              "    }\n",
              "\n",
              "    .colab-df-convert {\n",
              "      background-color: #E8F0FE;\n",
              "      border: none;\n",
              "      border-radius: 50%;\n",
              "      cursor: pointer;\n",
              "      display: none;\n",
              "      fill: #1967D2;\n",
              "      height: 32px;\n",
              "      padding: 0 0 0 0;\n",
              "      width: 32px;\n",
              "    }\n",
              "\n",
              "    .colab-df-convert:hover {\n",
              "      background-color: #E2EBFA;\n",
              "      box-shadow: 0px 1px 2px rgba(60, 64, 67, 0.3), 0px 1px 3px 1px rgba(60, 64, 67, 0.15);\n",
              "      fill: #174EA6;\n",
              "    }\n",
              "\n",
              "    .colab-df-buttons div {\n",
              "      margin-bottom: 4px;\n",
              "    }\n",
              "\n",
              "    [theme=dark] .colab-df-convert {\n",
              "      background-color: #3B4455;\n",
              "      fill: #D2E3FC;\n",
              "    }\n",
              "\n",
              "    [theme=dark] .colab-df-convert:hover {\n",
              "      background-color: #434B5C;\n",
              "      box-shadow: 0px 1px 3px 1px rgba(0, 0, 0, 0.15);\n",
              "      filter: drop-shadow(0px 1px 2px rgba(0, 0, 0, 0.3));\n",
              "      fill: #FFFFFF;\n",
              "    }\n",
              "  </style>\n",
              "\n",
              "    <script>\n",
              "      const buttonEl =\n",
              "        document.querySelector('#df-5ac6e816-737f-428b-8ead-76517e332896 button.colab-df-convert');\n",
              "      buttonEl.style.display =\n",
              "        google.colab.kernel.accessAllowed ? 'block' : 'none';\n",
              "\n",
              "      async function convertToInteractive(key) {\n",
              "        const element = document.querySelector('#df-5ac6e816-737f-428b-8ead-76517e332896');\n",
              "        const dataTable =\n",
              "          await google.colab.kernel.invokeFunction('convertToInteractive',\n",
              "                                                    [key], {});\n",
              "        if (!dataTable) return;\n",
              "\n",
              "        const docLinkHtml = 'Like what you see? Visit the ' +\n",
              "          '<a target=\"_blank\" href=https://colab.research.google.com/notebooks/data_table.ipynb>data table notebook</a>'\n",
              "          + ' to learn more about interactive tables.';\n",
              "        element.innerHTML = '';\n",
              "        dataTable['output_type'] = 'display_data';\n",
              "        await google.colab.output.renderOutput(dataTable, element);\n",
              "        const docLink = document.createElement('div');\n",
              "        docLink.innerHTML = docLinkHtml;\n",
              "        element.appendChild(docLink);\n",
              "      }\n",
              "    </script>\n",
              "  </div>\n",
              "\n",
              "\n",
              "<div id=\"df-0832f0ba-db27-4eaf-bcae-f07ec8e88c25\">\n",
              "  <button class=\"colab-df-quickchart\" onclick=\"quickchart('df-0832f0ba-db27-4eaf-bcae-f07ec8e88c25')\"\n",
              "            title=\"Suggest charts\"\n",
              "            style=\"display:none;\">\n",
              "\n",
              "<svg xmlns=\"http://www.w3.org/2000/svg\" height=\"24px\"viewBox=\"0 0 24 24\"\n",
              "     width=\"24px\">\n",
              "    <g>\n",
              "        <path d=\"M19 3H5c-1.1 0-2 .9-2 2v14c0 1.1.9 2 2 2h14c1.1 0 2-.9 2-2V5c0-1.1-.9-2-2-2zM9 17H7v-7h2v7zm4 0h-2V7h2v10zm4 0h-2v-4h2v4z\"/>\n",
              "    </g>\n",
              "</svg>\n",
              "  </button>\n",
              "\n",
              "<style>\n",
              "  .colab-df-quickchart {\n",
              "      --bg-color: #E8F0FE;\n",
              "      --fill-color: #1967D2;\n",
              "      --hover-bg-color: #E2EBFA;\n",
              "      --hover-fill-color: #174EA6;\n",
              "      --disabled-fill-color: #AAA;\n",
              "      --disabled-bg-color: #DDD;\n",
              "  }\n",
              "\n",
              "  [theme=dark] .colab-df-quickchart {\n",
              "      --bg-color: #3B4455;\n",
              "      --fill-color: #D2E3FC;\n",
              "      --hover-bg-color: #434B5C;\n",
              "      --hover-fill-color: #FFFFFF;\n",
              "      --disabled-bg-color: #3B4455;\n",
              "      --disabled-fill-color: #666;\n",
              "  }\n",
              "\n",
              "  .colab-df-quickchart {\n",
              "    background-color: var(--bg-color);\n",
              "    border: none;\n",
              "    border-radius: 50%;\n",
              "    cursor: pointer;\n",
              "    display: none;\n",
              "    fill: var(--fill-color);\n",
              "    height: 32px;\n",
              "    padding: 0;\n",
              "    width: 32px;\n",
              "  }\n",
              "\n",
              "  .colab-df-quickchart:hover {\n",
              "    background-color: var(--hover-bg-color);\n",
              "    box-shadow: 0 1px 2px rgba(60, 64, 67, 0.3), 0 1px 3px 1px rgba(60, 64, 67, 0.15);\n",
              "    fill: var(--button-hover-fill-color);\n",
              "  }\n",
              "\n",
              "  .colab-df-quickchart-complete:disabled,\n",
              "  .colab-df-quickchart-complete:disabled:hover {\n",
              "    background-color: var(--disabled-bg-color);\n",
              "    fill: var(--disabled-fill-color);\n",
              "    box-shadow: none;\n",
              "  }\n",
              "\n",
              "  .colab-df-spinner {\n",
              "    border: 2px solid var(--fill-color);\n",
              "    border-color: transparent;\n",
              "    border-bottom-color: var(--fill-color);\n",
              "    animation:\n",
              "      spin 1s steps(1) infinite;\n",
              "  }\n",
              "\n",
              "  @keyframes spin {\n",
              "    0% {\n",
              "      border-color: transparent;\n",
              "      border-bottom-color: var(--fill-color);\n",
              "      border-left-color: var(--fill-color);\n",
              "    }\n",
              "    20% {\n",
              "      border-color: transparent;\n",
              "      border-left-color: var(--fill-color);\n",
              "      border-top-color: var(--fill-color);\n",
              "    }\n",
              "    30% {\n",
              "      border-color: transparent;\n",
              "      border-left-color: var(--fill-color);\n",
              "      border-top-color: var(--fill-color);\n",
              "      border-right-color: var(--fill-color);\n",
              "    }\n",
              "    40% {\n",
              "      border-color: transparent;\n",
              "      border-right-color: var(--fill-color);\n",
              "      border-top-color: var(--fill-color);\n",
              "    }\n",
              "    60% {\n",
              "      border-color: transparent;\n",
              "      border-right-color: var(--fill-color);\n",
              "    }\n",
              "    80% {\n",
              "      border-color: transparent;\n",
              "      border-right-color: var(--fill-color);\n",
              "      border-bottom-color: var(--fill-color);\n",
              "    }\n",
              "    90% {\n",
              "      border-color: transparent;\n",
              "      border-bottom-color: var(--fill-color);\n",
              "    }\n",
              "  }\n",
              "</style>\n",
              "\n",
              "  <script>\n",
              "    async function quickchart(key) {\n",
              "      const quickchartButtonEl =\n",
              "        document.querySelector('#' + key + ' button');\n",
              "      quickchartButtonEl.disabled = true;  // To prevent multiple clicks.\n",
              "      quickchartButtonEl.classList.add('colab-df-spinner');\n",
              "      try {\n",
              "        const charts = await google.colab.kernel.invokeFunction(\n",
              "            'suggestCharts', [key], {});\n",
              "      } catch (error) {\n",
              "        console.error('Error during call to suggestCharts:', error);\n",
              "      }\n",
              "      quickchartButtonEl.classList.remove('colab-df-spinner');\n",
              "      quickchartButtonEl.classList.add('colab-df-quickchart-complete');\n",
              "    }\n",
              "    (() => {\n",
              "      let quickchartButtonEl =\n",
              "        document.querySelector('#df-0832f0ba-db27-4eaf-bcae-f07ec8e88c25 button');\n",
              "      quickchartButtonEl.style.display =\n",
              "        google.colab.kernel.accessAllowed ? 'block' : 'none';\n",
              "    })();\n",
              "  </script>\n",
              "</div>\n",
              "\n",
              "  <div id=\"id_d11b6c96-cfd2-4d5f-b145-4acae57ff002\">\n",
              "    <style>\n",
              "      .colab-df-generate {\n",
              "        background-color: #E8F0FE;\n",
              "        border: none;\n",
              "        border-radius: 50%;\n",
              "        cursor: pointer;\n",
              "        display: none;\n",
              "        fill: #1967D2;\n",
              "        height: 32px;\n",
              "        padding: 0 0 0 0;\n",
              "        width: 32px;\n",
              "      }\n",
              "\n",
              "      .colab-df-generate:hover {\n",
              "        background-color: #E2EBFA;\n",
              "        box-shadow: 0px 1px 2px rgba(60, 64, 67, 0.3), 0px 1px 3px 1px rgba(60, 64, 67, 0.15);\n",
              "        fill: #174EA6;\n",
              "      }\n",
              "\n",
              "      [theme=dark] .colab-df-generate {\n",
              "        background-color: #3B4455;\n",
              "        fill: #D2E3FC;\n",
              "      }\n",
              "\n",
              "      [theme=dark] .colab-df-generate:hover {\n",
              "        background-color: #434B5C;\n",
              "        box-shadow: 0px 1px 3px 1px rgba(0, 0, 0, 0.15);\n",
              "        filter: drop-shadow(0px 1px 2px rgba(0, 0, 0, 0.3));\n",
              "        fill: #FFFFFF;\n",
              "      }\n",
              "    </style>\n",
              "    <button class=\"colab-df-generate\" onclick=\"generateWithVariable('frequency_table')\"\n",
              "            title=\"Generate code using this dataframe.\"\n",
              "            style=\"display:none;\">\n",
              "\n",
              "  <svg xmlns=\"http://www.w3.org/2000/svg\" height=\"24px\"viewBox=\"0 0 24 24\"\n",
              "       width=\"24px\">\n",
              "    <path d=\"M7,19H8.4L18.45,9,17,7.55,7,17.6ZM5,21V16.75L18.45,3.32a2,2,0,0,1,2.83,0l1.4,1.43a1.91,1.91,0,0,1,.58,1.4,1.91,1.91,0,0,1-.58,1.4L9.25,21ZM18.45,9,17,7.55Zm-12,3A5.31,5.31,0,0,0,4.9,8.1,5.31,5.31,0,0,0,1,6.5,5.31,5.31,0,0,0,4.9,4.9,5.31,5.31,0,0,0,6.5,1,5.31,5.31,0,0,0,8.1,4.9,5.31,5.31,0,0,0,12,6.5,5.46,5.46,0,0,0,6.5,12Z\"/>\n",
              "  </svg>\n",
              "    </button>\n",
              "    <script>\n",
              "      (() => {\n",
              "      const buttonEl =\n",
              "        document.querySelector('#id_d11b6c96-cfd2-4d5f-b145-4acae57ff002 button.colab-df-generate');\n",
              "      buttonEl.style.display =\n",
              "        google.colab.kernel.accessAllowed ? 'block' : 'none';\n",
              "\n",
              "      buttonEl.onclick = () => {\n",
              "        google.colab.notebook.generateWithVariable('frequency_table');\n",
              "      }\n",
              "      })();\n",
              "    </script>\n",
              "  </div>\n",
              "\n",
              "    </div>\n",
              "  </div>\n"
            ],
            "application/vnd.google.colaboratory.intrinsic+json": {
              "type": "dataframe",
              "variable_name": "frequency_table",
              "summary": "{\n  \"name\": \"frequency_table\",\n  \"rows\": 5,\n  \"fields\": [\n    {\n      \"column\": \"interval\",\n      \"properties\": {\n        \"dtype\": \"interval[float64, right]\",\n        \"num_unique_values\": 5,\n        \"samples\": [\n          \"(5.8, 8.6]\",\n          \"(14.2, 17.0]\",\n          \"(8.6, 11.4]\"\n        ],\n        \"semantic_type\": \"\",\n        \"description\": \"\"\n      }\n    },\n    {\n      \"column\": \"frequency\",\n      \"properties\": {\n        \"dtype\": \"number\",\n        \"std\": 278,\n        \"min\": 167,\n        \"max\": 887,\n        \"num_unique_values\": 5,\n        \"samples\": [\n          295,\n          315,\n          376\n        ],\n        \"semantic_type\": \"\",\n        \"description\": \"\"\n      }\n    }\n  ]\n}"
            }
          },
          "metadata": {}
        }
      ]
    },
    {
      "cell_type": "markdown",
      "source": [
        "В столбце интервалов &mdash; паднасовские интервалы:"
      ],
      "metadata": {
        "id": "Gx03MOMsyl1Y"
      }
    },
    {
      "cell_type": "code",
      "source": [
        "type(frequency_table['interval'][0])"
      ],
      "metadata": {
        "colab": {
          "base_uri": "https://localhost:8080/"
        },
        "id": "yAHuxnb_yUum",
        "outputId": "0540c74c-a898-4838-c646-0c12144f56f1"
      },
      "execution_count": null,
      "outputs": [
        {
          "output_type": "execute_result",
          "data": {
            "text/plain": [
              "pandas._libs.interval.Interval"
            ]
          },
          "metadata": {},
          "execution_count": 16
        }
      ]
    },
    {
      "cell_type": "markdown",
      "source": [
        "Как обратиться к границам интервалов в полученном датафрейме:"
      ],
      "metadata": {
        "id": "ldUrQX0YvX0p"
      }
    },
    {
      "cell_type": "code",
      "source": [
        "print('левые границы ', bins_number, ' классов:')\n",
        "for i in range(len(frequency_table)):\n",
        "  print(frequency_table['interval'][i].left)\n",
        "\n",
        "print('\\n')\n",
        "\n",
        "print('Правые границы ', bins_number, ' классов:')\n",
        "for i in range(len(frequency_table)):\n",
        "  print(frequency_table['interval'][i].right)"
      ],
      "metadata": {
        "colab": {
          "base_uri": "https://localhost:8080/"
        },
        "id": "RKooKX3fvVGx",
        "outputId": "66168de4-2b56-4d0b-dfb0-1fcdac0e7024"
      },
      "execution_count": null,
      "outputs": [
        {
          "output_type": "stream",
          "name": "stdout",
          "text": [
            "левые границы  5  классов:\n",
            "2.9850000000000003\n",
            "5.8\n",
            "8.6\n",
            "11.4\n",
            "14.2\n",
            "\n",
            "\n",
            "Правые границы  5  классов:\n",
            "5.8\n",
            "8.6\n",
            "11.4\n",
            "14.2\n",
            "17.0\n"
          ]
        }
      ]
    }
  ]
}