{
  "nbformat": 4,
  "nbformat_minor": 0,
  "metadata": {
    "colab": {
      "provenance": [],
      "include_colab_link": true
    },
    "kernelspec": {
      "name": "python3",
      "display_name": "Python 3"
    },
    "language_info": {
      "name": "python"
    }
  },
  "cells": [
    {
      "cell_type": "markdown",
      "metadata": {
        "id": "view-in-github",
        "colab_type": "text"
      },
      "source": [
        "<a href=\"https://colab.research.google.com/github/Victor0vich/Denis/blob/main/%D0%90%D0%B4%D0%B0%D0%BF%D1%82%D0%B0%D1%86%D0%B8%D0%BE%D0%BD%D0%BD%D0%BD%D1%8B%D0%B9_%D0%BA%D1%83%D1%80%D1%81%2C_%D0%98%D0%98%2C_%D0%B7%D0%B0%D0%BD%D1%8F%D1%82%D0%B8%D0%B5_3.ipynb\" target=\"_parent\"><img src=\"https://colab.research.google.com/assets/colab-badge.svg\" alt=\"Open In Colab\"/></a>"
      ]
    },
    {
      "cell_type": "markdown",
      "source": [
        "## Введение в хэши"
      ],
      "metadata": {
        "id": "2nuYa-7AU6Ns"
      }
    },
    {
      "cell_type": "markdown",
      "source": [
        "\n",
        "\n",
        "**Definition:** A hash function is a function that takes a set of inputs of any arbitrary size and fits them into a table or other data structure that contains fixed-size elements.\n",
        "\n",
        "\n",
        "Более просто (но это не общий случай), можно считать, что некоторый объект `obj` может быть передан некоторой функции $f$, такой что $f(obj) \\in H\\subset\\mathbb{Z}$.\n",
        "\n",
        "С точки зрения практики, это, например, позволяет \"укомплектовать\" любого размера строчки в числа. При этом могут быть коллизии:"
      ],
      "metadata": {
        "id": "OO3jPiavU6rs"
      }
    },
    {
      "cell_type": "markdown",
      "source": [
        "<img src=\"https://upload.wikimedia.org/wikipedia/commons/d/d0/Hash_table_5_0_1_1_1_1_1_LL.svg\" style=\"background-color:white\">"
      ],
      "metadata": {
        "id": "sux0bhpcVBKB"
      }
    },
    {
      "cell_type": "code",
      "source": [],
      "metadata": {
        "id": "Kx310l8E-iPo"
      },
      "execution_count": null,
      "outputs": []
    },
    {
      "cell_type": "code",
      "source": [
        "st = 'ab' + 'c'\n",
        "hashed_value = hash(\"abc\")\n",
        "hashed_value1 = hash(st)\n",
        "hashed_value2 = hash(20)\n",
        "hashed_value3 = hash(2.0)\n",
        "hashed_value4 = hash(2)\n",
        "print(hashed_value)\n",
        "print(hashed_value1)\n",
        "print(hashed_value2)\n",
        "print(hashed_value3)\n",
        "print(hashed_value4)"
      ],
      "metadata": {
        "colab": {
          "base_uri": "https://localhost:8080/"
        },
        "id": "K5gOcbZ2VDUk",
        "outputId": "6a038889-4faa-416f-8d23-5a795e77c9cb"
      },
      "execution_count": null,
      "outputs": [
        {
          "output_type": "stream",
          "name": "stdout",
          "text": [
            "2596503286860812000\n",
            "2596503286860812000\n",
            "20\n",
            "2\n",
            "2\n"
          ]
        }
      ]
    },
    {
      "cell_type": "markdown",
      "source": [
        "## Множества\n",
        "\n",
        "Множества - пример реализации хэш-таблицы. Неупорядоченная структура данных.\n",
        "* множества не поддерживают операций среза и индексирования\n",
        "* множества не содержат дубликаты элементов\n",
        "* элементы множества неизменяемые, но сами множества изменяемые"
      ],
      "metadata": {
        "id": "UHr6l7ZaVPId"
      }
    },
    {
      "cell_type": "markdown",
      "source": [
        "#### Действия со множествами"
      ],
      "metadata": {
        "id": "0_PQ4MY0V4xa"
      }
    },
    {
      "cell_type": "code",
      "source": [
        "my_set = {1, 4, 2, 2, 0}\n",
        "empty_set = set()"
      ],
      "metadata": {
        "id": "Fyh_QsrNVR-z"
      },
      "execution_count": null,
      "outputs": []
    },
    {
      "cell_type": "code",
      "source": [
        "my_set[0]"
      ],
      "metadata": {
        "colab": {
          "base_uri": "https://localhost:8080/",
          "height": 141
        },
        "id": "l0Wex-i3-nAG",
        "outputId": "62939cea-1c8f-4b60-9cb2-857bca77e1c1"
      },
      "execution_count": null,
      "outputs": [
        {
          "output_type": "error",
          "ename": "TypeError",
          "evalue": "'set' object is not subscriptable",
          "traceback": [
            "\u001b[0;31m---------------------------------------------------------------------------\u001b[0m",
            "\u001b[0;31mTypeError\u001b[0m                                 Traceback (most recent call last)",
            "\u001b[0;32m<ipython-input-3-158c424478a1>\u001b[0m in \u001b[0;36m<cell line: 1>\u001b[0;34m()\u001b[0m\n\u001b[0;32m----> 1\u001b[0;31m \u001b[0mmy_set\u001b[0m\u001b[0;34m[\u001b[0m\u001b[0;36m0\u001b[0m\u001b[0;34m]\u001b[0m\u001b[0;34m\u001b[0m\u001b[0;34m\u001b[0m\u001b[0m\n\u001b[0m",
            "\u001b[0;31mTypeError\u001b[0m: 'set' object is not subscriptable"
          ]
        }
      ]
    },
    {
      "cell_type": "markdown",
      "source": [],
      "metadata": {
        "id": "wI9deCDW_q9H"
      }
    },
    {
      "cell_type": "code",
      "source": [
        "2 in my_set"
      ],
      "metadata": {
        "colab": {
          "base_uri": "https://localhost:8080/"
        },
        "id": "bZxs5r5xAb8I",
        "outputId": "e06143bc-f5a2-4e4a-ebfa-3051bbcee3b5"
      },
      "execution_count": null,
      "outputs": [
        {
          "output_type": "execute_result",
          "data": {
            "text/plain": [
              "True"
            ]
          },
          "metadata": {},
          "execution_count": 4
        }
      ]
    },
    {
      "cell_type": "code",
      "source": [
        "5 in my_set"
      ],
      "metadata": {
        "colab": {
          "base_uri": "https://localhost:8080/"
        },
        "id": "v3WaiS1U9-zp",
        "outputId": "395b27a9-a2a2-4463-dd5e-ebf9c9bba753"
      },
      "execution_count": null,
      "outputs": [
        {
          "output_type": "execute_result",
          "data": {
            "text/plain": [
              "False"
            ]
          },
          "metadata": {},
          "execution_count": 5
        }
      ]
    },
    {
      "cell_type": "code",
      "source": [
        "2 in [6, 1, 7]"
      ],
      "metadata": {
        "colab": {
          "base_uri": "https://localhost:8080/"
        },
        "id": "vJ9y4iwLAoIT",
        "outputId": "eddb2a90-91ef-40a2-b7d8-c23dcbbc4736"
      },
      "execution_count": null,
      "outputs": [
        {
          "output_type": "execute_result",
          "data": {
            "text/plain": [
              "False"
            ]
          },
          "metadata": {},
          "execution_count": 82
        }
      ]
    },
    {
      "cell_type": "code",
      "source": [
        "a = {1, 2, 3, 4, 5}\n",
        "b = {4, 5, 6, 7, 8}\n",
        "print(a | b)\n",
        "print(a & b)\n",
        "print(a ^ b)\n",
        "print(a - b)\n",
        "print(b - a)"
      ],
      "metadata": {
        "colab": {
          "base_uri": "https://localhost:8080/"
        },
        "id": "L46HWw1vVSCD",
        "outputId": "f057fb70-57d5-4540-880b-69f9a0bc336d"
      },
      "execution_count": null,
      "outputs": [
        {
          "output_type": "stream",
          "name": "stdout",
          "text": [
            "{1, 2, 3, 4, 5, 6, 7, 8}\n",
            "{4, 5}\n",
            "{1, 2, 3, 6, 7, 8}\n",
            "{1, 2, 3}\n",
            "{8, 6, 7}\n"
          ]
        }
      ]
    },
    {
      "cell_type": "code",
      "source": [
        "print(a.union(b))\n",
        "print(a.intersection(b))\n",
        "print(a.symmetric_difference(b))\n",
        "print(a.difference(b))\n",
        "print(b.difference(a))"
      ],
      "metadata": {
        "colab": {
          "base_uri": "https://localhost:8080/"
        },
        "id": "9RLTUUO3113o",
        "outputId": "3383223d-5924-4565-8d13-35bdfd54c786"
      },
      "execution_count": null,
      "outputs": [
        {
          "output_type": "stream",
          "name": "stdout",
          "text": [
            "{1, 2, 3, 4, 5, 6, 7, 8}\n",
            "{4, 5}\n",
            "{1, 2, 3, 6, 7, 8}\n",
            "{1, 2, 3}\n",
            "{8, 6, 7}\n"
          ]
        }
      ]
    },
    {
      "cell_type": "code",
      "source": [
        "a.add(9)\n",
        "a"
      ],
      "metadata": {
        "colab": {
          "base_uri": "https://localhost:8080/"
        },
        "id": "3JP9DXll2EMU",
        "outputId": "74dc5c55-0413-43c4-ff81-433ec82f355d"
      },
      "execution_count": null,
      "outputs": [
        {
          "output_type": "execute_result",
          "data": {
            "text/plain": [
              "{1, 2, 3, 4, 5, 9}"
            ]
          },
          "metadata": {},
          "execution_count": 90
        }
      ]
    },
    {
      "cell_type": "code",
      "source": [
        "a.remove(5)\n",
        "a"
      ],
      "metadata": {
        "colab": {
          "base_uri": "https://localhost:8080/",
          "height": 158
        },
        "id": "WcIoKiR82HoM",
        "outputId": "f4e096b2-3ae5-4edd-aeda-b39efee34c92"
      },
      "execution_count": null,
      "outputs": [
        {
          "output_type": "error",
          "ename": "KeyError",
          "evalue": "5",
          "traceback": [
            "\u001b[0;31m---------------------------------------------------------------------------\u001b[0m",
            "\u001b[0;31mKeyError\u001b[0m                                  Traceback (most recent call last)",
            "\u001b[0;32m<ipython-input-92-04f6dc141dde>\u001b[0m in \u001b[0;36m<cell line: 1>\u001b[0;34m()\u001b[0m\n\u001b[0;32m----> 1\u001b[0;31m \u001b[0ma\u001b[0m\u001b[0;34m.\u001b[0m\u001b[0mremove\u001b[0m\u001b[0;34m(\u001b[0m\u001b[0;36m5\u001b[0m\u001b[0;34m)\u001b[0m\u001b[0;34m\u001b[0m\u001b[0;34m\u001b[0m\u001b[0m\n\u001b[0m\u001b[1;32m      2\u001b[0m \u001b[0ma\u001b[0m\u001b[0;34m\u001b[0m\u001b[0;34m\u001b[0m\u001b[0m\n",
            "\u001b[0;31mKeyError\u001b[0m: 5"
          ]
        }
      ]
    },
    {
      "cell_type": "code",
      "source": [
        "a.discard(4)\n",
        "a"
      ],
      "metadata": {
        "colab": {
          "base_uri": "https://localhost:8080/"
        },
        "id": "i-5DPz0b2dPp",
        "outputId": "e9f049b1-fda5-420d-f226-d03fec792dcf"
      },
      "execution_count": null,
      "outputs": [
        {
          "output_type": "execute_result",
          "data": {
            "text/plain": [
              "{1, 2, 3, 9}"
            ]
          },
          "metadata": {},
          "execution_count": 94
        }
      ]
    },
    {
      "cell_type": "code",
      "source": [
        "print(a.pop())\n",
        "a"
      ],
      "metadata": {
        "colab": {
          "base_uri": "https://localhost:8080/"
        },
        "id": "ArBGo9LS2pU6",
        "outputId": "fd26c1aa-5598-49bc-bd69-3479cf7d9bdf"
      },
      "execution_count": null,
      "outputs": [
        {
          "output_type": "stream",
          "name": "stdout",
          "text": [
            "1\n"
          ]
        },
        {
          "output_type": "execute_result",
          "data": {
            "text/plain": [
              "{2, 3, 9}"
            ]
          },
          "metadata": {},
          "execution_count": 95
        }
      ]
    },
    {
      "cell_type": "code",
      "source": [
        "a.clear()\n",
        "a"
      ],
      "metadata": {
        "colab": {
          "base_uri": "https://localhost:8080/"
        },
        "id": "IWlKamHk2uwu",
        "outputId": "1cc066c5-9d9b-4df2-f53d-a25aed8c0646"
      },
      "execution_count": null,
      "outputs": [
        {
          "output_type": "execute_result",
          "data": {
            "text/plain": [
              "set()"
            ]
          },
          "metadata": {},
          "execution_count": 96
        }
      ]
    },
    {
      "cell_type": "code",
      "source": [
        "a = {1, 4, 'abc', (1,2, [1, 2])}"
      ],
      "metadata": {
        "colab": {
          "base_uri": "https://localhost:8080/",
          "height": 141
        },
        "id": "hIQMaK4vCbsd",
        "outputId": "cddadd1d-0340-481b-c201-e466cbdb9b54"
      },
      "execution_count": null,
      "outputs": [
        {
          "output_type": "error",
          "ename": "TypeError",
          "evalue": "unhashable type: 'list'",
          "traceback": [
            "\u001b[0;31m---------------------------------------------------------------------------\u001b[0m",
            "\u001b[0;31mTypeError\u001b[0m                                 Traceback (most recent call last)",
            "\u001b[0;32m<ipython-input-105-6c0ba90dc16d>\u001b[0m in \u001b[0;36m<cell line: 1>\u001b[0;34m()\u001b[0m\n\u001b[0;32m----> 1\u001b[0;31m \u001b[0ma\u001b[0m \u001b[0;34m=\u001b[0m \u001b[0;34m{\u001b[0m\u001b[0;36m1\u001b[0m\u001b[0;34m,\u001b[0m \u001b[0;36m4\u001b[0m\u001b[0;34m,\u001b[0m \u001b[0;34m'abc'\u001b[0m\u001b[0;34m,\u001b[0m \u001b[0;34m(\u001b[0m\u001b[0;36m1\u001b[0m\u001b[0;34m,\u001b[0m\u001b[0;36m2\u001b[0m\u001b[0;34m,\u001b[0m \u001b[0;34m[\u001b[0m\u001b[0;36m1\u001b[0m\u001b[0;34m,\u001b[0m \u001b[0;36m2\u001b[0m\u001b[0;34m]\u001b[0m\u001b[0;34m)\u001b[0m\u001b[0;34m}\u001b[0m\u001b[0;34m\u001b[0m\u001b[0;34m\u001b[0m\u001b[0m\n\u001b[0m",
            "\u001b[0;31mTypeError\u001b[0m: unhashable type: 'list'"
          ]
        }
      ]
    },
    {
      "cell_type": "code",
      "source": [
        "hash([1, 2])"
      ],
      "metadata": {
        "colab": {
          "base_uri": "https://localhost:8080/",
          "height": 141
        },
        "id": "VMU8rhJSCwG0",
        "outputId": "c5260d76-c459-4bf3-f28f-9d898fa1f542"
      },
      "execution_count": null,
      "outputs": [
        {
          "output_type": "error",
          "ename": "TypeError",
          "evalue": "unhashable type: 'list'",
          "traceback": [
            "\u001b[0;31m---------------------------------------------------------------------------\u001b[0m",
            "\u001b[0;31mTypeError\u001b[0m                                 Traceback (most recent call last)",
            "\u001b[0;32m<ipython-input-102-4b420d0158ba>\u001b[0m in \u001b[0;36m<cell line: 1>\u001b[0;34m()\u001b[0m\n\u001b[0;32m----> 1\u001b[0;31m \u001b[0mhash\u001b[0m\u001b[0;34m(\u001b[0m\u001b[0;34m[\u001b[0m\u001b[0;36m1\u001b[0m\u001b[0;34m,\u001b[0m \u001b[0;36m2\u001b[0m\u001b[0;34m]\u001b[0m\u001b[0;34m)\u001b[0m\u001b[0;34m\u001b[0m\u001b[0;34m\u001b[0m\u001b[0m\n\u001b[0m",
            "\u001b[0;31mTypeError\u001b[0m: unhashable type: 'list'"
          ]
        }
      ]
    },
    {
      "cell_type": "markdown",
      "source": [
        "**Задача 1.** Дан:\n",
        "\n",
        "*   список студентов группы\n",
        "*   список студентов, которые пришли на экзамен\n",
        "*   список студентов, которые имеют зачет по предмету до экзамена\n",
        "\n",
        "\n",
        "\n",
        "выведите имена студентов:\n",
        "1. которые НЕ пришли на экзамен\n",
        "2. которые пришли на экзамен, но уже имели зачет по предмету\n",
        "3. которые НЕ пришли на экзамен, но уже имеют зачет до экзамена\n",
        "4. которые в итоге получили зачет по предмету (будем считать, что все кто пришел на экзамен сдали предмет)\n",
        "5. которые в итоге НЕ получили зачет по предмету (будем считать, что все кто пришел на экзамен сдали предмет)\n",
        "6. Написать код, который проверяет, получил ли студент зачет по предмету (True/False)"
      ],
      "metadata": {
        "id": "dc9KfeqSWd3G"
      }
    },
    {
      "cell_type": "code",
      "source": [
        "group = set([\"Иванов\", \"Петров\", \"Сидоров\", \"Федотов\", \"Александров\", \"Королев\", \"Симонов\"])\n",
        "exam = {\"Федотов\", \"Иванов\", \"Петров\", \"Симонов\"}\n",
        "zachet = set([\"Петров\", \"Королев\"])"
      ],
      "metadata": {
        "id": "xnYMNdIRWj74"
      },
      "execution_count": null,
      "outputs": []
    },
    {
      "cell_type": "code",
      "source": [
        "group - exam"
      ],
      "metadata": {
        "colab": {
          "base_uri": "https://localhost:8080/"
        },
        "id": "n7iJvvHgDNwR",
        "outputId": "2f0c0f0a-555a-4c9c-f4e8-b196c79f7464"
      },
      "execution_count": null,
      "outputs": [
        {
          "output_type": "execute_result",
          "data": {
            "text/plain": [
              "{'Александров', 'Королев', 'Сидоров'}"
            ]
          },
          "metadata": {},
          "execution_count": 107
        }
      ]
    },
    {
      "cell_type": "code",
      "source": [
        "exam & zachet"
      ],
      "metadata": {
        "colab": {
          "base_uri": "https://localhost:8080/"
        },
        "id": "iHTypN9FDgFh",
        "outputId": "ac9e94cb-0782-4fe3-9d79-120fbdaaf6f3"
      },
      "execution_count": null,
      "outputs": [
        {
          "output_type": "execute_result",
          "data": {
            "text/plain": [
              "{'Петров'}"
            ]
          },
          "metadata": {},
          "execution_count": 108
        }
      ]
    },
    {
      "cell_type": "code",
      "source": [
        "zachet - exam"
      ],
      "metadata": {
        "colab": {
          "base_uri": "https://localhost:8080/"
        },
        "id": "NPMM_nSVDlpK",
        "outputId": "c87099b2-fb7e-471c-cdd6-7e8221f8b23b"
      },
      "execution_count": null,
      "outputs": [
        {
          "output_type": "execute_result",
          "data": {
            "text/plain": [
              "{'Королев'}"
            ]
          },
          "metadata": {},
          "execution_count": 109
        }
      ]
    },
    {
      "cell_type": "code",
      "source": [
        "exam | zachet"
      ],
      "metadata": {
        "colab": {
          "base_uri": "https://localhost:8080/"
        },
        "id": "Nmwmggr5Dy68",
        "outputId": "94c2332c-eb9c-442c-d2e9-1b85192a36a3"
      },
      "execution_count": null,
      "outputs": [
        {
          "output_type": "execute_result",
          "data": {
            "text/plain": [
              "{'Иванов', 'Королев', 'Петров', 'Симонов', 'Федотов'}"
            ]
          },
          "metadata": {},
          "execution_count": 110
        }
      ]
    },
    {
      "cell_type": "code",
      "source": [
        "group - (exam | zachet)"
      ],
      "metadata": {
        "colab": {
          "base_uri": "https://localhost:8080/"
        },
        "id": "YWv5jAwwD3vk",
        "outputId": "ae228143-cd9d-4a18-bfc4-dbce5d819423"
      },
      "execution_count": null,
      "outputs": [
        {
          "output_type": "execute_result",
          "data": {
            "text/plain": [
              "{'Александров', 'Сидоров'}"
            ]
          },
          "metadata": {},
          "execution_count": 111
        }
      ]
    },
    {
      "cell_type": "code",
      "source": [
        "student = input()\n",
        "student in (exam | zachet)"
      ],
      "metadata": {
        "id": "Ic8UobH6EIGv"
      },
      "execution_count": null,
      "outputs": []
    },
    {
      "cell_type": "markdown",
      "source": [
        "## Словари"
      ],
      "metadata": {
        "id": "H5CrFFahTrxg"
      }
    },
    {
      "cell_type": "markdown",
      "source": [
        "Словари(dict) в Python - еще один пример реализации хэш-таблицы. Неупорядоченные коллекции произвольных объектов с доступом по ключу."
      ],
      "metadata": {
        "id": "u_3cds8c6i-c"
      }
    },
    {
      "cell_type": "code",
      "source": [
        "lst = [5, 2, 30]"
      ],
      "metadata": {
        "id": "Hd9kqoH2E-OH"
      },
      "execution_count": null,
      "outputs": []
    },
    {
      "cell_type": "code",
      "source": [
        "lst[0]"
      ],
      "metadata": {
        "colab": {
          "base_uri": "https://localhost:8080/"
        },
        "id": "fxUFZ00GFBFe",
        "outputId": "6620b52b-49be-4784-bb4a-892c99dca464"
      },
      "execution_count": null,
      "outputs": [
        {
          "output_type": "execute_result",
          "data": {
            "text/plain": [
              "5"
            ]
          },
          "metadata": {},
          "execution_count": 7
        }
      ]
    },
    {
      "cell_type": "code",
      "source": [
        "# Пустой словарь\n",
        "empty_dict = {} # dict()\n",
        "# Словарь с двумя парами ключ-значение\n",
        "value_dict = {'cat': 'кошка', 'dog': \"собака\"}\n",
        "\n",
        "value_dict = dict(cat='кошка', dog=\"собака\")\n",
        "\n",
        "# словарь из двух списков\n",
        "\n",
        "keys = ['cat', 'dog']\n",
        "values = ['кошка', 'собака']\n",
        "value_dict = dict(zip(keys, values))"
      ],
      "metadata": {
        "id": "Ca5CMn4M6Wvt"
      },
      "execution_count": null,
      "outputs": []
    },
    {
      "cell_type": "code",
      "source": [
        "value_dict"
      ],
      "metadata": {
        "colab": {
          "base_uri": "https://localhost:8080/"
        },
        "id": "MvFuMX-e_YXn",
        "outputId": "f9a6d845-ecbc-4e63-af21-0c45df572fb6"
      },
      "execution_count": null,
      "outputs": [
        {
          "output_type": "execute_result",
          "data": {
            "text/plain": [
              "{'cat': 'кошка', 'dog': 'собака'}"
            ]
          },
          "metadata": {},
          "execution_count": 11
        }
      ]
    },
    {
      "cell_type": "code",
      "source": [
        "value_dict['cat']"
      ],
      "metadata": {
        "colab": {
          "base_uri": "https://localhost:8080/",
          "height": 36
        },
        "id": "k6CvOu0p_bDw",
        "outputId": "29001d1c-f4a1-4997-9ec5-128d295519d9"
      },
      "execution_count": null,
      "outputs": [
        {
          "output_type": "execute_result",
          "data": {
            "text/plain": [
              "'кошка'"
            ],
            "application/vnd.google.colaboratory.intrinsic+json": {
              "type": "string"
            }
          },
          "metadata": {},
          "execution_count": 13
        }
      ]
    },
    {
      "cell_type": "code",
      "source": [
        "number_dict = {'abcd' : [1, 2], True : 4, 3: 9}"
      ],
      "metadata": {
        "id": "A_FZ4Jt4_Q4A"
      },
      "execution_count": null,
      "outputs": []
    },
    {
      "cell_type": "code",
      "source": [
        "number_dict"
      ],
      "metadata": {
        "colab": {
          "base_uri": "https://localhost:8080/"
        },
        "id": "xGZ8zlQ5_W1l",
        "outputId": "c1d665dd-ce37-4587-f436-3b642272b7c5"
      },
      "execution_count": null,
      "outputs": [
        {
          "output_type": "execute_result",
          "data": {
            "text/plain": [
              "4"
            ]
          },
          "metadata": {},
          "execution_count": 9
        }
      ]
    },
    {
      "cell_type": "code",
      "source": [
        "dct  = {'cat': 'кошка', 'dog': \"собака\", 1 : 1, (1, 2) : [1, 2]}"
      ],
      "metadata": {
        "id": "DMH7ZtHhFvLr"
      },
      "execution_count": null,
      "outputs": []
    },
    {
      "cell_type": "code",
      "source": [
        "st = (1, 2, [1, 2])"
      ],
      "metadata": {
        "id": "G7ATw0iME46t"
      },
      "execution_count": null,
      "outputs": []
    },
    {
      "cell_type": "code",
      "source": [
        "hash(st)"
      ],
      "metadata": {
        "colab": {
          "base_uri": "https://localhost:8080/",
          "height": 141
        },
        "id": "90tqFN7dE-Qk",
        "outputId": "3e14791d-6778-4c58-ad79-ea9e7bb2b9a6"
      },
      "execution_count": null,
      "outputs": [
        {
          "output_type": "error",
          "ename": "TypeError",
          "evalue": "unhashable type: 'list'",
          "traceback": [
            "\u001b[0;31m---------------------------------------------------------------------------\u001b[0m",
            "\u001b[0;31mTypeError\u001b[0m                                 Traceback (most recent call last)",
            "\u001b[0;32m<ipython-input-134-7dbbc02e7414>\u001b[0m in \u001b[0;36m<cell line: 1>\u001b[0;34m()\u001b[0m\n\u001b[0;32m----> 1\u001b[0;31m \u001b[0mhash\u001b[0m\u001b[0;34m(\u001b[0m\u001b[0mst\u001b[0m\u001b[0;34m)\u001b[0m\u001b[0;34m\u001b[0m\u001b[0;34m\u001b[0m\u001b[0m\n\u001b[0m",
            "\u001b[0;31mTypeError\u001b[0m: unhashable type: 'list'"
          ]
        }
      ]
    },
    {
      "cell_type": "code",
      "source": [
        "list(zip(keys, values))"
      ],
      "metadata": {
        "id": "PiRX0rPJ97UN",
        "colab": {
          "base_uri": "https://localhost:8080/"
        },
        "outputId": "e88993c0-114b-4e95-ab1f-6a25ea55def0"
      },
      "execution_count": null,
      "outputs": [
        {
          "output_type": "execute_result",
          "data": {
            "text/plain": [
              "[('cat', 'кошка'), ('dog', 'собака')]"
            ]
          },
          "metadata": {},
          "execution_count": 114
        }
      ]
    },
    {
      "cell_type": "code",
      "source": [
        "value_dict.items() #список кортежей ключ - значение"
      ],
      "metadata": {
        "colab": {
          "base_uri": "https://localhost:8080/"
        },
        "id": "WboJqrlw6csQ",
        "outputId": "52fac171-bd77-456b-b584-3666e71bacf1"
      },
      "execution_count": null,
      "outputs": [
        {
          "output_type": "execute_result",
          "data": {
            "text/plain": [
              "dict_items([('cat', 'кошка'), ('dog', 'собака')])"
            ]
          },
          "metadata": {},
          "execution_count": 20
        }
      ]
    },
    {
      "cell_type": "code",
      "source": [
        "value_dict.keys()"
      ],
      "metadata": {
        "colab": {
          "base_uri": "https://localhost:8080/"
        },
        "id": "XOHo135q-BOn",
        "outputId": "d72fd1c7-7d49-48e8-aaff-bcdbeb4d8c73"
      },
      "execution_count": null,
      "outputs": [
        {
          "output_type": "execute_result",
          "data": {
            "text/plain": [
              "dict_keys(['cat', 'dog'])"
            ]
          },
          "metadata": {},
          "execution_count": 21
        }
      ]
    },
    {
      "cell_type": "code",
      "source": [
        "value_dict.values()"
      ],
      "metadata": {
        "colab": {
          "base_uri": "https://localhost:8080/"
        },
        "id": "_lYKDnQD-DQv",
        "outputId": "63e3fc6f-b5a0-4e0e-d6e3-5baa12626d8b"
      },
      "execution_count": null,
      "outputs": [
        {
          "output_type": "execute_result",
          "data": {
            "text/plain": [
              "dict_values(['кошка', 'собака'])"
            ]
          },
          "metadata": {},
          "execution_count": 22
        }
      ]
    },
    {
      "cell_type": "code",
      "source": [
        "value_dict[0]"
      ],
      "metadata": {
        "colab": {
          "base_uri": "https://localhost:8080/",
          "height": 141
        },
        "id": "u4aAsQp2uy0U",
        "outputId": "0439bac6-4c74-4529-d54f-cd0a36f288f6"
      },
      "execution_count": null,
      "outputs": [
        {
          "output_type": "error",
          "ename": "KeyError",
          "evalue": "0",
          "traceback": [
            "\u001b[0;31m---------------------------------------------------------------------------\u001b[0m",
            "\u001b[0;31mKeyError\u001b[0m                                  Traceback (most recent call last)",
            "\u001b[0;32m<ipython-input-12-4f9fe63bdd38>\u001b[0m in \u001b[0;36m<cell line: 1>\u001b[0;34m()\u001b[0m\n\u001b[0;32m----> 1\u001b[0;31m \u001b[0mvalue_dict\u001b[0m\u001b[0;34m[\u001b[0m\u001b[0;36m0\u001b[0m\u001b[0;34m]\u001b[0m\u001b[0;34m\u001b[0m\u001b[0;34m\u001b[0m\u001b[0m\n\u001b[0m",
            "\u001b[0;31mKeyError\u001b[0m: 0"
          ]
        }
      ]
    },
    {
      "cell_type": "code",
      "source": [
        "value_dict['bird']"
      ],
      "metadata": {
        "colab": {
          "base_uri": "https://localhost:8080/",
          "height": 141
        },
        "id": "qS1bXEub-FH9",
        "outputId": "00f69b1e-7394-4697-d6ae-9fe82f55fc74"
      },
      "execution_count": null,
      "outputs": [
        {
          "output_type": "error",
          "ename": "KeyError",
          "evalue": "'bird'",
          "traceback": [
            "\u001b[0;31m---------------------------------------------------------------------------\u001b[0m",
            "\u001b[0;31mKeyError\u001b[0m                                  Traceback (most recent call last)",
            "\u001b[0;32m<ipython-input-25-3166aa6f5515>\u001b[0m in \u001b[0;36m<cell line: 1>\u001b[0;34m()\u001b[0m\n\u001b[0;32m----> 1\u001b[0;31m \u001b[0mvalue_dict\u001b[0m\u001b[0;34m[\u001b[0m\u001b[0;34m'bird'\u001b[0m\u001b[0;34m]\u001b[0m\u001b[0;34m\u001b[0m\u001b[0;34m\u001b[0m\u001b[0m\n\u001b[0m",
            "\u001b[0;31mKeyError\u001b[0m: 'bird'"
          ]
        }
      ]
    },
    {
      "cell_type": "code",
      "source": [
        "value_dict.get('cat', '?')"
      ],
      "metadata": {
        "id": "UmY7hepE-RAO",
        "colab": {
          "base_uri": "https://localhost:8080/",
          "height": 36
        },
        "outputId": "c09c3425-1eed-4eb6-d2f8-71a164060236"
      },
      "execution_count": null,
      "outputs": [
        {
          "output_type": "execute_result",
          "data": {
            "text/plain": [
              "'кошка'"
            ],
            "application/vnd.google.colaboratory.intrinsic+json": {
              "type": "string"
            }
          },
          "metadata": {},
          "execution_count": 28
        }
      ]
    },
    {
      "cell_type": "code",
      "source": [
        "value_dict['cat'] = 'кошка'"
      ],
      "metadata": {
        "id": "HnkJUmHC_26E"
      },
      "execution_count": null,
      "outputs": []
    },
    {
      "cell_type": "code",
      "source": [],
      "metadata": {
        "id": "FChAbzsI_7xO"
      },
      "execution_count": null,
      "outputs": []
    },
    {
      "cell_type": "code",
      "source": [
        "value_dict['bird'] = 'птица'"
      ],
      "metadata": {
        "id": "Nt8Lg7R8-W72"
      },
      "execution_count": null,
      "outputs": []
    },
    {
      "cell_type": "code",
      "source": [
        "value_dict['bird'] = 'птицы'"
      ],
      "metadata": {
        "id": "J_sZul_h_-JE"
      },
      "execution_count": null,
      "outputs": []
    },
    {
      "cell_type": "code",
      "source": [
        "value_dict"
      ],
      "metadata": {
        "colab": {
          "base_uri": "https://localhost:8080/"
        },
        "id": "vEirBGe7AARA",
        "outputId": "f0e1bd01-3e62-4a1c-8d43-489b61507059"
      },
      "execution_count": null,
      "outputs": [
        {
          "output_type": "execute_result",
          "data": {
            "text/plain": [
              "{'cat': 'кошка', 'dog': 'собака', 'bird': 'птицы'}"
            ]
          },
          "metadata": {},
          "execution_count": 33
        }
      ]
    },
    {
      "cell_type": "code",
      "source": [
        "value_dict.get('bird')"
      ],
      "metadata": {
        "id": "iyk0DJqPvDFf"
      },
      "execution_count": null,
      "outputs": []
    },
    {
      "cell_type": "code",
      "source": [
        "value_dict.get('bird', '?')"
      ],
      "metadata": {
        "colab": {
          "base_uri": "https://localhost:8080/",
          "height": 36
        },
        "id": "PnMN-osc-bGw",
        "outputId": "f6cd3f92-de3b-4b0c-a4e0-4613f1d45690"
      },
      "execution_count": null,
      "outputs": [
        {
          "output_type": "execute_result",
          "data": {
            "text/plain": [
              "'?'"
            ],
            "application/vnd.google.colaboratory.intrinsic+json": {
              "type": "string"
            }
          },
          "metadata": {},
          "execution_count": 126
        }
      ]
    },
    {
      "cell_type": "code",
      "source": [
        "value_dict['bird'] = 'птица'"
      ],
      "metadata": {
        "id": "g0gLrYL8-g1H"
      },
      "execution_count": null,
      "outputs": []
    },
    {
      "cell_type": "code",
      "source": [
        "value_dict.get('bird', '?')"
      ],
      "metadata": {
        "colab": {
          "base_uri": "https://localhost:8080/",
          "height": 36
        },
        "id": "pubsuaEI-jo2",
        "outputId": "79811eed-1e9f-4cda-8703-e9993a199a6d"
      },
      "execution_count": null,
      "outputs": [
        {
          "output_type": "execute_result",
          "data": {
            "text/plain": [
              "'птица'"
            ],
            "application/vnd.google.colaboratory.intrinsic+json": {
              "type": "string"
            }
          },
          "metadata": {},
          "execution_count": 128
        }
      ]
    },
    {
      "cell_type": "markdown",
      "source": [],
      "metadata": {
        "id": "itG3w7Zfwslv"
      }
    },
    {
      "cell_type": "code",
      "source": [
        "value_dict"
      ],
      "metadata": {
        "colab": {
          "base_uri": "https://localhost:8080/"
        },
        "id": "KKITztVXws36",
        "outputId": "00c0e11b-c8e5-4a0d-f91e-b65c4136a8f1"
      },
      "execution_count": null,
      "outputs": [
        {
          "output_type": "execute_result",
          "data": {
            "text/plain": [
              "{'cat': 'кошка', 'dog': 'собака', 'bird': 'птица'}"
            ]
          },
          "metadata": {},
          "execution_count": 21
        }
      ]
    },
    {
      "cell_type": "code",
      "source": [
        "value_dict.update({\"two\": 'два', \"one\": 'один'})"
      ],
      "metadata": {
        "id": "qYcYPFz7wurB"
      },
      "execution_count": null,
      "outputs": []
    },
    {
      "cell_type": "code",
      "source": [
        "value_dict"
      ],
      "metadata": {
        "colab": {
          "base_uri": "https://localhost:8080/"
        },
        "id": "gt2GoIo_xmei",
        "outputId": "def4e0a5-37ca-4b08-8f78-08a6baaaf893"
      },
      "execution_count": null,
      "outputs": [
        {
          "output_type": "execute_result",
          "data": {
            "text/plain": [
              "{'cat': 'кошка', 'dog': 'собака', 'bird': 'птицы', 'two': 'два', 'one': 'один'}"
            ]
          },
          "metadata": {},
          "execution_count": 35
        }
      ]
    },
    {
      "cell_type": "code",
      "source": [
        "value_dict.pop('cat')"
      ],
      "metadata": {
        "colab": {
          "base_uri": "https://localhost:8080/",
          "height": 36
        },
        "id": "AQILatqPxnbO",
        "outputId": "3ce528cc-49f9-4338-f8c1-8c562a03e566"
      },
      "execution_count": null,
      "outputs": [
        {
          "output_type": "execute_result",
          "data": {
            "text/plain": [
              "'кошка'"
            ],
            "application/vnd.google.colaboratory.intrinsic+json": {
              "type": "string"
            }
          },
          "metadata": {},
          "execution_count": 137
        }
      ]
    },
    {
      "cell_type": "code",
      "source": [
        "value_dict"
      ],
      "metadata": {
        "colab": {
          "base_uri": "https://localhost:8080/"
        },
        "id": "AZDdJGyHxqUy",
        "outputId": "fd736ff6-07be-4fb1-925a-feb7c878c267"
      },
      "execution_count": null,
      "outputs": [
        {
          "output_type": "execute_result",
          "data": {
            "text/plain": [
              "{'dog': 'собака', 'bird': 'птица', 'two': 'два', 'one': 'один'}"
            ]
          },
          "metadata": {},
          "execution_count": 138
        }
      ]
    },
    {
      "cell_type": "code",
      "source": [
        "for key in value_dict:\n",
        "  print(key)"
      ],
      "metadata": {
        "id": "sfiocvo_vRcu",
        "colab": {
          "base_uri": "https://localhost:8080/"
        },
        "outputId": "deb61a90-9b13-43ab-a9c3-8ffcefe18fdf"
      },
      "execution_count": null,
      "outputs": [
        {
          "output_type": "stream",
          "name": "stdout",
          "text": [
            "dog\n",
            "bird\n",
            "two\n",
            "one\n"
          ]
        }
      ]
    },
    {
      "cell_type": "code",
      "source": [
        "for key in value_dict.keys():\n",
        "  print(key)"
      ],
      "metadata": {
        "id": "T2HcinBl-4bg",
        "colab": {
          "base_uri": "https://localhost:8080/"
        },
        "outputId": "9d4101da-bc06-422d-a9c3-623ddcd5d59a"
      },
      "execution_count": null,
      "outputs": [
        {
          "output_type": "stream",
          "name": "stdout",
          "text": [
            "dog\n",
            "bird\n",
            "two\n",
            "one\n"
          ]
        }
      ]
    },
    {
      "cell_type": "code",
      "source": [
        "value_dict.items()"
      ],
      "metadata": {
        "id": "4noUbS_J_BP2"
      },
      "execution_count": null,
      "outputs": []
    },
    {
      "cell_type": "code",
      "source": [
        "for key, value in value_dict.items():\n",
        "  print(key, value )"
      ],
      "metadata": {
        "id": "ftPq5WxX1qXN",
        "colab": {
          "base_uri": "https://localhost:8080/"
        },
        "outputId": "8c6ffa3d-3113-467b-bcf3-61834bca9fb2"
      },
      "execution_count": null,
      "outputs": [
        {
          "output_type": "stream",
          "name": "stdout",
          "text": [
            "dog собака\n",
            "bird птица\n",
            "two два\n",
            "one один\n"
          ]
        }
      ]
    },
    {
      "cell_type": "code",
      "source": [
        "a, b = (1, 2)"
      ],
      "metadata": {
        "id": "cRbjyV3NGidH"
      },
      "execution_count": null,
      "outputs": []
    },
    {
      "cell_type": "code",
      "source": [
        "a"
      ],
      "metadata": {
        "colab": {
          "base_uri": "https://localhost:8080/"
        },
        "id": "2TU1LoZoGj5K",
        "outputId": "2d37af76-7ca7-4295-f14b-b1dc5e138b8f"
      },
      "execution_count": null,
      "outputs": [
        {
          "output_type": "execute_result",
          "data": {
            "text/plain": [
              "1"
            ]
          },
          "metadata": {},
          "execution_count": 145
        }
      ]
    },
    {
      "cell_type": "code",
      "source": [
        "b"
      ],
      "metadata": {
        "colab": {
          "base_uri": "https://localhost:8080/"
        },
        "id": "pE1aN3mPGlRL",
        "outputId": "3a9540d4-3fca-420e-8108-2aec81191911"
      },
      "execution_count": null,
      "outputs": [
        {
          "output_type": "execute_result",
          "data": {
            "text/plain": [
              "2"
            ]
          },
          "metadata": {},
          "execution_count": 146
        }
      ]
    },
    {
      "cell_type": "code",
      "source": [
        " value_dict.items()"
      ],
      "metadata": {
        "colab": {
          "base_uri": "https://localhost:8080/"
        },
        "id": "XVI4yfh1Gena",
        "outputId": "47a02ed1-b078-4bdc-d681-6ff6fea22530"
      },
      "execution_count": null,
      "outputs": [
        {
          "output_type": "execute_result",
          "data": {
            "text/plain": [
              "dict_items([('dog', 'собака'), ('bird', 'птица'), ('two', 'два'), ('one', 'один')])"
            ]
          },
          "metadata": {},
          "execution_count": 143
        }
      ]
    },
    {
      "cell_type": "code",
      "source": [
        "for value in value_dict.values():\n",
        "  print( value )"
      ],
      "metadata": {
        "id": "45Do9Axo_I3w"
      },
      "execution_count": null,
      "outputs": []
    },
    {
      "cell_type": "code",
      "source": [
        "for key in value_dict.keys():\n",
        "  print(key)"
      ],
      "metadata": {
        "id": "spsPuQbj2Ad-"
      },
      "execution_count": null,
      "outputs": []
    },
    {
      "cell_type": "code",
      "source": [
        "value_dict.values() #список значений"
      ],
      "metadata": {
        "id": "CETS1N1O6dk3"
      },
      "execution_count": null,
      "outputs": []
    },
    {
      "cell_type": "code",
      "source": [
        "value_dict.keys() # список ключей"
      ],
      "metadata": {
        "id": "vsM7ZnVC67TP"
      },
      "execution_count": null,
      "outputs": []
    },
    {
      "cell_type": "code",
      "source": [
        "value_dict"
      ],
      "metadata": {
        "id": "BlG-yQNVFg7I"
      },
      "execution_count": null,
      "outputs": []
    },
    {
      "cell_type": "code",
      "source": [
        "value_dict['cat'] # обращение по ключу"
      ],
      "metadata": {
        "id": "vleDeokx8S-b"
      },
      "execution_count": null,
      "outputs": []
    },
    {
      "cell_type": "code",
      "source": [
        "value_dict.get('cat') # обращение по ключу"
      ],
      "metadata": {
        "id": "cQNf8Me678a9"
      },
      "execution_count": null,
      "outputs": []
    },
    {
      "cell_type": "code",
      "source": [
        "value_dict['bird'] # обращение по ключу, которого нет"
      ],
      "metadata": {
        "id": "ZCc0MKve8RtB"
      },
      "execution_count": null,
      "outputs": []
    },
    {
      "cell_type": "code",
      "source": [
        "value_dict.get('bird', 'Unknown')"
      ],
      "metadata": {
        "id": "yyg8O0Z58kLi"
      },
      "execution_count": null,
      "outputs": []
    },
    {
      "cell_type": "code",
      "source": [
        "value_dict.get('bird', '?')"
      ],
      "metadata": {
        "id": "e0id9lBQ8noW"
      },
      "execution_count": null,
      "outputs": []
    },
    {
      "cell_type": "code",
      "source": [
        "value_dict['bird'] = 'птица'"
      ],
      "metadata": {
        "id": "JjWspgTW8rz0"
      },
      "execution_count": null,
      "outputs": []
    },
    {
      "cell_type": "code",
      "source": [
        "value_dict.get('bird', 'Unknown')"
      ],
      "metadata": {
        "id": "y-e14hG-nPIe"
      },
      "execution_count": null,
      "outputs": []
    },
    {
      "cell_type": "markdown",
      "source": [
        "Давайте вспомним все типы данных, о которых говорили.\n",
        "\n",
        "|  |  |\n",
        "| :- | :- |\n",
        "| целое число | `int` |\n",
        "| вещественное число | `float` |\n",
        "| логическая переменная | `bool` |\n",
        "| **Упорядоченные типы данных** |\n",
        "| строка | `str` |\n",
        "| список | `lst` |\n",
        "| кортеж |`tuple` |\n",
        "| **Неупорядоченные типы данных** |\n",
        "| множество | `set` |\n",
        "| словарь |  `dict` |\n",
        "\n",
        "Изменяемость / неизменяемость:\n",
        "\n",
        "| Неизменяемые типы данных | Изменяемые типы данных |\n",
        "| --- | --- |\n",
        "| кортеж | список |\n",
        "| строки | множество\n",
        "| числа целые и вещественные | словарь |\n",
        "| логические переменные\n",
        "\n",
        "Об обращении к элементам:\n",
        "\n",
        "| Тип данных | Тип структуры данных | Как обращаемся к элементу внутри? |\n",
        "| --- | --- | --- |\n",
        "| кортежи | упорядоченный | по индексу |\n",
        "| списки |  упорядоченный | по индексу |\n",
        "| строки  | упорядоченный | по индексу |\n",
        "| множество | неупорядоченный | не можем обратиться к элементу |\n",
        "| Словари | неупорядоченный | по ключу\n"
      ],
      "metadata": {
        "id": "R8uyn6q3ovHo"
      }
    },
    {
      "cell_type": "markdown",
      "source": [
        "## Задачи"
      ],
      "metadata": {
        "id": "YRCDQw3o9DLz"
      }
    },
    {
      "cell_type": "markdown",
      "source": [
        "**Задача 2.**\n",
        "1. Вводится N - число студентов. Затем вводится N строк - фамилия студента и его оценка за экзамен через пробел. Создайте словарь, в котором ключами будет фамилия студента, значениями - оценка за экзамен.\n",
        "\n",
        "После этого на новой строке вводится фамилия студента. Выведите его оценку за экзамен."
      ],
      "metadata": {
        "id": "TdhA-CsPVzc5"
      }
    },
    {
      "cell_type": "code",
      "source": [
        "n = int(input())\n",
        "students = {}#dict()\n",
        "for i in range(n):\n",
        "  name, subject, mark = input().split()\n"
      ],
      "metadata": {
        "id": "A3Q2cF5CWn0e",
        "colab": {
          "base_uri": "https://localhost:8080/"
        },
        "outputId": "a91e0b38-dc90-43aa-fe4f-42aa2dca127e"
      },
      "execution_count": null,
      "outputs": [
        {
          "output_type": "stream",
          "name": "stdout",
          "text": [
            "5\n",
            "Иванов 7\n",
            "Петров 10\n",
            "Сидоров 8\n",
            "Королев 7\n",
            "Иванова 10\n",
            "{'Иванов': 7.0, 'Петров': 10.0, 'Сидоров': 8.0, 'Королев': 7.0, 'Иванова': 10.0}\n"
          ]
        }
      ]
    },
    {
      "cell_type": "markdown",
      "source": [
        "5\n",
        "\n",
        "Иванов питон 7\n",
        "\n",
        "Сидоров питон 8\n",
        "\n",
        "Иванов математика 10\n",
        "\n",
        "Сидоров математика 8\n",
        "\n",
        "Петров питон 7"
      ],
      "metadata": {
        "id": "eX9wkHOsAxyT"
      }
    },
    {
      "cell_type": "code",
      "source": [],
      "metadata": {
        "colab": {
          "base_uri": "https://localhost:8080/"
        },
        "id": "jUjIivSVAiKc",
        "outputId": "b9a6a353-7116-443a-da8e-b0222a8f142e"
      },
      "execution_count": null,
      "outputs": [
        {
          "output_type": "execute_result",
          "data": {
            "text/plain": [
              "['Иванов', '7']"
            ]
          },
          "metadata": {},
          "execution_count": 36
        }
      ]
    },
    {
      "cell_type": "code",
      "source": [
        "a, b = [1, 10]"
      ],
      "metadata": {
        "id": "lDesKmufAlGI"
      },
      "execution_count": null,
      "outputs": []
    },
    {
      "cell_type": "code",
      "source": [
        "a"
      ],
      "metadata": {
        "colab": {
          "base_uri": "https://localhost:8080/"
        },
        "id": "mPXeCPgfAmWn",
        "outputId": "41335497-6ef5-44cf-8a86-c5870015fda4"
      },
      "execution_count": null,
      "outputs": [
        {
          "output_type": "execute_result",
          "data": {
            "text/plain": [
              "1"
            ]
          },
          "metadata": {},
          "execution_count": 38
        }
      ]
    },
    {
      "cell_type": "code",
      "source": [
        "b"
      ],
      "metadata": {
        "colab": {
          "base_uri": "https://localhost:8080/"
        },
        "id": "uQp0XeKvAnPC",
        "outputId": "1c1a7908-9700-48b3-ec57-16ecac382f3b"
      },
      "execution_count": null,
      "outputs": [
        {
          "output_type": "execute_result",
          "data": {
            "text/plain": [
              "10"
            ]
          },
          "metadata": {},
          "execution_count": 39
        }
      ]
    },
    {
      "cell_type": "code",
      "source": [
        "\"Иванов 5\".split()"
      ],
      "metadata": {
        "colab": {
          "base_uri": "https://localhost:8080/"
        },
        "id": "XmENVJqcH1oK",
        "outputId": "62ff443b-7b1f-450c-f907-4b06ffe5c357"
      },
      "execution_count": null,
      "outputs": [
        {
          "output_type": "execute_result",
          "data": {
            "text/plain": [
              "['Иванов', '5']"
            ]
          },
          "metadata": {},
          "execution_count": 147
        }
      ]
    },
    {
      "cell_type": "markdown",
      "source": [
        "Иванов 5\n",
        "\n",
        "\n",
        "Петров 9"
      ],
      "metadata": {
        "id": "0Yb0CrsIHsqJ"
      }
    },
    {
      "cell_type": "markdown",
      "source": [
        "**Задача 3.**\n",
        "\n",
        "Аня и Саша планируют отдых.\n",
        "В первой строке вводится (через пробел) список городов, где хочет побывать Аня.\n",
        "Во второй строке вводится (через пробел) список городов, где хочет побывать Саша.\n",
        "В третьей строке вводится список городов, где в дни их отдыха будет плохая погода.\n",
        "\n",
        "Программа должна вывести список городов, где хотят побывать и Аня, и Саша и где при этом не будет плохой погоды."
      ],
      "metadata": {
        "id": "h-OWbAhmuxrV"
      }
    },
    {
      "cell_type": "code",
      "source": [
        "anna = set(input().split())\n",
        "sascha = set(input().split())\n",
        "bad_weather = set(input().split())\n",
        "print((anna & sascha) - bad_weather)"
      ],
      "metadata": {
        "colab": {
          "base_uri": "https://localhost:8080/"
        },
        "id": "iW1I5-9RIeE_",
        "outputId": "3e94c38d-1e1e-4061-d7b4-886682419a1b"
      },
      "execution_count": null,
      "outputs": [
        {
          "output_type": "stream",
          "name": "stdout",
          "text": [
            "Москва Питер Новгород\n",
            "Москва Тверь\n",
            "Питер\n",
            "{'Москва'}\n"
          ]
        }
      ]
    },
    {
      "cell_type": "code",
      "source": [
        "lst = ['Москва', 'Питер', 'Тверь']"
      ],
      "metadata": {
        "id": "zyaVuUE-JR5Q"
      },
      "execution_count": null,
      "outputs": []
    },
    {
      "cell_type": "code",
      "source": [
        "sorted({'Москва', 'Питер', 'Тверь'})"
      ],
      "metadata": {
        "colab": {
          "base_uri": "https://localhost:8080/"
        },
        "id": "3L-UrsHVJ0fZ",
        "outputId": "7b7d1fdf-dbaa-4828-b5af-880d2cec046a"
      },
      "execution_count": null,
      "outputs": [
        {
          "output_type": "execute_result",
          "data": {
            "text/plain": [
              "['Москва', 'Питер', 'Тверь']"
            ]
          },
          "metadata": {},
          "execution_count": 159
        }
      ]
    },
    {
      "cell_type": "code",
      "source": [
        "print(*lst, sep=', ')"
      ],
      "metadata": {
        "colab": {
          "base_uri": "https://localhost:8080/"
        },
        "id": "_m1iZjzAJcOT",
        "outputId": "ac460197-3b9f-421b-8979-b3bc336702ca"
      },
      "execution_count": null,
      "outputs": [
        {
          "output_type": "stream",
          "name": "stdout",
          "text": [
            "Москва, Питер, Тверь\n"
          ]
        }
      ]
    },
    {
      "cell_type": "code",
      "source": [
        "', '.join(lst)"
      ],
      "metadata": {
        "colab": {
          "base_uri": "https://localhost:8080/",
          "height": 36
        },
        "id": "VFkoUO0IJqJU",
        "outputId": "b12e96d6-214e-45e3-f8ed-d63328e373e9"
      },
      "execution_count": null,
      "outputs": [
        {
          "output_type": "execute_result",
          "data": {
            "text/plain": [
              "'Москва, Питер, Тверь'"
            ],
            "application/vnd.google.colaboratory.intrinsic+json": {
              "type": "string"
            }
          },
          "metadata": {},
          "execution_count": 156
        }
      ]
    },
    {
      "cell_type": "markdown",
      "source": [
        "**Задача 4**\n",
        "\n",
        "Во входной строке записана последовательность чисел через пробел. Для каждого числа выведите слово YES (в отдельной строке), если это число ранее встречалось в последовательности или NO, если не встречалось."
      ],
      "metadata": {
        "id": "slqn1xXQvQZe"
      }
    },
    {
      "cell_type": "code",
      "source": [
        "lst = list(map(int, input().split()))"
      ],
      "metadata": {
        "colab": {
          "base_uri": "https://localhost:8080/"
        },
        "id": "3-N64eqGJ_iN",
        "outputId": "ad8b07bc-f3fb-4bb1-92c9-b94b8e85f1c9"
      },
      "execution_count": null,
      "outputs": [
        {
          "name": "stdout",
          "output_type": "stream",
          "text": [
            "1 5 3 78 2 5 6 3 12 9 1 10\n"
          ]
        }
      ]
    },
    {
      "cell_type": "code",
      "source": [
        "our_set = set()\n",
        "for num in lst:\n",
        "  if num in our_set:\n",
        "    print('YES')\n",
        "  else:\n",
        "    print('NO')\n",
        "    our_set.add(num)"
      ],
      "metadata": {
        "colab": {
          "base_uri": "https://localhost:8080/"
        },
        "id": "ErCaO5x_KLzY",
        "outputId": "43f168f8-1c9f-4acd-b8f2-948c14e68316"
      },
      "execution_count": null,
      "outputs": [
        {
          "output_type": "stream",
          "name": "stdout",
          "text": [
            "NO\n",
            "NO\n",
            "NO\n",
            "NO\n",
            "NO\n",
            "YES\n",
            "NO\n",
            "YES\n",
            "NO\n",
            "NO\n",
            "YES\n",
            "NO\n"
          ]
        }
      ]
    },
    {
      "cell_type": "code",
      "source": [
        "our_set"
      ],
      "metadata": {
        "id": "ylCHmHSUK5jC",
        "outputId": "a9653fae-8490-43e8-9ae5-0ab06b9e78ff",
        "colab": {
          "base_uri": "https://localhost:8080/"
        }
      },
      "execution_count": null,
      "outputs": [
        {
          "output_type": "execute_result",
          "data": {
            "text/plain": [
              "{1, 2, 3, 5, 6, 9, 10, 12, 78}"
            ]
          },
          "metadata": {},
          "execution_count": 163
        }
      ]
    }
  ]
}