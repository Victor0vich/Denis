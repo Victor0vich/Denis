{
  "nbformat": 4,
  "nbformat_minor": 0,
  "metadata": {
    "colab": {
      "provenance": [],
      "include_colab_link": true
    },
    "kernelspec": {
      "name": "python3",
      "display_name": "Python 3"
    },
    "language_info": {
      "name": "python"
    }
  },
  "cells": [
    {
      "cell_type": "markdown",
      "metadata": {
        "id": "view-in-github",
        "colab_type": "text"
      },
      "source": [
        "<a href=\"https://colab.research.google.com/github/Victor0vich/Denis/blob/main/Lesson_1_ipynb_json.ipynb\" target=\"_parent\"><img src=\"https://colab.research.google.com/assets/colab-badge.svg\" alt=\"Open In Colab\"/></a>"
      ]
    },
    {
      "cell_type": "markdown",
      "source": [
        "## Функция print()"
      ],
      "metadata": {
        "id": "Bvii3S6CnegN"
      }
    },
    {
      "cell_type": "code",
      "source": [
        "print(\"Я люблю Data Science!\")"
      ],
      "metadata": {
        "id": "n_tjVuM0hs5c"
      },
      "execution_count": null,
      "outputs": []
    },
    {
      "cell_type": "code",
      "source": [
        "print(5 + 5 + 5 - 2)"
      ],
      "metadata": {
        "id": "eDNaeEjinpSl"
      },
      "execution_count": null,
      "outputs": []
    },
    {
      "cell_type": "markdown",
      "source": [
        "## Переменные"
      ],
      "metadata": {
        "id": "IrnDqMBHhp-t"
      }
    },
    {
      "cell_type": "code",
      "execution_count": null,
      "metadata": {
        "id": "M2NbSeWahh9p"
      },
      "outputs": [],
      "source": [
        "a = 5\n",
        "b = 10\n",
        "c = a + b\n",
        "print(c)"
      ]
    },
    {
      "cell_type": "code",
      "source": [
        "prefix = \"Здравствуй\"\n",
        "sufix = ', мой дорогой друг!'\n",
        "\n",
        "print(prefix + sufix)"
      ],
      "metadata": {
        "id": "hne6QlJboL2Q",
        "colab": {
          "base_uri": "https://localhost:8080/"
        },
        "outputId": "07accd3c-ba0b-4c27-d214-7d774f65bb25"
      },
      "execution_count": null,
      "outputs": [
        {
          "output_type": "stream",
          "name": "stdout",
          "text": [
            "Здравствуй, мой дорогой друг!\n"
          ]
        }
      ]
    },
    {
      "cell_type": "markdown",
      "source": [
        "## Операторы"
      ],
      "metadata": {
        "id": "UTJKL4UTr_kU"
      }
    },
    {
      "cell_type": "code",
      "source": [
        "print(5 + 5) # сумма"
      ],
      "metadata": {
        "id": "DxNhTPghs1b1"
      },
      "execution_count": null,
      "outputs": []
    },
    {
      "cell_type": "code",
      "source": [
        "print(12 - 3) # разность"
      ],
      "metadata": {
        "id": "4uBjtCx3s36-"
      },
      "execution_count": null,
      "outputs": []
    },
    {
      "cell_type": "code",
      "source": [
        "print(4 * 3) # умножение"
      ],
      "metadata": {
        "id": "-J6FJxUFs-UL"
      },
      "execution_count": null,
      "outputs": []
    },
    {
      "cell_type": "code",
      "source": [
        "print(5 / 2) # деление"
      ],
      "metadata": {
        "id": "K1ffrkb5s7Ug"
      },
      "execution_count": null,
      "outputs": []
    },
    {
      "cell_type": "code",
      "source": [
        "print(5 % 3) # остаток по модулю"
      ],
      "metadata": {
        "id": "MXzG-QlYtCqQ"
      },
      "execution_count": null,
      "outputs": []
    },
    {
      "cell_type": "code",
      "source": [
        "print(2 ** 3) # возведение в степень"
      ],
      "metadata": {
        "id": "60cmHNIFtpZf"
      },
      "execution_count": null,
      "outputs": []
    },
    {
      "cell_type": "code",
      "source": [
        "print(5 // 2) # целочисленное деление"
      ],
      "metadata": {
        "id": "JxxJyRVYuFR6"
      },
      "execution_count": null,
      "outputs": []
    },
    {
      "cell_type": "code",
      "source": [
        "print(\"Co\" + \"ol!\") # сложение строк"
      ],
      "metadata": {
        "id": "pPKXME67uion"
      },
      "execution_count": null,
      "outputs": []
    },
    {
      "cell_type": "code",
      "source": [
        "print('python ' * 5) # умножение строк"
      ],
      "metadata": {
        "id": "kgce1OcSsCFL"
      },
      "execution_count": null,
      "outputs": []
    },
    {
      "cell_type": "markdown",
      "source": [
        "## Функция input()"
      ],
      "metadata": {
        "id": "ryVFGuGswqty"
      }
    },
    {
      "cell_type": "code",
      "source": [
        "a = input('Введите слово: ')\n",
        "print('Ваше слово:')\n",
        "print(a)"
      ],
      "metadata": {
        "id": "2ABaJIohwxOT",
        "colab": {
          "base_uri": "https://localhost:8080/"
        },
        "outputId": "382e1362-565e-423d-c55c-5231447b5784"
      },
      "execution_count": null,
      "outputs": [
        {
          "output_type": "stream",
          "name": "stdout",
          "text": [
            "Введите слово: собака\n",
            "Ваше слово:\n",
            "собака\n"
          ]
        }
      ]
    },
    {
      "cell_type": "code",
      "source": [
        "number_1 = int(input('Введите первое целое число: '))\n",
        "number_2 = int(input('Введите второе целое число: '))\n",
        "\n",
        "print('Сумма двух чисел:')\n",
        "print(number_1 + number_2)"
      ],
      "metadata": {
        "id": "KLl05mAryTHj"
      },
      "execution_count": null,
      "outputs": []
    },
    {
      "cell_type": "markdown",
      "source": [
        "## Условные операторы if-else"
      ],
      "metadata": {
        "id": "nAEBgfmbwRNl"
      }
    },
    {
      "cell_type": "code",
      "source": [
        "a = 10\n",
        "\n",
        "if a > 5:\n",
        "  print('a больше пяти')\n",
        "else:\n",
        "  print('a меньше или равно пяти')"
      ],
      "metadata": {
        "id": "KRYRSyI_wUok"
      },
      "execution_count": null,
      "outputs": []
    },
    {
      "cell_type": "code",
      "source": [
        "choice = 'pizza'\n",
        "\n",
        "if choice == 'sushi':\n",
        "  print('Great choice!')\n",
        "elif choice == 'pasta':\n",
        "  print('Good choice')\n",
        "else:\n",
        "  print('Not an excellent choice')"
      ],
      "metadata": {
        "id": "cNuK7u9rzJJk"
      },
      "execution_count": null,
      "outputs": []
    },
    {
      "cell_type": "markdown",
      "source": [
        "# **ДЗ 1**"
      ],
      "metadata": {
        "id": "T86uRwEjrVIZ"
      }
    },
    {
      "cell_type": "markdown",
      "source": [
        "[Ссылка на контест](https://contest.yandex.ru/contest/53104)"
      ],
      "metadata": {
        "id": "8nJqlS8nrbDk"
      }
    }
  ]
}