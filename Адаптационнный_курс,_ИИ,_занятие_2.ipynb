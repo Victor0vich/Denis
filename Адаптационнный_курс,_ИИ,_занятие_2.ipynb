{
  "nbformat": 4,
  "nbformat_minor": 0,
  "metadata": {
    "colab": {
      "provenance": [],
      "include_colab_link": true
    },
    "kernelspec": {
      "name": "python3",
      "display_name": "Python 3"
    },
    "language_info": {
      "name": "python"
    }
  },
  "cells": [
    {
      "cell_type": "markdown",
      "metadata": {
        "id": "view-in-github",
        "colab_type": "text"
      },
      "source": [
        "<a href=\"https://colab.research.google.com/github/Victor0vich/Denis/blob/main/%D0%90%D0%B4%D0%B0%D0%BF%D1%82%D0%B0%D1%86%D0%B8%D0%BE%D0%BD%D0%BD%D0%BD%D1%8B%D0%B9_%D0%BA%D1%83%D1%80%D1%81%2C_%D0%98%D0%98%2C_%D0%B7%D0%B0%D0%BD%D1%8F%D1%82%D0%B8%D0%B5_2.ipynb\" target=\"_parent\"><img src=\"https://colab.research.google.com/assets/colab-badge.svg\" alt=\"Open In Colab\"/></a>"
      ]
    },
    {
      "cell_type": "markdown",
      "source": [
        "# Занятие 2. Списки и кортежи. Циклы for и while\n",
        "\n",
        "\n",
        "#### Программа адаптационного курса\n",
        "* (23 августа) Введение, типы данных, условный оператор\n",
        "* **(27 августа) Циклы, списки, кортежи, строки**\n",
        "* (29 августа) Множества, словари   \n",
        "\n",
        "**План занятия**:\n",
        "\n",
        "1. Цикл while\n",
        "2. Списки, кортежи\n",
        "3. Методы строк и списков\n",
        "4. Цикл for\n"
      ],
      "metadata": {
        "id": "q4Y0eL5GfSn4"
      }
    },
    {
      "cell_type": "markdown",
      "source": [
        "### Цикл while\n",
        "\n",
        " Цикл while используется для того, чтобы повторять определенный блок кода до тех пор, пока выполнено какое-то условие.\n",
        "\n",
        " При выполнении цикла **while** сначала проверяется условие. Если оно ложно, то выполнение цикла прекращается и управление передается на следующую инструкцию после тела цикла **while**. Если условие истинно, то выполняется инструкция, после чего условие проверяется снова и снова выполняется инструкция. Так продолжается до тех пор, пока условие будет истинно. Как только условие станет ложно, работа цикла завершится и управление передастся следующей инструкции после цикла.\n",
        "\n",
        "while <<условие>> :  \n",
        "&nbsp;&nbsp;&nbsp;&nbsp;<<блок инструкций>>  \n",
        "\n",
        "**Else**\n",
        "\n",
        "После тела цикла можно написать **else**: после него следует блок операций, который будет выполнен _один раз_ после окончания цикла, когда проверяемое условие станет неверно.  \n",
        "\n",
        "while _условие_ :  \n",
        "&nbsp;&nbsp;&nbsp;&nbsp;_блок инструкций 1_  \n",
        "else:  \n",
        "&nbsp;&nbsp;&nbsp;&nbsp;_блок инструкций 2_\n",
        "\n",
        "**Break**\n",
        "\n",
        "Если во время выполнения Питон встречает инструкцию **break** внутри цикла, то он сразу же прекращает выполнение этого цикла и выходит из него. При этом ветка **else** исполняться не будет. Инструкцию **break** осмыленно вызывать внутри инструкции **if**, то есть она должна выполняться только при выполнении какого-то условия.  \n",
        "while _условие_:  \n",
        "&nbsp;&nbsp;&nbsp;&nbsp; _блок инструкций_  \n",
        "&nbsp;&nbsp;&nbsp;&nbsp;if _условие выхода из цикла_:  \n",
        "&nbsp;&nbsp;&nbsp;&nbsp;&nbsp;&nbsp;&nbsp;&nbsp;break  \n",
        "else:  \n",
        "&nbsp;&nbsp;&nbsp;&nbsp;_блок инструкций_\n",
        "  \n",
        "  \n",
        "**Continue**\n",
        "\n",
        "Инструкция **continue** возвращает управление в начало цикла. То есть **continue** позволяет «перепрыгнуть» оставшиеся выражения в цикле и перейти к следующей итерации.\n"
      ],
      "metadata": {
        "id": "8rxaRF2qcHKM"
      }
    },
    {
      "cell_type": "code",
      "source": [],
      "metadata": {
        "id": "8_aqgInRliCd"
      },
      "execution_count": null,
      "outputs": []
    },
    {
      "cell_type": "markdown",
      "source": [
        "**Задача 1**\n",
        "Пользователь вводит число N.\n",
        "Используя цикл while, выведите на экран для числа N его степени от 0 до 10."
      ],
      "metadata": {
        "id": "VP0PJTzOcfKo"
      }
    },
    {
      "cell_type": "code",
      "source": [
        "n = int(input())\n",
        "i = 0\n",
        "while i <= 10:\n",
        "  print(n**i)\n",
        "  i += 1 #i = i + 1"
      ],
      "metadata": {
        "id": "HWgxyKoqcgQA",
        "colab": {
          "base_uri": "https://localhost:8080/"
        },
        "outputId": "b2345907-88b2-4c87-ceb9-5dfc98656fe2"
      },
      "execution_count": null,
      "outputs": [
        {
          "output_type": "stream",
          "name": "stdout",
          "text": [
            "2\n",
            "1\n",
            "2\n",
            "4\n",
            "8\n",
            "16\n",
            "32\n",
            "64\n",
            "128\n",
            "256\n",
            "512\n",
            "1024\n"
          ]
        }
      ]
    },
    {
      "cell_type": "markdown",
      "source": [
        "**Задача 2**\n",
        "Пользователь вводит элементы последовательности - вещественные числа (каждое с новой строки). У него запрашивают числа до тех пор, пока он не введет число 0. Гарантируется, что до 0 будет введено хотя бы одно число.\n",
        "\n",
        "Определите сумму всех элементов последовательности, количество элементов, минимальное и максимальное число, среднее значение.\n",
        "\n",
        "Число 0 не считается членом последовательности, он просто означает конец ввода."
      ],
      "metadata": {
        "id": "eodnvUcCcjZV"
      }
    },
    {
      "cell_type": "code",
      "source": [
        "n = float(input())\n",
        "s = 0\n",
        "counter = 0\n",
        "min_number = n\n",
        "max_number = n\n",
        "while n != 0:\n",
        "   s += n #s = s + n\n",
        "   counter += 1\n",
        "   if n < min_number:\n",
        "       min_number = n\n",
        "   elif n > max_number:\n",
        "       max_number = n\n",
        "   n = float(input())\n",
        "print(s, counter, min_number, max_number, s / counter)"
      ],
      "metadata": {
        "id": "DMXV1q7Ccp2D",
        "colab": {
          "base_uri": "https://localhost:8080/"
        },
        "outputId": "20fa6778-860f-4d49-fee8-33a6c2fb7188"
      },
      "execution_count": null,
      "outputs": [
        {
          "output_type": "stream",
          "name": "stdout",
          "text": [
            "6\n",
            "8\n",
            "12\n",
            "7\n",
            "0\n",
            "33.0 4 6.0 12.0 8.25\n"
          ]
        }
      ]
    },
    {
      "cell_type": "markdown",
      "source": [
        "**Задача 3**\n",
        "Напишите программу, которая будет задавать пароль пользователя.\n",
        "\n",
        "Вначале программа запрашивает у пользователя пароль. Если длина пароля менее 10 символов, программа сообщает о некорректности пароля и запрашивает пароль снова. Если пароль корректен, программа выводит \"Пароль установлен\", и выполнение цикла завершается."
      ],
      "metadata": {
        "id": "FTE4AGIsct7v"
      }
    },
    {
      "cell_type": "code",
      "source": [
        "password = input()\n",
        "counter = 1\n",
        "while len(password) < 10:\n",
        "  print('Пароль некорректен')\n",
        "  if counter > 5:\n",
        "    print('У вас закончились попытки')\n",
        "    break\n",
        "  password = input()\n",
        "  counter += 1\n",
        "else:\n",
        "  print('Пароль установлен')"
      ],
      "metadata": {
        "id": "oF3kjItzdWGk",
        "colab": {
          "base_uri": "https://localhost:8080/"
        },
        "outputId": "0d8f3468-8ec8-4d37-da1c-4d1b0241411b"
      },
      "execution_count": null,
      "outputs": [
        {
          "output_type": "stream",
          "name": "stdout",
          "text": [
            "avc\n",
            "Пароль некорректен\n",
            "fdsfd\n",
            "Пароль некорректен\n",
            "dddd\n",
            "Пароль некорректен\n",
            "ddddd\n",
            "Пароль некорректен\n",
            "dddd\n",
            "Пароль некорректен\n",
            "ddddd\n",
            "Пароль некорректен\n",
            "У вас закончились попытки\n"
          ]
        }
      ]
    },
    {
      "cell_type": "markdown",
      "source": [],
      "metadata": {
        "id": "rwXssgkydT9Z"
      }
    },
    {
      "cell_type": "code",
      "source": [],
      "metadata": {
        "id": "BdsmPLGZdVJl",
        "colab": {
          "base_uri": "https://localhost:8080/",
          "height": 141
        },
        "outputId": "04cf7fbb-4a36-4e57-baa7-54794fd14450"
      },
      "execution_count": null,
      "outputs": [
        {
          "output_type": "error",
          "ename": "TypeError",
          "evalue": "'<' not supported between instances of 'str' and 'int'",
          "traceback": [
            "\u001b[0;31m---------------------------------------------------------------------------\u001b[0m",
            "\u001b[0;31mTypeError\u001b[0m                                 Traceback (most recent call last)",
            "\u001b[0;32m<ipython-input-13-d27f718d5230>\u001b[0m in \u001b[0;36m<cell line: 1>\u001b[0;34m()\u001b[0m\n\u001b[0;32m----> 1\u001b[0;31m \u001b[0;34m'abcdeff'\u001b[0m \u001b[0;34m<\u001b[0m \u001b[0;36m10\u001b[0m\u001b[0;34m\u001b[0m\u001b[0;34m\u001b[0m\u001b[0m\n\u001b[0m",
            "\u001b[0;31mTypeError\u001b[0m: '<' not supported between instances of 'str' and 'int'"
          ]
        }
      ]
    },
    {
      "cell_type": "markdown",
      "source": [
        "#### Задачи для самостоятельного решения\n",
        "\n",
        "#### 1.\n",
        " Пользователь вводит элементы последовательности - целые числа (каждое с новой строки). У него запрашивают числа до тех пор, пока он не введет число 0. Гарантируется, что до 0 будет введено хотя бы одно число.\n",
        "\n",
        "Определите количество чисел в последовательности, которые делятся на 7.\n",
        "\n",
        "Число 0 не считается членом последовательности, он просто означает конец ввода\n",
        "\n",
        "#### 2.\n",
        "Студенты магистратуры делают домашнюю работу. Чтобы не забыть про дедлайн, они поставили себе таймер, который каждый день напоминает им о дедлайне.\n",
        "Напишите программу, которая принимает на вход натуральное число N (количество дней до дедлайна) и печатает N строк \"Дней до дедлайна: i\", где i - N, N-...2, 1, а затем печатает \"Не забудь сдать ДЗ!\"\n",
        "Например, при вводе числа 3 вывод будет следующим:\n",
        "\n",
        "Дней до дедлайна: 3    \n",
        "Дней до дедлайна: 2    \n",
        "Дней до дедлайна: 1    \n",
        "Не забудь сдать ДЗ!    \n",
        "\n",
        "#### 3.\n",
        "Пользователь вводит слова — каждое с новой строки. У него запрашивают слова до тех пор, пока он не введет слово \"END\". Посчитайте общую длину всех введенных слов. Слово \"END\" не считается частью последовательности, оно просто означает конец ввода."
      ],
      "metadata": {
        "id": "0umihRJFdUQa"
      }
    },
    {
      "cell_type": "markdown",
      "source": [
        "### Списки и кортежи\n",
        "\n"
      ],
      "metadata": {
        "id": "t02J5McYc1Bc"
      }
    },
    {
      "cell_type": "markdown",
      "source": [
        "Сегодня мы начинаем изучение сложных структур данных.\n",
        "Одним из  важных видов сложных типов данных являются коллекции. Коллекции позволяют хранить множество элементов, которые могут быть упорядочены или неупорядочены. Python предоставляет различные типы коллекций, такие как списки, кортежи, множества и словари. Каждый из этих типов имеет свои особенности и предназначен для решения разных задач.\n",
        "\n",
        "\n",
        "Списки — упорядоченная колллекция данных:\n",
        "* поддерживают индексацию и срезы\n",
        "* изменяемые (после создания списка можно добавлять и удалять элементы, менять значения элементов)\n",
        "\n",
        "Список можно создать, заключив его элементы в квадратные скобки `[]` или с помощью встроенной функцией list.\n"
      ],
      "metadata": {
        "id": "jOxim6r2W-3-"
      }
    },
    {
      "cell_type": "code",
      "source": [
        "numbers = [1, 7, 3, 19, 5, 34, 0, -1]"
      ],
      "metadata": {
        "id": "LUDFzJSXYjiK"
      },
      "execution_count": null,
      "outputs": []
    },
    {
      "cell_type": "code",
      "source": [
        "numbers = [1, 7, 3, 19, 5, 34, 0, -1]\n",
        "words = ['word1', 'word2', 'word3']\n",
        "empty_list = list() # empty_list = []\n",
        "lst = [1, 'word1', False, [1, 2, 3]]\n",
        "print(numbers, words, empty_list, lst, sep='\\n')"
      ],
      "metadata": {
        "colab": {
          "base_uri": "https://localhost:8080/"
        },
        "id": "_dkL_853W1YA",
        "outputId": "850142e4-07a9-43a7-96ae-2f8623365af3"
      },
      "execution_count": null,
      "outputs": [
        {
          "output_type": "stream",
          "name": "stdout",
          "text": [
            "[1, 7, 3, 19, 5, 34, 0, -1]\n",
            "['word1', 'word2', 'word3']\n",
            "[]\n",
            "[1, 'word1', False, [1, 2, 3]]\n"
          ]
        }
      ]
    },
    {
      "cell_type": "markdown",
      "source": [
        "Обращение по элементу:"
      ],
      "metadata": {
        "id": "kS6yq-1Ehtdv"
      }
    },
    {
      "cell_type": "code",
      "source": [
        "print(numbers[0], numbers[4])"
      ],
      "metadata": {
        "colab": {
          "base_uri": "https://localhost:8080/"
        },
        "id": "bVkErUH5m6Qb",
        "outputId": "8cd114d3-7d04-4ece-e6c5-de7929731688"
      },
      "execution_count": null,
      "outputs": [
        {
          "output_type": "stream",
          "name": "stdout",
          "text": [
            "1 5\n"
          ]
        }
      ]
    },
    {
      "cell_type": "code",
      "source": [
        "words"
      ],
      "metadata": {
        "colab": {
          "base_uri": "https://localhost:8080/"
        },
        "id": "U6yFAEq7s9Dp",
        "outputId": "e5233398-a191-470c-96de-a43291d79474"
      },
      "execution_count": null,
      "outputs": [
        {
          "output_type": "execute_result",
          "data": {
            "text/plain": [
              "['word1', 'word2', 'word3']"
            ]
          },
          "metadata": {},
          "execution_count": 32
        }
      ]
    },
    {
      "cell_type": "code",
      "source": [
        "words[2][1]"
      ],
      "metadata": {
        "colab": {
          "base_uri": "https://localhost:8080/",
          "height": 36
        },
        "id": "f4QtRyiYs-gs",
        "outputId": "3667373f-648b-479a-9613-bf36ed85cb3f"
      },
      "execution_count": null,
      "outputs": [
        {
          "output_type": "execute_result",
          "data": {
            "text/plain": [
              "'o'"
            ],
            "application/vnd.google.colaboratory.intrinsic+json": {
              "type": "string"
            }
          },
          "metadata": {},
          "execution_count": 34
        }
      ]
    },
    {
      "cell_type": "code",
      "source": [
        "print(words[0], words[2], words[2][1])"
      ],
      "metadata": {
        "colab": {
          "base_uri": "https://localhost:8080/"
        },
        "id": "IIjdjqBinJpm",
        "outputId": "5e857fac-953a-47ec-8627-6655fd3e3291"
      },
      "execution_count": null,
      "outputs": [
        {
          "output_type": "stream",
          "name": "stdout",
          "text": [
            "word1 word3 o\n"
          ]
        }
      ]
    },
    {
      "cell_type": "code",
      "source": [
        "print(lst[2], lst[3])"
      ],
      "metadata": {
        "colab": {
          "base_uri": "https://localhost:8080/"
        },
        "id": "KSOty6w2nLOY",
        "outputId": "a42e29b3-d154-47f2-a721-4533a62e0b0b"
      },
      "execution_count": null,
      "outputs": [
        {
          "output_type": "stream",
          "name": "stdout",
          "text": [
            "False [1, 2, 3]\n"
          ]
        }
      ]
    },
    {
      "cell_type": "code",
      "source": [
        "lst = [1, 'word1', False, [1, 2, 3]]"
      ],
      "metadata": {
        "id": "GgoCDCz5sStR"
      },
      "execution_count": null,
      "outputs": []
    },
    {
      "cell_type": "code",
      "source": [
        "lst[3][1]"
      ],
      "metadata": {
        "colab": {
          "base_uri": "https://localhost:8080/"
        },
        "id": "buYziJ7onSUI",
        "outputId": "6f104a4c-a86a-4c80-8179-1af59144814b"
      },
      "execution_count": null,
      "outputs": [
        {
          "output_type": "execute_result",
          "data": {
            "text/plain": [
              "2"
            ]
          },
          "metadata": {},
          "execution_count": 22
        }
      ]
    },
    {
      "cell_type": "markdown",
      "source": [
        "Примеры действий со списками:\n",
        "\n",
        "* сложение"
      ],
      "metadata": {
        "id": "RHpFyrvcXQl7"
      }
    },
    {
      "cell_type": "code",
      "source": [
        "numbers + words"
      ],
      "metadata": {
        "colab": {
          "base_uri": "https://localhost:8080/"
        },
        "id": "rM8fKfcWXRX1",
        "outputId": "5475066e-1c7f-4b94-ac30-631766667a39"
      },
      "execution_count": null,
      "outputs": [
        {
          "output_type": "execute_result",
          "data": {
            "text/plain": [
              "[1, 7, 3, 19, 5, 34, 0, -1, 'word1', 'word2', 'word3']"
            ]
          },
          "metadata": {},
          "execution_count": 23
        }
      ]
    },
    {
      "cell_type": "markdown",
      "source": [
        "* умножение на число"
      ],
      "metadata": {
        "id": "_OIuxy7vXhbj"
      }
    },
    {
      "cell_type": "code",
      "source": [
        "numbers * 2"
      ],
      "metadata": {
        "colab": {
          "base_uri": "https://localhost:8080/"
        },
        "id": "-qZiA1yAXg0z",
        "outputId": "9c8292f3-51a1-4c5d-8d42-b89fbb4d96fd"
      },
      "execution_count": null,
      "outputs": [
        {
          "output_type": "execute_result",
          "data": {
            "text/plain": [
              "[1, 7, 3, 19, 5, 34, 0, -1, 1, 7, 3, 19, 5, 34, 0, -1]"
            ]
          },
          "metadata": {},
          "execution_count": 24
        }
      ]
    },
    {
      "cell_type": "code",
      "source": [
        "numbers"
      ],
      "metadata": {
        "colab": {
          "base_uri": "https://localhost:8080/"
        },
        "id": "EJ5lq5exshKS",
        "outputId": "eac3f828-5ea0-4473-d663-22b15ba9555a"
      },
      "execution_count": null,
      "outputs": [
        {
          "output_type": "execute_result",
          "data": {
            "text/plain": [
              "[1, 7, 3, 19, 5, 34, 0, -1]"
            ]
          },
          "metadata": {},
          "execution_count": 27
        }
      ]
    },
    {
      "cell_type": "markdown",
      "source": [
        "* обращение к элементу по индексу (нумерация с элементов списка начинается с  0 )\n",
        "* обращение сразу к нескольким элементам (slice)"
      ],
      "metadata": {
        "id": "ZyqUQE8eXm1T"
      }
    },
    {
      "cell_type": "code",
      "source": [
        "print(numbers[0])\n",
        "print(numbers[1])\n",
        "print(numbers[2])\n",
        "print(numbers[1:4]) # левая граница включается, правая - нет\n",
        "print(numbers[1:9:2])\n",
        "print(numbers[:2])\n",
        "print(numbers[1:])"
      ],
      "metadata": {
        "colab": {
          "base_uri": "https://localhost:8080/"
        },
        "id": "PxGl9HLDXt2u",
        "outputId": "cfa1e9fb-a5f4-46eb-983a-53a4d4f85a3f"
      },
      "execution_count": null,
      "outputs": [
        {
          "output_type": "stream",
          "name": "stdout",
          "text": [
            "1\n",
            "7\n",
            "3\n",
            "[7, 3, 19]\n",
            "[7, 19, 34, -1]\n",
            "[1, 7]\n",
            "[7, 3, 19, 5, 34, 0, -1]\n"
          ]
        }
      ]
    },
    {
      "cell_type": "code",
      "source": [
        "print(numbers[25]) # попытка обратиться к несуществующему элементу"
      ],
      "metadata": {
        "colab": {
          "base_uri": "https://localhost:8080/",
          "height": 141
        },
        "id": "z8gVWxBEYc0y",
        "outputId": "84930529-2fbe-42d1-dcb5-c53a34d8009d"
      },
      "execution_count": null,
      "outputs": [
        {
          "output_type": "error",
          "ename": "IndexError",
          "evalue": "list index out of range",
          "traceback": [
            "\u001b[0;31m---------------------------------------------------------------------------\u001b[0m",
            "\u001b[0;31mIndexError\u001b[0m                                Traceback (most recent call last)",
            "\u001b[0;32m<ipython-input-29-9723123a0c42>\u001b[0m in \u001b[0;36m<cell line: 1>\u001b[0;34m()\u001b[0m\n\u001b[0;32m----> 1\u001b[0;31m \u001b[0mprint\u001b[0m\u001b[0;34m(\u001b[0m\u001b[0mnumbers\u001b[0m\u001b[0;34m[\u001b[0m\u001b[0;36m25\u001b[0m\u001b[0;34m]\u001b[0m\u001b[0;34m)\u001b[0m \u001b[0;31m# попытка обратиться к несуществующему элементу\u001b[0m\u001b[0;34m\u001b[0m\u001b[0;34m\u001b[0m\u001b[0m\n\u001b[0m",
            "\u001b[0;31mIndexError\u001b[0m: list index out of range"
          ]
        }
      ]
    },
    {
      "cell_type": "markdown",
      "source": [
        "Наличие элемента в списке"
      ],
      "metadata": {
        "id": "9wlZ6bWtcnnu"
      }
    },
    {
      "cell_type": "code",
      "source": [
        "lst = [1, 3, 6, 19, 2]\n",
        "print(2 in lst)\n",
        "print(5 in lst)"
      ],
      "metadata": {
        "colab": {
          "base_uri": "https://localhost:8080/"
        },
        "id": "Khkn6TOycpTK",
        "outputId": "85514b7e-475f-4172-bd38-a2050e93e037"
      },
      "execution_count": null,
      "outputs": [
        {
          "output_type": "stream",
          "name": "stdout",
          "text": [
            "True\n",
            "False\n"
          ]
        }
      ]
    },
    {
      "cell_type": "code",
      "source": [
        "'bc' in 'abcdefg'"
      ],
      "metadata": {
        "colab": {
          "base_uri": "https://localhost:8080/"
        },
        "id": "Tp1DWhz8Zp2i",
        "outputId": "51f31284-1bf5-4832-a6f2-868596108278"
      },
      "execution_count": null,
      "outputs": [
        {
          "output_type": "execute_result",
          "data": {
            "text/plain": [
              "True"
            ]
          },
          "metadata": {},
          "execution_count": 31
        }
      ]
    },
    {
      "cell_type": "markdown",
      "source": [
        "### Кортежи\n",
        "\n",
        "Упорядоченные и неизменяемые коллекции"
      ],
      "metadata": {
        "id": "aWv6OxMEiouI"
      }
    },
    {
      "cell_type": "code",
      "source": [
        "numbers_tpl = (1, 7, 3, 19, 5, 34, 0, -1)\n",
        "words_tpl = ('word1', 'word2', 'word3')\n",
        "tpl = ('word1', 1, False)"
      ],
      "metadata": {
        "id": "G84cdES3itRz"
      },
      "execution_count": null,
      "outputs": []
    },
    {
      "cell_type": "markdown",
      "source": [
        "Действия с кортежами:\n",
        "* обращение по индексу / срез\n",
        "* сложение, умножение на число"
      ],
      "metadata": {
        "id": "irsbLvTtjQU4"
      }
    },
    {
      "cell_type": "code",
      "source": [
        "numbers_tpl + words_tpl"
      ],
      "metadata": {
        "colab": {
          "base_uri": "https://localhost:8080/"
        },
        "id": "qOs-X7Yri4ip",
        "outputId": "27e5523d-ff9c-4d51-820d-8c74fa5e7096"
      },
      "execution_count": null,
      "outputs": [
        {
          "output_type": "execute_result",
          "data": {
            "text/plain": [
              "(1, 7, 3, 19, 5, 34, 0, -1, 'word1', 'word2', 'word3')"
            ]
          },
          "metadata": {},
          "execution_count": 36
        }
      ]
    },
    {
      "cell_type": "markdown",
      "source": [
        "* `len(s)`\tдлина (количество элементов) `s`\n",
        "* `sum(s)`\tсумма чисел в `s`. Можно брать от\t`list/tuple`\n",
        "* `min(s)`\tнаименьший элемент `s`. Можно брать от\t`list/tuple`\n",
        "* `max(s)`\tнаибольший элемент `s`. Можно брать от\t`list/tuple`"
      ],
      "metadata": {
        "id": "WKvJC_b-cyfO"
      }
    },
    {
      "cell_type": "code",
      "source": [
        "lst = [1, 3, 2]"
      ],
      "metadata": {
        "id": "CwbrcgtqtfQz"
      },
      "execution_count": null,
      "outputs": []
    },
    {
      "cell_type": "code",
      "source": [
        "lst[1] = 30"
      ],
      "metadata": {
        "id": "34cpG4Ssth_6"
      },
      "execution_count": null,
      "outputs": []
    },
    {
      "cell_type": "code",
      "source": [
        "lst"
      ],
      "metadata": {
        "colab": {
          "base_uri": "https://localhost:8080/"
        },
        "id": "2fWVW3CUtleb",
        "outputId": "690d0058-2b33-4cc2-bd80-f6538a23703a"
      },
      "execution_count": null,
      "outputs": [
        {
          "output_type": "execute_result",
          "data": {
            "text/plain": [
              "[1, 30, 2]"
            ]
          },
          "metadata": {},
          "execution_count": 39
        }
      ]
    },
    {
      "cell_type": "code",
      "source": [
        "lst.append(8)"
      ],
      "metadata": {
        "id": "fcQwO41-tlyH"
      },
      "execution_count": null,
      "outputs": []
    },
    {
      "cell_type": "code",
      "source": [
        "lst"
      ],
      "metadata": {
        "colab": {
          "base_uri": "https://localhost:8080/"
        },
        "id": "WzapYmk_trJ3",
        "outputId": "1fc8c2d0-2f94-447c-8250-eb50aa160893"
      },
      "execution_count": null,
      "outputs": [
        {
          "output_type": "execute_result",
          "data": {
            "text/plain": [
              "[1, 30, 2, 8]"
            ]
          },
          "metadata": {},
          "execution_count": 42
        }
      ]
    },
    {
      "cell_type": "code",
      "source": [
        "tpl = (1, 3, 2)"
      ],
      "metadata": {
        "id": "EGmJg72rttAs"
      },
      "execution_count": null,
      "outputs": []
    },
    {
      "cell_type": "code",
      "source": [
        "tpl = (1, 5)"
      ],
      "metadata": {
        "id": "t5JtvAbBttER"
      },
      "execution_count": null,
      "outputs": []
    },
    {
      "cell_type": "code",
      "source": [
        "tpl2 = (1, 2, 24, [1, 3])"
      ],
      "metadata": {
        "id": "lDU0pN0Jt8ON"
      },
      "execution_count": null,
      "outputs": []
    },
    {
      "cell_type": "code",
      "source": [
        "tpl2[3]"
      ],
      "metadata": {
        "colab": {
          "base_uri": "https://localhost:8080/"
        },
        "id": "8DZXx8vAt8Rj",
        "outputId": "0799aeb8-498b-4bb2-c89d-58c9272da443"
      },
      "execution_count": null,
      "outputs": [
        {
          "output_type": "execute_result",
          "data": {
            "text/plain": [
              "[1, 3]"
            ]
          },
          "metadata": {},
          "execution_count": 56
        }
      ]
    },
    {
      "cell_type": "code",
      "source": [
        "tpl2[3][1] = 10"
      ],
      "metadata": {
        "id": "aKqtu9aJuf4G"
      },
      "execution_count": null,
      "outputs": []
    },
    {
      "cell_type": "code",
      "source": [
        "tpl2"
      ],
      "metadata": {
        "colab": {
          "base_uri": "https://localhost:8080/"
        },
        "id": "6jhR2OA1ujgT",
        "outputId": "2f051b4e-52a8-48e8-88b8-8c014e3eb2a7"
      },
      "execution_count": null,
      "outputs": [
        {
          "output_type": "execute_result",
          "data": {
            "text/plain": [
              "(1, 2, 24, [1, 10])"
            ]
          },
          "metadata": {},
          "execution_count": 58
        }
      ]
    },
    {
      "cell_type": "code",
      "source": [
        "lst = [1, 2, 5, 6, 7]\n",
        "lst2 = lst.copy()"
      ],
      "metadata": {
        "id": "DYk-EEIKmPDP"
      },
      "execution_count": null,
      "outputs": []
    },
    {
      "cell_type": "code",
      "source": [
        "lst == lst2"
      ],
      "metadata": {
        "colab": {
          "base_uri": "https://localhost:8080/"
        },
        "id": "rf6SNYWsmSSm",
        "outputId": "b5b698e0-10c9-4a30-88a7-b77504eac0fe"
      },
      "execution_count": null,
      "outputs": [
        {
          "output_type": "execute_result",
          "data": {
            "text/plain": [
              "True"
            ]
          },
          "metadata": {},
          "execution_count": 78
        }
      ]
    },
    {
      "cell_type": "code",
      "source": [
        "lst is lst2"
      ],
      "metadata": {
        "colab": {
          "base_uri": "https://localhost:8080/"
        },
        "id": "0Kazs6mEvEUa",
        "outputId": "2d9b14eb-5722-48ee-8610-00b824a305e7"
      },
      "execution_count": null,
      "outputs": [
        {
          "output_type": "execute_result",
          "data": {
            "text/plain": [
              "True"
            ]
          },
          "metadata": {},
          "execution_count": 84
        }
      ]
    },
    {
      "cell_type": "code",
      "source": [
        "id(lst)"
      ],
      "metadata": {
        "colab": {
          "base_uri": "https://localhost:8080/"
        },
        "id": "FQ9CoDaEu--w",
        "outputId": "44fb1d2b-e537-4305-d51c-963233ce0013"
      },
      "execution_count": null,
      "outputs": [
        {
          "output_type": "execute_result",
          "data": {
            "text/plain": [
              "135750218086080"
            ]
          },
          "metadata": {},
          "execution_count": 85
        }
      ]
    },
    {
      "cell_type": "code",
      "source": [
        "id(lst2)"
      ],
      "metadata": {
        "colab": {
          "base_uri": "https://localhost:8080/"
        },
        "id": "Uhro4EdhmS9S",
        "outputId": "b8c29609-c333-4db9-fbcb-8550bc424c67"
      },
      "execution_count": null,
      "outputs": [
        {
          "output_type": "execute_result",
          "data": {
            "text/plain": [
              "135750218086080"
            ]
          },
          "metadata": {},
          "execution_count": 86
        }
      ]
    },
    {
      "cell_type": "code",
      "source": [
        "lst2[1] = 20"
      ],
      "metadata": {
        "id": "fETmKR78mUi1"
      },
      "execution_count": null,
      "outputs": []
    },
    {
      "cell_type": "code",
      "source": [
        "lst"
      ],
      "metadata": {
        "colab": {
          "base_uri": "https://localhost:8080/"
        },
        "id": "tp4sYcPomYoQ",
        "outputId": "9a9519e7-aea9-4f43-a048-60e302563e28"
      },
      "execution_count": null,
      "outputs": [
        {
          "output_type": "execute_result",
          "data": {
            "text/plain": [
              "[1, 2, 5, 6, 7]"
            ]
          },
          "metadata": {},
          "execution_count": 74
        }
      ]
    },
    {
      "cell_type": "code",
      "source": [
        "lst2"
      ],
      "metadata": {
        "colab": {
          "base_uri": "https://localhost:8080/"
        },
        "id": "AuZPfpfLmbBG",
        "outputId": "d858106b-6310-4649-f4e7-a6c22f346d5a"
      },
      "execution_count": null,
      "outputs": [
        {
          "output_type": "execute_result",
          "data": {
            "text/plain": [
              "[1, 20, 5, 6, 7]"
            ]
          },
          "metadata": {},
          "execution_count": 75
        }
      ]
    },
    {
      "cell_type": "code",
      "source": [
        "id(lst)"
      ],
      "metadata": {
        "colab": {
          "base_uri": "https://localhost:8080/"
        },
        "id": "hkpIiexbmdF8",
        "outputId": "5b5b0bf3-d0d7-4e0c-b1b2-c6b3d476c36c"
      },
      "execution_count": null,
      "outputs": [
        {
          "output_type": "execute_result",
          "data": {
            "text/plain": [
              "135749352226112"
            ]
          },
          "metadata": {},
          "execution_count": 65
        }
      ]
    },
    {
      "cell_type": "code",
      "source": [
        "id(lst2)"
      ],
      "metadata": {
        "colab": {
          "base_uri": "https://localhost:8080/"
        },
        "id": "e1L6zUbampAo",
        "outputId": "20fcbd5f-0821-4222-cd08-e5a7e12cd262"
      },
      "execution_count": null,
      "outputs": [
        {
          "output_type": "execute_result",
          "data": {
            "text/plain": [
              "135749349508480"
            ]
          },
          "metadata": {},
          "execution_count": 66
        }
      ]
    },
    {
      "cell_type": "code",
      "source": [
        "lst == lst2"
      ],
      "metadata": {
        "colab": {
          "base_uri": "https://localhost:8080/"
        },
        "id": "v6g5BaAeu4it",
        "outputId": "86202a0e-ff03-4d5a-c32f-395ec96b0ca9"
      },
      "execution_count": null,
      "outputs": [
        {
          "output_type": "execute_result",
          "data": {
            "text/plain": [
              "False"
            ]
          },
          "metadata": {},
          "execution_count": 67
        }
      ]
    },
    {
      "cell_type": "code",
      "source": [
        "tpl = (1, 2, 8)\n",
        "tpl2 = tpl\n",
        "print(id(tpl) ==  id(tpl2))"
      ],
      "metadata": {
        "colab": {
          "base_uri": "https://localhost:8080/"
        },
        "id": "-81he_S6mstB",
        "outputId": "b8e23992-09b5-49eb-e9a3-6fede4706a09"
      },
      "execution_count": null,
      "outputs": [
        {
          "output_type": "stream",
          "name": "stdout",
          "text": [
            "True\n"
          ]
        }
      ]
    },
    {
      "cell_type": "code",
      "source": [
        "tpl3 = (1, 2, 3, [5, 3])"
      ],
      "metadata": {
        "id": "tJoy3zETd5ij"
      },
      "execution_count": null,
      "outputs": []
    },
    {
      "cell_type": "code",
      "source": [
        "tpl3[3][1] = 0"
      ],
      "metadata": {
        "id": "tKo579exd9xv"
      },
      "execution_count": null,
      "outputs": []
    },
    {
      "cell_type": "code",
      "source": [
        "tpl3"
      ],
      "metadata": {
        "colab": {
          "base_uri": "https://localhost:8080/"
        },
        "id": "4Dqf3qyqeYZN",
        "outputId": "778c648f-fecb-40b5-ae73-377ba29dad8c"
      },
      "execution_count": null,
      "outputs": [
        {
          "output_type": "execute_result",
          "data": {
            "text/plain": [
              "(1, 2, 3, [5, 0])"
            ]
          },
          "metadata": {},
          "execution_count": 9
        }
      ]
    },
    {
      "cell_type": "markdown",
      "source": [
        "Подробно по работу памяти в python\n",
        "\n",
        "https://habr.com/ru/articles/273045/\n",
        "\n",
        "\n",
        " https://habr.com/ru/companies/domclick/articles/530804/"
      ],
      "metadata": {
        "id": "foHVoQSUFEL1"
      }
    },
    {
      "cell_type": "markdown",
      "source": [
        "### Цикл for"
      ],
      "metadata": {
        "id": "bET9LyPHjpt5"
      }
    },
    {
      "cell_type": "markdown",
      "source": [
        "**Цикл for** используется тогда, когда нужно повторить что-то определенное количество раз или пройтись по элементам коллекции."
      ],
      "metadata": {
        "id": "h1yQeDFDYmsp"
      }
    },
    {
      "cell_type": "code",
      "source": [
        "numbers = [1, 7, 3, 19, 5, 34, 0, -1]"
      ],
      "metadata": {
        "id": "fUhBwj_ajyjt"
      },
      "execution_count": null,
      "outputs": []
    },
    {
      "cell_type": "code",
      "source": [
        "for i in numbers: #[1, 7, 3, 19, 5, 34, 0, -1]\n",
        "    print(i, i**2)"
      ],
      "metadata": {
        "colab": {
          "base_uri": "https://localhost:8080/"
        },
        "id": "IE1pCgMtYl-R",
        "outputId": "142d04e9-1b59-41c6-b4c2-031366f87f1c"
      },
      "execution_count": null,
      "outputs": [
        {
          "output_type": "stream",
          "name": "stdout",
          "text": [
            "1 1\n",
            "7 49\n",
            "3 9\n",
            "19 361\n",
            "5 25\n",
            "34 1156\n",
            "0 0\n",
            "-1 1\n"
          ]
        }
      ]
    },
    {
      "cell_type": "code",
      "source": [
        "for i in numbers: # [1, 7, 3, 19, 5, 34, 0, -1]\n",
        "    print(i)"
      ],
      "metadata": {
        "colab": {
          "base_uri": "https://localhost:8080/"
        },
        "id": "5xIsf5XUbxaL",
        "outputId": "2497e9a5-5702-4747-a3f5-96332169a2ef"
      },
      "execution_count": null,
      "outputs": [
        {
          "output_type": "stream",
          "name": "stdout",
          "text": [
            "1\n",
            "7\n",
            "3\n",
            "19\n",
            "5\n",
            "34\n",
            "0\n",
            "-1\n"
          ]
        }
      ]
    },
    {
      "cell_type": "markdown",
      "source": [
        "Функция range(start, stop, step) задает диапазон от start до stop (невключительно с шагом step"
      ],
      "metadata": {
        "id": "uhPqTKSPj8zP"
      }
    },
    {
      "cell_type": "code",
      "source": [
        "list(range(8, 5, -1))"
      ],
      "metadata": {
        "colab": {
          "base_uri": "https://localhost:8080/"
        },
        "id": "u1NfH7uLb6gk",
        "outputId": "76f8046c-bd81-4611-e705-ece14cbf4e7f"
      },
      "execution_count": null,
      "outputs": [
        {
          "output_type": "execute_result",
          "data": {
            "text/plain": [
              "[8, 7, 6]"
            ]
          },
          "metadata": {},
          "execution_count": 90
        }
      ]
    },
    {
      "cell_type": "code",
      "source": [
        "list(range(1, 10, 2))"
      ],
      "metadata": {
        "colab": {
          "base_uri": "https://localhost:8080/"
        },
        "id": "TIsp9Adhc8AK",
        "outputId": "d76e751e-277a-4b76-870c-109c0bdec3fd"
      },
      "execution_count": null,
      "outputs": [
        {
          "output_type": "execute_result",
          "data": {
            "text/plain": [
              "[1, 3, 5, 7, 9]"
            ]
          },
          "metadata": {},
          "execution_count": 91
        }
      ]
    },
    {
      "cell_type": "code",
      "source": [
        "for i in range(10):\n",
        "  print(i)"
      ],
      "metadata": {
        "colab": {
          "base_uri": "https://localhost:8080/"
        },
        "id": "bFM5JUUAwWlS",
        "outputId": "622e20cc-f047-4b77-c1b2-d6c2c2690952"
      },
      "execution_count": null,
      "outputs": [
        {
          "output_type": "stream",
          "name": "stdout",
          "text": [
            "0\n",
            "1\n",
            "2\n",
            "3\n",
            "4\n",
            "5\n",
            "6\n",
            "7\n",
            "8\n",
            "9\n"
          ]
        }
      ]
    },
    {
      "cell_type": "code",
      "source": [
        "len(numbers)"
      ],
      "metadata": {
        "colab": {
          "base_uri": "https://localhost:8080/"
        },
        "id": "-_013gxQwmo1",
        "outputId": "5ef6e53c-4e6a-4c31-8921-8a15178420b6"
      },
      "execution_count": null,
      "outputs": [
        {
          "output_type": "execute_result",
          "data": {
            "text/plain": [
              "8"
            ]
          },
          "metadata": {},
          "execution_count": 94
        }
      ]
    },
    {
      "cell_type": "code",
      "source": [
        "numbers"
      ],
      "metadata": {
        "colab": {
          "base_uri": "https://localhost:8080/"
        },
        "id": "wJvTgE4wwtWZ",
        "outputId": "9ac4c62d-04ee-4198-f49c-fa1db7c8a349"
      },
      "execution_count": null,
      "outputs": [
        {
          "output_type": "execute_result",
          "data": {
            "text/plain": [
              "[1, 7, 3, 19, 5, 34, 0, -1]"
            ]
          },
          "metadata": {},
          "execution_count": 95
        }
      ]
    },
    {
      "cell_type": "code",
      "source": [
        "for i in range(8): #  [0, 1, 2, 3, 4, 5, 6, 7]\n",
        "  print(i, numbers[i])"
      ],
      "metadata": {
        "colab": {
          "base_uri": "https://localhost:8080/"
        },
        "id": "mM-kIhd6cfoy",
        "outputId": "b5ffc3f5-4595-4696-a3e9-db5c2982935d"
      },
      "execution_count": null,
      "outputs": [
        {
          "output_type": "stream",
          "name": "stdout",
          "text": [
            "0 1\n",
            "1 7\n",
            "2 3\n",
            "3 19\n",
            "4 5\n",
            "5 34\n",
            "6 0\n",
            "7 -1\n"
          ]
        }
      ]
    },
    {
      "cell_type": "code",
      "source": [
        "lst = list(map(int, input().split())) # чтение чисел с клавиатуры в список"
      ],
      "metadata": {
        "id": "RZyKzxqSkr6u",
        "colab": {
          "base_uri": "https://localhost:8080/"
        },
        "outputId": "dc378357-3ed9-4c8d-b7bd-a3115bc5f597"
      },
      "execution_count": null,
      "outputs": [
        {
          "name": "stdout",
          "output_type": "stream",
          "text": [
            "1 4 23443 123 14 2\n"
          ]
        }
      ]
    },
    {
      "cell_type": "code",
      "source": [
        "lst"
      ],
      "metadata": {
        "colab": {
          "base_uri": "https://localhost:8080/"
        },
        "id": "tvclXKL1w8Jb",
        "outputId": "45b2bd8b-7c30-4b0d-d772-deffa69f598d"
      },
      "execution_count": null,
      "outputs": [
        {
          "output_type": "execute_result",
          "data": {
            "text/plain": [
              "[1, 4, 23443, 123, 14, 2]"
            ]
          },
          "metadata": {},
          "execution_count": 104
        }
      ]
    },
    {
      "cell_type": "markdown",
      "source": [
        "**Задача 4**\n",
        "\n",
        "Вводятся два целых числа A и B (гарантируется, что A ≤ B). Выведите все числа от A до B включительно, используя цикл for.\n"
      ],
      "metadata": {
        "id": "rLC18Q2Fff7Q"
      }
    },
    {
      "cell_type": "code",
      "source": [
        "a = int(input())\n",
        "b = int(input())\n",
        "for i in range(a, b + 1):\n",
        "  print(i)"
      ],
      "metadata": {
        "colab": {
          "base_uri": "https://localhost:8080/"
        },
        "id": "62g2RCF0yAlH",
        "outputId": "e6fc9832-22c5-4e2f-c8a7-e98e08e18385"
      },
      "execution_count": null,
      "outputs": [
        {
          "output_type": "stream",
          "name": "stdout",
          "text": [
            "5\n",
            "10\n",
            "5\n",
            "6\n",
            "7\n",
            "8\n",
            "9\n",
            "10\n"
          ]
        }
      ]
    },
    {
      "cell_type": "markdown",
      "source": [
        "**Задача 5**\n",
        "\n",
        "Вводится целое число n. Затем пользователь n раз вводит числа последовательности (от -100000 до 100000) Посчитате и выведите сумму членов последовательности, а также минимальное и максимальное значение"
      ],
      "metadata": {
        "id": "HhgEDAUGf8OR"
      }
    },
    {
      "cell_type": "markdown",
      "source": [
        "**Задача 6**\n",
        "\n",
        " Пользователь вводит несколько целых чисел в одной строке через запятую и пробел. Выведите те числа, которые делятся на 7."
      ],
      "metadata": {
        "id": "F8nYllC7hCOB"
      }
    },
    {
      "cell_type": "code",
      "source": [
        "lst = list(map(int, input().split(', ')))"
      ],
      "metadata": {
        "colab": {
          "base_uri": "https://localhost:8080/"
        },
        "id": "z9itkpivyXwE",
        "outputId": "e477d8ff-4640-46f2-ef97-60459805a6af"
      },
      "execution_count": null,
      "outputs": [
        {
          "name": "stdout",
          "output_type": "stream",
          "text": [
            "1, 7, 14, 57, 3, 70\n"
          ]
        }
      ]
    },
    {
      "cell_type": "code",
      "source": [
        "for number in lst:\n",
        "  if number % 7 == 0:\n",
        "    print(number)"
      ],
      "metadata": {
        "colab": {
          "base_uri": "https://localhost:8080/"
        },
        "id": "oEO77DsZyqEN",
        "outputId": "02765bb0-9d1d-4628-b46c-25ed8224cb26"
      },
      "execution_count": null,
      "outputs": [
        {
          "output_type": "stream",
          "name": "stdout",
          "text": [
            "7\n",
            "14\n",
            "70\n"
          ]
        }
      ]
    },
    {
      "cell_type": "code",
      "source": [
        "lst"
      ],
      "metadata": {
        "colab": {
          "base_uri": "https://localhost:8080/"
        },
        "id": "NpgciOLcyoC4",
        "outputId": "ea0a48dc-4383-4b5f-c841-09613bd3c301"
      },
      "execution_count": null,
      "outputs": [
        {
          "output_type": "execute_result",
          "data": {
            "text/plain": [
              "[12, 1, 45, 23]"
            ]
          },
          "metadata": {},
          "execution_count": 107
        }
      ]
    },
    {
      "cell_type": "markdown",
      "source": [
        "**Задача 7**\n",
        "\n",
        " Пользователь вводит последовательность целых чисел, разделяя их пробелом. Затем в новой строке вводится число m. Выведите те числа последовательности, которые больше числа m."
      ],
      "metadata": {
        "id": "HZeBJs8chLNW"
      }
    },
    {
      "cell_type": "code",
      "source": [
        "lst = list(map(int, input().split()))\n",
        "m = int(input())\n",
        "for number in lst:\n",
        "  if number > m:\n",
        "    print(number)"
      ],
      "metadata": {
        "colab": {
          "base_uri": "https://localhost:8080/"
        },
        "id": "lu-4EBwAzUwA",
        "outputId": "2aefb2a7-2a04-4206-af18-e74c168f512e"
      },
      "execution_count": null,
      "outputs": [
        {
          "output_type": "stream",
          "name": "stdout",
          "text": [
            "1 45 7 89 10\n",
            "10\n",
            "45\n",
            "89\n"
          ]
        }
      ]
    },
    {
      "cell_type": "markdown",
      "source": [
        "## Методы строк\n",
        "Основные методы строк:"
      ],
      "metadata": {
        "id": "iRwk5olLZ6lk"
      }
    },
    {
      "cell_type": "markdown",
      "source": [
        "* `.split()` - разделяет строку по разделителю. Возвращает список\n",
        "* `.replace()` - заменить подстроку в строке на другую подстроку\n",
        "* `.count()` - количество вхождений подстроки в строку\n",
        "* `.find()` -  индекс первого вхождения подстроки, и -1, если подстрока отсутствует\n",
        "* `.rfind()` -  индекс последнего вхождения подстроки, и -1, если подстрока отсутствует\n",
        "* `.strip()` -  возвращает копию строки, в которой были удалены определенные символы с начала и конца строки (символом по умолчанию является пробел)\n",
        "* `.startswith()` - проверяет, начинается ли строка с данной подстроки\n",
        "* `.isdigit()`  проверяет, что строка состоит только из цифр\n",
        "* `.islower()`  проверяет, что строка состоит только из букв нижнего регистра (строчных);\n",
        "* `.isupper()`  проверяет, что строка состоит только из букв верхнего регистра\n",
        "* `.isalpha()`  проверяет, что строка состоит только из букв\n",
        "* `.lower()` приведение строки к нижнему регистру\n",
        "* `.upper()` приведение строки к верхнему регистру\n",
        "* `.isalnum()`  проверяет, что строка состоит только из букв и цифр\n",
        "\n",
        "Подробности и больше методов в [документации](https://docs.python.org/3/library/stdtypes.html#str)"
      ],
      "metadata": {
        "id": "M3k-eWg9hqOn"
      }
    },
    {
      "cell_type": "code",
      "source": [
        "st = 'abcde f'"
      ],
      "metadata": {
        "id": "5_OaR_gMzwci"
      },
      "execution_count": null,
      "outputs": []
    },
    {
      "cell_type": "code",
      "source": [
        "st = st.upper()"
      ],
      "metadata": {
        "colab": {
          "base_uri": "https://localhost:8080/",
          "height": 36
        },
        "id": "18Ftv7Mxz-Ue",
        "outputId": "f5da143d-fbfb-4b42-a89b-799601eafad9"
      },
      "execution_count": null,
      "outputs": [
        {
          "output_type": "execute_result",
          "data": {
            "text/plain": [
              "'ABCDE F'"
            ],
            "application/vnd.google.colaboratory.intrinsic+json": {
              "type": "string"
            }
          },
          "metadata": {},
          "execution_count": 138
        }
      ]
    },
    {
      "cell_type": "code",
      "source": [
        "st"
      ],
      "metadata": {
        "colab": {
          "base_uri": "https://localhost:8080/",
          "height": 36
        },
        "id": "0mmMNe6Pz_zE",
        "outputId": "da365d42-25f0-4d7c-a82c-025474b2f83d"
      },
      "execution_count": null,
      "outputs": [
        {
          "output_type": "execute_result",
          "data": {
            "text/plain": [
              "'abcde f'"
            ],
            "application/vnd.google.colaboratory.intrinsic+json": {
              "type": "string"
            }
          },
          "metadata": {},
          "execution_count": 139
        }
      ]
    },
    {
      "cell_type": "code",
      "source": [
        "lst = [1, 4, 2, 3]"
      ],
      "metadata": {
        "id": "APTDDKC30coX"
      },
      "execution_count": null,
      "outputs": []
    },
    {
      "cell_type": "code",
      "source": [
        "lst.append(10)"
      ],
      "metadata": {
        "id": "3OqRxlhq0dAf"
      },
      "execution_count": null,
      "outputs": []
    },
    {
      "cell_type": "code",
      "source": [
        "print(lst)"
      ],
      "metadata": {
        "colab": {
          "base_uri": "https://localhost:8080/"
        },
        "id": "73ZcWIc90gJ1",
        "outputId": "f83578ad-3537-433c-9866-73f32aeddd43"
      },
      "execution_count": null,
      "outputs": [
        {
          "output_type": "stream",
          "name": "stdout",
          "text": [
            "None\n"
          ]
        }
      ]
    },
    {
      "cell_type": "code",
      "source": [
        "st.islower()"
      ],
      "metadata": {
        "colab": {
          "base_uri": "https://localhost:8080/"
        },
        "id": "pee1ZgM00HGo",
        "outputId": "0a80304b-e0c6-4238-fccd-ebc473f57b4e"
      },
      "execution_count": null,
      "outputs": [
        {
          "output_type": "execute_result",
          "data": {
            "text/plain": [
              "False"
            ]
          },
          "metadata": {},
          "execution_count": 127
        }
      ]
    },
    {
      "cell_type": "code",
      "source": [
        "st.startswith('ab')"
      ],
      "metadata": {
        "colab": {
          "base_uri": "https://localhost:8080/"
        },
        "id": "eZNiniRq0NSH",
        "outputId": "7a79129f-72e8-4ae8-b6a7-0bca6d17099d"
      },
      "execution_count": null,
      "outputs": [
        {
          "output_type": "execute_result",
          "data": {
            "text/plain": [
              "True"
            ]
          },
          "metadata": {},
          "execution_count": 130
        }
      ]
    },
    {
      "cell_type": "markdown",
      "source": [
        "## Методы списков\n",
        "\n",
        "* `.append()` добавляет элемент в конец списка\n",
        "* `.insert()` добавляет элемент в произвольное место списка\n",
        "* `.count()` количество вхождений определенного элемента\n",
        "* `.remove()` удаляет элемент из списка\n",
        "* `.reverse()` - вовращает список, в котором элементы идут наоборот по сравнению с исходным списком\n",
        "* `.copy()` - возвращает копию списка\n",
        "\n",
        "Подробности и больше методов в [документации](https://docs.python.org/3/tutorial/datastructures.html)"
      ],
      "metadata": {
        "id": "WqUPg6A7bKUS"
      }
    },
    {
      "cell_type": "code",
      "source": [
        "lst = [1, 2, 2]\n",
        "lst2 = lst.copy()"
      ],
      "metadata": {
        "id": "dWpWZHRf0zX4"
      },
      "execution_count": null,
      "outputs": []
    },
    {
      "cell_type": "markdown",
      "source": [
        "**Задача 8**\n",
        "\n",
        "Реализуйте программу, которая сохраняет в список длинные адреса электронных почт.\n",
        "\n",
        "Задан пустой список emails.\n",
        "* В цикле while считываются строки до тех пор, пока не введена строка 'END'.\n",
        "* Для каждой вводимой строки сделайте проверку: если в строке содержится символ \"@\" и она длиннее 18 символов, то добавьте ее в список emails.\n",
        "* Гарантируется, что до строки 'END' будет введена как минимум одна строка.\n",
        "* Напечатайте список emails. Строки в нем должны идти в том же порядке, что и при вводе.\n",
        "\n",
        "**ФОРМАТ ВВОДА**\n",
        "\n",
        " mymailru@mail.com    \n",
        " superpuperstudent@hse.com  \n",
        " ma777ivanova@rambler.ru  \n",
        "END    \n",
        "\n",
        "**ФОРМАТ ВЫВОДА**\n",
        "\n",
        "['superpuperstudent@hse.com', 'ma777ivanova@rambler.ru']"
      ],
      "metadata": {
        "id": "MJZ_Nv_YfqhO"
      }
    },
    {
      "cell_type": "code",
      "source": [
        "emails = list() #[]\n",
        "mail = input()\n",
        "while mail != 'END':\n",
        "    if '@' in mail and len(mail) > 18:\n",
        "      emails.append(mail)\n",
        "    mail = input()\n",
        "print(emails)"
      ],
      "metadata": {
        "colab": {
          "base_uri": "https://localhost:8080/"
        },
        "id": "GKTu_I8g1FIT",
        "outputId": "12da04a9-b54e-4576-fcd2-1461e9eec342"
      },
      "execution_count": null,
      "outputs": [
        {
          "output_type": "stream",
          "name": "stdout",
          "text": [
            "mymailru@mail.com\n",
            "superpuperstudent@hse.com\n",
            "ma777ivanova@rambler.ru\n",
            "END\n",
            "['superpuperstudent@hse.com', 'ma777ivanova@rambler.ru']\n"
          ]
        }
      ]
    },
    {
      "cell_type": "markdown",
      "source": [
        "**Задача 9.** Ассистент собирает оценки студентов и хочет узнать, какая получилась средняя оценка за курс.\n",
        "\n",
        "ФОРМАТ ВВОДА\n",
        "\n",
        "Программа получает на вход число студентов в группе N.\n",
        "Далее идет N строк, в каждой строке записан результат в виде \"оценка 5\"\n",
        "\n",
        "\n",
        "ФОРМАТ ВЫВОДА\n",
        "\n",
        "Вещественное число — средняя оценка всех участников."
      ],
      "metadata": {
        "id": "OfHGgexXg5X6"
      }
    }
  ]
}