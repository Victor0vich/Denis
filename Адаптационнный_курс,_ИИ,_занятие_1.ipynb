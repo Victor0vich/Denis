{
  "cells": [
    {
      "cell_type": "markdown",
      "metadata": {
        "id": "view-in-github",
        "colab_type": "text"
      },
      "source": [
        "<a href=\"https://colab.research.google.com/github/Victor0vich/Denis/blob/main/%D0%90%D0%B4%D0%B0%D0%BF%D1%82%D0%B0%D1%86%D0%B8%D0%BE%D0%BD%D0%BD%D0%BD%D1%8B%D0%B9_%D0%BA%D1%83%D1%80%D1%81%2C_%D0%98%D0%98%2C_%D0%B7%D0%B0%D0%BD%D1%8F%D1%82%D0%B8%D0%B5_1.ipynb\" target=\"_parent\"><img src=\"https://colab.research.google.com/assets/colab-badge.svg\" alt=\"Open In Colab\"/></a>"
      ]
    },
    {
      "cell_type": "markdown",
      "id": "ae80cf73",
      "metadata": {
        "id": "ae80cf73"
      },
      "source": [
        "# Занятие 1. Переменные. Типы данных. Условный оператор\n"
      ]
    },
    {
      "cell_type": "markdown",
      "source": [
        "**План занятия**:"
      ],
      "metadata": {
        "id": "34lLVBV3R44i"
      },
      "id": "34lLVBV3R44i"
    },
    {
      "cell_type": "markdown",
      "id": "10c93a2f",
      "metadata": {
        "id": "10c93a2f"
      },
      "source": [
        "0. Что тут происходит\n",
        "1. Python и jupyter notebook\n",
        "2. Функция print\n",
        "3. Переменные\n",
        "4. Ввод, вывод, input(). Простые типы данных. Арифметические действия\n",
        "5. Логические переменные. Логические выражения\n",
        "6. Условный оператор"
      ]
    },
    {
      "cell_type": "markdown",
      "source": [
        "### Python и jupyter notebook\n",
        "\n"
      ],
      "metadata": {
        "id": "vsEN-MduqXCy"
      },
      "id": "vsEN-MduqXCy"
    },
    {
      "cell_type": "markdown",
      "source": [
        "**Python** -  свободный интерпретируемый язык программирования высокого уровня с динамической типизацией.\n",
        "\n",
        "\n",
        "Плюсы:\n",
        "* Простой в освоении, хорошо подходит для новичков\n",
        "* Очень популярен в аналитике, ML, Data Science\n",
        "* Огромное сообщество\n",
        "* Много библиотек для всего на свете"
      ],
      "metadata": {
        "id": "iplht3eIsOm5"
      },
      "id": "iplht3eIsOm5"
    },
    {
      "cell_type": "markdown",
      "source": [
        "\n",
        "**Jupyter Notebook** - интерактивная среда для запуска программного кода. Удобный инструмент для анализа данных."
      ],
      "metadata": {
        "id": "6EA33PHwtqJU"
      },
      "id": "6EA33PHwtqJU"
    },
    {
      "cell_type": "markdown",
      "source": [
        "#### Anaconda\n",
        "![](https://2.bp.blogspot.com/-lOwzj1e6RpU/Wf1Kx1Ovl5I/AAAAAAAAAJY/esSu_peLFHEfxXmlnSVgTZoOHLFR2GHFgCLcBGAs/s1600/Capture2.PNG)\n",
        "\n",
        "- Где скачать: [официальный сайт](https://www.anaconda.com/download/).\n",
        "- Как поставить: действовать по инструкции, описанной [там же](https://docs.anaconda.com/anaconda/install/)."
      ],
      "metadata": {
        "id": "_UbB2huerdRN"
      },
      "id": "_UbB2huerdRN"
    },
    {
      "cell_type": "markdown",
      "source": [
        "Это ячейка с текстом."
      ],
      "metadata": {
        "id": "HfDZTJvpqjMH"
      },
      "id": "HfDZTJvpqjMH"
    },
    {
      "cell_type": "code",
      "source": [
        "a = 5"
      ],
      "metadata": {
        "id": "1k-o2Fypxzzf"
      },
      "id": "1k-o2Fypxzzf",
      "execution_count": null,
      "outputs": []
    },
    {
      "cell_type": "code",
      "source": [
        "a = 'abcs'"
      ],
      "metadata": {
        "id": "hU8LKB7Sx1d1"
      },
      "id": "hU8LKB7Sx1d1",
      "execution_count": null,
      "outputs": []
    },
    {
      "cell_type": "code",
      "source": [
        "print('Hello world') # а это ячейка с кодом. Всё, что написано после #, не воспринимается как код."
      ],
      "metadata": {
        "id": "1rDS30AdYCEz",
        "colab": {
          "base_uri": "https://localhost:8080/"
        },
        "outputId": "c923a314-617a-40f1-86e3-d471603c0a49"
      },
      "id": "1rDS30AdYCEz",
      "execution_count": null,
      "outputs": [
        {
          "output_type": "stream",
          "name": "stdout",
          "text": [
            "Hello world\n"
          ]
        }
      ]
    },
    {
      "cell_type": "markdown",
      "source": [
        "### Функция print"
      ],
      "metadata": {
        "id": "kmfhg19AuXox"
      },
      "id": "kmfhg19AuXox"
    },
    {
      "cell_type": "markdown",
      "source": [
        "print — функция, которая печатает на экран то, что мы передали на вход."
      ],
      "metadata": {
        "id": "R8iDyxE8wD-E"
      },
      "id": "R8iDyxE8wD-E"
    },
    {
      "cell_type": "code",
      "source": [
        "print('Hello world', 1)\n",
        "print('Hello world', 2)\n",
        "print('Hello world', '!')"
      ],
      "metadata": {
        "colab": {
          "base_uri": "https://localhost:8080/"
        },
        "id": "0lmxy2ZqYnMK",
        "outputId": "0d5c37cd-4ecc-41eb-f56c-8b131a8e0b12"
      },
      "id": "0lmxy2ZqYnMK",
      "execution_count": null,
      "outputs": [
        {
          "output_type": "stream",
          "name": "stdout",
          "text": [
            "Hello world 1\n",
            "Hello world 2\n",
            "Hello world !\n"
          ]
        }
      ]
    },
    {
      "cell_type": "code",
      "source": [
        "print(1, 2, 3)"
      ],
      "metadata": {
        "colab": {
          "base_uri": "https://localhost:8080/"
        },
        "id": "xHeRlUMvvDgG",
        "outputId": "b0739da9-b9f3-4084-dfd6-a2f764750c4f"
      },
      "id": "xHeRlUMvvDgG",
      "execution_count": null,
      "outputs": [
        {
          "output_type": "stream",
          "name": "stdout",
          "text": [
            "1 2 3\n"
          ]
        }
      ]
    },
    {
      "cell_type": "code",
      "source": [
        "print(1, 2, 3, sep=', ')"
      ],
      "metadata": {
        "colab": {
          "base_uri": "https://localhost:8080/"
        },
        "id": "x1xdXBSnvDmI",
        "outputId": "c1cf7e8c-a7b1-4f22-b049-62c391f41c64"
      },
      "id": "x1xdXBSnvDmI",
      "execution_count": null,
      "outputs": [
        {
          "output_type": "stream",
          "name": "stdout",
          "text": [
            "1, 2, 3\n"
          ]
        }
      ]
    },
    {
      "cell_type": "code",
      "source": [
        "print(1, 2, 3, sep=', ', end = '!')"
      ],
      "metadata": {
        "colab": {
          "base_uri": "https://localhost:8080/"
        },
        "id": "GrhujFzMvJ6D",
        "outputId": "f41c9841-e10b-4f21-d166-2dedc8291c2a"
      },
      "id": "GrhujFzMvJ6D",
      "execution_count": null,
      "outputs": [
        {
          "output_type": "stream",
          "name": "stdout",
          "text": [
            "1, 2, 3!"
          ]
        }
      ]
    },
    {
      "cell_type": "code",
      "execution_count": null,
      "id": "07280e73",
      "metadata": {
        "id": "07280e73",
        "outputId": "0903b75d-2624-4434-e7b7-2a3b40516e18",
        "colab": {
          "base_uri": "https://localhost:8080/"
        }
      },
      "outputs": [
        {
          "output_type": "stream",
          "name": "stdout",
          "text": [
            "6 7 8 67 8-2!"
          ]
        }
      ],
      "source": [
        "print(5+1, 7, 8, 67, '8-2', end = '!')"
      ]
    },
    {
      "cell_type": "code",
      "source": [
        "print('текст')"
      ],
      "metadata": {
        "colab": {
          "base_uri": "https://localhost:8080/"
        },
        "id": "lh2dorAbAUAz",
        "outputId": "2d449ca5-a03e-4558-8585-300cc4959cd3"
      },
      "id": "lh2dorAbAUAz",
      "execution_count": null,
      "outputs": [
        {
          "output_type": "stream",
          "name": "stdout",
          "text": [
            "текст\n"
          ]
        }
      ]
    },
    {
      "cell_type": "code",
      "source": [
        "print('5+5+1')"
      ],
      "metadata": {
        "colab": {
          "base_uri": "https://localhost:8080/"
        },
        "id": "HTlphrXyAY5C",
        "outputId": "d21fcdfc-2634-494b-8987-b17d0e41dcc8"
      },
      "id": "HTlphrXyAY5C",
      "execution_count": null,
      "outputs": [
        {
          "output_type": "stream",
          "name": "stdout",
          "text": [
            "5+5+1\n"
          ]
        }
      ]
    },
    {
      "cell_type": "markdown",
      "source": [
        "Особенность Jupyter Notebook как IDE — print необязателен, чтобы что-то вывести"
      ],
      "metadata": {
        "id": "ll53jTLewg42"
      },
      "id": "ll53jTLewg42"
    },
    {
      "cell_type": "code",
      "source": [
        "2\n",
        "\"Hello, world\""
      ],
      "metadata": {
        "colab": {
          "base_uri": "https://localhost:8080/",
          "height": 36
        },
        "id": "NrWPAfo6whL9",
        "outputId": "ce5dbf83-ab05-479f-9a56-e3a078876ac4"
      },
      "id": "NrWPAfo6whL9",
      "execution_count": null,
      "outputs": [
        {
          "output_type": "execute_result",
          "data": {
            "text/plain": [
              "'Hello, world'"
            ],
            "application/vnd.google.colaboratory.intrinsic+json": {
              "type": "string"
            }
          },
          "metadata": {},
          "execution_count": 78
        }
      ]
    },
    {
      "cell_type": "markdown",
      "source": [
        "### Переменные. Ввод, вывод, input(). Простые типы данных. Приведение типов. Арифметические действия"
      ],
      "metadata": {
        "id": "3UnlDNkhvexR"
      },
      "id": "3UnlDNkhvexR"
    },
    {
      "cell_type": "code",
      "source": [
        "a = 5 # создали переменную a, присвоили переменной a значение 5\n",
        "number = 4\n",
        "hello = \"Hello, world\""
      ],
      "metadata": {
        "id": "qsnLI7nxbx0D"
      },
      "id": "qsnLI7nxbx0D",
      "execution_count": null,
      "outputs": []
    },
    {
      "cell_type": "code",
      "source": [
        "print(a)"
      ],
      "metadata": {
        "colab": {
          "base_uri": "https://localhost:8080/"
        },
        "id": "dhUyqjz2b0qi",
        "outputId": "493a717f-e859-4c45-fdde-c09d97a3c347"
      },
      "id": "dhUyqjz2b0qi",
      "execution_count": null,
      "outputs": [
        {
          "output_type": "stream",
          "name": "stdout",
          "text": [
            "5\n"
          ]
        }
      ]
    },
    {
      "cell_type": "code",
      "source": [
        "print(\"a\")"
      ],
      "metadata": {
        "colab": {
          "base_uri": "https://localhost:8080/"
        },
        "id": "pg1s-X54A0FQ",
        "outputId": "34c77a1d-c272-465a-8e7f-107bda9594d5"
      },
      "id": "pg1s-X54A0FQ",
      "execution_count": null,
      "outputs": [
        {
          "output_type": "stream",
          "name": "stdout",
          "text": [
            "a\n"
          ]
        }
      ]
    },
    {
      "cell_type": "code",
      "source": [
        "print(a)"
      ],
      "metadata": {
        "colab": {
          "base_uri": "https://localhost:8080/"
        },
        "id": "ndLtPactcYVl",
        "outputId": "ddc18c14-6d87-49b6-d9c7-e10e2939a38f"
      },
      "id": "ndLtPactcYVl",
      "execution_count": null,
      "outputs": [
        {
          "output_type": "stream",
          "name": "stdout",
          "text": [
            "5\n"
          ]
        }
      ]
    },
    {
      "cell_type": "code",
      "source": [
        "a = \"hello\" # изменили значение переменной a"
      ],
      "metadata": {
        "id": "cYGtxhIRyzAW"
      },
      "id": "cYGtxhIRyzAW",
      "execution_count": null,
      "outputs": []
    },
    {
      "cell_type": "code",
      "source": [
        "name = input('Введите имя: ') # ожидается ввод от пользователя"
      ],
      "metadata": {
        "colab": {
          "base_uri": "https://localhost:8080/"
        },
        "id": "-ToHwuhFz9wl",
        "outputId": "5ca71127-0375-41db-88d4-7abb98e6b7e6"
      },
      "id": "-ToHwuhFz9wl",
      "execution_count": null,
      "outputs": [
        {
          "name": "stdout",
          "output_type": "stream",
          "text": [
            "Введите имя: Ассоль\n"
          ]
        }
      ]
    },
    {
      "cell_type": "code",
      "source": [
        "print('Привет,', name)"
      ],
      "metadata": {
        "colab": {
          "base_uri": "https://localhost:8080/"
        },
        "id": "RpRYbE940DLg",
        "outputId": "73241056-bcf5-4e83-b798-36714296f495"
      },
      "id": "RpRYbE940DLg",
      "execution_count": null,
      "outputs": [
        {
          "output_type": "stream",
          "name": "stdout",
          "text": [
            "Привет, Ассоль\n"
          ]
        }
      ]
    },
    {
      "cell_type": "code",
      "source": [
        "lst = [4, 12, 3]"
      ],
      "metadata": {
        "id": "To-jILTRCBLU"
      },
      "id": "To-jILTRCBLU",
      "execution_count": null,
      "outputs": []
    },
    {
      "cell_type": "markdown",
      "source": [
        "##### int"
      ],
      "metadata": {
        "id": "qltWfLgbzj9-"
      },
      "id": "qltWfLgbzj9-"
    },
    {
      "cell_type": "code",
      "source": [
        "number = 3 # переменная типа int\n",
        "print(type(number))"
      ],
      "metadata": {
        "colab": {
          "base_uri": "https://localhost:8080/"
        },
        "id": "WmhP7JI_eUVq",
        "outputId": "f5415d9d-7ffa-4ff6-e4f8-1e2de3e6ffe1"
      },
      "id": "WmhP7JI_eUVq",
      "execution_count": null,
      "outputs": [
        {
          "output_type": "stream",
          "name": "stdout",
          "text": [
            "<class 'int'>\n"
          ]
        }
      ]
    },
    {
      "cell_type": "code",
      "source": [
        "print(4 + 2)\n",
        "print(4 - 2)\n",
        "print(4 * 2)\n",
        "print(4 / 3)\n",
        "\n",
        "print(5 // 2)\n",
        "print(3 % 2)\n",
        "print(3 ** 7)\n",
        "print(3 ** (1 / 2))"
      ],
      "metadata": {
        "colab": {
          "base_uri": "https://localhost:8080/"
        },
        "id": "2chrb4JZzJnR",
        "outputId": "e475c632-d344-4786-b6e5-eba9a4e15c51"
      },
      "id": "2chrb4JZzJnR",
      "execution_count": null,
      "outputs": [
        {
          "output_type": "stream",
          "name": "stdout",
          "text": [
            "6\n",
            "2\n",
            "8\n",
            "1.3333333333333333\n",
            "2\n",
            "1\n",
            "2187\n",
            "1.7320508075688772\n"
          ]
        }
      ]
    },
    {
      "cell_type": "code",
      "source": [
        "print(int('43'))"
      ],
      "metadata": {
        "colab": {
          "base_uri": "https://localhost:8080/",
          "height": 141
        },
        "id": "BpYhAur2zqc1",
        "outputId": "e7af1502-8f8f-437e-b17d-12c84d401585"
      },
      "id": "BpYhAur2zqc1",
      "execution_count": null,
      "outputs": [
        {
          "output_type": "error",
          "ename": "ValueError",
          "evalue": "invalid literal for int() with base 10: '43авп'",
          "traceback": [
            "\u001b[0;31m---------------------------------------------------------------------------\u001b[0m",
            "\u001b[0;31mValueError\u001b[0m                                Traceback (most recent call last)",
            "\u001b[0;32m<ipython-input-18-e84a24f2d5db>\u001b[0m in \u001b[0;36m<cell line: 1>\u001b[0;34m()\u001b[0m\n\u001b[0;32m----> 1\u001b[0;31m \u001b[0mprint\u001b[0m\u001b[0;34m(\u001b[0m\u001b[0mint\u001b[0m\u001b[0;34m(\u001b[0m\u001b[0;34m'43авп'\u001b[0m\u001b[0;34m)\u001b[0m\u001b[0;34m)\u001b[0m\u001b[0;34m\u001b[0m\u001b[0;34m\u001b[0m\u001b[0m\n\u001b[0m",
            "\u001b[0;31mValueError\u001b[0m: invalid literal for int() with base 10: '43авп'"
          ]
        }
      ]
    },
    {
      "cell_type": "code",
      "source": [
        "num = input()"
      ],
      "metadata": {
        "colab": {
          "base_uri": "https://localhost:8080/"
        },
        "id": "kWX5xBwtDjPp",
        "outputId": "c2250af6-432a-470f-99fe-b773e73b9853"
      },
      "id": "kWX5xBwtDjPp",
      "execution_count": null,
      "outputs": [
        {
          "name": "stdout",
          "output_type": "stream",
          "text": [
            "4\n"
          ]
        }
      ]
    },
    {
      "cell_type": "code",
      "source": [
        "print(type(num))"
      ],
      "metadata": {
        "colab": {
          "base_uri": "https://localhost:8080/"
        },
        "id": "MUf1E0uTDm2q",
        "outputId": "b20e20c1-d2ef-494d-eb21-52996991b628"
      },
      "id": "MUf1E0uTDm2q",
      "execution_count": null,
      "outputs": [
        {
          "output_type": "stream",
          "name": "stdout",
          "text": [
            "<class 'str'>\n"
          ]
        }
      ]
    },
    {
      "cell_type": "code",
      "source": [
        "num = int(input()) # input() всегда возвращает строку! Чтобы превратить полученную строку в число, используем функцию int"
      ],
      "metadata": {
        "colab": {
          "base_uri": "https://localhost:8080/"
        },
        "id": "C0qqh6-t0PWI",
        "outputId": "c1e3fe35-0290-4561-c8b2-a5ea2d495748"
      },
      "id": "C0qqh6-t0PWI",
      "execution_count": null,
      "outputs": [
        {
          "name": "stdout",
          "output_type": "stream",
          "text": [
            "6\n"
          ]
        }
      ]
    },
    {
      "cell_type": "code",
      "source": [
        "print(num)"
      ],
      "metadata": {
        "colab": {
          "base_uri": "https://localhost:8080/"
        },
        "id": "dWCGEjIJDxyy",
        "outputId": "712acf7f-aecb-4550-d0e8-96f01b133180"
      },
      "id": "dWCGEjIJDxyy",
      "execution_count": null,
      "outputs": [
        {
          "output_type": "stream",
          "name": "stdout",
          "text": [
            "335\n"
          ]
        }
      ]
    },
    {
      "cell_type": "markdown",
      "id": "WEMhriQ4LjeK",
      "metadata": {
        "id": "WEMhriQ4LjeK"
      },
      "source": [
        "###### Задание 1"
      ]
    },
    {
      "cell_type": "markdown",
      "id": "2a79cdd9",
      "metadata": {
        "id": "2a79cdd9"
      },
      "source": [
        "Вы стали учебным ассистентом по курсу программирования на языке Python. Вам необходимо написать программу, которая будет считывать две переменных: ФИО и оценку студента и выводить текст: \"Уважаемый ФИО, за курс по Python вы получили ОЦЕНКА!\""
      ]
    },
    {
      "cell_type": "markdown",
      "id": "358598b2",
      "metadata": {
        "id": "358598b2"
      },
      "source": [
        "**Пример ввода:**\n",
        "    \n",
        "Петров Иван Иванович\n",
        "\n",
        "10\n",
        "\n",
        "**Пример вывода:**\n",
        "\n",
        "Уважаемый Петров Иван Иванович, за курс по Python вы получили 10!"
      ]
    },
    {
      "cell_type": "code",
      "source": [
        "name = input()\n",
        "mark = int(input())\n",
        "print('Уважаемый ', name, ', за курс по Python вы получили ', mark, sep='', end='!')"
      ],
      "metadata": {
        "colab": {
          "base_uri": "https://localhost:8080/"
        },
        "id": "FIcz6uXhQHDl",
        "outputId": "adfe8093-1c6a-4b93-b1c2-8c7c3885bd2d"
      },
      "id": "FIcz6uXhQHDl",
      "execution_count": null,
      "outputs": [
        {
          "output_type": "stream",
          "name": "stdout",
          "text": [
            "Петров Иван Иванович\n",
            "10\n",
            "Уважаемый Петров Иван Иванович, за курс по Python вы получили 10!"
          ]
        }
      ]
    },
    {
      "cell_type": "markdown",
      "source": [],
      "metadata": {
        "id": "68QLixIgFTr9"
      },
      "id": "68QLixIgFTr9"
    },
    {
      "cell_type": "code",
      "source": [
        "f\"Уважаемый {name}, за курс по Python вы получили {mark}!\""
      ],
      "metadata": {
        "colab": {
          "base_uri": "https://localhost:8080/",
          "height": 36
        },
        "id": "lMe8pYCEFUTV",
        "outputId": "86398bef-515e-4eee-c490-f2b56466bc3f"
      },
      "id": "lMe8pYCEFUTV",
      "execution_count": null,
      "outputs": [
        {
          "output_type": "execute_result",
          "data": {
            "text/plain": [
              "'Уважаемый Петров Иван Иванович, за курс по Python вы получили 10!'"
            ],
            "application/vnd.google.colaboratory.intrinsic+json": {
              "type": "string"
            }
          },
          "metadata": {},
          "execution_count": 108
        }
      ]
    },
    {
      "cell_type": "code",
      "source": [
        "name = input()\n",
        "mark = int(input())\n",
        "print(f\"Уважаемый {name}, за курс по Python вы получили {mark}!\")"
      ],
      "metadata": {
        "colab": {
          "base_uri": "https://localhost:8080/"
        },
        "id": "PWOQeyyaFOrk",
        "outputId": "64958547-8d27-4303-93e6-6a22833efd8c"
      },
      "id": "PWOQeyyaFOrk",
      "execution_count": null,
      "outputs": [
        {
          "output_type": "stream",
          "name": "stdout",
          "text": [
            "Петров Иван Иванович\n",
            "9\n",
            "Уважаемый Петров Иван Иванович, за курс по Python вы получили 9!\n"
          ]
        }
      ]
    },
    {
      "cell_type": "markdown",
      "id": "a86ea379",
      "metadata": {
        "id": "a86ea379"
      },
      "source": [
        "###### Задание 2\n",
        "В переменных `a` и `b` хранятся некоторые числа. Напишите код, который бы менял значения переменных местами. Создавать вспомогательные переменные *можно*.\n"
      ]
    },
    {
      "cell_type": "code",
      "source": [
        "a = 7\n",
        "b = 11"
      ],
      "metadata": {
        "id": "v3B6Sm-91FzO"
      },
      "id": "v3B6Sm-91FzO",
      "execution_count": null,
      "outputs": []
    },
    {
      "cell_type": "code",
      "source": [
        "a, b = b, a"
      ],
      "metadata": {
        "id": "JVyvGsQrF2n2"
      },
      "id": "JVyvGsQrF2n2",
      "execution_count": null,
      "outputs": []
    },
    {
      "cell_type": "code",
      "source": [
        "a"
      ],
      "metadata": {
        "colab": {
          "base_uri": "https://localhost:8080/"
        },
        "id": "s44Zo1U1F5C0",
        "outputId": "dc81f8ce-9057-492c-ea5b-78a3eca01b54"
      },
      "id": "s44Zo1U1F5C0",
      "execution_count": null,
      "outputs": [
        {
          "output_type": "execute_result",
          "data": {
            "text/plain": [
              "11"
            ]
          },
          "metadata": {},
          "execution_count": 115
        }
      ]
    },
    {
      "cell_type": "code",
      "source": [
        "b"
      ],
      "metadata": {
        "colab": {
          "base_uri": "https://localhost:8080/"
        },
        "id": "pJHqu69gF83s",
        "outputId": "8e6f38f5-929d-43bf-fc26-0bf1938f4e84"
      },
      "id": "pJHqu69gF83s",
      "execution_count": null,
      "outputs": [
        {
          "output_type": "execute_result",
          "data": {
            "text/plain": [
              "7"
            ]
          },
          "metadata": {},
          "execution_count": 116
        }
      ]
    },
    {
      "cell_type": "code",
      "source": [
        "a = 7\n",
        "b = 11"
      ],
      "metadata": {
        "id": "7w3Z4qPvGNP_"
      },
      "id": "7w3Z4qPvGNP_",
      "execution_count": null,
      "outputs": []
    },
    {
      "cell_type": "code",
      "source": [
        "c = a # a = 7, b = 11, c = 7\n",
        "a = b  #a = 11, b = 11, c = 7\n",
        "b = c # a = 11, b = 7"
      ],
      "metadata": {
        "id": "9jBfU9ClF_5E"
      },
      "id": "9jBfU9ClF_5E",
      "execution_count": null,
      "outputs": []
    },
    {
      "cell_type": "code",
      "source": [
        "print(a, b)"
      ],
      "metadata": {
        "colab": {
          "base_uri": "https://localhost:8080/"
        },
        "id": "HdNNoV7eGmJA",
        "outputId": "b76180fd-4f14-490a-abbc-7c00e77cf290"
      },
      "id": "HdNNoV7eGmJA",
      "execution_count": null,
      "outputs": [
        {
          "output_type": "stream",
          "name": "stdout",
          "text": [
            "11 7\n"
          ]
        }
      ]
    },
    {
      "cell_type": "markdown",
      "source": [
        "###### Задание 3\n",
        "\n",
        " Дано натуральное число, большее 10. Найдите число десятков в его десятичной записи (вторую справа цифру)."
      ],
      "metadata": {
        "id": "Fvm3OPw04Yl2"
      },
      "id": "Fvm3OPw04Yl2"
    },
    {
      "cell_type": "code",
      "source": [
        "number = int(input())\n",
        "print((number % 100) // 10)"
      ],
      "metadata": {
        "colab": {
          "base_uri": "https://localhost:8080/"
        },
        "id": "nsbCQxWq83r1",
        "outputId": "0c2aa7c6-99a3-4947-e3db-e214c68f0431"
      },
      "id": "nsbCQxWq83r1",
      "execution_count": null,
      "outputs": [
        {
          "output_type": "stream",
          "name": "stdout",
          "text": [
            "458\n",
            "5\n"
          ]
        }
      ]
    },
    {
      "cell_type": "code",
      "source": [
        "print(4 + 2)\n",
        "print(4 - 2)\n",
        "print(4 * 2)\n",
        "print(4 / 3)\n",
        "\n",
        "print(5 // 2)\n",
        "print(3 % 2)\n",
        "print(3 ** 7)\n",
        "print(3 ** (1 / 2))"
      ],
      "metadata": {
        "id": "ny4HTVDnGz_q"
      },
      "id": "ny4HTVDnGz_q",
      "execution_count": null,
      "outputs": []
    },
    {
      "cell_type": "markdown",
      "source": [
        "###### Задание 4\n",
        "\n",
        "На вход подается трёхзначное число. Найдите сумму его цифр."
      ],
      "metadata": {
        "id": "zCWc6gZX0v87"
      },
      "id": "zCWc6gZX0v87"
    },
    {
      "cell_type": "code",
      "source": [
        "number = int(input())\n",
        "n1 = number // 100\n",
        "n2 = (number % 100) // 10\n",
        "n3 = number % 10\n",
        "print(n1 + n2 + n3)"
      ],
      "metadata": {
        "colab": {
          "base_uri": "https://localhost:8080/"
        },
        "id": "yOLarpTV1HDs",
        "outputId": "03f8d26b-1e91-423e-b144-c80dc3cd9921"
      },
      "id": "yOLarpTV1HDs",
      "execution_count": null,
      "outputs": [
        {
          "output_type": "stream",
          "name": "stdout",
          "text": [
            "478\n",
            "19\n"
          ]
        }
      ]
    },
    {
      "cell_type": "code",
      "source": [
        "number = int(input())\n",
        "print(number // 100 + (number % 100) // 10 + number % 10)"
      ],
      "metadata": {
        "colab": {
          "base_uri": "https://localhost:8080/"
        },
        "id": "o5_FX2TcID1u",
        "outputId": "e10930f4-23fc-41b7-8f57-8dd224874bb0"
      },
      "id": "o5_FX2TcID1u",
      "execution_count": null,
      "outputs": [
        {
          "output_type": "stream",
          "name": "stdout",
          "text": [
            "178\n",
            "16\n"
          ]
        }
      ]
    },
    {
      "cell_type": "markdown",
      "id": "3Xsq-08xIHDR",
      "metadata": {
        "id": "3Xsq-08xIHDR"
      },
      "source": [
        "###### float"
      ]
    },
    {
      "cell_type": "code",
      "execution_count": null,
      "id": "P_UXjvbaJjvk",
      "metadata": {
        "colab": {
          "base_uri": "https://localhost:8080/"
        },
        "id": "P_UXjvbaJjvk",
        "outputId": "de42875c-d709-44bf-c839-79a04de0c607"
      },
      "outputs": [
        {
          "output_type": "stream",
          "name": "stdout",
          "text": [
            "<class 'float'>\n"
          ]
        }
      ],
      "source": [
        "float_num = 2.73\n",
        "print(type(float_num))"
      ]
    },
    {
      "cell_type": "code",
      "source": [
        "float(8)"
      ],
      "metadata": {
        "colab": {
          "base_uri": "https://localhost:8080/"
        },
        "id": "jnGwVPNV1nhD",
        "outputId": "4c7d3920-5d62-4bf7-9a56-9b4f4f2e5a66"
      },
      "id": "jnGwVPNV1nhD",
      "execution_count": null,
      "outputs": [
        {
          "output_type": "execute_result",
          "data": {
            "text/plain": [
              "8.0"
            ]
          },
          "metadata": {},
          "execution_count": 25
        }
      ]
    },
    {
      "cell_type": "code",
      "source": [
        "float(\"8.9\")"
      ],
      "metadata": {
        "colab": {
          "base_uri": "https://localhost:8080/"
        },
        "id": "Vet9HtcA1tFp",
        "outputId": "fd08f434-fd21-46c2-a6e6-ed466fa6122a"
      },
      "id": "Vet9HtcA1tFp",
      "execution_count": null,
      "outputs": [
        {
          "output_type": "execute_result",
          "data": {
            "text/plain": [
              "8.9"
            ]
          },
          "metadata": {},
          "execution_count": 28
        }
      ]
    },
    {
      "cell_type": "code",
      "execution_count": null,
      "id": "nvNRi1lFLHkS",
      "metadata": {
        "colab": {
          "base_uri": "https://localhost:8080/",
          "height": 158
        },
        "id": "nvNRi1lFLHkS",
        "outputId": "df027d1e-ff8f-47fb-a049-2010c002f4f3"
      },
      "outputs": [
        {
          "name": "stdout",
          "output_type": "stream",
          "text": [
            "5,7\n"
          ]
        },
        {
          "output_type": "error",
          "ename": "ValueError",
          "evalue": "could not convert string to float: '5,7'",
          "traceback": [
            "\u001b[0;31m---------------------------------------------------------------------------\u001b[0m",
            "\u001b[0;31mValueError\u001b[0m                                Traceback (most recent call last)",
            "\u001b[0;32m<ipython-input-31-423ffdd7ffc8>\u001b[0m in \u001b[0;36m<cell line: 1>\u001b[0;34m()\u001b[0m\n\u001b[0;32m----> 1\u001b[0;31m \u001b[0mfloat_num\u001b[0m \u001b[0;34m=\u001b[0m \u001b[0mfloat\u001b[0m\u001b[0;34m(\u001b[0m\u001b[0minput\u001b[0m\u001b[0;34m(\u001b[0m\u001b[0;34m)\u001b[0m\u001b[0;34m)\u001b[0m\u001b[0;34m\u001b[0m\u001b[0;34m\u001b[0m\u001b[0m\n\u001b[0m",
            "\u001b[0;31mValueError\u001b[0m: could not convert string to float: '5,7'"
          ]
        }
      ],
      "source": [
        "float_num = float(input())"
      ]
    },
    {
      "cell_type": "code",
      "source": [
        "float_num"
      ],
      "metadata": {
        "colab": {
          "base_uri": "https://localhost:8080/"
        },
        "id": "bWK7Gu6QziXB",
        "outputId": "e89070c0-b372-4a04-a9e4-768dfb60c1be"
      },
      "id": "bWK7Gu6QziXB",
      "execution_count": null,
      "outputs": [
        {
          "output_type": "execute_result",
          "data": {
            "text/plain": [
              "5.6"
            ]
          },
          "metadata": {},
          "execution_count": 30
        }
      ]
    },
    {
      "cell_type": "code",
      "source": [
        "print(2.3 / 2)\n",
        "print(2,3 / 2)"
      ],
      "metadata": {
        "colab": {
          "base_uri": "https://localhost:8080/"
        },
        "id": "TCPQQZWB1w_n",
        "outputId": "e1e60f48-445d-4972-bad1-9a0b5a3c4bd3"
      },
      "id": "TCPQQZWB1w_n",
      "execution_count": null,
      "outputs": [
        {
          "output_type": "stream",
          "name": "stdout",
          "text": [
            "1.15\n",
            "2 1.5\n"
          ]
        }
      ]
    },
    {
      "cell_type": "code",
      "source": [
        "print(4 / 2)"
      ],
      "metadata": {
        "colab": {
          "base_uri": "https://localhost:8080/"
        },
        "id": "NYVYfRUz139h",
        "outputId": "65b4b3a3-0b58-4c44-8174-5206ee4b88fd"
      },
      "id": "NYVYfRUz139h",
      "execution_count": null,
      "outputs": [
        {
          "output_type": "stream",
          "name": "stdout",
          "text": [
            "2.0\n"
          ]
        }
      ]
    },
    {
      "cell_type": "code",
      "source": [
        "print(0.1 + 0.2) # вот почему работать с float нужно осторожно"
      ],
      "metadata": {
        "colab": {
          "base_uri": "https://localhost:8080/"
        },
        "id": "y8zAUws415nd",
        "outputId": "d9d08756-82a6-4f8d-dca6-4fcf8d6f49d2"
      },
      "id": "y8zAUws415nd",
      "execution_count": null,
      "outputs": [
        {
          "output_type": "stream",
          "name": "stdout",
          "text": [
            "0.30000000000000004\n"
          ]
        }
      ]
    },
    {
      "cell_type": "code",
      "source": [
        "0.1 + 0.2 == 0.3"
      ],
      "metadata": {
        "colab": {
          "base_uri": "https://localhost:8080/"
        },
        "id": "CGFwefVbzv5w",
        "outputId": "68e8fd9c-56f7-4d5c-e18d-1c655e059f75"
      },
      "id": "CGFwefVbzv5w",
      "execution_count": null,
      "outputs": [
        {
          "output_type": "execute_result",
          "data": {
            "text/plain": [
              "False"
            ]
          },
          "metadata": {},
          "execution_count": 36
        }
      ]
    },
    {
      "cell_type": "code",
      "source": [
        "1.143**1000"
      ],
      "metadata": {
        "colab": {
          "base_uri": "https://localhost:8080/"
        },
        "id": "Uj09rq4t3i-6",
        "outputId": "9afb0de7-5658-437d-8dac-277dffd2da5b"
      },
      "id": "Uj09rq4t3i-6",
      "execution_count": null,
      "outputs": [
        {
          "output_type": "execute_result",
          "data": {
            "text/plain": [
              "1.1123216627018363e+58"
            ]
          },
          "metadata": {},
          "execution_count": 134
        }
      ]
    },
    {
      "cell_type": "markdown",
      "id": "931370ad",
      "metadata": {
        "id": "931370ad"
      },
      "source": [
        "### Строки (str)"
      ]
    },
    {
      "cell_type": "code",
      "source": [
        "string = 'abc'\n",
        "print(type(string))"
      ],
      "metadata": {
        "colab": {
          "base_uri": "https://localhost:8080/"
        },
        "id": "gz8g0liz2GPV",
        "outputId": "708f7f8f-ea3e-46f6-fcb7-7b811bad31c1"
      },
      "id": "gz8g0liz2GPV",
      "execution_count": null,
      "outputs": [
        {
          "output_type": "stream",
          "name": "stdout",
          "text": [
            "<class 'str'>\n"
          ]
        }
      ]
    },
    {
      "cell_type": "code",
      "source": [],
      "metadata": {
        "id": "kI2BNgDTz1Da"
      },
      "id": "kI2BNgDTz1Da",
      "execution_count": null,
      "outputs": []
    },
    {
      "cell_type": "code",
      "execution_count": null,
      "id": "17cc4717",
      "metadata": {
        "id": "17cc4717",
        "outputId": "e7af1301-288d-4932-fca1-5003f8fa1f4d",
        "colab": {
          "base_uri": "https://localhost:8080/"
        }
      },
      "outputs": [
        {
          "output_type": "stream",
          "name": "stdout",
          "text": [
            "3\n",
            "12\n",
            "12\n"
          ]
        }
      ],
      "source": [
        "print(1 + 2)\n",
        "print('1' + '2')\n",
        "print(str(1) + str(2))"
      ]
    },
    {
      "cell_type": "code",
      "source": [
        "str(7)"
      ],
      "metadata": {
        "colab": {
          "base_uri": "https://localhost:8080/",
          "height": 36
        },
        "id": "Umlw-V-cz8Bz",
        "outputId": "ed81998f-c0aa-417f-c1c6-b59f49fc5af0"
      },
      "id": "Umlw-V-cz8Bz",
      "execution_count": null,
      "outputs": [
        {
          "output_type": "execute_result",
          "data": {
            "text/plain": [
              "'7'"
            ],
            "application/vnd.google.colaboratory.intrinsic+json": {
              "type": "string"
            }
          },
          "metadata": {},
          "execution_count": 39
        }
      ]
    },
    {
      "cell_type": "code",
      "source": [
        "'abc' + 'def'"
      ],
      "metadata": {
        "colab": {
          "base_uri": "https://localhost:8080/",
          "height": 36
        },
        "id": "YHik8HD32vaj",
        "outputId": "097ec2f3-7105-48d0-84c7-7c428caa9201"
      },
      "id": "YHik8HD32vaj",
      "execution_count": null,
      "outputs": [
        {
          "output_type": "execute_result",
          "data": {
            "text/plain": [
              "'abcdef'"
            ],
            "application/vnd.google.colaboratory.intrinsic+json": {
              "type": "string"
            }
          },
          "metadata": {},
          "execution_count": 41
        }
      ]
    },
    {
      "cell_type": "code",
      "source": [
        "'abc' * 20"
      ],
      "metadata": {
        "colab": {
          "base_uri": "https://localhost:8080/",
          "height": 36
        },
        "id": "NbtitEZr2zLb",
        "outputId": "89721700-6526-42d9-e630-a7d4df6899a3"
      },
      "id": "NbtitEZr2zLb",
      "execution_count": null,
      "outputs": [
        {
          "output_type": "execute_result",
          "data": {
            "text/plain": [
              "'abcabcabcabcabcabcabcabcabcabcabcabcabcabcabcabcabcabcabcabc'"
            ],
            "application/vnd.google.colaboratory.intrinsic+json": {
              "type": "string"
            }
          },
          "metadata": {},
          "execution_count": 40
        }
      ]
    },
    {
      "cell_type": "code",
      "source": [
        "'a'"
      ],
      "metadata": {
        "colab": {
          "base_uri": "https://localhost:8080/",
          "height": 36
        },
        "id": "5c2y418UJkIg",
        "outputId": "dfb2925b-455b-42f3-b7a4-3fd30748003a"
      },
      "id": "5c2y418UJkIg",
      "execution_count": null,
      "outputs": [
        {
          "output_type": "execute_result",
          "data": {
            "text/plain": [
              "'a'"
            ],
            "application/vnd.google.colaboratory.intrinsic+json": {
              "type": "string"
            }
          },
          "metadata": {},
          "execution_count": 139
        }
      ]
    },
    {
      "cell_type": "code",
      "execution_count": null,
      "id": "2804695c",
      "metadata": {
        "id": "2804695c",
        "outputId": "f4d3d8fa-0b71-43e6-ca5d-11b42f55ff82",
        "colab": {
          "base_uri": "https://localhost:8080/",
          "height": 36
        }
      },
      "outputs": [
        {
          "output_type": "execute_result",
          "data": {
            "text/plain": [
              "'П'"
            ],
            "application/vnd.google.colaboratory.intrinsic+json": {
              "type": "string"
            }
          },
          "metadata": {},
          "execution_count": 41
        }
      ],
      "source": [
        "'Программирование'[0]"
      ]
    },
    {
      "cell_type": "code",
      "execution_count": null,
      "id": "79949486",
      "metadata": {
        "id": "79949486",
        "outputId": "b045cf13-d019-4eb9-aa3f-2f28a1bc8e59",
        "colab": {
          "base_uri": "https://localhost:8080/",
          "height": 36
        }
      },
      "outputs": [
        {
          "output_type": "execute_result",
          "data": {
            "text/plain": [
              "'о'"
            ],
            "application/vnd.google.colaboratory.intrinsic+json": {
              "type": "string"
            }
          },
          "metadata": {},
          "execution_count": 142
        }
      ],
      "source": [
        "'Программирование'[2]"
      ]
    },
    {
      "cell_type": "code",
      "execution_count": null,
      "id": "b49de262",
      "metadata": {
        "id": "b49de262",
        "outputId": "6065f9da-d8af-4f88-8a35-c302c000586d",
        "colab": {
          "base_uri": "https://localhost:8080/",
          "height": 36
        }
      },
      "outputs": [
        {
          "output_type": "execute_result",
          "data": {
            "text/plain": [
              "'е'"
            ],
            "application/vnd.google.colaboratory.intrinsic+json": {
              "type": "string"
            }
          },
          "metadata": {},
          "execution_count": 42
        }
      ],
      "source": [
        "'Программирование'[-1]"
      ]
    },
    {
      "cell_type": "code",
      "execution_count": null,
      "id": "1V5SwrFGyse_",
      "metadata": {
        "colab": {
          "base_uri": "https://localhost:8080/",
          "height": 36
        },
        "id": "1V5SwrFGyse_",
        "outputId": "7961e121-64da-4eb9-ae50-64c007c2538d"
      },
      "outputs": [
        {
          "output_type": "execute_result",
          "data": {
            "text/plain": [
              "'н'"
            ],
            "application/vnd.google.colaboratory.intrinsic+json": {
              "type": "string"
            }
          },
          "metadata": {},
          "execution_count": 144
        }
      ],
      "source": [
        "'Программирование'[-3]"
      ]
    },
    {
      "cell_type": "code",
      "execution_count": null,
      "id": "6ahjU7ANyvEp",
      "metadata": {
        "colab": {
          "base_uri": "https://localhost:8080/",
          "height": 141
        },
        "id": "6ahjU7ANyvEp",
        "outputId": "3e521215-8262-4250-ccb0-aebef69206ea"
      },
      "outputs": [
        {
          "output_type": "error",
          "ename": "IndexError",
          "evalue": "string index out of range",
          "traceback": [
            "\u001b[0;31m---------------------------------------------------------------------------\u001b[0m",
            "\u001b[0;31mIndexError\u001b[0m                                Traceback (most recent call last)",
            "\u001b[0;32m<ipython-input-43-f96fa4c82b95>\u001b[0m in \u001b[0;36m<cell line: 1>\u001b[0;34m()\u001b[0m\n\u001b[0;32m----> 1\u001b[0;31m \u001b[0;34m'Программирование'\u001b[0m\u001b[0;34m[\u001b[0m\u001b[0;36m200\u001b[0m\u001b[0;34m]\u001b[0m\u001b[0;34m\u001b[0m\u001b[0;34m\u001b[0m\u001b[0m\n\u001b[0m",
            "\u001b[0;31mIndexError\u001b[0m: string index out of range"
          ]
        }
      ],
      "source": [
        "'Программирование'[200]"
      ]
    },
    {
      "cell_type": "code",
      "source": [
        "string[0] = 'b'"
      ],
      "metadata": {
        "colab": {
          "base_uri": "https://localhost:8080/",
          "height": 141
        },
        "id": "2LrehmNgJ7Dg",
        "outputId": "1004fb15-a7f0-482b-b7af-2d0614c275f9"
      },
      "id": "2LrehmNgJ7Dg",
      "execution_count": null,
      "outputs": [
        {
          "output_type": "error",
          "ename": "TypeError",
          "evalue": "'str' object does not support item assignment",
          "traceback": [
            "\u001b[0;31m---------------------------------------------------------------------------\u001b[0m",
            "\u001b[0;31mTypeError\u001b[0m                                 Traceback (most recent call last)",
            "\u001b[0;32m<ipython-input-147-dd88b33a8639>\u001b[0m in \u001b[0;36m<cell line: 1>\u001b[0;34m()\u001b[0m\n\u001b[0;32m----> 1\u001b[0;31m \u001b[0mstring\u001b[0m\u001b[0;34m[\u001b[0m\u001b[0;36m0\u001b[0m\u001b[0;34m]\u001b[0m \u001b[0;34m=\u001b[0m \u001b[0;34m'b'\u001b[0m\u001b[0;34m\u001b[0m\u001b[0;34m\u001b[0m\u001b[0m\n\u001b[0m",
            "\u001b[0;31mTypeError\u001b[0m: 'str' object does not support item assignment"
          ]
        }
      ]
    },
    {
      "cell_type": "code",
      "source": [
        "string = 'bcdefg'"
      ],
      "metadata": {
        "id": "TdcVf8nZKCuR"
      },
      "id": "TdcVf8nZKCuR",
      "execution_count": null,
      "outputs": []
    },
    {
      "cell_type": "code",
      "source": [
        "string = 'Программирование'\n",
        "string[0]"
      ],
      "metadata": {
        "colab": {
          "base_uri": "https://localhost:8080/",
          "height": 36
        },
        "id": "fr1lxMAJ3XC9",
        "outputId": "4d288918-237b-430f-8b39-985082577ccd"
      },
      "id": "fr1lxMAJ3XC9",
      "execution_count": null,
      "outputs": [
        {
          "output_type": "execute_result",
          "data": {
            "text/plain": [
              "'П'"
            ],
            "application/vnd.google.colaboratory.intrinsic+json": {
              "type": "string"
            }
          },
          "metadata": {},
          "execution_count": 44
        }
      ]
    },
    {
      "cell_type": "code",
      "source": [
        "string[5:10]"
      ],
      "metadata": {
        "colab": {
          "base_uri": "https://localhost:8080/",
          "height": 36
        },
        "id": "y-Ffv0efKv29",
        "outputId": "a3842e55-4137-429a-d24e-356e70ec92de"
      },
      "id": "y-Ffv0efKv29",
      "execution_count": null,
      "outputs": [
        {
          "output_type": "execute_result",
          "data": {
            "text/plain": [
              "'аммир'"
            ],
            "application/vnd.google.colaboratory.intrinsic+json": {
              "type": "string"
            }
          },
          "metadata": {},
          "execution_count": 45
        }
      ]
    },
    {
      "cell_type": "code",
      "source": [
        "string[5:12:2]"
      ],
      "metadata": {
        "colab": {
          "base_uri": "https://localhost:8080/",
          "height": 36
        },
        "id": "sWqFhLjcK5x8",
        "outputId": "746338a8-4877-4d25-9db8-e1aa84c0ef12"
      },
      "id": "sWqFhLjcK5x8",
      "execution_count": null,
      "outputs": [
        {
          "output_type": "execute_result",
          "data": {
            "text/plain": [
              "'амрв'"
            ],
            "application/vnd.google.colaboratory.intrinsic+json": {
              "type": "string"
            }
          },
          "metadata": {},
          "execution_count": 46
        }
      ]
    },
    {
      "cell_type": "code",
      "source": [
        "string[12:14:-2]"
      ],
      "metadata": {
        "colab": {
          "base_uri": "https://localhost:8080/",
          "height": 36
        },
        "id": "XOSrKNxULEgN",
        "outputId": "8c1573e7-e86b-4f42-ea0f-fb666b3adae4"
      },
      "id": "XOSrKNxULEgN",
      "execution_count": null,
      "outputs": [
        {
          "output_type": "execute_result",
          "data": {
            "text/plain": [
              "''"
            ],
            "application/vnd.google.colaboratory.intrinsic+json": {
              "type": "string"
            }
          },
          "metadata": {},
          "execution_count": 48
        }
      ]
    },
    {
      "cell_type": "code",
      "source": [
        "string[:8]"
      ],
      "metadata": {
        "colab": {
          "base_uri": "https://localhost:8080/",
          "height": 36
        },
        "id": "KlB-F9i6LNLm",
        "outputId": "9bd3bf3a-cb9f-4c12-c2a7-c2b5db0459b4"
      },
      "id": "KlB-F9i6LNLm",
      "execution_count": null,
      "outputs": [
        {
          "output_type": "execute_result",
          "data": {
            "text/plain": [
              "'Программ'"
            ],
            "application/vnd.google.colaboratory.intrinsic+json": {
              "type": "string"
            }
          },
          "metadata": {},
          "execution_count": 49
        }
      ]
    },
    {
      "cell_type": "code",
      "source": [
        "string[::]"
      ],
      "metadata": {
        "colab": {
          "base_uri": "https://localhost:8080/",
          "height": 36
        },
        "id": "G8qbBRnlLUfK",
        "outputId": "d6b804b5-0d5d-458c-eed8-95bcd04718cd"
      },
      "id": "G8qbBRnlLUfK",
      "execution_count": null,
      "outputs": [
        {
          "output_type": "execute_result",
          "data": {
            "text/plain": [
              "'Программирование'"
            ],
            "application/vnd.google.colaboratory.intrinsic+json": {
              "type": "string"
            }
          },
          "metadata": {},
          "execution_count": 50
        }
      ]
    },
    {
      "cell_type": "code",
      "source": [
        "b  = 10\n",
        "string[::3]"
      ],
      "metadata": {
        "colab": {
          "base_uri": "https://localhost:8080/",
          "height": 36
        },
        "id": "Qj9_MinD3h2v",
        "outputId": "e5a9b27f-6b1c-472b-9163-16795e57d507"
      },
      "id": "Qj9_MinD3h2v",
      "execution_count": null,
      "outputs": [
        {
          "output_type": "execute_result",
          "data": {
            "text/plain": [
              "'Пгмрае'"
            ],
            "application/vnd.google.colaboratory.intrinsic+json": {
              "type": "string"
            }
          },
          "metadata": {},
          "execution_count": 49
        }
      ]
    },
    {
      "cell_type": "code",
      "source": [
        "len(string) # длина строки (количество символов)"
      ],
      "metadata": {
        "colab": {
          "base_uri": "https://localhost:8080/"
        },
        "id": "jg92yjs32-Tu",
        "outputId": "bf9a6325-835a-4163-a727-8ba49ed55158"
      },
      "id": "jg92yjs32-Tu",
      "execution_count": null,
      "outputs": [
        {
          "output_type": "execute_result",
          "data": {
            "text/plain": [
              "16"
            ]
          },
          "metadata": {},
          "execution_count": 51
        }
      ]
    },
    {
      "cell_type": "code",
      "source": [
        "string[0]"
      ],
      "metadata": {
        "colab": {
          "base_uri": "https://localhost:8080/",
          "height": 36
        },
        "id": "d6ASKlKW3SE2",
        "outputId": "899ff272-88a6-484a-a34c-bf42edaef630"
      },
      "id": "d6ASKlKW3SE2",
      "execution_count": null,
      "outputs": [
        {
          "output_type": "execute_result",
          "data": {
            "text/plain": [
              "'П'"
            ],
            "application/vnd.google.colaboratory.intrinsic+json": {
              "type": "string"
            }
          },
          "metadata": {},
          "execution_count": 55
        }
      ]
    },
    {
      "cell_type": "code",
      "source": [
        "string"
      ],
      "metadata": {
        "colab": {
          "base_uri": "https://localhost:8080/",
          "height": 36
        },
        "id": "WHehGLqX0kZa",
        "outputId": "8b7af705-eb49-4148-f7ab-c38f746d4fa0"
      },
      "id": "WHehGLqX0kZa",
      "execution_count": null,
      "outputs": [
        {
          "output_type": "execute_result",
          "data": {
            "text/plain": [
              "'Программирование'"
            ],
            "application/vnd.google.colaboratory.intrinsic+json": {
              "type": "string"
            }
          },
          "metadata": {},
          "execution_count": 54
        }
      ]
    },
    {
      "cell_type": "code",
      "source": [
        "string[0] = \"-\" # так нельзя! Строки в питоне неизменяемые"
      ],
      "metadata": {
        "colab": {
          "base_uri": "https://localhost:8080/",
          "height": 141
        },
        "id": "E7do3FFL3IoM",
        "outputId": "9ec12536-1aa0-426b-cb1d-ab8310bcb7e5"
      },
      "id": "E7do3FFL3IoM",
      "execution_count": null,
      "outputs": [
        {
          "output_type": "error",
          "ename": "TypeError",
          "evalue": "'str' object does not support item assignment",
          "traceback": [
            "\u001b[0;31m---------------------------------------------------------------------------\u001b[0m",
            "\u001b[0;31mTypeError\u001b[0m                                 Traceback (most recent call last)",
            "\u001b[0;32m<ipython-input-56-c45cf7a462f1>\u001b[0m in \u001b[0;36m<cell line: 1>\u001b[0;34m()\u001b[0m\n\u001b[0;32m----> 1\u001b[0;31m \u001b[0mstring\u001b[0m\u001b[0;34m[\u001b[0m\u001b[0;36m0\u001b[0m\u001b[0;34m]\u001b[0m \u001b[0;34m=\u001b[0m \u001b[0;34m\"-\"\u001b[0m \u001b[0;31m# так нельзя! Строки в питоне неизменяемые\u001b[0m\u001b[0;34m\u001b[0m\u001b[0;34m\u001b[0m\u001b[0m\n\u001b[0m",
            "\u001b[0;31mTypeError\u001b[0m: 'str' object does not support item assignment"
          ]
        }
      ]
    },
    {
      "cell_type": "code",
      "source": [
        "string = 'abcde'"
      ],
      "metadata": {
        "id": "g6rPLIe_0nus"
      },
      "id": "g6rPLIe_0nus",
      "execution_count": null,
      "outputs": []
    },
    {
      "cell_type": "code",
      "source": [],
      "metadata": {
        "id": "e-VQz-AD0rhc"
      },
      "id": "e-VQz-AD0rhc",
      "execution_count": null,
      "outputs": []
    },
    {
      "cell_type": "markdown",
      "id": "PGOqM39aEGMB",
      "metadata": {
        "id": "PGOqM39aEGMB"
      },
      "source": [
        "###### Задание 5\n",
        "Представьте себя на месте сотрудников, которые делают корпоративные почты для первокурсников Вышки. Обычно такая почта состоит из первой буквы имени, первой буквы отчества и фамилии, а потом добавляется домен @edu.hse.ru . Вы решили использовать для этого Python и сделать программу, которая будет запрашивать Имя, Отчество и Фамилию латиницей, а потом выдавать адрес. Напишите такую программу."
      ]
    },
    {
      "cell_type": "markdown",
      "id": "2e8b6ac1",
      "metadata": {
        "id": "2e8b6ac1"
      },
      "source": [
        "###### Задание 6\n",
        "Пользователь вводит непустую строку. Программа должна вывести:\n",
        "\n",
        "a. последний элемент строки  \n",
        "b. все четные элементы строки (при начале нумерации с 1)  \n",
        "с. строку в обратном порядке  \n",
        "d. количество символов в строке\n",
        "\n",
        "e. строку без последнего символа"
      ]
    },
    {
      "cell_type": "code",
      "execution_count": null,
      "id": "69095f09",
      "metadata": {
        "id": "69095f09",
        "colab": {
          "base_uri": "https://localhost:8080/"
        },
        "outputId": "463d0aac-5941-4a13-adab-700b3bf3879b"
      },
      "outputs": [
        {
          "output_type": "stream",
          "name": "stdout",
          "text": [
            "abcdef\n",
            "f\n"
          ]
        }
      ],
      "source": [
        "string = input()\n",
        "print(string[-1])"
      ]
    },
    {
      "cell_type": "code",
      "source": [
        "print(string[1::2])"
      ],
      "metadata": {
        "colab": {
          "base_uri": "https://localhost:8080/"
        },
        "id": "XUlbEXGaKrp6",
        "outputId": "30ee4fc9-d4ad-48e6-b727-4bbaae3bb5c2"
      },
      "id": "XUlbEXGaKrp6",
      "execution_count": null,
      "outputs": [
        {
          "output_type": "stream",
          "name": "stdout",
          "text": [
            "bdf\n"
          ]
        }
      ]
    },
    {
      "cell_type": "code",
      "source": [
        "print(string[::-1])"
      ],
      "metadata": {
        "colab": {
          "base_uri": "https://localhost:8080/"
        },
        "id": "yZiBakXSLyR8",
        "outputId": "b8f2989a-0877-4360-be92-329519f050b2"
      },
      "id": "yZiBakXSLyR8",
      "execution_count": null,
      "outputs": [
        {
          "output_type": "stream",
          "name": "stdout",
          "text": [
            "fedcba\n"
          ]
        }
      ]
    },
    {
      "cell_type": "code",
      "source": [
        "print(len(string))"
      ],
      "metadata": {
        "colab": {
          "base_uri": "https://localhost:8080/"
        },
        "id": "qyqthT-YMBGn",
        "outputId": "f4d20665-aae5-4ecd-ffd9-3d3a88f8e37e"
      },
      "id": "qyqthT-YMBGn",
      "execution_count": null,
      "outputs": [
        {
          "output_type": "stream",
          "name": "stdout",
          "text": [
            "6\n"
          ]
        }
      ]
    },
    {
      "cell_type": "code",
      "source": [
        "print(string[:-1])"
      ],
      "metadata": {
        "colab": {
          "base_uri": "https://localhost:8080/"
        },
        "id": "mUJ3tm3hMEsd",
        "outputId": "98195fa1-50ff-445d-e9dd-f13d7de97d75"
      },
      "id": "mUJ3tm3hMEsd",
      "execution_count": null,
      "outputs": [
        {
          "output_type": "stream",
          "name": "stdout",
          "text": [
            "abcde\n"
          ]
        }
      ]
    },
    {
      "cell_type": "markdown",
      "id": "ea1f6460",
      "metadata": {
        "id": "ea1f6460"
      },
      "source": [
        "####  Логические переменные - boolean"
      ]
    },
    {
      "cell_type": "code",
      "source": [
        "a = True"
      ],
      "metadata": {
        "id": "qeVoFxHL3zu7"
      },
      "id": "qeVoFxHL3zu7",
      "execution_count": null,
      "outputs": []
    },
    {
      "cell_type": "code",
      "source": [
        "b = False"
      ],
      "metadata": {
        "id": "xRwCbO-t31Un"
      },
      "id": "xRwCbO-t31Un",
      "execution_count": null,
      "outputs": []
    },
    {
      "cell_type": "markdown",
      "id": "4KvH--02IHGZ",
      "metadata": {
        "id": "4KvH--02IHGZ"
      },
      "source": [
        "![](https://i.ibb.co/9hnLp9z/bool.png)"
      ]
    },
    {
      "cell_type": "code",
      "source": [
        "4 < 7"
      ],
      "metadata": {
        "colab": {
          "base_uri": "https://localhost:8080/"
        },
        "id": "HoF7AH7C1eJK",
        "outputId": "b8d70587-0a9d-4900-a79f-6ec62e2b6551"
      },
      "id": "HoF7AH7C1eJK",
      "execution_count": null,
      "outputs": [
        {
          "output_type": "execute_result",
          "data": {
            "text/plain": [
              "True"
            ]
          },
          "metadata": {},
          "execution_count": 61
        }
      ]
    },
    {
      "cell_type": "code",
      "source": [
        "5 == 8"
      ],
      "metadata": {
        "colab": {
          "base_uri": "https://localhost:8080/"
        },
        "id": "sxsKdEke1b9z",
        "outputId": "00ac1194-ccc4-472c-fef5-140f3af40c7a"
      },
      "id": "sxsKdEke1b9z",
      "execution_count": null,
      "outputs": [
        {
          "output_type": "execute_result",
          "data": {
            "text/plain": [
              "False"
            ]
          },
          "metadata": {},
          "execution_count": 63
        }
      ]
    },
    {
      "cell_type": "code",
      "source": [
        "(5 < 4) and (8 > 7)"
      ],
      "metadata": {
        "colab": {
          "base_uri": "https://localhost:8080/"
        },
        "id": "ZcIsl7av1qJI",
        "outputId": "fe278ebf-48e9-43ee-b8e0-14e6bf118fa2"
      },
      "id": "ZcIsl7av1qJI",
      "execution_count": null,
      "outputs": [
        {
          "output_type": "execute_result",
          "data": {
            "text/plain": [
              "False"
            ]
          },
          "metadata": {},
          "execution_count": 66
        }
      ]
    },
    {
      "cell_type": "code",
      "source": [
        "bool(0)"
      ],
      "metadata": {
        "colab": {
          "base_uri": "https://localhost:8080/"
        },
        "id": "W-NAMdpR11Qf",
        "outputId": "16dd9320-7de6-40f8-872f-963e03b09a69"
      },
      "id": "W-NAMdpR11Qf",
      "execution_count": null,
      "outputs": [
        {
          "output_type": "execute_result",
          "data": {
            "text/plain": [
              "False"
            ]
          },
          "metadata": {},
          "execution_count": 69
        }
      ]
    },
    {
      "cell_type": "code",
      "source": [
        "bool('')"
      ],
      "metadata": {
        "colab": {
          "base_uri": "https://localhost:8080/"
        },
        "id": "cAZdaKcb16Vr",
        "outputId": "04f0cb51-88b9-49ab-8fad-7bbfb052365e"
      },
      "id": "cAZdaKcb16Vr",
      "execution_count": null,
      "outputs": [
        {
          "output_type": "execute_result",
          "data": {
            "text/plain": [
              "False"
            ]
          },
          "metadata": {},
          "execution_count": 70
        }
      ]
    },
    {
      "cell_type": "code",
      "source": [
        "bool('abc')"
      ],
      "metadata": {
        "colab": {
          "base_uri": "https://localhost:8080/"
        },
        "id": "XYsjHbab18Bz",
        "outputId": "a3ebc6e7-cfaa-4dd7-bffc-1be6fec4f8f9"
      },
      "id": "XYsjHbab18Bz",
      "execution_count": null,
      "outputs": [
        {
          "output_type": "execute_result",
          "data": {
            "text/plain": [
              "True"
            ]
          },
          "metadata": {},
          "execution_count": 71
        }
      ]
    },
    {
      "cell_type": "code",
      "source": [
        "print(a)"
      ],
      "metadata": {
        "colab": {
          "base_uri": "https://localhost:8080/"
        },
        "id": "-z7O5K_92UOb",
        "outputId": "b0cb43b0-2ad8-4573-a59c-a650a83ac8b6"
      },
      "id": "-z7O5K_92UOb",
      "execution_count": null,
      "outputs": [
        {
          "output_type": "stream",
          "name": "stdout",
          "text": [
            "True\n"
          ]
        }
      ]
    },
    {
      "cell_type": "code",
      "source": [
        "str(254)"
      ],
      "metadata": {
        "colab": {
          "base_uri": "https://localhost:8080/",
          "height": 36
        },
        "id": "MfWH1yRk08gf",
        "outputId": "35b44f87-1858-488c-ebf5-0ae725756bbc"
      },
      "id": "MfWH1yRk08gf",
      "execution_count": null,
      "outputs": [
        {
          "output_type": "execute_result",
          "data": {
            "text/plain": [
              "'254'"
            ],
            "application/vnd.google.colaboratory.intrinsic+json": {
              "type": "string"
            }
          },
          "metadata": {},
          "execution_count": 58
        }
      ]
    },
    {
      "cell_type": "code",
      "execution_count": null,
      "id": "c1efc857",
      "metadata": {
        "id": "c1efc857",
        "outputId": "bfec7c8a-a365-4351-bfcd-83a79b646aa3",
        "colab": {
          "base_uri": "https://localhost:8080/"
        }
      },
      "outputs": [
        {
          "output_type": "stream",
          "name": "stdout",
          "text": [
            "<class 'bool'>\n"
          ]
        }
      ],
      "source": [
        "print(type(False))"
      ]
    },
    {
      "cell_type": "code",
      "execution_count": null,
      "id": "48a0d2cf",
      "metadata": {
        "id": "48a0d2cf",
        "outputId": "70208b57-dbf6-4f5d-dd1d-b2bf671970eb",
        "colab": {
          "base_uri": "https://localhost:8080/"
        }
      },
      "outputs": [
        {
          "output_type": "stream",
          "name": "stdout",
          "text": [
            "<class 'str'>\n"
          ]
        }
      ],
      "source": [
        "print(type('True'))"
      ]
    },
    {
      "cell_type": "code",
      "source": [
        "a = 2 > 3"
      ],
      "metadata": {
        "id": "X1TXvn5aM3-7"
      },
      "id": "X1TXvn5aM3-7",
      "execution_count": null,
      "outputs": []
    },
    {
      "cell_type": "code",
      "source": [
        "a"
      ],
      "metadata": {
        "colab": {
          "base_uri": "https://localhost:8080/"
        },
        "id": "kBfSXEXDM7EC",
        "outputId": "2392e3c1-4e8a-4f65-df3f-982a97722669"
      },
      "id": "kBfSXEXDM7EC",
      "execution_count": null,
      "outputs": [
        {
          "output_type": "execute_result",
          "data": {
            "text/plain": [
              "False"
            ]
          },
          "metadata": {},
          "execution_count": 173
        }
      ]
    },
    {
      "cell_type": "code",
      "source": [
        "print(2 > 3)"
      ],
      "metadata": {
        "colab": {
          "base_uri": "https://localhost:8080/"
        },
        "id": "PpCykptAkdsv",
        "outputId": "a0d2dc71-7b18-434a-a89c-34de517458f7"
      },
      "id": "PpCykptAkdsv",
      "execution_count": null,
      "outputs": [
        {
          "output_type": "stream",
          "name": "stdout",
          "text": [
            "False\n"
          ]
        }
      ]
    },
    {
      "cell_type": "code",
      "execution_count": null,
      "id": "5b313a2f",
      "metadata": {
        "id": "5b313a2f",
        "outputId": "292030a7-6eb9-4e54-de3d-aab070c6b515",
        "colab": {
          "base_uri": "https://localhost:8080/"
        }
      },
      "outputs": [
        {
          "output_type": "stream",
          "name": "stdout",
          "text": [
            "True\n"
          ]
        }
      ],
      "source": [
        "print(34 == 30+4)"
      ]
    },
    {
      "cell_type": "code",
      "execution_count": null,
      "id": "7c058f7c",
      "metadata": {
        "id": "7c058f7c",
        "outputId": "b5f38aa3-3086-42d9-b70b-b1df565848f3",
        "colab": {
          "base_uri": "https://localhost:8080/"
        }
      },
      "outputs": [
        {
          "output_type": "stream",
          "name": "stdout",
          "text": [
            "False\n"
          ]
        }
      ],
      "source": [
        "print(35 == 30-5)"
      ]
    },
    {
      "cell_type": "code",
      "source": [
        "print(35 != 30-5)"
      ],
      "metadata": {
        "colab": {
          "base_uri": "https://localhost:8080/"
        },
        "id": "zDhS-hFRNOGF",
        "outputId": "38d25569-b473-477a-b8ed-068225992ba8"
      },
      "id": "zDhS-hFRNOGF",
      "execution_count": null,
      "outputs": [
        {
          "output_type": "stream",
          "name": "stdout",
          "text": [
            "True\n"
          ]
        }
      ]
    },
    {
      "cell_type": "code",
      "source": [
        "lst = list()"
      ],
      "metadata": {
        "id": "spQhpzTV2TIX"
      },
      "id": "spQhpzTV2TIX",
      "execution_count": null,
      "outputs": []
    },
    {
      "cell_type": "code",
      "source": [
        "a = int()"
      ],
      "metadata": {
        "id": "5lvsuj432V7Y"
      },
      "id": "5lvsuj432V7Y",
      "execution_count": null,
      "outputs": []
    },
    {
      "cell_type": "code",
      "source": [
        "a"
      ],
      "metadata": {
        "colab": {
          "base_uri": "https://localhost:8080/"
        },
        "id": "SWv7OyEv2aH4",
        "outputId": "61cb60a7-4087-4251-f96d-06d5327cc146"
      },
      "id": "SWv7OyEv2aH4",
      "execution_count": null,
      "outputs": [
        {
          "output_type": "execute_result",
          "data": {
            "text/plain": [
              "0"
            ]
          },
          "metadata": {},
          "execution_count": 80
        }
      ]
    },
    {
      "cell_type": "code",
      "source": [
        "bool(a)"
      ],
      "metadata": {
        "colab": {
          "base_uri": "https://localhost:8080/"
        },
        "id": "HnwwM45Ck-2r",
        "outputId": "12c9f5f9-3419-4c4c-f52a-3171ec931ff2"
      },
      "id": "HnwwM45Ck-2r",
      "execution_count": null,
      "outputs": [
        {
          "output_type": "execute_result",
          "data": {
            "text/plain": [
              "False"
            ]
          },
          "metadata": {},
          "execution_count": 81
        }
      ]
    },
    {
      "cell_type": "code",
      "source": [
        "bool([1])"
      ],
      "metadata": {
        "colab": {
          "base_uri": "https://localhost:8080/"
        },
        "id": "iX2KTn_wYh7s",
        "outputId": "9143b3e5-7565-4c47-9edf-0a063da957d2"
      },
      "id": "iX2KTn_wYh7s",
      "execution_count": null,
      "outputs": [
        {
          "output_type": "execute_result",
          "data": {
            "text/plain": [
              "True"
            ]
          },
          "metadata": {},
          "execution_count": 75
        }
      ]
    },
    {
      "cell_type": "code",
      "source": [
        "bool(-2)"
      ],
      "metadata": {
        "colab": {
          "base_uri": "https://localhost:8080/"
        },
        "id": "lqDYFEGBlF9z",
        "outputId": "96b7fb02-6df7-4085-a0a7-67b5c8ce1d93"
      },
      "id": "lqDYFEGBlF9z",
      "execution_count": null,
      "outputs": [
        {
          "output_type": "execute_result",
          "data": {
            "text/plain": [
              "True"
            ]
          },
          "metadata": {},
          "execution_count": 181
        }
      ]
    },
    {
      "cell_type": "code",
      "source": [
        "bool(2)"
      ],
      "metadata": {
        "colab": {
          "base_uri": "https://localhost:8080/"
        },
        "id": "IWsraDSNYsB0",
        "outputId": "0b80c420-f6cb-44bc-d04e-d3c17660bcb5"
      },
      "id": "IWsraDSNYsB0",
      "execution_count": null,
      "outputs": [
        {
          "output_type": "execute_result",
          "data": {
            "text/plain": [
              "True"
            ]
          },
          "metadata": {},
          "execution_count": 182
        }
      ]
    },
    {
      "cell_type": "code",
      "source": [
        "bool(0)"
      ],
      "metadata": {
        "colab": {
          "base_uri": "https://localhost:8080/"
        },
        "id": "bf0GTNGhNebm",
        "outputId": "fb1ca254-646c-45e3-d3ea-4b6c9c9c073d"
      },
      "id": "bf0GTNGhNebm",
      "execution_count": null,
      "outputs": [
        {
          "output_type": "execute_result",
          "data": {
            "text/plain": [
              "False"
            ]
          },
          "metadata": {},
          "execution_count": 183
        }
      ]
    },
    {
      "cell_type": "code",
      "source": [
        "a = 2 == 3\n",
        "print(a)"
      ],
      "metadata": {
        "colab": {
          "base_uri": "https://localhost:8080/"
        },
        "id": "0MIBFkEqlHGC",
        "outputId": "d988bfa1-c529-41ca-9ed7-ea387eda5e63"
      },
      "id": "0MIBFkEqlHGC",
      "execution_count": null,
      "outputs": [
        {
          "output_type": "stream",
          "name": "stdout",
          "text": [
            "False\n"
          ]
        }
      ]
    },
    {
      "cell_type": "code",
      "source": [
        "n = int(input())\n",
        "print(n // 10 % 10)"
      ],
      "metadata": {
        "colab": {
          "base_uri": "https://localhost:8080/"
        },
        "id": "gwNP3gjLa2eD",
        "outputId": "7e0a8a40-75fd-44fa-af12-8eb1abd955f0"
      },
      "id": "gwNP3gjLa2eD",
      "execution_count": null,
      "outputs": [
        {
          "output_type": "stream",
          "name": "stdout",
          "text": [
            "53467\n",
            "6\n"
          ]
        }
      ]
    },
    {
      "cell_type": "markdown",
      "source": [
        "\n",
        " ### Условия\n",
        "\n",
        "\n",
        "Пример блока if-elif-else: <br />\n",
        "\n",
        "\n",
        "**if** условие1:<br />\n",
        "&emsp; блок инструкций 1<br />\n",
        "**elif** условие2:<br />\n",
        "&emsp; блок инструкций 2<br />\n",
        "**elif** условие3:<br />\n",
        "&emsp; блок инструкций 3<br />\n",
        "**else**: <br />\n",
        "&emsp; блок инструкций 4<br />\n",
        "блок инструкций 5<br />\n",
        "\n",
        "Все команды пишутся с отступом.\n",
        "**elif** может быть любое количество или может не быть совсем. **else** также может не быть.\n",
        "\n",
        "В примере выше вначале проверяется условие1. Если оно верно, выполняется блок инструкций 1, далее мы сразу переходим к блоку инструкций 5.  \n",
        "Если условие1 неверно, проверяется условие 2: если оно верно, то далее выполняется блок инструкций 2 и затем - блок инструкций 5.  \n",
        "Если условие2 также неверно, проверяется условие 3: если оно верно, то далее выполняется блок инструкций 3 и затем - блок инструкций 5.  \n",
        "Если условие 3 также неверно, то выполняются блоки инструкций 4 и 5.  \n",
        "\n",
        "Часто в качестве проверяемого условия перед if используется результат вычисления одного из следующих операторов сравнения:\n",
        "\n",
        "<center>\n",
        "    <table>\n",
        "        <tr>\n",
        "            <th>Логическое выражение </th>\n",
        "            <th> Значение </th>\n",
        "        </tr>\n",
        "        <tr><td>&lt;</td><td> Первый операнд меньше второго </td></tr>\n",
        "        <tr><td>&gt;</td><td> Первый операнд больше второго</td></tr>\n",
        "        <tr><td>&lt;=</td><td> Меньше или равно</td></tr>\n",
        "        <tr><td>&gt;=</td><td> Больше или равно</td></tr>\n",
        "        <tr><td>==</td><td> Два операнда равны </td></tr>\n",
        "        <tr><td>!=</td><td> Два операнда не равны</td></tr>\n",
        "    </table>\n",
        "</center>\n",
        "\n",
        "Чтобы записать сложное логическое выражение, используются \"и\", \"или\" и \"не\": в питоне они обозначаются как **and**, **or** и **not** соответственно.\n",
        "\n",
        "Операции **and** и **or** записываются между двумя операндами, например x < 3 or y > 2.\n",
        "\n",
        "Операция **not**  записывается перед единственным своим операндом. Например, not x > 0."
      ],
      "metadata": {
        "id": "99cIzZfkV3PH"
      },
      "id": "99cIzZfkV3PH"
    },
    {
      "cell_type": "code",
      "source": [
        "not(2 > 3)"
      ],
      "metadata": {
        "colab": {
          "base_uri": "https://localhost:8080/"
        },
        "id": "QQsIpoANOeBK",
        "outputId": "1ca0e7a7-812f-45a2-c07d-cf8ea0321a9d"
      },
      "id": "QQsIpoANOeBK",
      "execution_count": null,
      "outputs": [
        {
          "output_type": "execute_result",
          "data": {
            "text/plain": [
              "True"
            ]
          },
          "metadata": {},
          "execution_count": 188
        }
      ]
    },
    {
      "cell_type": "code",
      "source": [
        "(2 > 3) and (3 < 4)"
      ],
      "metadata": {
        "colab": {
          "base_uri": "https://localhost:8080/"
        },
        "id": "rMInp9SbOPZ7",
        "outputId": "54bbf0bd-c11e-45ed-f2d8-ff97c7cdc498"
      },
      "id": "rMInp9SbOPZ7",
      "execution_count": null,
      "outputs": [
        {
          "output_type": "execute_result",
          "data": {
            "text/plain": [
              "False"
            ]
          },
          "metadata": {},
          "execution_count": 186
        }
      ]
    },
    {
      "cell_type": "code",
      "source": [
        "(2 > 3) or (3 < 4)"
      ],
      "metadata": {
        "colab": {
          "base_uri": "https://localhost:8080/"
        },
        "id": "VgaP4zAqOY25",
        "outputId": "a1399904-dfa0-45a6-b86b-db12f80499ee"
      },
      "id": "VgaP4zAqOY25",
      "execution_count": null,
      "outputs": [
        {
          "output_type": "execute_result",
          "data": {
            "text/plain": [
              "True"
            ]
          },
          "metadata": {},
          "execution_count": 187
        }
      ]
    },
    {
      "cell_type": "code",
      "source": [
        "a = int(input())\n",
        "if a > 5:\n",
        "  print('Число больше 5')\n",
        "else:\n",
        "  print('Число меньше 5')"
      ],
      "metadata": {
        "colab": {
          "base_uri": "https://localhost:8080/"
        },
        "id": "UtTinuJl2rD0",
        "outputId": "7da61b06-d649-4582-8458-38c345fd013b"
      },
      "id": "UtTinuJl2rD0",
      "execution_count": null,
      "outputs": [
        {
          "output_type": "stream",
          "name": "stdout",
          "text": [
            "8\n",
            "Число больше 5\n"
          ]
        }
      ]
    },
    {
      "cell_type": "markdown",
      "source": [],
      "metadata": {
        "id": "zHfyj2ZROOvu"
      },
      "id": "zHfyj2ZROOvu"
    },
    {
      "cell_type": "markdown",
      "source": [
        "###### Задача вне нумерации\n",
        "В чем разница между двумя ячейками кода ниже? В каких случаях они будут давать разный результат?"
      ],
      "metadata": {
        "id": "g55dF6EVV-c3"
      },
      "id": "g55dF6EVV-c3"
    },
    {
      "cell_type": "code",
      "source": [
        "x = int(input())\n",
        "if x % 3 == 0:\n",
        "    print('Число делится на 3')\n",
        "if x % 2 == 0:\n",
        "    print('Число делится на 2')"
      ],
      "metadata": {
        "id": "5TXwiKElWAJs",
        "colab": {
          "base_uri": "https://localhost:8080/"
        },
        "outputId": "b59a4e59-df99-46f9-d81a-27a36a2a5852"
      },
      "id": "5TXwiKElWAJs",
      "execution_count": null,
      "outputs": [
        {
          "output_type": "stream",
          "name": "stdout",
          "text": [
            "12\n",
            "Число делится на 3\n",
            "Число делится на 2\n"
          ]
        }
      ]
    },
    {
      "cell_type": "code",
      "source": [
        "x = int(input())\n",
        "if x % 3 == 0:\n",
        "    print('Число делится на 3')\n",
        "elif x % 2 == 0:\n",
        "    print('Число делится на 2')\n"
      ],
      "metadata": {
        "id": "Q48kD0yRWAor",
        "colab": {
          "base_uri": "https://localhost:8080/"
        },
        "outputId": "327b52b6-2aa6-4e52-a982-18a8ab4fc94e"
      },
      "id": "Q48kD0yRWAor",
      "execution_count": null,
      "outputs": [
        {
          "output_type": "stream",
          "name": "stdout",
          "text": [
            "12\n",
            "Число делится на 3\n"
          ]
        }
      ]
    },
    {
      "cell_type": "markdown",
      "source": [
        "###### Задача 7\n",
        "\n",
        "Напишите программу, которая запрашивает с клавиатуры число и выводит слово \"Четное\", если оно делится на два, и \"Нечетное\" в противном случае.\n"
      ],
      "metadata": {
        "id": "OlNhSq5CWOUG"
      },
      "id": "OlNhSq5CWOUG"
    },
    {
      "cell_type": "markdown",
      "source": [
        "###### Задача 8\n",
        "\n",
        "Пользователь вводит три целых числа. Определите, сколько среди них совпадающих. Программа должна вывести одно из чисел: 3 (если все совпадают), 2 (если два совпадает) или 0 (если все числа различны)."
      ],
      "metadata": {
        "id": "W5B_cxj9WExE"
      },
      "id": "W5B_cxj9WExE"
    },
    {
      "cell_type": "code",
      "source": [
        "a == b == c"
      ],
      "metadata": {
        "id": "Y8amaSinP3Y9"
      },
      "id": "Y8amaSinP3Y9",
      "execution_count": null,
      "outputs": []
    },
    {
      "cell_type": "code",
      "source": [
        "a = int(input())\n",
        "b = int(input())\n",
        "c = int(input())\n",
        "if a == b and b == c:\n",
        "  print(3)\n",
        "elif a == b or b == c or a == c:\n",
        "  print(2)\n",
        "else:\n",
        "  print(0)"
      ],
      "metadata": {
        "colab": {
          "base_uri": "https://localhost:8080/"
        },
        "id": "PBMm-W56PmYI",
        "outputId": "35eee087-987e-4e3e-9c52-c674d94d043b"
      },
      "id": "PBMm-W56PmYI",
      "execution_count": null,
      "outputs": [
        {
          "output_type": "stream",
          "name": "stdout",
          "text": [
            "4\n",
            "2\n",
            "4\n",
            "2\n"
          ]
        }
      ]
    },
    {
      "cell_type": "markdown",
      "source": [
        "###### Задача 9\n",
        "Пользователь вводит два целых числа (каждое с новой строки)\n",
        "Если эти числа равны, выведите текст \"Числа равны\".\n",
        "В остальных случаях определите, какое число больше.\n",
        "\n",
        "**Пример ввода 1**  \n",
        "7  \n",
        "3  \n",
        "**Пример вывода 1**  \n",
        "Число 7 больше числа 3  \n",
        "\n",
        "  \n",
        "**Пример ввода 2**  \n",
        "4  \n",
        "4  \n",
        "**Пример вывода 2**  \n",
        "Числа равны  "
      ],
      "metadata": {
        "id": "f3yen7QQWRcb"
      },
      "id": "f3yen7QQWRcb"
    },
    {
      "cell_type": "code",
      "source": [
        "a = int(input())\n",
        "b = int(input())\n",
        "if a == b:\n",
        "  print('Числа равны')\n",
        "elif a > b:\n",
        "  print(f'Число {a} больше числа {b}')\n",
        "else:\n",
        "  print(f'Число {b} больше числа {a}')"
      ],
      "metadata": {
        "colab": {
          "base_uri": "https://localhost:8080/"
        },
        "id": "TcvbCrAaQeRB",
        "outputId": "30ab63f2-865d-4660-c77d-23ab0677232b"
      },
      "id": "TcvbCrAaQeRB",
      "execution_count": null,
      "outputs": [
        {
          "output_type": "stream",
          "name": "stdout",
          "text": [
            "7\n",
            "4\n",
            "Число 7 больше числа 4\n"
          ]
        }
      ]
    },
    {
      "cell_type": "markdown",
      "source": [],
      "metadata": {
        "id": "EZYnrm0aWUrZ"
      },
      "id": "EZYnrm0aWUrZ"
    },
    {
      "cell_type": "markdown",
      "source": [
        " ###### Задача 10\n",
        " Пользователь вводит строку. Если в этой строке больше 10 символов, выведите \"слишком длинно\". Если меньше 5, выведите \"недостаточно длинно\". В остальных случаях выведите \"В самый раз\""
      ],
      "metadata": {
        "id": "N79iHUwQ5rtF"
      },
      "id": "N79iHUwQ5rtF"
    },
    {
      "cell_type": "code",
      "source": [
        "string = input()\n",
        "if len(string) > 10:\n",
        "  print('слишком длинно')\n",
        "elif len(string) < 5:\n",
        "  print('недостаточно длинно')\n",
        "else:\n",
        "  print('в самый раз')"
      ],
      "metadata": {
        "colab": {
          "base_uri": "https://localhost:8080/"
        },
        "id": "SUUyIMS53f7V",
        "outputId": "af897e3c-df08-4434-b7e7-3538ea5d27b6"
      },
      "id": "SUUyIMS53f7V",
      "execution_count": null,
      "outputs": [
        {
          "output_type": "stream",
          "name": "stdout",
          "text": [
            "ывмывпвапвапва\n",
            "слишком длинно\n"
          ]
        }
      ]
    },
    {
      "cell_type": "code",
      "source": [
        "string = input()\n",
        "is_long = 1 if len(string) > 10 else 0"
      ],
      "metadata": {
        "colab": {
          "base_uri": "https://localhost:8080/"
        },
        "id": "MBAQgoFC3-cG",
        "outputId": "e70d374f-7dc3-4c1b-ec07-c2d75c5094b6"
      },
      "id": "MBAQgoFC3-cG",
      "execution_count": null,
      "outputs": [
        {
          "name": "stdout",
          "output_type": "stream",
          "text": [
            "s\n"
          ]
        }
      ]
    },
    {
      "cell_type": "code",
      "source": [
        "is_long"
      ],
      "metadata": {
        "colab": {
          "base_uri": "https://localhost:8080/"
        },
        "id": "tgf2JmY94JNH",
        "outputId": "b7e2913b-c488-43d2-94df-9871b728e8a2"
      },
      "id": "tgf2JmY94JNH",
      "execution_count": null,
      "outputs": [
        {
          "output_type": "execute_result",
          "data": {
            "text/plain": [
              "0"
            ]
          },
          "metadata": {},
          "execution_count": 89
        }
      ]
    },
    {
      "cell_type": "code",
      "source": [
        "name = 'Ассоль'\n",
        "print(f'Привет, {name}')"
      ],
      "metadata": {
        "colab": {
          "base_uri": "https://localhost:8080/"
        },
        "id": "b966Ujv44YKv",
        "outputId": "437ba79c-a176-40bc-fab0-c22a14b6ba23"
      },
      "id": "b966Ujv44YKv",
      "execution_count": null,
      "outputs": [
        {
          "output_type": "stream",
          "name": "stdout",
          "text": [
            "Привет, Ассоль\n"
          ]
        }
      ]
    },
    {
      "cell_type": "code",
      "source": [],
      "metadata": {
        "id": "f8uc0Pki4td3"
      },
      "id": "f8uc0Pki4td3",
      "execution_count": null,
      "outputs": []
    },
    {
      "cell_type": "code",
      "source": [
        "print('Привет, ' + name)"
      ],
      "metadata": {
        "colab": {
          "base_uri": "https://localhost:8080/"
        },
        "id": "_PWMi5Dm4mip",
        "outputId": "7fe3170e-550d-45bc-829a-bdff8d605162"
      },
      "id": "_PWMi5Dm4mip",
      "execution_count": null,
      "outputs": [
        {
          "output_type": "stream",
          "name": "stdout",
          "text": [
            "Привет, Ассоль\n"
          ]
        }
      ]
    },
    {
      "cell_type": "markdown",
      "source": [
        "###### Задача 11\n",
        " Дано натуральное число. Требуется определить, является ли год с данным номером високосным. Если год является високосным, то выведите YES, иначе выведите NO. Напомним, что в соответствии с григорианским календарем, год является високосным, если его номер кратен 4, но не кратен 100, а также если он кратен 400"
      ],
      "metadata": {
        "id": "ROcmTlce6A6m"
      },
      "id": "ROcmTlce6A6m"
    },
    {
      "cell_type": "code",
      "source": [
        "year = int(input())\n",
        "if ((year % 4 == 0) and (year % 100 != 0)) or year % 400 == 0:\n",
        "  print('YES')\n",
        "else:\n",
        "  print('NO')"
      ],
      "metadata": {
        "colab": {
          "base_uri": "https://localhost:8080/"
        },
        "id": "qodJRwjkROvo",
        "outputId": "b5c79eaa-a361-4cd9-9a98-0c24d96f3d68"
      },
      "id": "qodJRwjkROvo",
      "execution_count": null,
      "outputs": [
        {
          "output_type": "stream",
          "name": "stdout",
          "text": [
            "2016\n",
            "YES\n"
          ]
        }
      ]
    },
    {
      "cell_type": "markdown",
      "source": [
        "###### Задача 12\n",
        "Билет в музей стоит 1000 рублей, а для тех, кто предъявит студенческий билет — 400. Программа принимает на вход количество денег у Ани N и то, есть ли у неё студенческий билет (1, если да и 0, если нет). Программа выводит \"Да\", если Ане хватит на билет, и \"Нет\" в остальных случаях."
      ],
      "metadata": {
        "id": "K79TdMEZ7CYJ"
      },
      "id": "K79TdMEZ7CYJ"
    },
    {
      "cell_type": "code",
      "source": [],
      "metadata": {
        "id": "RsX-JsK08H3c"
      },
      "id": "RsX-JsK08H3c",
      "execution_count": null,
      "outputs": []
    }
  ],
  "metadata": {
    "colab": {
      "provenance": [],
      "include_colab_link": true
    },
    "kernelspec": {
      "display_name": "Python 3 (ipykernel)",
      "language": "python",
      "name": "python3"
    },
    "language_info": {
      "codemirror_mode": {
        "name": "ipython",
        "version": 3
      },
      "file_extension": ".py",
      "mimetype": "text/x-python",
      "name": "python",
      "nbconvert_exporter": "python",
      "pygments_lexer": "ipython3",
      "version": "3.10.9"
    }
  },
  "nbformat": 4,
  "nbformat_minor": 5
}