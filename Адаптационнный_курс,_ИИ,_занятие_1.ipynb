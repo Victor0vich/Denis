{
  "cells": [
    {
      "cell_type": "markdown",
      "metadata": {
        "id": "view-in-github",
        "colab_type": "text"
      },
      "source": [
        "<a href=\"https://colab.research.google.com/github/Victor0vich/Denis/blob/main/%D0%90%D0%B4%D0%B0%D0%BF%D1%82%D0%B0%D1%86%D0%B8%D0%BE%D0%BD%D0%BD%D0%BD%D1%8B%D0%B9_%D0%BA%D1%83%D1%80%D1%81%2C_%D0%98%D0%98%2C_%D0%B7%D0%B0%D0%BD%D1%8F%D1%82%D0%B8%D0%B5_1.ipynb\" target=\"_parent\"><img src=\"https://colab.research.google.com/assets/colab-badge.svg\" alt=\"Open In Colab\"/></a>"
      ]
    },
    {
      "cell_type": "markdown",
      "id": "ae80cf73",
      "metadata": {
        "id": "ae80cf73"
      },
      "source": [
        "# Занятие 1. Переменные. Типы данных. Условный оператор\n"
      ]
    },
    {
      "cell_type": "markdown",
      "source": [
        "**План занятия**:"
      ],
      "metadata": {
        "id": "34lLVBV3R44i"
      },
      "id": "34lLVBV3R44i"
    },
    {
      "cell_type": "markdown",
      "id": "10c93a2f",
      "metadata": {
        "id": "10c93a2f"
      },
      "source": [
        "0. Что тут происходит\n",
        "1. Python и jupyter notebook\n",
        "2. Функция print\n",
        "3. Переменные\n",
        "4. Ввод, вывод, input(). Простые типы данных. Арифметические действия\n",
        "5. Логические переменные. Логические выражения\n",
        "6. Условный оператор"
      ]
    },
    {
      "cell_type": "markdown",
      "source": [
        "### Что тут происходит\n",
        "\n",
        "#### Программа адаптационного курса\n",
        "* **(23 августа) Введение, типы данных, условный оператор**\n",
        "* (27 августа) Циклы, списки, кортежи, строки   \n",
        "* (29 августа) Множества, словари   \n"
      ],
      "metadata": {
        "id": "QmzHl_8qnB1f"
      },
      "id": "QmzHl_8qnB1f"
    },
    {
      "cell_type": "markdown",
      "source": [
        "### Python и jupyter notebook\n",
        "\n"
      ],
      "metadata": {
        "id": "vsEN-MduqXCy"
      },
      "id": "vsEN-MduqXCy"
    },
    {
      "cell_type": "markdown",
      "source": [
        "**Python** -  свободный интерпретируемый язык программирования высокого уровня с динамической типизацией.\n",
        "\n",
        "\n",
        "Плюсы:\n",
        "* Простой в освоении, хорошо подходит для новичков\n",
        "* Очень популярен в аналитике, ML, Data Science\n",
        "* Огромное сообщество\n",
        "* Много библиотек для всего на свете"
      ],
      "metadata": {
        "id": "iplht3eIsOm5"
      },
      "id": "iplht3eIsOm5"
    },
    {
      "cell_type": "markdown",
      "source": [
        "\n",
        "**Jupyter Notebook** - интерактивная среда для запуска программного кода. Удобный инструмент для анализа данных."
      ],
      "metadata": {
        "id": "6EA33PHwtqJU"
      },
      "id": "6EA33PHwtqJU"
    },
    {
      "cell_type": "markdown",
      "source": [
        "#### Anaconda\n",
        "![](https://2.bp.blogspot.com/-lOwzj1e6RpU/Wf1Kx1Ovl5I/AAAAAAAAAJY/esSu_peLFHEfxXmlnSVgTZoOHLFR2GHFgCLcBGAs/s1600/Capture2.PNG)\n",
        "\n",
        "- Где скачать: [официальный сайт](https://www.anaconda.com/download/).\n",
        "- Как поставить: действовать по инструкции, описанной [там же](https://docs.anaconda.com/anaconda/install/)."
      ],
      "metadata": {
        "id": "_UbB2huerdRN"
      },
      "id": "_UbB2huerdRN"
    },
    {
      "cell_type": "markdown",
      "source": [
        "Это ячейка с текстом."
      ],
      "metadata": {
        "id": "HfDZTJvpqjMH"
      },
      "id": "HfDZTJvpqjMH"
    },
    {
      "cell_type": "code",
      "source": [
        "print('Hello world') # а это ячейка с кодом. Всё, что написано после #, не воспринимается как код."
      ],
      "metadata": {
        "id": "1rDS30AdYCEz",
        "colab": {
          "base_uri": "https://localhost:8080/"
        },
        "outputId": "43ce727f-aa4e-4cc8-ff56-0118726ed7f7"
      },
      "id": "1rDS30AdYCEz",
      "execution_count": null,
      "outputs": [
        {
          "output_type": "stream",
          "name": "stdout",
          "text": [
            "Hello world\n"
          ]
        }
      ]
    },
    {
      "cell_type": "markdown",
      "source": [
        "### Функция print"
      ],
      "metadata": {
        "id": "kmfhg19AuXox"
      },
      "id": "kmfhg19AuXox"
    },
    {
      "cell_type": "markdown",
      "source": [
        "print — функция, которая печатает на экран то, что мы передали на вход."
      ],
      "metadata": {
        "id": "R8iDyxE8wD-E"
      },
      "id": "R8iDyxE8wD-E"
    },
    {
      "cell_type": "code",
      "source": [
        "print('Hello world', 1)\n",
        "print('Hello world', 2)\n",
        "print('Hello world', '!')"
      ],
      "metadata": {
        "colab": {
          "base_uri": "https://localhost:8080/"
        },
        "id": "0lmxy2ZqYnMK",
        "outputId": "7b76caa8-89b9-4cbb-d908-e6b951887566"
      },
      "id": "0lmxy2ZqYnMK",
      "execution_count": null,
      "outputs": [
        {
          "output_type": "stream",
          "name": "stdout",
          "text": [
            "Hello world 1\n",
            "Hello world 2\n",
            "Hello world !\n"
          ]
        }
      ]
    },
    {
      "cell_type": "code",
      "source": [
        "print(1, 2, 3)"
      ],
      "metadata": {
        "colab": {
          "base_uri": "https://localhost:8080/"
        },
        "id": "xHeRlUMvvDgG",
        "outputId": "b0739da9-b9f3-4084-dfd6-a2f764750c4f"
      },
      "id": "xHeRlUMvvDgG",
      "execution_count": null,
      "outputs": [
        {
          "output_type": "stream",
          "name": "stdout",
          "text": [
            "1 2 3\n"
          ]
        }
      ]
    },
    {
      "cell_type": "code",
      "source": [
        "print(1, 2, 3, sep=', ')"
      ],
      "metadata": {
        "colab": {
          "base_uri": "https://localhost:8080/"
        },
        "id": "x1xdXBSnvDmI",
        "outputId": "8185e282-61d3-4424-cae5-b55f7b04b278"
      },
      "id": "x1xdXBSnvDmI",
      "execution_count": null,
      "outputs": [
        {
          "output_type": "stream",
          "name": "stdout",
          "text": [
            "1, 2, 3\n"
          ]
        }
      ]
    },
    {
      "cell_type": "code",
      "source": [
        "print(1, 2, 3, sep=', ', end = '!')"
      ],
      "metadata": {
        "colab": {
          "base_uri": "https://localhost:8080/"
        },
        "id": "GrhujFzMvJ6D",
        "outputId": "88bf107b-1779-4fd2-98a5-95828a96871c"
      },
      "id": "GrhujFzMvJ6D",
      "execution_count": null,
      "outputs": [
        {
          "output_type": "stream",
          "name": "stdout",
          "text": [
            "1, 2, 3!"
          ]
        }
      ]
    },
    {
      "cell_type": "code",
      "execution_count": null,
      "id": "07280e73",
      "metadata": {
        "id": "07280e73",
        "outputId": "0903b75d-2624-4434-e7b7-2a3b40516e18",
        "colab": {
          "base_uri": "https://localhost:8080/"
        }
      },
      "outputs": [
        {
          "output_type": "stream",
          "name": "stdout",
          "text": [
            "6 7 8 67 8-2!"
          ]
        }
      ],
      "source": [
        "print(5+1, 7, 8, 67, '8-2', end = '!')"
      ]
    },
    {
      "cell_type": "code",
      "source": [
        "print('текст')"
      ],
      "metadata": {
        "colab": {
          "base_uri": "https://localhost:8080/"
        },
        "id": "lh2dorAbAUAz",
        "outputId": "2d449ca5-a03e-4558-8585-300cc4959cd3"
      },
      "id": "lh2dorAbAUAz",
      "execution_count": null,
      "outputs": [
        {
          "output_type": "stream",
          "name": "stdout",
          "text": [
            "текст\n"
          ]
        }
      ]
    },
    {
      "cell_type": "code",
      "source": [
        "print('5+5+1')"
      ],
      "metadata": {
        "colab": {
          "base_uri": "https://localhost:8080/"
        },
        "id": "HTlphrXyAY5C",
        "outputId": "d21fcdfc-2634-494b-8987-b17d0e41dcc8"
      },
      "id": "HTlphrXyAY5C",
      "execution_count": null,
      "outputs": [
        {
          "output_type": "stream",
          "name": "stdout",
          "text": [
            "5+5+1\n"
          ]
        }
      ]
    },
    {
      "cell_type": "markdown",
      "source": [
        "Особенность Jupyter Notebook как IDE — print необязателен, чтобы что-то вывести"
      ],
      "metadata": {
        "id": "ll53jTLewg42"
      },
      "id": "ll53jTLewg42"
    },
    {
      "cell_type": "code",
      "source": [
        "2\n",
        "\"Hello, world\""
      ],
      "metadata": {
        "colab": {
          "base_uri": "https://localhost:8080/",
          "height": 36
        },
        "id": "NrWPAfo6whL9",
        "outputId": "ce5dbf83-ab05-479f-9a56-e3a078876ac4"
      },
      "id": "NrWPAfo6whL9",
      "execution_count": null,
      "outputs": [
        {
          "output_type": "execute_result",
          "data": {
            "text/plain": [
              "'Hello, world'"
            ],
            "application/vnd.google.colaboratory.intrinsic+json": {
              "type": "string"
            }
          },
          "metadata": {},
          "execution_count": 78
        }
      ]
    },
    {
      "cell_type": "markdown",
      "source": [
        "### Переменные. Ввод, вывод, input(). Простые типы данных. Приведение типов. Арифметические действия"
      ],
      "metadata": {
        "id": "3UnlDNkhvexR"
      },
      "id": "3UnlDNkhvexR"
    },
    {
      "cell_type": "code",
      "source": [
        "a = 5 # создали переменную a, присвоили переменной a значение 5\n",
        "number = 4\n",
        "hello = \"Hello, world\""
      ],
      "metadata": {
        "id": "qsnLI7nxbx0D"
      },
      "id": "qsnLI7nxbx0D",
      "execution_count": null,
      "outputs": []
    },
    {
      "cell_type": "code",
      "source": [
        "print(a)"
      ],
      "metadata": {
        "colab": {
          "base_uri": "https://localhost:8080/"
        },
        "id": "dhUyqjz2b0qi",
        "outputId": "493a717f-e859-4c45-fdde-c09d97a3c347"
      },
      "id": "dhUyqjz2b0qi",
      "execution_count": null,
      "outputs": [
        {
          "output_type": "stream",
          "name": "stdout",
          "text": [
            "5\n"
          ]
        }
      ]
    },
    {
      "cell_type": "code",
      "source": [
        "print(\"a\")"
      ],
      "metadata": {
        "colab": {
          "base_uri": "https://localhost:8080/"
        },
        "id": "pg1s-X54A0FQ",
        "outputId": "34c77a1d-c272-465a-8e7f-107bda9594d5"
      },
      "id": "pg1s-X54A0FQ",
      "execution_count": null,
      "outputs": [
        {
          "output_type": "stream",
          "name": "stdout",
          "text": [
            "a\n"
          ]
        }
      ]
    },
    {
      "cell_type": "code",
      "source": [
        "print(a)"
      ],
      "metadata": {
        "colab": {
          "base_uri": "https://localhost:8080/"
        },
        "id": "ndLtPactcYVl",
        "outputId": "ddc18c14-6d87-49b6-d9c7-e10e2939a38f"
      },
      "id": "ndLtPactcYVl",
      "execution_count": null,
      "outputs": [
        {
          "output_type": "stream",
          "name": "stdout",
          "text": [
            "5\n"
          ]
        }
      ]
    },
    {
      "cell_type": "code",
      "source": [
        "a = \"hello\" # изменили значение переменной a"
      ],
      "metadata": {
        "id": "cYGtxhIRyzAW"
      },
      "id": "cYGtxhIRyzAW",
      "execution_count": null,
      "outputs": []
    },
    {
      "cell_type": "code",
      "source": [
        "name = input('Введите имя: ') # ожидается ввод от пользователя"
      ],
      "metadata": {
        "colab": {
          "base_uri": "https://localhost:8080/"
        },
        "id": "-ToHwuhFz9wl",
        "outputId": "44f8e0da-525f-436e-c99f-c87002ea4799"
      },
      "id": "-ToHwuhFz9wl",
      "execution_count": null,
      "outputs": [
        {
          "name": "stdout",
          "output_type": "stream",
          "text": [
            "Введите имя: Ассоль\n"
          ]
        }
      ]
    },
    {
      "cell_type": "code",
      "source": [
        "print('Привет,', name)"
      ],
      "metadata": {
        "colab": {
          "base_uri": "https://localhost:8080/"
        },
        "id": "RpRYbE940DLg",
        "outputId": "2c04e1b8-435e-47a4-fc28-af66ee12d090"
      },
      "id": "RpRYbE940DLg",
      "execution_count": null,
      "outputs": [
        {
          "output_type": "stream",
          "name": "stdout",
          "text": [
            "Привет, Ассоль\n"
          ]
        }
      ]
    },
    {
      "cell_type": "code",
      "source": [
        "lst = [4, 12, 3]"
      ],
      "metadata": {
        "id": "To-jILTRCBLU"
      },
      "id": "To-jILTRCBLU",
      "execution_count": null,
      "outputs": []
    },
    {
      "cell_type": "markdown",
      "source": [
        "##### int"
      ],
      "metadata": {
        "id": "qltWfLgbzj9-"
      },
      "id": "qltWfLgbzj9-"
    },
    {
      "cell_type": "code",
      "source": [
        "number = 3 # переменная типа int\n",
        "print(type(number))"
      ],
      "metadata": {
        "colab": {
          "base_uri": "https://localhost:8080/"
        },
        "id": "WmhP7JI_eUVq",
        "outputId": "f5415d9d-7ffa-4ff6-e4f8-1e2de3e6ffe1"
      },
      "id": "WmhP7JI_eUVq",
      "execution_count": null,
      "outputs": [
        {
          "output_type": "stream",
          "name": "stdout",
          "text": [
            "<class 'int'>\n"
          ]
        }
      ]
    },
    {
      "cell_type": "code",
      "source": [
        "print(4 + 2)\n",
        "print(4 - 2)\n",
        "print(4 * 2)\n",
        "print(4 / 3)\n",
        "\n",
        "print(5 // 2)\n",
        "print(3 % 2)\n",
        "print(3 ** 7)\n",
        "print(3 ** (1 / 2))"
      ],
      "metadata": {
        "colab": {
          "base_uri": "https://localhost:8080/"
        },
        "id": "2chrb4JZzJnR",
        "outputId": "79603abc-2c20-4144-dfc1-4368a8869cb2"
      },
      "id": "2chrb4JZzJnR",
      "execution_count": null,
      "outputs": [
        {
          "output_type": "stream",
          "name": "stdout",
          "text": [
            "6\n",
            "2\n",
            "8\n",
            "1.3333333333333333\n",
            "2\n",
            "1\n",
            "2187\n",
            "1.7320508075688772\n"
          ]
        }
      ]
    },
    {
      "cell_type": "code",
      "source": [
        "print(int('43'))"
      ],
      "metadata": {
        "colab": {
          "base_uri": "https://localhost:8080/"
        },
        "id": "BpYhAur2zqc1",
        "outputId": "36aad32b-cf3d-49c0-a7a9-a9850919fbc9"
      },
      "id": "BpYhAur2zqc1",
      "execution_count": null,
      "outputs": [
        {
          "output_type": "stream",
          "name": "stdout",
          "text": [
            "43\n"
          ]
        }
      ]
    },
    {
      "cell_type": "code",
      "source": [
        "num = input()"
      ],
      "metadata": {
        "colab": {
          "base_uri": "https://localhost:8080/"
        },
        "id": "kWX5xBwtDjPp",
        "outputId": "a232ddf4-de79-4d08-f5c8-e1dcb7fe884d"
      },
      "id": "kWX5xBwtDjPp",
      "execution_count": null,
      "outputs": [
        {
          "name": "stdout",
          "output_type": "stream",
          "text": [
            "335\n"
          ]
        }
      ]
    },
    {
      "cell_type": "code",
      "source": [
        "print(type(num))"
      ],
      "metadata": {
        "colab": {
          "base_uri": "https://localhost:8080/"
        },
        "id": "MUf1E0uTDm2q",
        "outputId": "7b6e8821-e82f-4f9c-9a0d-96084991aa1d"
      },
      "id": "MUf1E0uTDm2q",
      "execution_count": null,
      "outputs": [
        {
          "output_type": "stream",
          "name": "stdout",
          "text": [
            "<class 'str'>\n"
          ]
        }
      ]
    },
    {
      "cell_type": "code",
      "source": [
        "num = int(input()) # input() всегда возвращает строку! Чтобы превратить полученную строку в число, используем функцию int"
      ],
      "metadata": {
        "colab": {
          "base_uri": "https://localhost:8080/",
          "height": 158
        },
        "id": "C0qqh6-t0PWI",
        "outputId": "ac6e261b-ad39-41fd-d59d-2cae6d84c245"
      },
      "id": "C0qqh6-t0PWI",
      "execution_count": null,
      "outputs": [
        {
          "name": "stdout",
          "output_type": "stream",
          "text": [
            "dfge\n"
          ]
        },
        {
          "output_type": "error",
          "ename": "ValueError",
          "evalue": "invalid literal for int() with base 10: 'dfge'",
          "traceback": [
            "\u001b[0;31m---------------------------------------------------------------------------\u001b[0m",
            "\u001b[0;31mValueError\u001b[0m                                Traceback (most recent call last)",
            "\u001b[0;32m<ipython-input-101-3460b2c71697>\u001b[0m in \u001b[0;36m<cell line: 1>\u001b[0;34m()\u001b[0m\n\u001b[0;32m----> 1\u001b[0;31m \u001b[0mnum\u001b[0m \u001b[0;34m=\u001b[0m \u001b[0mint\u001b[0m\u001b[0;34m(\u001b[0m\u001b[0minput\u001b[0m\u001b[0;34m(\u001b[0m\u001b[0;34m)\u001b[0m\u001b[0;34m)\u001b[0m \u001b[0;31m# input() всегда возвращает строку! Чтобы превратить полученную строку в число, используем функцию int\u001b[0m\u001b[0;34m\u001b[0m\u001b[0;34m\u001b[0m\u001b[0m\n\u001b[0m",
            "\u001b[0;31mValueError\u001b[0m: invalid literal for int() with base 10: 'dfge'"
          ]
        }
      ]
    },
    {
      "cell_type": "code",
      "source": [
        "print(num)"
      ],
      "metadata": {
        "colab": {
          "base_uri": "https://localhost:8080/"
        },
        "id": "dWCGEjIJDxyy",
        "outputId": "712acf7f-aecb-4550-d0e8-96f01b133180"
      },
      "id": "dWCGEjIJDxyy",
      "execution_count": null,
      "outputs": [
        {
          "output_type": "stream",
          "name": "stdout",
          "text": [
            "335\n"
          ]
        }
      ]
    },
    {
      "cell_type": "markdown",
      "id": "WEMhriQ4LjeK",
      "metadata": {
        "id": "WEMhriQ4LjeK"
      },
      "source": [
        "###### Задание 1"
      ]
    },
    {
      "cell_type": "markdown",
      "id": "2a79cdd9",
      "metadata": {
        "id": "2a79cdd9"
      },
      "source": [
        "Вы стали учебным ассистентом по курсу программирования на языке Python. Вам необходимо написать программу, которая будет считывать две переменных: ФИО и оценку студента и выводить текст: \"Уважаемый ФИО, за курс по Python вы получили ОЦЕНКА!\""
      ]
    },
    {
      "cell_type": "markdown",
      "id": "358598b2",
      "metadata": {
        "id": "358598b2"
      },
      "source": [
        "**Пример ввода:**\n",
        "    \n",
        "Петров Иван Иванович\n",
        "\n",
        "10\n",
        "\n",
        "**Пример вывода:**\n",
        "\n",
        "Уважаемый Петров Иван Иванович, за курс по Python вы получили 10!"
      ]
    },
    {
      "cell_type": "code",
      "source": [
        "name = input()\n",
        "mark = int(input())\n",
        "print('Уважаемый ', name, ', за курс по Python вы получили ', mark, sep='', end='!')"
      ],
      "metadata": {
        "colab": {
          "base_uri": "https://localhost:8080/"
        },
        "id": "FIcz6uXhQHDl",
        "outputId": "adfe8093-1c6a-4b93-b1c2-8c7c3885bd2d"
      },
      "id": "FIcz6uXhQHDl",
      "execution_count": null,
      "outputs": [
        {
          "output_type": "stream",
          "name": "stdout",
          "text": [
            "Петров Иван Иванович\n",
            "10\n",
            "Уважаемый Петров Иван Иванович, за курс по Python вы получили 10!"
          ]
        }
      ]
    },
    {
      "cell_type": "markdown",
      "source": [],
      "metadata": {
        "id": "68QLixIgFTr9"
      },
      "id": "68QLixIgFTr9"
    },
    {
      "cell_type": "code",
      "source": [
        "f\"Уважаемый {name}, за курс по Python вы получили {mark}!\""
      ],
      "metadata": {
        "colab": {
          "base_uri": "https://localhost:8080/",
          "height": 36
        },
        "id": "lMe8pYCEFUTV",
        "outputId": "86398bef-515e-4eee-c490-f2b56466bc3f"
      },
      "id": "lMe8pYCEFUTV",
      "execution_count": null,
      "outputs": [
        {
          "output_type": "execute_result",
          "data": {
            "text/plain": [
              "'Уважаемый Петров Иван Иванович, за курс по Python вы получили 10!'"
            ],
            "application/vnd.google.colaboratory.intrinsic+json": {
              "type": "string"
            }
          },
          "metadata": {},
          "execution_count": 108
        }
      ]
    },
    {
      "cell_type": "code",
      "source": [
        "name = input()\n",
        "mark = int(input())\n",
        "print(f\"Уважаемый {name}, за курс по Python вы получили {mark}!\")"
      ],
      "metadata": {
        "colab": {
          "base_uri": "https://localhost:8080/"
        },
        "id": "PWOQeyyaFOrk",
        "outputId": "64958547-8d27-4303-93e6-6a22833efd8c"
      },
      "id": "PWOQeyyaFOrk",
      "execution_count": null,
      "outputs": [
        {
          "output_type": "stream",
          "name": "stdout",
          "text": [
            "Петров Иван Иванович\n",
            "9\n",
            "Уважаемый Петров Иван Иванович, за курс по Python вы получили 9!\n"
          ]
        }
      ]
    },
    {
      "cell_type": "markdown",
      "id": "a86ea379",
      "metadata": {
        "id": "a86ea379"
      },
      "source": [
        "###### Задание 2\n",
        "В переменных `a` и `b` хранятся некоторые числа. Напишите код, который бы менял значения переменных местами. Создавать вспомогательные переменные *можно*.\n"
      ]
    },
    {
      "cell_type": "code",
      "source": [
        "a = 7\n",
        "b = 11"
      ],
      "metadata": {
        "id": "v3B6Sm-91FzO"
      },
      "id": "v3B6Sm-91FzO",
      "execution_count": null,
      "outputs": []
    },
    {
      "cell_type": "code",
      "source": [
        "a, b = b, a"
      ],
      "metadata": {
        "id": "JVyvGsQrF2n2"
      },
      "id": "JVyvGsQrF2n2",
      "execution_count": null,
      "outputs": []
    },
    {
      "cell_type": "code",
      "source": [
        "a"
      ],
      "metadata": {
        "colab": {
          "base_uri": "https://localhost:8080/"
        },
        "id": "s44Zo1U1F5C0",
        "outputId": "dc81f8ce-9057-492c-ea5b-78a3eca01b54"
      },
      "id": "s44Zo1U1F5C0",
      "execution_count": null,
      "outputs": [
        {
          "output_type": "execute_result",
          "data": {
            "text/plain": [
              "11"
            ]
          },
          "metadata": {},
          "execution_count": 115
        }
      ]
    },
    {
      "cell_type": "code",
      "source": [
        "b"
      ],
      "metadata": {
        "colab": {
          "base_uri": "https://localhost:8080/"
        },
        "id": "pJHqu69gF83s",
        "outputId": "8e6f38f5-929d-43bf-fc26-0bf1938f4e84"
      },
      "id": "pJHqu69gF83s",
      "execution_count": null,
      "outputs": [
        {
          "output_type": "execute_result",
          "data": {
            "text/plain": [
              "7"
            ]
          },
          "metadata": {},
          "execution_count": 116
        }
      ]
    },
    {
      "cell_type": "code",
      "source": [
        "a = 7\n",
        "b = 11"
      ],
      "metadata": {
        "id": "7w3Z4qPvGNP_"
      },
      "id": "7w3Z4qPvGNP_",
      "execution_count": null,
      "outputs": []
    },
    {
      "cell_type": "code",
      "source": [
        "c = a # a = 7, b = 11, c = 7\n",
        "a = b  #a = 11, b = 11, c = 7\n",
        "b = c # a = 11, b = 7"
      ],
      "metadata": {
        "id": "9jBfU9ClF_5E"
      },
      "id": "9jBfU9ClF_5E",
      "execution_count": null,
      "outputs": []
    },
    {
      "cell_type": "code",
      "source": [
        "print(a, b)"
      ],
      "metadata": {
        "colab": {
          "base_uri": "https://localhost:8080/"
        },
        "id": "HdNNoV7eGmJA",
        "outputId": "b76180fd-4f14-490a-abbc-7c00e77cf290"
      },
      "id": "HdNNoV7eGmJA",
      "execution_count": null,
      "outputs": [
        {
          "output_type": "stream",
          "name": "stdout",
          "text": [
            "11 7\n"
          ]
        }
      ]
    },
    {
      "cell_type": "markdown",
      "source": [
        "###### Задание 3\n",
        "\n",
        " Дано натуральное число, большее 10. Найдите число десятков в его десятичной записи (вторую справа цифру)."
      ],
      "metadata": {
        "id": "Fvm3OPw04Yl2"
      },
      "id": "Fvm3OPw04Yl2"
    },
    {
      "cell_type": "code",
      "source": [
        "number = int(input())\n",
        "print((number % 100) // 10)"
      ],
      "metadata": {
        "colab": {
          "base_uri": "https://localhost:8080/"
        },
        "id": "nsbCQxWq83r1",
        "outputId": "9b373ce1-21d2-443b-90cd-3351d3230580"
      },
      "id": "nsbCQxWq83r1",
      "execution_count": null,
      "outputs": [
        {
          "output_type": "stream",
          "name": "stdout",
          "text": [
            "15234\n",
            "3\n"
          ]
        }
      ]
    },
    {
      "cell_type": "code",
      "source": [
        "print(4 + 2)\n",
        "print(4 - 2)\n",
        "print(4 * 2)\n",
        "print(4 / 3)\n",
        "\n",
        "print(5 // 2)\n",
        "print(3 % 2)\n",
        "print(3 ** 7)\n",
        "print(3 ** (1 / 2))"
      ],
      "metadata": {
        "id": "ny4HTVDnGz_q"
      },
      "id": "ny4HTVDnGz_q",
      "execution_count": null,
      "outputs": []
    },
    {
      "cell_type": "markdown",
      "source": [
        "###### Задание 4\n",
        "\n",
        "На вход подается трёхзначное число. Найдите сумму его цифр."
      ],
      "metadata": {
        "id": "zCWc6gZX0v87"
      },
      "id": "zCWc6gZX0v87"
    },
    {
      "cell_type": "code",
      "source": [
        "number = int(input())\n",
        "n1 = number // 100\n",
        "n2 = (number % 100) // 10\n",
        "n3 = number % 10\n",
        "print(n1 + n2 + n3)"
      ],
      "metadata": {
        "colab": {
          "base_uri": "https://localhost:8080/"
        },
        "id": "yOLarpTV1HDs",
        "outputId": "c0566668-7a9a-44d2-a59d-0110a0bb1c4e"
      },
      "id": "yOLarpTV1HDs",
      "execution_count": null,
      "outputs": [
        {
          "output_type": "stream",
          "name": "stdout",
          "text": [
            "178\n",
            "16\n"
          ]
        }
      ]
    },
    {
      "cell_type": "code",
      "source": [
        "number = int(input())\n",
        "print(number // 100 + (number % 100) // 10 + number % 10)"
      ],
      "metadata": {
        "colab": {
          "base_uri": "https://localhost:8080/"
        },
        "id": "o5_FX2TcID1u",
        "outputId": "e10930f4-23fc-41b7-8f57-8dd224874bb0"
      },
      "id": "o5_FX2TcID1u",
      "execution_count": null,
      "outputs": [
        {
          "output_type": "stream",
          "name": "stdout",
          "text": [
            "178\n",
            "16\n"
          ]
        }
      ]
    },
    {
      "cell_type": "markdown",
      "id": "3Xsq-08xIHDR",
      "metadata": {
        "id": "3Xsq-08xIHDR"
      },
      "source": [
        "###### float"
      ]
    },
    {
      "cell_type": "code",
      "execution_count": null,
      "id": "P_UXjvbaJjvk",
      "metadata": {
        "colab": {
          "base_uri": "https://localhost:8080/"
        },
        "id": "P_UXjvbaJjvk",
        "outputId": "aae89686-eb1f-4463-8ef5-ab5e80afe3af"
      },
      "outputs": [
        {
          "output_type": "stream",
          "name": "stdout",
          "text": [
            "<class 'float'>\n"
          ]
        }
      ],
      "source": [
        "float_num = 2.73\n",
        "print(type(float_num))"
      ]
    },
    {
      "cell_type": "code",
      "source": [
        "float(8)"
      ],
      "metadata": {
        "colab": {
          "base_uri": "https://localhost:8080/"
        },
        "id": "jnGwVPNV1nhD",
        "outputId": "e067fefb-6c66-4765-bc02-2e9c91cacd1c"
      },
      "id": "jnGwVPNV1nhD",
      "execution_count": null,
      "outputs": [
        {
          "output_type": "execute_result",
          "data": {
            "text/plain": [
              "8.0"
            ]
          },
          "metadata": {},
          "execution_count": 128
        }
      ]
    },
    {
      "cell_type": "code",
      "source": [
        "float(\"8.9\")"
      ],
      "metadata": {
        "colab": {
          "base_uri": "https://localhost:8080/",
          "height": 141
        },
        "id": "Vet9HtcA1tFp",
        "outputId": "297b791e-7b45-4514-8b90-d8901f0dfb63"
      },
      "id": "Vet9HtcA1tFp",
      "execution_count": null,
      "outputs": [
        {
          "output_type": "error",
          "ename": "ValueError",
          "evalue": "could not convert string to float: '8ssdfs.9'",
          "traceback": [
            "\u001b[0;31m---------------------------------------------------------------------------\u001b[0m",
            "\u001b[0;31mValueError\u001b[0m                                Traceback (most recent call last)",
            "\u001b[0;32m<ipython-input-130-708177846581>\u001b[0m in \u001b[0;36m<cell line: 1>\u001b[0;34m()\u001b[0m\n\u001b[0;32m----> 1\u001b[0;31m \u001b[0mfloat\u001b[0m\u001b[0;34m(\u001b[0m\u001b[0;34m\"8ssdfs.9\"\u001b[0m\u001b[0;34m)\u001b[0m\u001b[0;34m\u001b[0m\u001b[0;34m\u001b[0m\u001b[0m\n\u001b[0m",
            "\u001b[0;31mValueError\u001b[0m: could not convert string to float: '8ssdfs.9'"
          ]
        }
      ]
    },
    {
      "cell_type": "code",
      "execution_count": null,
      "id": "nvNRi1lFLHkS",
      "metadata": {
        "colab": {
          "base_uri": "https://localhost:8080/"
        },
        "id": "nvNRi1lFLHkS",
        "outputId": "b7e4a3b5-686a-4a8f-ad0f-def193b0ccb2"
      },
      "outputs": [
        {
          "name": "stdout",
          "output_type": "stream",
          "text": [
            "2.76\n"
          ]
        }
      ],
      "source": [
        "float_num = float(input())"
      ]
    },
    {
      "cell_type": "code",
      "source": [
        "print(2.3 / 2)\n",
        "print(2,3 / 2)"
      ],
      "metadata": {
        "colab": {
          "base_uri": "https://localhost:8080/"
        },
        "id": "TCPQQZWB1w_n",
        "outputId": "3a9baf3a-49aa-4330-aa82-34ba26847d55"
      },
      "id": "TCPQQZWB1w_n",
      "execution_count": null,
      "outputs": [
        {
          "output_type": "stream",
          "name": "stdout",
          "text": [
            "1.15\n",
            "2 1.5\n"
          ]
        }
      ]
    },
    {
      "cell_type": "code",
      "source": [
        "print(4 / 2)"
      ],
      "metadata": {
        "colab": {
          "base_uri": "https://localhost:8080/"
        },
        "id": "NYVYfRUz139h",
        "outputId": "65b4b3a3-0b58-4c44-8174-5206ee4b88fd"
      },
      "id": "NYVYfRUz139h",
      "execution_count": null,
      "outputs": [
        {
          "output_type": "stream",
          "name": "stdout",
          "text": [
            "2.0\n"
          ]
        }
      ]
    },
    {
      "cell_type": "code",
      "source": [
        "print(0.1 + 0.2) # вот почему работать с float нужно осторожно"
      ],
      "metadata": {
        "colab": {
          "base_uri": "https://localhost:8080/"
        },
        "id": "y8zAUws415nd",
        "outputId": "b0220e97-72e2-4aa2-c8a7-5fd474e15fa8"
      },
      "id": "y8zAUws415nd",
      "execution_count": null,
      "outputs": [
        {
          "output_type": "stream",
          "name": "stdout",
          "text": [
            "0.30000000000000004\n"
          ]
        }
      ]
    },
    {
      "cell_type": "code",
      "source": [
        "1.143**1000"
      ],
      "metadata": {
        "colab": {
          "base_uri": "https://localhost:8080/"
        },
        "id": "Uj09rq4t3i-6",
        "outputId": "9afb0de7-5658-437d-8dac-277dffd2da5b"
      },
      "id": "Uj09rq4t3i-6",
      "execution_count": null,
      "outputs": [
        {
          "output_type": "execute_result",
          "data": {
            "text/plain": [
              "1.1123216627018363e+58"
            ]
          },
          "metadata": {},
          "execution_count": 134
        }
      ]
    },
    {
      "cell_type": "markdown",
      "id": "931370ad",
      "metadata": {
        "id": "931370ad"
      },
      "source": [
        "### Строки (str)"
      ]
    },
    {
      "cell_type": "code",
      "source": [
        "string = 'abc'\n",
        "print(type(string))"
      ],
      "metadata": {
        "colab": {
          "base_uri": "https://localhost:8080/"
        },
        "id": "gz8g0liz2GPV",
        "outputId": "55bb650c-0f2b-4f0a-ca20-246a7ec8a360"
      },
      "id": "gz8g0liz2GPV",
      "execution_count": null,
      "outputs": [
        {
          "output_type": "stream",
          "name": "stdout",
          "text": [
            "<class 'str'>\n"
          ]
        }
      ]
    },
    {
      "cell_type": "code",
      "execution_count": null,
      "id": "17cc4717",
      "metadata": {
        "id": "17cc4717",
        "outputId": "ab123d82-a44b-4bb1-e2da-ed81850a4f5e",
        "colab": {
          "base_uri": "https://localhost:8080/"
        }
      },
      "outputs": [
        {
          "output_type": "stream",
          "name": "stdout",
          "text": [
            "3\n",
            "12\n",
            "12\n"
          ]
        }
      ],
      "source": [
        "print(1 + 2)\n",
        "print('1' + '2')\n",
        "print(str(1) + str(2))"
      ]
    },
    {
      "cell_type": "code",
      "source": [
        "'abc' + 'def'"
      ],
      "metadata": {
        "colab": {
          "base_uri": "https://localhost:8080/",
          "height": 36
        },
        "id": "YHik8HD32vaj",
        "outputId": "097ec2f3-7105-48d0-84c7-7c428caa9201"
      },
      "id": "YHik8HD32vaj",
      "execution_count": null,
      "outputs": [
        {
          "output_type": "execute_result",
          "data": {
            "text/plain": [
              "'abcdef'"
            ],
            "application/vnd.google.colaboratory.intrinsic+json": {
              "type": "string"
            }
          },
          "metadata": {},
          "execution_count": 41
        }
      ]
    },
    {
      "cell_type": "code",
      "source": [
        "'abc' * 20"
      ],
      "metadata": {
        "colab": {
          "base_uri": "https://localhost:8080/",
          "height": 36
        },
        "id": "NbtitEZr2zLb",
        "outputId": "9368a103-4b63-4ecb-8939-ec7dffefd3ff"
      },
      "id": "NbtitEZr2zLb",
      "execution_count": null,
      "outputs": [
        {
          "output_type": "execute_result",
          "data": {
            "text/plain": [
              "'abcabcabcabcabcabcabcabcabcabcabcabcabcabcabcabcabcabcabcabc'"
            ],
            "application/vnd.google.colaboratory.intrinsic+json": {
              "type": "string"
            }
          },
          "metadata": {},
          "execution_count": 138
        }
      ]
    },
    {
      "cell_type": "code",
      "source": [
        "'a'"
      ],
      "metadata": {
        "colab": {
          "base_uri": "https://localhost:8080/",
          "height": 36
        },
        "id": "5c2y418UJkIg",
        "outputId": "dfb2925b-455b-42f3-b7a4-3fd30748003a"
      },
      "id": "5c2y418UJkIg",
      "execution_count": null,
      "outputs": [
        {
          "output_type": "execute_result",
          "data": {
            "text/plain": [
              "'a'"
            ],
            "application/vnd.google.colaboratory.intrinsic+json": {
              "type": "string"
            }
          },
          "metadata": {},
          "execution_count": 139
        }
      ]
    },
    {
      "cell_type": "code",
      "execution_count": null,
      "id": "2804695c",
      "metadata": {
        "id": "2804695c",
        "outputId": "c1022cbb-9581-4190-ce45-05534ebd94cb",
        "colab": {
          "base_uri": "https://localhost:8080/",
          "height": 36
        }
      },
      "outputs": [
        {
          "output_type": "execute_result",
          "data": {
            "text/plain": [
              "'П'"
            ],
            "application/vnd.google.colaboratory.intrinsic+json": {
              "type": "string"
            }
          },
          "metadata": {},
          "execution_count": 141
        }
      ],
      "source": [
        "'Программирование'[0]"
      ]
    },
    {
      "cell_type": "code",
      "execution_count": null,
      "id": "79949486",
      "metadata": {
        "id": "79949486",
        "outputId": "b045cf13-d019-4eb9-aa3f-2f28a1bc8e59",
        "colab": {
          "base_uri": "https://localhost:8080/",
          "height": 36
        }
      },
      "outputs": [
        {
          "output_type": "execute_result",
          "data": {
            "text/plain": [
              "'о'"
            ],
            "application/vnd.google.colaboratory.intrinsic+json": {
              "type": "string"
            }
          },
          "metadata": {},
          "execution_count": 142
        }
      ],
      "source": [
        "'Программирование'[2]"
      ]
    },
    {
      "cell_type": "code",
      "execution_count": null,
      "id": "b49de262",
      "metadata": {
        "id": "b49de262",
        "outputId": "7bb2c012-3e9a-415e-a096-d4490597aafb",
        "colab": {
          "base_uri": "https://localhost:8080/",
          "height": 36
        }
      },
      "outputs": [
        {
          "output_type": "execute_result",
          "data": {
            "text/plain": [
              "'е'"
            ],
            "application/vnd.google.colaboratory.intrinsic+json": {
              "type": "string"
            }
          },
          "metadata": {},
          "execution_count": 143
        }
      ],
      "source": [
        "'Программирование'[-1]"
      ]
    },
    {
      "cell_type": "code",
      "execution_count": null,
      "id": "1V5SwrFGyse_",
      "metadata": {
        "colab": {
          "base_uri": "https://localhost:8080/",
          "height": 36
        },
        "id": "1V5SwrFGyse_",
        "outputId": "7961e121-64da-4eb9-ae50-64c007c2538d"
      },
      "outputs": [
        {
          "output_type": "execute_result",
          "data": {
            "text/plain": [
              "'н'"
            ],
            "application/vnd.google.colaboratory.intrinsic+json": {
              "type": "string"
            }
          },
          "metadata": {},
          "execution_count": 144
        }
      ],
      "source": [
        "'Программирование'[-3]"
      ]
    },
    {
      "cell_type": "code",
      "execution_count": null,
      "id": "6ahjU7ANyvEp",
      "metadata": {
        "colab": {
          "base_uri": "https://localhost:8080/",
          "height": 141
        },
        "id": "6ahjU7ANyvEp",
        "outputId": "dc425388-c453-4c80-a2c8-1b94b71f61ae"
      },
      "outputs": [
        {
          "output_type": "error",
          "ename": "IndexError",
          "evalue": "string index out of range",
          "traceback": [
            "\u001b[0;31m---------------------------------------------------------------------------\u001b[0m",
            "\u001b[0;31mIndexError\u001b[0m                                Traceback (most recent call last)",
            "\u001b[0;32m<ipython-input-145-f96fa4c82b95>\u001b[0m in \u001b[0;36m<cell line: 1>\u001b[0;34m()\u001b[0m\n\u001b[0;32m----> 1\u001b[0;31m \u001b[0;34m'Программирование'\u001b[0m\u001b[0;34m[\u001b[0m\u001b[0;36m200\u001b[0m\u001b[0;34m]\u001b[0m\u001b[0;34m\u001b[0m\u001b[0;34m\u001b[0m\u001b[0m\n\u001b[0m",
            "\u001b[0;31mIndexError\u001b[0m: string index out of range"
          ]
        }
      ],
      "source": [
        "'Программирование'[200]"
      ]
    },
    {
      "cell_type": "code",
      "source": [
        "string[0] = 'b'"
      ],
      "metadata": {
        "colab": {
          "base_uri": "https://localhost:8080/",
          "height": 141
        },
        "id": "2LrehmNgJ7Dg",
        "outputId": "1004fb15-a7f0-482b-b7af-2d0614c275f9"
      },
      "id": "2LrehmNgJ7Dg",
      "execution_count": null,
      "outputs": [
        {
          "output_type": "error",
          "ename": "TypeError",
          "evalue": "'str' object does not support item assignment",
          "traceback": [
            "\u001b[0;31m---------------------------------------------------------------------------\u001b[0m",
            "\u001b[0;31mTypeError\u001b[0m                                 Traceback (most recent call last)",
            "\u001b[0;32m<ipython-input-147-dd88b33a8639>\u001b[0m in \u001b[0;36m<cell line: 1>\u001b[0;34m()\u001b[0m\n\u001b[0;32m----> 1\u001b[0;31m \u001b[0mstring\u001b[0m\u001b[0;34m[\u001b[0m\u001b[0;36m0\u001b[0m\u001b[0;34m]\u001b[0m \u001b[0;34m=\u001b[0m \u001b[0;34m'b'\u001b[0m\u001b[0;34m\u001b[0m\u001b[0;34m\u001b[0m\u001b[0m\n\u001b[0m",
            "\u001b[0;31mTypeError\u001b[0m: 'str' object does not support item assignment"
          ]
        }
      ]
    },
    {
      "cell_type": "code",
      "source": [
        "string = 'bcdefg'"
      ],
      "metadata": {
        "id": "TdcVf8nZKCuR"
      },
      "id": "TdcVf8nZKCuR",
      "execution_count": null,
      "outputs": []
    },
    {
      "cell_type": "code",
      "source": [
        "string = 'Программирование'\n",
        "string[0]"
      ],
      "metadata": {
        "colab": {
          "base_uri": "https://localhost:8080/",
          "height": 36
        },
        "id": "fr1lxMAJ3XC9",
        "outputId": "10148d17-b446-4d45-8db5-30b06ad91923"
      },
      "id": "fr1lxMAJ3XC9",
      "execution_count": null,
      "outputs": [
        {
          "output_type": "execute_result",
          "data": {
            "text/plain": [
              "'П'"
            ],
            "application/vnd.google.colaboratory.intrinsic+json": {
              "type": "string"
            }
          },
          "metadata": {},
          "execution_count": 149
        }
      ]
    },
    {
      "cell_type": "code",
      "source": [
        "string[5:10]"
      ],
      "metadata": {
        "colab": {
          "base_uri": "https://localhost:8080/",
          "height": 36
        },
        "id": "y-Ffv0efKv29",
        "outputId": "ef07dd59-438e-480c-aaf9-edb101484b1a"
      },
      "id": "y-Ffv0efKv29",
      "execution_count": null,
      "outputs": [
        {
          "output_type": "execute_result",
          "data": {
            "text/plain": [
              "'аммир'"
            ],
            "application/vnd.google.colaboratory.intrinsic+json": {
              "type": "string"
            }
          },
          "metadata": {},
          "execution_count": 151
        }
      ]
    },
    {
      "cell_type": "code",
      "source": [
        "string[5:12:2]"
      ],
      "metadata": {
        "colab": {
          "base_uri": "https://localhost:8080/",
          "height": 36
        },
        "id": "sWqFhLjcK5x8",
        "outputId": "77f50ff1-6a99-4a65-a6a6-89d54a9db52a"
      },
      "id": "sWqFhLjcK5x8",
      "execution_count": null,
      "outputs": [
        {
          "output_type": "execute_result",
          "data": {
            "text/plain": [
              "'амрв'"
            ],
            "application/vnd.google.colaboratory.intrinsic+json": {
              "type": "string"
            }
          },
          "metadata": {},
          "execution_count": 152
        }
      ]
    },
    {
      "cell_type": "code",
      "source": [
        "string[12:5:-2]"
      ],
      "metadata": {
        "colab": {
          "base_uri": "https://localhost:8080/",
          "height": 36
        },
        "id": "XOSrKNxULEgN",
        "outputId": "0a89deb0-9e8a-401c-a458-5aa6c41f2004"
      },
      "id": "XOSrKNxULEgN",
      "execution_count": null,
      "outputs": [
        {
          "output_type": "execute_result",
          "data": {
            "text/plain": [
              "'аоим'"
            ],
            "application/vnd.google.colaboratory.intrinsic+json": {
              "type": "string"
            }
          },
          "metadata": {},
          "execution_count": 154
        }
      ]
    },
    {
      "cell_type": "code",
      "source": [
        "string[:8]"
      ],
      "metadata": {
        "colab": {
          "base_uri": "https://localhost:8080/",
          "height": 36
        },
        "id": "KlB-F9i6LNLm",
        "outputId": "750998e1-911b-48ec-fe78-ceb004639670"
      },
      "id": "KlB-F9i6LNLm",
      "execution_count": null,
      "outputs": [
        {
          "output_type": "execute_result",
          "data": {
            "text/plain": [
              "'Программ'"
            ],
            "application/vnd.google.colaboratory.intrinsic+json": {
              "type": "string"
            }
          },
          "metadata": {},
          "execution_count": 157
        }
      ]
    },
    {
      "cell_type": "code",
      "source": [
        "string[::]"
      ],
      "metadata": {
        "colab": {
          "base_uri": "https://localhost:8080/",
          "height": 36
        },
        "id": "G8qbBRnlLUfK",
        "outputId": "a674ea7e-af86-4345-9831-6aa2dc3f3d4e"
      },
      "id": "G8qbBRnlLUfK",
      "execution_count": null,
      "outputs": [
        {
          "output_type": "execute_result",
          "data": {
            "text/plain": [
              "'Программирование'"
            ],
            "application/vnd.google.colaboratory.intrinsic+json": {
              "type": "string"
            }
          },
          "metadata": {},
          "execution_count": 159
        }
      ]
    },
    {
      "cell_type": "code",
      "source": [
        "b  = 10\n",
        "string[::3]"
      ],
      "metadata": {
        "colab": {
          "base_uri": "https://localhost:8080/",
          "height": 36
        },
        "id": "Qj9_MinD3h2v",
        "outputId": "e5a9b27f-6b1c-472b-9163-16795e57d507"
      },
      "id": "Qj9_MinD3h2v",
      "execution_count": null,
      "outputs": [
        {
          "output_type": "execute_result",
          "data": {
            "text/plain": [
              "'Пгмрае'"
            ],
            "application/vnd.google.colaboratory.intrinsic+json": {
              "type": "string"
            }
          },
          "metadata": {},
          "execution_count": 49
        }
      ]
    },
    {
      "cell_type": "code",
      "source": [
        "len(string) # длина строки (количество символов)"
      ],
      "metadata": {
        "colab": {
          "base_uri": "https://localhost:8080/"
        },
        "id": "jg92yjs32-Tu",
        "outputId": "2b1416b7-e434-4dba-a640-85b27e9234e7"
      },
      "id": "jg92yjs32-Tu",
      "execution_count": null,
      "outputs": [
        {
          "output_type": "execute_result",
          "data": {
            "text/plain": [
              "16"
            ]
          },
          "metadata": {},
          "execution_count": 50
        }
      ]
    },
    {
      "cell_type": "code",
      "source": [
        "string[0]"
      ],
      "metadata": {
        "colab": {
          "base_uri": "https://localhost:8080/",
          "height": 36
        },
        "id": "d6ASKlKW3SE2",
        "outputId": "97da93be-a1a3-4bfe-f3b6-44e23a4f17ab"
      },
      "id": "d6ASKlKW3SE2",
      "execution_count": null,
      "outputs": [
        {
          "output_type": "execute_result",
          "data": {
            "text/plain": [
              "'П'"
            ],
            "application/vnd.google.colaboratory.intrinsic+json": {
              "type": "string"
            }
          },
          "metadata": {},
          "execution_count": 52
        }
      ]
    },
    {
      "cell_type": "code",
      "source": [
        "string[0] = \"-\" # так нельзя! Строки в питоне неизменяемые"
      ],
      "metadata": {
        "colab": {
          "base_uri": "https://localhost:8080/",
          "height": 141
        },
        "id": "E7do3FFL3IoM",
        "outputId": "6c0e4ec3-48f1-48fe-a789-496e86ab45fe"
      },
      "id": "E7do3FFL3IoM",
      "execution_count": null,
      "outputs": [
        {
          "output_type": "error",
          "ename": "TypeError",
          "evalue": "'str' object does not support item assignment",
          "traceback": [
            "\u001b[0;31m---------------------------------------------------------------------------\u001b[0m",
            "\u001b[0;31mTypeError\u001b[0m                                 Traceback (most recent call last)",
            "\u001b[0;32m<ipython-input-51-c45cf7a462f1>\u001b[0m in \u001b[0;36m<cell line: 1>\u001b[0;34m()\u001b[0m\n\u001b[0;32m----> 1\u001b[0;31m \u001b[0mstring\u001b[0m\u001b[0;34m[\u001b[0m\u001b[0;36m0\u001b[0m\u001b[0;34m]\u001b[0m \u001b[0;34m=\u001b[0m \u001b[0;34m\"-\"\u001b[0m \u001b[0;31m# так нельзя! Строки в питоне неизменяемые\u001b[0m\u001b[0;34m\u001b[0m\u001b[0;34m\u001b[0m\u001b[0m\n\u001b[0m",
            "\u001b[0;31mTypeError\u001b[0m: 'str' object does not support item assignment"
          ]
        }
      ]
    },
    {
      "cell_type": "markdown",
      "id": "PGOqM39aEGMB",
      "metadata": {
        "id": "PGOqM39aEGMB"
      },
      "source": [
        "###### Задание 5\n",
        "Представьте себя на месте сотрудников, которые делают корпоративные почты для первокурсников Вышки. Обычно такая почта состоит из первой буквы имени, первой буквы отчества и фамилии, а потом добавляется домен @edu.hse.ru . Вы решили использовать для этого Python и сделать программу, которая будет запрашивать Имя, Отчество и Фамилию латиницей, а потом выдавать адрес. Напишите такую программу."
      ]
    },
    {
      "cell_type": "markdown",
      "id": "2e8b6ac1",
      "metadata": {
        "id": "2e8b6ac1"
      },
      "source": [
        "###### Задание 6\n",
        "Пользователь вводит непустую строку. Программа должна вывести:\n",
        "\n",
        "a. последний элемент строки  \n",
        "b. все четные элементы строки (при начале нумерации с 1)  \n",
        "с. строку в обратном порядке  \n",
        "d. количество символов в строке\n",
        "\n",
        "e. строку без последнего символа"
      ]
    },
    {
      "cell_type": "code",
      "execution_count": null,
      "id": "69095f09",
      "metadata": {
        "id": "69095f09",
        "colab": {
          "base_uri": "https://localhost:8080/"
        },
        "outputId": "463d0aac-5941-4a13-adab-700b3bf3879b"
      },
      "outputs": [
        {
          "output_type": "stream",
          "name": "stdout",
          "text": [
            "abcdef\n",
            "f\n"
          ]
        }
      ],
      "source": [
        "string = input()\n",
        "print(string[-1])"
      ]
    },
    {
      "cell_type": "code",
      "source": [
        "print(string[1::2])"
      ],
      "metadata": {
        "colab": {
          "base_uri": "https://localhost:8080/"
        },
        "id": "XUlbEXGaKrp6",
        "outputId": "30ee4fc9-d4ad-48e6-b727-4bbaae3bb5c2"
      },
      "id": "XUlbEXGaKrp6",
      "execution_count": null,
      "outputs": [
        {
          "output_type": "stream",
          "name": "stdout",
          "text": [
            "bdf\n"
          ]
        }
      ]
    },
    {
      "cell_type": "code",
      "source": [
        "print(string[::-1])"
      ],
      "metadata": {
        "colab": {
          "base_uri": "https://localhost:8080/"
        },
        "id": "yZiBakXSLyR8",
        "outputId": "b8f2989a-0877-4360-be92-329519f050b2"
      },
      "id": "yZiBakXSLyR8",
      "execution_count": null,
      "outputs": [
        {
          "output_type": "stream",
          "name": "stdout",
          "text": [
            "fedcba\n"
          ]
        }
      ]
    },
    {
      "cell_type": "code",
      "source": [
        "print(len(string))"
      ],
      "metadata": {
        "colab": {
          "base_uri": "https://localhost:8080/"
        },
        "id": "qyqthT-YMBGn",
        "outputId": "f4d20665-aae5-4ecd-ffd9-3d3a88f8e37e"
      },
      "id": "qyqthT-YMBGn",
      "execution_count": null,
      "outputs": [
        {
          "output_type": "stream",
          "name": "stdout",
          "text": [
            "6\n"
          ]
        }
      ]
    },
    {
      "cell_type": "code",
      "source": [
        "print(string[:-1])"
      ],
      "metadata": {
        "colab": {
          "base_uri": "https://localhost:8080/"
        },
        "id": "mUJ3tm3hMEsd",
        "outputId": "98195fa1-50ff-445d-e9dd-f13d7de97d75"
      },
      "id": "mUJ3tm3hMEsd",
      "execution_count": null,
      "outputs": [
        {
          "output_type": "stream",
          "name": "stdout",
          "text": [
            "abcde\n"
          ]
        }
      ]
    },
    {
      "cell_type": "markdown",
      "id": "ea1f6460",
      "metadata": {
        "id": "ea1f6460"
      },
      "source": [
        "####  Логические переменные - boolean"
      ]
    },
    {
      "cell_type": "code",
      "source": [
        "a = True"
      ],
      "metadata": {
        "id": "qeVoFxHL3zu7"
      },
      "id": "qeVoFxHL3zu7",
      "execution_count": null,
      "outputs": []
    },
    {
      "cell_type": "code",
      "source": [
        "b = False"
      ],
      "metadata": {
        "id": "xRwCbO-t31Un"
      },
      "id": "xRwCbO-t31Un",
      "execution_count": null,
      "outputs": []
    },
    {
      "cell_type": "markdown",
      "id": "4KvH--02IHGZ",
      "metadata": {
        "id": "4KvH--02IHGZ"
      },
      "source": [
        "![](https://i.ibb.co/9hnLp9z/bool.png)"
      ]
    },
    {
      "cell_type": "code",
      "source": [
        "print(a)"
      ],
      "metadata": {
        "colab": {
          "base_uri": "https://localhost:8080/"
        },
        "id": "-z7O5K_92UOb",
        "outputId": "b0cb43b0-2ad8-4573-a59c-a650a83ac8b6"
      },
      "id": "-z7O5K_92UOb",
      "execution_count": null,
      "outputs": [
        {
          "output_type": "stream",
          "name": "stdout",
          "text": [
            "True\n"
          ]
        }
      ]
    },
    {
      "cell_type": "code",
      "execution_count": null,
      "id": "c1efc857",
      "metadata": {
        "id": "c1efc857",
        "outputId": "bfec7c8a-a365-4351-bfcd-83a79b646aa3",
        "colab": {
          "base_uri": "https://localhost:8080/"
        }
      },
      "outputs": [
        {
          "output_type": "stream",
          "name": "stdout",
          "text": [
            "<class 'bool'>\n"
          ]
        }
      ],
      "source": [
        "print(type(False))"
      ]
    },
    {
      "cell_type": "code",
      "execution_count": null,
      "id": "48a0d2cf",
      "metadata": {
        "id": "48a0d2cf",
        "outputId": "70208b57-dbf6-4f5d-dd1d-b2bf671970eb",
        "colab": {
          "base_uri": "https://localhost:8080/"
        }
      },
      "outputs": [
        {
          "output_type": "stream",
          "name": "stdout",
          "text": [
            "<class 'str'>\n"
          ]
        }
      ],
      "source": [
        "print(type('True'))"
      ]
    },
    {
      "cell_type": "code",
      "source": [
        "a = 2 > 3"
      ],
      "metadata": {
        "id": "X1TXvn5aM3-7"
      },
      "id": "X1TXvn5aM3-7",
      "execution_count": null,
      "outputs": []
    },
    {
      "cell_type": "code",
      "source": [
        "a"
      ],
      "metadata": {
        "colab": {
          "base_uri": "https://localhost:8080/"
        },
        "id": "kBfSXEXDM7EC",
        "outputId": "2392e3c1-4e8a-4f65-df3f-982a97722669"
      },
      "id": "kBfSXEXDM7EC",
      "execution_count": null,
      "outputs": [
        {
          "output_type": "execute_result",
          "data": {
            "text/plain": [
              "False"
            ]
          },
          "metadata": {},
          "execution_count": 173
        }
      ]
    },
    {
      "cell_type": "code",
      "source": [
        "print(2 > 3)"
      ],
      "metadata": {
        "colab": {
          "base_uri": "https://localhost:8080/"
        },
        "id": "PpCykptAkdsv",
        "outputId": "a0d2dc71-7b18-434a-a89c-34de517458f7"
      },
      "id": "PpCykptAkdsv",
      "execution_count": null,
      "outputs": [
        {
          "output_type": "stream",
          "name": "stdout",
          "text": [
            "False\n"
          ]
        }
      ]
    },
    {
      "cell_type": "code",
      "execution_count": null,
      "id": "5b313a2f",
      "metadata": {
        "id": "5b313a2f",
        "outputId": "292030a7-6eb9-4e54-de3d-aab070c6b515",
        "colab": {
          "base_uri": "https://localhost:8080/"
        }
      },
      "outputs": [
        {
          "output_type": "stream",
          "name": "stdout",
          "text": [
            "True\n"
          ]
        }
      ],
      "source": [
        "print(34 == 30+4)"
      ]
    },
    {
      "cell_type": "code",
      "execution_count": null,
      "id": "7c058f7c",
      "metadata": {
        "id": "7c058f7c",
        "outputId": "b5f38aa3-3086-42d9-b70b-b1df565848f3",
        "colab": {
          "base_uri": "https://localhost:8080/"
        }
      },
      "outputs": [
        {
          "output_type": "stream",
          "name": "stdout",
          "text": [
            "False\n"
          ]
        }
      ],
      "source": [
        "print(35 == 30-5)"
      ]
    },
    {
      "cell_type": "code",
      "source": [
        "print(35 != 30-5)"
      ],
      "metadata": {
        "colab": {
          "base_uri": "https://localhost:8080/"
        },
        "id": "zDhS-hFRNOGF",
        "outputId": "38d25569-b473-477a-b8ed-068225992ba8"
      },
      "id": "zDhS-hFRNOGF",
      "execution_count": null,
      "outputs": [
        {
          "output_type": "stream",
          "name": "stdout",
          "text": [
            "True\n"
          ]
        }
      ]
    },
    {
      "cell_type": "code",
      "source": [
        "bool('ab')"
      ],
      "metadata": {
        "colab": {
          "base_uri": "https://localhost:8080/"
        },
        "id": "HnwwM45Ck-2r",
        "outputId": "49151b34-c9f5-4ccc-8228-ed5d880f278d"
      },
      "id": "HnwwM45Ck-2r",
      "execution_count": null,
      "outputs": [
        {
          "output_type": "execute_result",
          "data": {
            "text/plain": [
              "True"
            ]
          },
          "metadata": {},
          "execution_count": 179
        }
      ]
    },
    {
      "cell_type": "code",
      "source": [
        "bool('')"
      ],
      "metadata": {
        "colab": {
          "base_uri": "https://localhost:8080/"
        },
        "id": "iX2KTn_wYh7s",
        "outputId": "f2c7ddac-b66f-44a4-9f01-b29972eb87d5"
      },
      "id": "iX2KTn_wYh7s",
      "execution_count": null,
      "outputs": [
        {
          "output_type": "execute_result",
          "data": {
            "text/plain": [
              "False"
            ]
          },
          "metadata": {},
          "execution_count": 180
        }
      ]
    },
    {
      "cell_type": "code",
      "source": [
        "bool(-2)"
      ],
      "metadata": {
        "colab": {
          "base_uri": "https://localhost:8080/"
        },
        "id": "lqDYFEGBlF9z",
        "outputId": "96b7fb02-6df7-4085-a0a7-67b5c8ce1d93"
      },
      "id": "lqDYFEGBlF9z",
      "execution_count": null,
      "outputs": [
        {
          "output_type": "execute_result",
          "data": {
            "text/plain": [
              "True"
            ]
          },
          "metadata": {},
          "execution_count": 181
        }
      ]
    },
    {
      "cell_type": "code",
      "source": [
        "bool(2)"
      ],
      "metadata": {
        "colab": {
          "base_uri": "https://localhost:8080/"
        },
        "id": "IWsraDSNYsB0",
        "outputId": "0b80c420-f6cb-44bc-d04e-d3c17660bcb5"
      },
      "id": "IWsraDSNYsB0",
      "execution_count": null,
      "outputs": [
        {
          "output_type": "execute_result",
          "data": {
            "text/plain": [
              "True"
            ]
          },
          "metadata": {},
          "execution_count": 182
        }
      ]
    },
    {
      "cell_type": "code",
      "source": [
        "bool(0)"
      ],
      "metadata": {
        "colab": {
          "base_uri": "https://localhost:8080/"
        },
        "id": "bf0GTNGhNebm",
        "outputId": "fb1ca254-646c-45e3-d3ea-4b6c9c9c073d"
      },
      "id": "bf0GTNGhNebm",
      "execution_count": null,
      "outputs": [
        {
          "output_type": "execute_result",
          "data": {
            "text/plain": [
              "False"
            ]
          },
          "metadata": {},
          "execution_count": 183
        }
      ]
    },
    {
      "cell_type": "code",
      "source": [
        "a = 2 == 3\n",
        "print(a)"
      ],
      "metadata": {
        "colab": {
          "base_uri": "https://localhost:8080/"
        },
        "id": "0MIBFkEqlHGC",
        "outputId": "1a256527-37e1-4fbc-8a94-269d6c55ffd6"
      },
      "id": "0MIBFkEqlHGC",
      "execution_count": null,
      "outputs": [
        {
          "output_type": "stream",
          "name": "stdout",
          "text": [
            "False\n"
          ]
        }
      ]
    },
    {
      "cell_type": "code",
      "source": [
        "n = int(input())\n",
        "print(n // 10 % 10)"
      ],
      "metadata": {
        "colab": {
          "base_uri": "https://localhost:8080/"
        },
        "id": "gwNP3gjLa2eD",
        "outputId": "7e0a8a40-75fd-44fa-af12-8eb1abd955f0"
      },
      "id": "gwNP3gjLa2eD",
      "execution_count": null,
      "outputs": [
        {
          "output_type": "stream",
          "name": "stdout",
          "text": [
            "53467\n",
            "6\n"
          ]
        }
      ]
    },
    {
      "cell_type": "markdown",
      "source": [
        "\n",
        " ### Условия\n",
        "\n",
        "\n",
        "Пример блока if-elif-else: <br />\n",
        "\n",
        "\n",
        "**if** условие1:<br />\n",
        "&emsp; блок инструкций 1<br />\n",
        "**elif** условие2:<br />\n",
        "&emsp; блок инструкций 2<br />\n",
        "**elif** условие3:<br />\n",
        "&emsp; блок инструкций 3<br />\n",
        "**else**: <br />\n",
        "&emsp; блок инструкций 4<br />\n",
        "блок инструкций 5<br />\n",
        "\n",
        "Все команды пишутся с отступом.\n",
        "**elif** может быть любое количество или может не быть совсем. **else** также может не быть.\n",
        "\n",
        "В примере выше вначале проверяется условие1. Если оно верно, выполняется блок инструкций 1, далее мы сразу переходим к блоку инструкций 5.  \n",
        "Если условие1 неверно, проверяется условие 2: если оно верно, то далее выполняется блок инструкций 2 и затем - блок инструкций 5.  \n",
        "Если условие2 также неверно, проверяется условие 3: если оно верно, то далее выполняется блок инструкций 3 и затем - блок инструкций 5.  \n",
        "Если условие 3 также неверно, то выполняются блоки инструкций 4 и 5.  \n",
        "\n",
        "Часто в качестве проверяемого условия перед if используется результат вычисления одного из следующих операторов сравнения:\n",
        "\n",
        "<center>\n",
        "    <table>\n",
        "        <tr>\n",
        "            <th>Логическое выражение </th>\n",
        "            <th> Значение </th>\n",
        "        </tr>\n",
        "        <tr><td>&lt;</td><td> Первый операнд меньше второго </td></tr>\n",
        "        <tr><td>&gt;</td><td> Первый операнд больше второго</td></tr>\n",
        "        <tr><td>&lt;=</td><td> Меньше или равно</td></tr>\n",
        "        <tr><td>&gt;=</td><td> Больше или равно</td></tr>\n",
        "        <tr><td>==</td><td> Два операнда равны </td></tr>\n",
        "        <tr><td>!=</td><td> Два операнда не равны</td></tr>\n",
        "    </table>\n",
        "</center>\n",
        "\n",
        "Чтобы записать сложное логическое выражение, используются \"и\", \"или\" и \"не\": в питоне они обозначаются как **and**, **or** и **not** соответственно.\n",
        "\n",
        "Операции **and** и **or** записываются между двумя операндами, например x < 3 or y > 2.\n",
        "\n",
        "Операция **not**  записывается перед единственным своим операндом. Например, not x > 0."
      ],
      "metadata": {
        "id": "99cIzZfkV3PH"
      },
      "id": "99cIzZfkV3PH"
    },
    {
      "cell_type": "code",
      "source": [
        "not(2 > 3)"
      ],
      "metadata": {
        "colab": {
          "base_uri": "https://localhost:8080/"
        },
        "id": "QQsIpoANOeBK",
        "outputId": "1ca0e7a7-812f-45a2-c07d-cf8ea0321a9d"
      },
      "id": "QQsIpoANOeBK",
      "execution_count": null,
      "outputs": [
        {
          "output_type": "execute_result",
          "data": {
            "text/plain": [
              "True"
            ]
          },
          "metadata": {},
          "execution_count": 188
        }
      ]
    },
    {
      "cell_type": "code",
      "source": [
        "(2 > 3) and (3 < 4)"
      ],
      "metadata": {
        "colab": {
          "base_uri": "https://localhost:8080/"
        },
        "id": "rMInp9SbOPZ7",
        "outputId": "54bbf0bd-c11e-45ed-f2d8-ff97c7cdc498"
      },
      "id": "rMInp9SbOPZ7",
      "execution_count": null,
      "outputs": [
        {
          "output_type": "execute_result",
          "data": {
            "text/plain": [
              "False"
            ]
          },
          "metadata": {},
          "execution_count": 186
        }
      ]
    },
    {
      "cell_type": "code",
      "source": [
        "(2 > 3) or (3 < 4)"
      ],
      "metadata": {
        "colab": {
          "base_uri": "https://localhost:8080/"
        },
        "id": "VgaP4zAqOY25",
        "outputId": "a1399904-dfa0-45a6-b86b-db12f80499ee"
      },
      "id": "VgaP4zAqOY25",
      "execution_count": null,
      "outputs": [
        {
          "output_type": "execute_result",
          "data": {
            "text/plain": [
              "True"
            ]
          },
          "metadata": {},
          "execution_count": 187
        }
      ]
    },
    {
      "cell_type": "markdown",
      "source": [],
      "metadata": {
        "id": "zHfyj2ZROOvu"
      },
      "id": "zHfyj2ZROOvu"
    },
    {
      "cell_type": "markdown",
      "source": [
        "###### Задача вне нумерации\n",
        "В чем разница между двумя ячейками кода ниже? В каких случаях они будут давать разный результат?"
      ],
      "metadata": {
        "id": "g55dF6EVV-c3"
      },
      "id": "g55dF6EVV-c3"
    },
    {
      "cell_type": "code",
      "source": [
        "x = int(input())\n",
        "if x % 3 == 0:\n",
        "    print('Число делится на 3')\n",
        "if x % 2 == 0:\n",
        "    print('Число делится на 2')"
      ],
      "metadata": {
        "id": "5TXwiKElWAJs",
        "colab": {
          "base_uri": "https://localhost:8080/"
        },
        "outputId": "7774b408-0b0a-464b-8bf9-c0902a4463ba"
      },
      "id": "5TXwiKElWAJs",
      "execution_count": null,
      "outputs": [
        {
          "output_type": "stream",
          "name": "stdout",
          "text": [
            "6\n",
            "Число делится на 3\n",
            "Число делится на 2\n"
          ]
        }
      ]
    },
    {
      "cell_type": "code",
      "source": [
        "x = int(input())\n",
        "if x % 3 == 0:\n",
        "    print('Число делится на 3')\n",
        "elif x % 2 == 0:\n",
        "    print('Число делится на 2')\n"
      ],
      "metadata": {
        "id": "Q48kD0yRWAor",
        "colab": {
          "base_uri": "https://localhost:8080/"
        },
        "outputId": "7c1c5bc6-5e0d-46db-8bd8-7eeb973e8012"
      },
      "id": "Q48kD0yRWAor",
      "execution_count": null,
      "outputs": [
        {
          "output_type": "stream",
          "name": "stdout",
          "text": [
            "6\n",
            "Число делится на 3\n"
          ]
        }
      ]
    },
    {
      "cell_type": "markdown",
      "source": [
        "###### Задача 7\n",
        "\n",
        "Напишите программу, которая запрашивает с клавиатуры число и выводит слово \"Четное\", если оно делится на два, и \"Нечетное\" в противном случае.\n"
      ],
      "metadata": {
        "id": "OlNhSq5CWOUG"
      },
      "id": "OlNhSq5CWOUG"
    },
    {
      "cell_type": "markdown",
      "source": [
        "###### Задача 8\n",
        "\n",
        "Пользователь вводит три целых числа. Определите, сколько среди них совпадающих. Программа должна вывести одно из чисел: 3 (если все совпадают), 2 (если два совпадает) или 0 (если все числа различны)."
      ],
      "metadata": {
        "id": "W5B_cxj9WExE"
      },
      "id": "W5B_cxj9WExE"
    },
    {
      "cell_type": "code",
      "source": [
        "a == b == c"
      ],
      "metadata": {
        "id": "Y8amaSinP3Y9"
      },
      "id": "Y8amaSinP3Y9",
      "execution_count": null,
      "outputs": []
    },
    {
      "cell_type": "code",
      "source": [
        "a = int(input())\n",
        "b = int(input())\n",
        "c = int(input())\n",
        "if a == b and b == c:\n",
        "  print(3)\n",
        "elif a == b or b == c or a == c:\n",
        "  print(2)\n",
        "else:\n",
        "  print(0)"
      ],
      "metadata": {
        "colab": {
          "base_uri": "https://localhost:8080/"
        },
        "id": "PBMm-W56PmYI",
        "outputId": "35eee087-987e-4e3e-9c52-c674d94d043b"
      },
      "id": "PBMm-W56PmYI",
      "execution_count": null,
      "outputs": [
        {
          "output_type": "stream",
          "name": "stdout",
          "text": [
            "4\n",
            "2\n",
            "4\n",
            "2\n"
          ]
        }
      ]
    },
    {
      "cell_type": "markdown",
      "source": [
        "###### Задача 9\n",
        "Пользователь вводит два целых числа (каждое с новой строки)\n",
        "Если эти числа равны, выведите текст \"Числа равны\".\n",
        "В остальных случаях определите, какое число больше.\n",
        "\n",
        "**Пример ввода 1**  \n",
        "7  \n",
        "3  \n",
        "**Пример вывода 1**  \n",
        "Число 7 больше числа 3  \n",
        "\n",
        "  \n",
        "**Пример ввода 2**  \n",
        "4  \n",
        "4  \n",
        "**Пример вывода 2**  \n",
        "Числа равны  "
      ],
      "metadata": {
        "id": "f3yen7QQWRcb"
      },
      "id": "f3yen7QQWRcb"
    },
    {
      "cell_type": "code",
      "source": [
        "a = int(input())\n",
        "b = int(input())\n",
        "if a == b:\n",
        "  print('Числа равны')\n",
        "elif a > b:\n",
        "  print(f'Число {a} больше числа {b}')\n",
        "else:\n",
        "  print(f'Число {b} больше числа {a}')"
      ],
      "metadata": {
        "colab": {
          "base_uri": "https://localhost:8080/"
        },
        "id": "TcvbCrAaQeRB",
        "outputId": "30ab63f2-865d-4660-c77d-23ab0677232b"
      },
      "id": "TcvbCrAaQeRB",
      "execution_count": null,
      "outputs": [
        {
          "output_type": "stream",
          "name": "stdout",
          "text": [
            "7\n",
            "4\n",
            "Число 7 больше числа 4\n"
          ]
        }
      ]
    },
    {
      "cell_type": "markdown",
      "source": [],
      "metadata": {
        "id": "EZYnrm0aWUrZ"
      },
      "id": "EZYnrm0aWUrZ"
    },
    {
      "cell_type": "markdown",
      "source": [
        " ###### Задача 10\n",
        " Пользователь вводит строку. Если в этой строке больше 10 символов, выведите \"слишком длинно\". Если меньше 5, выведите \"недостаточно длинно\". В остальных случаях выведите \"В самый раз\""
      ],
      "metadata": {
        "id": "N79iHUwQ5rtF"
      },
      "id": "N79iHUwQ5rtF"
    },
    {
      "cell_type": "markdown",
      "source": [
        "###### Задача 11\n",
        " Дано натуральное число. Требуется определить, является ли год с данным номером високосным. Если год является високосным, то выведите YES, иначе выведите NO. Напомним, что в соответствии с григорианским календарем, год является високосным, если его номер кратен 4, но не кратен 100, а также если он кратен 400"
      ],
      "metadata": {
        "id": "ROcmTlce6A6m"
      },
      "id": "ROcmTlce6A6m"
    },
    {
      "cell_type": "code",
      "source": [
        "year = int(input())\n",
        "if ((year % 4 == 0) and (year % 100 != 0)) or year % 400 == 0:\n",
        "  print('YES')\n",
        "else:\n",
        "  print('NO')"
      ],
      "metadata": {
        "colab": {
          "base_uri": "https://localhost:8080/"
        },
        "id": "qodJRwjkROvo",
        "outputId": "b5c79eaa-a361-4cd9-9a98-0c24d96f3d68"
      },
      "id": "qodJRwjkROvo",
      "execution_count": null,
      "outputs": [
        {
          "output_type": "stream",
          "name": "stdout",
          "text": [
            "2016\n",
            "YES\n"
          ]
        }
      ]
    },
    {
      "cell_type": "markdown",
      "source": [
        "###### Задача 12\n",
        "Билет в музей стоит 1000 рублей, а для тех, кто предъявит студенческий билет — 400. Программа принимает на вход количество денег у Ани N и то, есть ли у неё студенческий билет (1, если да и 0, если нет). Программа выводит \"Да\", если Ане хватит на билет, и \"Нет\" в остальных случаях."
      ],
      "metadata": {
        "id": "K79TdMEZ7CYJ"
      },
      "id": "K79TdMEZ7CYJ"
    }
  ],
  "metadata": {
    "colab": {
      "provenance": [],
      "include_colab_link": true
    },
    "kernelspec": {
      "display_name": "Python 3 (ipykernel)",
      "language": "python",
      "name": "python3"
    },
    "language_info": {
      "codemirror_mode": {
        "name": "ipython",
        "version": 3
      },
      "file_extension": ".py",
      "mimetype": "text/x-python",
      "name": "python",
      "nbconvert_exporter": "python",
      "pygments_lexer": "ipython3",
      "version": "3.10.9"
    }
  },
  "nbformat": 4,
  "nbformat_minor": 5
}