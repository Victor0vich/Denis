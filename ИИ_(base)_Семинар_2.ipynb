{
  "nbformat": 4,
  "nbformat_minor": 0,
  "metadata": {
    "colab": {
      "provenance": [],
      "include_colab_link": true
    },
    "kernelspec": {
      "name": "python3",
      "display_name": "Python 3"
    },
    "language_info": {
      "name": "python"
    }
  },
  "cells": [
    {
      "cell_type": "markdown",
      "metadata": {
        "id": "view-in-github",
        "colab_type": "text"
      },
      "source": [
        "<a href=\"https://colab.research.google.com/github/Victor0vich/Denis/blob/main/%D0%98%D0%98_(base)_%D0%A1%D0%B5%D0%BC%D0%B8%D0%BD%D0%B0%D1%80_2.ipynb\" target=\"_parent\"><img src=\"https://colab.research.google.com/assets/colab-badge.svg\" alt=\"Open In Colab\"/></a>"
      ]
    },
    {
      "cell_type": "markdown",
      "source": [
        "### Функции\n",
        "\n",
        "Функция -- это код, выполняющий конкретную небольшую цель.\n",
        "\n",
        "Синтаксис:\n",
        "\n",
        "<ul>\n",
        "<li>def -- ключевое слово, объявляющее функцию</li>\n",
        "<li>my_new_function -- произвольное имя, которое мы даём нашей функции. Далее мы будем обращаться к функции по этому имени</li>\n",
        "<li>: -- знак начала объявления инструкции, как, например, в конструкции if</li>\n",
        "<li>Далее можно писать код, который будет исполняться</li>\n",
        "\n",
        "</ul>"
      ],
      "metadata": {
        "id": "kpzUVzKKX6Zc"
      }
    },
    {
      "cell_type": "code",
      "source": [
        "def very_useful_function():\n",
        "    print('Hello!')"
      ],
      "metadata": {
        "id": "p4Vvfa5gYDoN"
      },
      "execution_count": null,
      "outputs": []
    },
    {
      "cell_type": "code",
      "source": [
        "very_useful_function"
      ],
      "metadata": {
        "colab": {
          "base_uri": "https://localhost:8080/",
          "height": 103
        },
        "id": "UZvY94aVYKDz",
        "outputId": "81fe9ceb-d102-4302-ec42-ea00bdec72eb"
      },
      "execution_count": null,
      "outputs": [
        {
          "output_type": "execute_result",
          "data": {
            "text/plain": [
              "<function __main__.very_useful_function()>"
            ],
            "text/html": [
              "<div style=\"max-width:800px; border: 1px solid var(--colab-border-color);\"><style>\n",
              "      pre.function-repr-contents {\n",
              "        overflow-x: auto;\n",
              "        padding: 8px 12px;\n",
              "        max-height: 500px;\n",
              "      }\n",
              "\n",
              "      pre.function-repr-contents.function-repr-contents-collapsed {\n",
              "        cursor: pointer;\n",
              "        max-height: 100px;\n",
              "      }\n",
              "    </style>\n",
              "    <pre style=\"white-space: initial; background:\n",
              "         var(--colab-secondary-surface-color); padding: 8px 12px;\n",
              "         border-bottom: 1px solid var(--colab-border-color);\"><b>very_useful_function</b><br/>def very_useful_function()</pre><pre class=\"function-repr-contents function-repr-contents-collapsed\" style=\"\"><a class=\"filepath\" style=\"display:none\" href=\"#\">/content/&lt;ipython-input-1-060eaaa833c6&gt;</a>&lt;no docstring&gt;</pre></div>"
            ]
          },
          "metadata": {},
          "execution_count": 2
        }
      ]
    },
    {
      "cell_type": "code",
      "source": [
        "very_useful_function()"
      ],
      "metadata": {
        "colab": {
          "base_uri": "https://localhost:8080/"
        },
        "id": "4rMGGerfYEbj",
        "outputId": "030e7bc5-e0e5-444f-af3a-fbc7621b8517"
      },
      "execution_count": null,
      "outputs": [
        {
          "output_type": "stream",
          "name": "stdout",
          "text": [
            "Hello!\n"
          ]
        }
      ]
    },
    {
      "cell_type": "code",
      "source": [
        "result = very_useful_function()"
      ],
      "metadata": {
        "id": "Hh1GtInHYR9N",
        "colab": {
          "base_uri": "https://localhost:8080/"
        },
        "outputId": "a2f6513f-1b9a-4a1c-bdcb-5ec40adf5adf"
      },
      "execution_count": null,
      "outputs": [
        {
          "output_type": "stream",
          "name": "stdout",
          "text": [
            "Hello!\n"
          ]
        }
      ]
    },
    {
      "cell_type": "code",
      "source": [
        "print(result)"
      ],
      "metadata": {
        "colab": {
          "base_uri": "https://localhost:8080/"
        },
        "id": "hbMoIiGhF7R9",
        "outputId": "1e7c52b6-c142-4c69-e1a2-262260b4b9d9"
      },
      "execution_count": null,
      "outputs": [
        {
          "output_type": "stream",
          "name": "stdout",
          "text": [
            "None\n"
          ]
        }
      ]
    },
    {
      "cell_type": "markdown",
      "source": [
        "### Аргументы функций"
      ],
      "metadata": {
        "id": "XUaEjN8QYSUX"
      }
    },
    {
      "cell_type": "code",
      "source": [
        "def has_negative_number(list_numbers):\n",
        "    for num in list_numbers:\n",
        "        if num < 0:\n",
        "            return True\n",
        "    return False"
      ],
      "metadata": {
        "id": "RvNaIRjNYUFL"
      },
      "execution_count": null,
      "outputs": []
    },
    {
      "cell_type": "code",
      "source": [
        "list_numbers = [0, 1, -1, 2, 3]\n",
        "is_negative_number = has_negative_number(list_numbers)\n",
        "print(is_negative_number)"
      ],
      "metadata": {
        "colab": {
          "base_uri": "https://localhost:8080/"
        },
        "id": "OpnbpUPCYYi3",
        "outputId": "26490ff3-ad43-4d0a-cd23-c8642642f57b"
      },
      "execution_count": null,
      "outputs": [
        {
          "output_type": "stream",
          "name": "stdout",
          "text": [
            "True\n"
          ]
        }
      ]
    },
    {
      "cell_type": "code",
      "source": [
        "is_negative_number = has_negative_number() # ошибка - функция ожидает один аргумент, мы не дали ни одного"
      ],
      "metadata": {
        "colab": {
          "base_uri": "https://localhost:8080/",
          "height": 141
        },
        "id": "0d7tD6HjYqW2",
        "outputId": "60acd151-b8fc-4d94-8404-b9ae65b801c0"
      },
      "execution_count": null,
      "outputs": [
        {
          "output_type": "error",
          "ename": "TypeError",
          "evalue": "has_negative_number() missing 1 required positional argument: 'list_numbers'",
          "traceback": [
            "\u001b[0;31m---------------------------------------------------------------------------\u001b[0m",
            "\u001b[0;31mTypeError\u001b[0m                                 Traceback (most recent call last)",
            "\u001b[0;32m<ipython-input-10-4967b556b4cb>\u001b[0m in \u001b[0;36m<cell line: 1>\u001b[0;34m()\u001b[0m\n\u001b[0;32m----> 1\u001b[0;31m \u001b[0mis_negative_number\u001b[0m \u001b[0;34m=\u001b[0m \u001b[0mhas_negative_number\u001b[0m\u001b[0;34m(\u001b[0m\u001b[0;34m)\u001b[0m \u001b[0;31m# ошибка - функция ожидает один аргумент, мы не дали ни одного\u001b[0m\u001b[0;34m\u001b[0m\u001b[0;34m\u001b[0m\u001b[0m\n\u001b[0m",
            "\u001b[0;31mTypeError\u001b[0m: has_negative_number() missing 1 required positional argument: 'list_numbers'"
          ]
        }
      ]
    },
    {
      "cell_type": "code",
      "source": [
        "result_of_function = very_useful_function()\n",
        "print(result_of_function)"
      ],
      "metadata": {
        "id": "YeWLVyNDY2mb",
        "colab": {
          "base_uri": "https://localhost:8080/"
        },
        "outputId": "aa019e08-a624-4348-b7e7-a4ee35fb68b0"
      },
      "execution_count": null,
      "outputs": [
        {
          "output_type": "stream",
          "name": "stdout",
          "text": [
            "Hello!\n",
            "None\n"
          ]
        }
      ]
    },
    {
      "cell_type": "code",
      "source": [
        "result_of_function = very_useful_function()\n",
        "print(result_of_function)"
      ],
      "metadata": {
        "id": "ZjW6quiMY31C"
      },
      "execution_count": null,
      "outputs": []
    },
    {
      "cell_type": "markdown",
      "source": [
        "##### Аргументы с значениями по умолчанию\n",
        "\n",
        "Если мы хотим оставить значения каких-то аргументов по умолчанию, можно прописать их при определении функции.\n",
        "\n",
        "В таком случае можно вызывать функции без аргументов и ошибки не возникнет."
      ],
      "metadata": {
        "id": "fTzTMKv_Ytfq"
      }
    },
    {
      "cell_type": "code",
      "source": [
        "def very_useful_print_function(thing = \"Привет\"):\n",
        "    print(f'{thing}!')"
      ],
      "metadata": {
        "id": "aSiVZOmaY0lb"
      },
      "execution_count": null,
      "outputs": []
    },
    {
      "cell_type": "code",
      "source": [
        " very_useful_print_function()"
      ],
      "metadata": {
        "colab": {
          "base_uri": "https://localhost:8080/"
        },
        "id": "ZKzX2PCvGKe0",
        "outputId": "4c73c8f2-1b98-47be-a4d2-4e7d3c801830"
      },
      "execution_count": null,
      "outputs": [
        {
          "output_type": "stream",
          "name": "stdout",
          "text": [
            "Привет!\n"
          ]
        }
      ]
    },
    {
      "cell_type": "markdown",
      "source": [
        "**Задача с контеста**\n",
        "\n",
        "Напишите функцию is_plagiat, которая принимает на вход два аргумента - строки word1 и word2 - и возвращает True, если слово является плагиатом, и False - если не является.\n",
        "\n",
        "word2 является плагиатом слова word1, если:\n",
        "\n",
        "\n",
        "* Используются те же самые буквы либо есть еще одна дополнительная, которой нет в word1\n",
        "* Регистр не имеет значения (слово \"woRD\" является плагиатом слова \"word\")\n",
        "* Порядок не имеет значения - если буквы все совпадают (либо совпадают все, кроме одной), но расположены они в разном порядке - это все равно плагиат!\n",
        "Гарантируется, что слова состоят только из букв.\n",
        "\n",
        "\n",
        "Считайте две строки и выведите результат функции is_plagiat от них."
      ],
      "metadata": {
        "id": "f2juYN9eIIZH"
      }
    },
    {
      "cell_type": "code",
      "source": [
        "set('abcdefff')"
      ],
      "metadata": {
        "colab": {
          "base_uri": "https://localhost:8080/"
        },
        "id": "-NKfmOxu01Ru",
        "outputId": "679e3adb-3fa4-472f-a140-0418d88717cd"
      },
      "execution_count": null,
      "outputs": [
        {
          "output_type": "execute_result",
          "data": {
            "text/plain": [
              "{'a', 'b', 'c', 'd', 'e', 'f'}"
            ]
          },
          "metadata": {},
          "execution_count": 16
        }
      ]
    },
    {
      "cell_type": "code",
      "source": [
        "w1 = set('word')\n",
        "w2 = set('wo')"
      ],
      "metadata": {
        "id": "cbueEVvV0-Ia"
      },
      "execution_count": null,
      "outputs": []
    },
    {
      "cell_type": "code",
      "source": [
        "w1"
      ],
      "metadata": {
        "colab": {
          "base_uri": "https://localhost:8080/"
        },
        "id": "EFfqjT_L1NU3",
        "outputId": "1a398fa9-22b9-4e49-e12f-e2c8984bfa23"
      },
      "execution_count": null,
      "outputs": [
        {
          "output_type": "execute_result",
          "data": {
            "text/plain": [
              "{'d', 'o', 'r', 'w'}"
            ]
          },
          "metadata": {},
          "execution_count": 18
        }
      ]
    },
    {
      "cell_type": "code",
      "source": [
        "w2"
      ],
      "metadata": {
        "colab": {
          "base_uri": "https://localhost:8080/"
        },
        "id": "-3TseqJI1Rre",
        "outputId": "43a1ad45-1867-4695-9cd8-5daa7de9d1f9"
      },
      "execution_count": null,
      "outputs": [
        {
          "output_type": "execute_result",
          "data": {
            "text/plain": [
              "{'o', 'w'}"
            ]
          },
          "metadata": {},
          "execution_count": 19
        }
      ]
    },
    {
      "cell_type": "code",
      "source": [
        "w2 - w1"
      ],
      "metadata": {
        "colab": {
          "base_uri": "https://localhost:8080/"
        },
        "id": "-tBioKCl1S1m",
        "outputId": "c3ec1d70-8423-46ae-af35-5a1404e291a1"
      },
      "execution_count": null,
      "outputs": [
        {
          "output_type": "execute_result",
          "data": {
            "text/plain": [
              "set()"
            ]
          },
          "metadata": {},
          "execution_count": 20
        }
      ]
    },
    {
      "cell_type": "code",
      "source": [
        "def is_plagiat(word1, word2):\n",
        "  w1 = set(word1.lower())\n",
        "  w2 = set(word2.lower())\n",
        "  return len(w2 - w1) <= 1"
      ],
      "metadata": {
        "id": "olJR9HvAIpv5"
      },
      "execution_count": null,
      "outputs": []
    },
    {
      "cell_type": "code",
      "source": [
        "word1 = input()\n",
        "word2 = input()\n",
        "print(is_plagiat(word1, word2))"
      ],
      "metadata": {
        "colab": {
          "base_uri": "https://localhost:8080/"
        },
        "id": "TqFFxLsM1d2j",
        "outputId": "3bd9371a-6cd0-4206-d9e7-55fa9f0ad2af"
      },
      "execution_count": null,
      "outputs": [
        {
          "output_type": "stream",
          "name": "stdout",
          "text": [
            "wo\n",
            "word\n",
            "False\n"
          ]
        }
      ]
    },
    {
      "cell_type": "markdown",
      "source": [
        "### Области видимости\n",
        "\n",
        "Область видимости -- пространство имён переменных, доступных в конкретной области.\n"
      ],
      "metadata": {
        "id": "_69EMGt5Z9iY"
      }
    },
    {
      "cell_type": "code",
      "source": [
        "a = 5\n",
        "def very_useful_print_function(thing = \"Привет\"):\n",
        "    print(thing * 2)\n",
        "    print(f'{thing}!')\n",
        "    print(a)"
      ],
      "metadata": {
        "id": "OcyKyGXzaCAI"
      },
      "execution_count": null,
      "outputs": []
    },
    {
      "cell_type": "code",
      "source": [],
      "metadata": {
        "id": "HNZHDrwC1x5d"
      },
      "execution_count": null,
      "outputs": []
    },
    {
      "cell_type": "code",
      "source": [
        "very_useful_print_function('hello')"
      ],
      "metadata": {
        "colab": {
          "base_uri": "https://localhost:8080/"
        },
        "id": "Mt8anZagJk00",
        "outputId": "fac9ef1f-1e9b-49f6-e27b-6c170579d790"
      },
      "execution_count": null,
      "outputs": [
        {
          "output_type": "stream",
          "name": "stdout",
          "text": [
            "hellohello\n",
            "hello!\n",
            "5\n"
          ]
        }
      ]
    },
    {
      "cell_type": "code",
      "source": [
        "thing"
      ],
      "metadata": {
        "colab": {
          "base_uri": "https://localhost:8080/",
          "height": 141
        },
        "id": "QfcwKlxpaDwo",
        "outputId": "45acb15f-4b17-4ff3-8f5f-67695597e107"
      },
      "execution_count": null,
      "outputs": [
        {
          "output_type": "error",
          "ename": "NameError",
          "evalue": "name 'thing' is not defined",
          "traceback": [
            "\u001b[0;31m---------------------------------------------------------------------------\u001b[0m",
            "\u001b[0;31mNameError\u001b[0m                                 Traceback (most recent call last)",
            "\u001b[0;32m<ipython-input-26-148e604087ff>\u001b[0m in \u001b[0;36m<cell line: 1>\u001b[0;34m()\u001b[0m\n\u001b[0;32m----> 1\u001b[0;31m \u001b[0mthing\u001b[0m\u001b[0;34m\u001b[0m\u001b[0;34m\u001b[0m\u001b[0m\n\u001b[0m",
            "\u001b[0;31mNameError\u001b[0m: name 'thing' is not defined"
          ]
        }
      ]
    },
    {
      "cell_type": "markdown",
      "source": [
        "При этом объекты из глобальной области видимости видны внутри локальной. Изменяемые объекты из глобальной области видимости можно модифицировать."
      ],
      "metadata": {
        "id": "q_gFZYOuaHOa"
      }
    },
    {
      "cell_type": "code",
      "source": [
        "global_list = [1, 2, 7]\n",
        "\n",
        "def foo():\n",
        "    print(global_list)\n",
        "    global_list.append(4)\n",
        "    print(global_list)\n",
        "    print(\"Функция завершила работу\")\n",
        "\n",
        "foo()"
      ],
      "metadata": {
        "colab": {
          "base_uri": "https://localhost:8080/"
        },
        "id": "j88zinqUaJYB",
        "outputId": "0ab08b8c-b78d-47af-8356-83becf98e6d0"
      },
      "execution_count": null,
      "outputs": [
        {
          "output_type": "stream",
          "name": "stdout",
          "text": [
            "[1, 2, 7]\n",
            "[1, 2, 7, 4]\n",
            "Функция завершила работу\n"
          ]
        }
      ]
    },
    {
      "cell_type": "code",
      "source": [
        "global_list"
      ],
      "metadata": {
        "colab": {
          "base_uri": "https://localhost:8080/"
        },
        "id": "XdtN2gGqaYUc",
        "outputId": "48910e47-f799-4a7b-d4fb-5aabeac514a4"
      },
      "execution_count": null,
      "outputs": [
        {
          "output_type": "execute_result",
          "data": {
            "text/plain": [
              "[1, 2, 7, 4]"
            ]
          },
          "metadata": {},
          "execution_count": 44
        }
      ]
    },
    {
      "cell_type": "markdown",
      "source": [
        "Однако нельзя переопределить глобальное имя из локальной области"
      ],
      "metadata": {
        "id": "EGQMCGoZabnK"
      }
    },
    {
      "cell_type": "code",
      "source": [
        "global_list = [1, 2, 7]\n",
        "\n",
        "def foo():\n",
        "    global_list = [1, 2]\n",
        "    global_list.append(4)\n",
        "    print(global_list)\n",
        "    print(\"Функция завершила работу\")\n",
        "\n",
        "foo()"
      ],
      "metadata": {
        "colab": {
          "base_uri": "https://localhost:8080/"
        },
        "id": "daYGQTASacvF",
        "outputId": "5ddaf61e-948f-41aa-be9b-b87d9f4dc575"
      },
      "execution_count": null,
      "outputs": [
        {
          "output_type": "stream",
          "name": "stdout",
          "text": [
            "[1, 2, 4]\n",
            "Функция завершила работу\n"
          ]
        }
      ]
    },
    {
      "cell_type": "code",
      "source": [
        "global_list"
      ],
      "metadata": {
        "colab": {
          "base_uri": "https://localhost:8080/"
        },
        "id": "O5WR67kxasP4",
        "outputId": "9d11fa04-1435-4565-8271-16d5bc24e980"
      },
      "execution_count": null,
      "outputs": [
        {
          "output_type": "execute_result",
          "data": {
            "text/plain": [
              "[1, 2, 7]"
            ]
          },
          "metadata": {},
          "execution_count": 34
        }
      ]
    },
    {
      "cell_type": "code",
      "source": [
        "global_list = [1, 2, 7]\n",
        "\n",
        "def foo():\n",
        "    global_list = [1, 2]\n",
        "    global_list.append(4)\n",
        "    print(global_list)\n",
        "    print(\"Функция завершила работу\")\n",
        "\n",
        "foo()"
      ],
      "metadata": {
        "colab": {
          "base_uri": "https://localhost:8080/"
        },
        "id": "yI8KMJr3atUW",
        "outputId": "f39989ce-bb42-42d7-cfc2-5d51d350d94e"
      },
      "execution_count": null,
      "outputs": [
        {
          "output_type": "stream",
          "name": "stdout",
          "text": [
            "[1, 2, 4]\n",
            "Функция завершила работу\n"
          ]
        }
      ]
    },
    {
      "cell_type": "code",
      "source": [
        "global_list"
      ],
      "metadata": {
        "colab": {
          "base_uri": "https://localhost:8080/"
        },
        "id": "HW7adN7WbGmx",
        "outputId": "932e371f-99bf-49ae-9643-f33d8d2a31ba"
      },
      "execution_count": null,
      "outputs": [
        {
          "output_type": "execute_result",
          "data": {
            "text/plain": [
              "[1, 2, 7]"
            ]
          },
          "metadata": {},
          "execution_count": 82
        }
      ]
    },
    {
      "cell_type": "code",
      "source": [
        "global_list = [1, 2, 7]\n",
        "\n",
        "def foo():\n",
        "    global global_list # но лучше такое не делать\n",
        "    global_list = [1, 2]\n",
        "    global_list.append(4)\n",
        "    print(global_list)\n",
        "    print(\"Функция завершила работу\")\n",
        "\n",
        "foo()"
      ],
      "metadata": {
        "colab": {
          "base_uri": "https://localhost:8080/"
        },
        "id": "X3UnfuhPa42W",
        "outputId": "3b13310e-0d52-488d-edb6-7c4486721f6e"
      },
      "execution_count": null,
      "outputs": [
        {
          "output_type": "stream",
          "name": "stdout",
          "text": [
            "[1, 2, 4]\n",
            "Функция завершила работу\n"
          ]
        }
      ]
    },
    {
      "cell_type": "code",
      "source": [
        "global_list"
      ],
      "metadata": {
        "colab": {
          "base_uri": "https://localhost:8080/"
        },
        "id": "gYYoFsbV2szb",
        "outputId": "1f54752a-dcba-4568-d826-e018551aaccd"
      },
      "execution_count": null,
      "outputs": [
        {
          "output_type": "execute_result",
          "data": {
            "text/plain": [
              "[1, 2, 4]"
            ]
          },
          "metadata": {},
          "execution_count": 36
        }
      ]
    },
    {
      "cell_type": "code",
      "source": [
        "global_list = [1, 2, 7]\n",
        "\n",
        "global_list = [1, 2]"
      ],
      "metadata": {
        "colab": {
          "base_uri": "https://localhost:8080/"
        },
        "id": "chwCiMjQMRk5",
        "outputId": "e4a55986-a8d0-485b-c189-ddd6b5da2d9f"
      },
      "execution_count": null,
      "outputs": [
        {
          "output_type": "execute_result",
          "data": {
            "text/plain": [
              "[1, 2, 4]"
            ]
          },
          "metadata": {},
          "execution_count": 80
        }
      ]
    },
    {
      "cell_type": "code",
      "source": [
        "def func(lst, num):\n",
        "  lst.append(num)\n",
        "  lst.append(num)"
      ],
      "metadata": {
        "id": "d7Lrnucj22B5"
      },
      "execution_count": null,
      "outputs": []
    },
    {
      "cell_type": "code",
      "source": [
        "global_list = [1, 2]\n",
        "func(global_list, 11)"
      ],
      "metadata": {
        "id": "577fVL5l28Kv"
      },
      "execution_count": null,
      "outputs": []
    },
    {
      "cell_type": "code",
      "source": [
        "global_list"
      ],
      "metadata": {
        "colab": {
          "base_uri": "https://localhost:8080/"
        },
        "id": "cyhT0SEy3Af5",
        "outputId": "ba688095-4765-4d6a-d385-c651069067e4"
      },
      "execution_count": null,
      "outputs": [
        {
          "output_type": "execute_result",
          "data": {
            "text/plain": [
              "[1, 2, 11, 11]"
            ]
          },
          "metadata": {},
          "execution_count": 41
        }
      ]
    },
    {
      "cell_type": "code",
      "source": [
        "def func(lst, num):\n",
        "  lst2 = lst.copy()\n",
        "  lst2.append(num)\n",
        "  lst2.append(num)"
      ],
      "metadata": {
        "id": "cT5bKY8_KSYX"
      },
      "execution_count": null,
      "outputs": []
    },
    {
      "cell_type": "code",
      "source": [
        "from copy import deepcopy"
      ],
      "metadata": {
        "id": "YXMSO_Dx4Pu_"
      },
      "execution_count": null,
      "outputs": []
    },
    {
      "cell_type": "code",
      "source": [
        "lst1 = [1, 2, 5, [1, 7]]\n",
        "lst2 = deepcopy(lst1)"
      ],
      "metadata": {
        "id": "jUv09-Rs3nSY"
      },
      "execution_count": null,
      "outputs": []
    },
    {
      "cell_type": "code",
      "source": [
        "lst1"
      ],
      "metadata": {
        "colab": {
          "base_uri": "https://localhost:8080/"
        },
        "id": "ajDJhvs93sCL",
        "outputId": "bc284f32-fbd7-44e8-980b-5580d1ce0e07"
      },
      "execution_count": null,
      "outputs": [
        {
          "output_type": "execute_result",
          "data": {
            "text/plain": [
              "[1, 2, 5, [1, 7]]"
            ]
          },
          "metadata": {},
          "execution_count": 60
        }
      ]
    },
    {
      "cell_type": "code",
      "source": [
        "lst2"
      ],
      "metadata": {
        "colab": {
          "base_uri": "https://localhost:8080/"
        },
        "id": "jQIn_feB3tpB",
        "outputId": "aa63b3f0-55e2-4eb4-f3d6-2e152f39c00c"
      },
      "execution_count": null,
      "outputs": [
        {
          "output_type": "execute_result",
          "data": {
            "text/plain": [
              "[1, 2, 5, [1, 7]]"
            ]
          },
          "metadata": {},
          "execution_count": 61
        }
      ]
    },
    {
      "cell_type": "code",
      "source": [
        "lst2[0] = 10"
      ],
      "metadata": {
        "id": "F4tz69DP3ute"
      },
      "execution_count": null,
      "outputs": []
    },
    {
      "cell_type": "code",
      "source": [
        "lst1"
      ],
      "metadata": {
        "colab": {
          "base_uri": "https://localhost:8080/"
        },
        "id": "m9KE5nrK3xJ7",
        "outputId": "195081e6-9408-4ed1-a866-4beb3a8be7a9"
      },
      "execution_count": null,
      "outputs": [
        {
          "output_type": "execute_result",
          "data": {
            "text/plain": [
              "[1, 2, 5, [1, 7]]"
            ]
          },
          "metadata": {},
          "execution_count": 63
        }
      ]
    },
    {
      "cell_type": "code",
      "source": [
        "lst2"
      ],
      "metadata": {
        "colab": {
          "base_uri": "https://localhost:8080/"
        },
        "id": "p5AGuoF73yH3",
        "outputId": "4ec86594-f8c9-40c6-e602-870f78a7b71a"
      },
      "execution_count": null,
      "outputs": [
        {
          "output_type": "execute_result",
          "data": {
            "text/plain": [
              "[10, 2, 5, [1, 7]]"
            ]
          },
          "metadata": {},
          "execution_count": 64
        }
      ]
    },
    {
      "cell_type": "code",
      "source": [
        "number_list = [1, 2, 10, 12]"
      ],
      "metadata": {
        "id": "oT6qoMcsKpmd"
      },
      "execution_count": null,
      "outputs": []
    },
    {
      "cell_type": "code",
      "source": [
        "result = func(number_list, 9)"
      ],
      "metadata": {
        "id": "gbRtjAaAKsv2"
      },
      "execution_count": null,
      "outputs": []
    },
    {
      "cell_type": "code",
      "source": [
        "print(result)"
      ],
      "metadata": {
        "colab": {
          "base_uri": "https://localhost:8080/"
        },
        "id": "-YL1MJJvK3vk",
        "outputId": "76eb6386-34b2-40b1-800a-36bff1a733c1"
      },
      "execution_count": null,
      "outputs": [
        {
          "output_type": "stream",
          "name": "stdout",
          "text": [
            "None\n"
          ]
        }
      ]
    },
    {
      "cell_type": "code",
      "source": [
        "number_list"
      ],
      "metadata": {
        "colab": {
          "base_uri": "https://localhost:8080/"
        },
        "id": "VMEP-BaOKvsm",
        "outputId": "7f0fd3f3-648f-4b46-aedb-9512f6e4db3d"
      },
      "execution_count": null,
      "outputs": [
        {
          "output_type": "execute_result",
          "data": {
            "text/plain": [
              "[1, 2, 10, 12, 9, 9, 9, 9]"
            ]
          },
          "metadata": {},
          "execution_count": 59
        }
      ]
    },
    {
      "cell_type": "code",
      "source": [],
      "metadata": {
        "id": "38TIvZtuK_sZ"
      },
      "execution_count": null,
      "outputs": []
    },
    {
      "cell_type": "markdown",
      "source": [
        "### Лямбды\n",
        "\n",
        "Анонимные однострочные функции"
      ],
      "metadata": {
        "id": "4LXjHfllbYq5"
      }
    },
    {
      "cell_type": "code",
      "source": [
        "is_negative = lambda x: x < 0 # но вообще так не делают\n",
        "\n",
        "is_negative(-1)"
      ],
      "metadata": {
        "colab": {
          "base_uri": "https://localhost:8080/"
        },
        "id": "wpn5rK_gbasm",
        "outputId": "f9a401bc-a0fb-4ac9-a243-cd9640c7d96a"
      },
      "execution_count": null,
      "outputs": [
        {
          "output_type": "execute_result",
          "data": {
            "text/plain": [
              "True"
            ]
          },
          "metadata": {},
          "execution_count": 67
        }
      ]
    },
    {
      "cell_type": "code",
      "source": [
        "(lambda x, y: x + y)(5, 3)"
      ],
      "metadata": {
        "colab": {
          "base_uri": "https://localhost:8080/"
        },
        "id": "uzlu3maHbgUj",
        "outputId": "65a5cde0-e7f9-4320-a2b0-a6a579829729"
      },
      "execution_count": null,
      "outputs": [
        {
          "output_type": "execute_result",
          "data": {
            "text/plain": [
              "8"
            ]
          },
          "metadata": {},
          "execution_count": 69
        }
      ]
    },
    {
      "cell_type": "code",
      "source": [
        "is_negative = lambda x: 1 if x < 0 else 0 # н"
      ],
      "metadata": {
        "id": "YRO3xjiJNojH"
      },
      "execution_count": null,
      "outputs": []
    },
    {
      "cell_type": "code",
      "source": [
        "values = [1, 2, 3, 4, 5, 6]"
      ],
      "metadata": {
        "id": "b4M9UNtiNwL0"
      },
      "execution_count": null,
      "outputs": []
    },
    {
      "cell_type": "code",
      "source": [
        "list(map(int, ['1', '2', '25']))"
      ],
      "metadata": {
        "colab": {
          "base_uri": "https://localhost:8080/"
        },
        "id": "GKjFhw6N5LtQ",
        "outputId": "bb2b126a-46e3-4244-dacd-534b275e7843"
      },
      "execution_count": null,
      "outputs": [
        {
          "output_type": "execute_result",
          "data": {
            "text/plain": [
              "[1, 2, 25]"
            ]
          },
          "metadata": {},
          "execution_count": 73
        }
      ]
    },
    {
      "cell_type": "code",
      "source": [
        "def square(x):\n",
        "  return x**2"
      ],
      "metadata": {
        "id": "3F9gUbud5kBj"
      },
      "execution_count": null,
      "outputs": []
    },
    {
      "cell_type": "code",
      "source": [
        "list(map(lambda x: x**2, values))"
      ],
      "metadata": {
        "colab": {
          "base_uri": "https://localhost:8080/"
        },
        "id": "RjHD5guT4vXu",
        "outputId": "3039dce3-cd24-4291-8591-36b9998a28f7"
      },
      "execution_count": null,
      "outputs": [
        {
          "output_type": "execute_result",
          "data": {
            "text/plain": [
              "[1, 4, 9, 16, 25, 36]"
            ]
          },
          "metadata": {},
          "execution_count": 75
        }
      ]
    },
    {
      "cell_type": "code",
      "source": [
        "values = [1, 2, 3, 4, 5, 6]\n",
        "\n",
        "print(list(map(lambda x: ((lambda y: y + 1)(x)) ** 2, values)))"
      ],
      "metadata": {
        "colab": {
          "base_uri": "https://localhost:8080/"
        },
        "id": "804kGeVUbIid",
        "outputId": "58edd5a0-1e95-4718-a3ed-bc99958c9cc8"
      },
      "execution_count": null,
      "outputs": [
        {
          "output_type": "stream",
          "name": "stdout",
          "text": [
            "[4, 9, 16, 25, 36, 49]\n"
          ]
        }
      ]
    },
    {
      "cell_type": "code",
      "source": [],
      "metadata": {
        "id": "TJXNYGNdOJ0W"
      },
      "execution_count": null,
      "outputs": []
    },
    {
      "cell_type": "markdown",
      "source": [
        "Именованные и неименованные аргументы"
      ],
      "metadata": {
        "id": "cJY9Wnk2dA5K"
      }
    },
    {
      "cell_type": "code",
      "source": [
        "def my_max(a, b=5):\n",
        "    print('a:', a)\n",
        "    print('b:', b)\n",
        "    return max(a, b)"
      ],
      "metadata": {
        "id": "90vUppgnfyns"
      },
      "execution_count": null,
      "outputs": []
    },
    {
      "cell_type": "code",
      "source": [
        "my_max(2, 3)"
      ],
      "metadata": {
        "id": "AtkkkUsWgDRv",
        "colab": {
          "base_uri": "https://localhost:8080/"
        },
        "outputId": "be7c9b90-da69-4e0f-b8a2-ea4bdfdfe9c4"
      },
      "execution_count": null,
      "outputs": [
        {
          "output_type": "stream",
          "name": "stdout",
          "text": [
            "a: 2\n",
            "b: 3\n"
          ]
        },
        {
          "output_type": "execute_result",
          "data": {
            "text/plain": [
              "3"
            ]
          },
          "metadata": {},
          "execution_count": 86
        }
      ]
    },
    {
      "cell_type": "code",
      "source": [
        "my_max(b=2, a=7)"
      ],
      "metadata": {
        "colab": {
          "base_uri": "https://localhost:8080/"
        },
        "id": "FRBxdz8W6GyT",
        "outputId": "e91d3fdb-9e85-4580-c209-f47d3b8eba6b"
      },
      "execution_count": null,
      "outputs": [
        {
          "output_type": "stream",
          "name": "stdout",
          "text": [
            "a: 7\n",
            "b: 2\n"
          ]
        },
        {
          "output_type": "execute_result",
          "data": {
            "text/plain": [
              "7"
            ]
          },
          "metadata": {},
          "execution_count": 87
        }
      ]
    },
    {
      "cell_type": "code",
      "source": [
        "my_max(2, b=5)"
      ],
      "metadata": {
        "id": "G8gpy_NagFwP",
        "colab": {
          "base_uri": "https://localhost:8080/"
        },
        "outputId": "0c0de52d-75be-42d6-eb3b-45c106debe9a"
      },
      "execution_count": null,
      "outputs": [
        {
          "output_type": "stream",
          "name": "stdout",
          "text": [
            "a: 2\n",
            "b: 5\n"
          ]
        },
        {
          "output_type": "execute_result",
          "data": {
            "text/plain": [
              "5"
            ]
          },
          "metadata": {},
          "execution_count": 88
        }
      ]
    },
    {
      "cell_type": "code",
      "source": [
        "my_max(b=5, 1)"
      ],
      "metadata": {
        "id": "bqmBY9vLgHfg",
        "colab": {
          "base_uri": "https://localhost:8080/",
          "height": 106
        },
        "outputId": "afe53b5e-1ec9-46da-c890-7e6fa6c636a0"
      },
      "execution_count": null,
      "outputs": [
        {
          "output_type": "error",
          "ename": "SyntaxError",
          "evalue": "positional argument follows keyword argument (<ipython-input-89-25b810c7a5a2>, line 1)",
          "traceback": [
            "\u001b[0;36m  File \u001b[0;32m\"<ipython-input-89-25b810c7a5a2>\"\u001b[0;36m, line \u001b[0;32m1\u001b[0m\n\u001b[0;31m    my_max(b=5, 1)\u001b[0m\n\u001b[0m                 ^\u001b[0m\n\u001b[0;31mSyntaxError\u001b[0m\u001b[0;31m:\u001b[0m positional argument follows keyword argument\n"
          ]
        }
      ]
    },
    {
      "cell_type": "code",
      "source": [
        "lst = [1, 2, 5, 2]\n",
        "print(*lst, sep='; ')"
      ],
      "metadata": {
        "id": "zPFkENT4qDVj",
        "colab": {
          "base_uri": "https://localhost:8080/"
        },
        "outputId": "18cc84f1-2f84-4f2f-ca0c-4959bab444bd"
      },
      "execution_count": null,
      "outputs": [
        {
          "output_type": "stream",
          "name": "stdout",
          "text": [
            "1; 2; 5; 2\n"
          ]
        }
      ]
    },
    {
      "cell_type": "code",
      "source": [
        "def my_print(*args, print_hello=True):\n",
        "    if print_hello == True:\n",
        "      print('Hello')\n",
        "    print(*args, sep='|')"
      ],
      "metadata": {
        "id": "lEculLKQdJ6i"
      },
      "execution_count": null,
      "outputs": []
    },
    {
      "cell_type": "code",
      "source": [
        "my_print(1, 2, False, 3, print_hello=True)"
      ],
      "metadata": {
        "id": "0rVC9r8qdNhM",
        "colab": {
          "base_uri": "https://localhost:8080/"
        },
        "outputId": "b5b6b9ae-0756-4385-f223-c3a4d234d553"
      },
      "execution_count": null,
      "outputs": [
        {
          "output_type": "stream",
          "name": "stdout",
          "text": [
            "Hello\n",
            "1|2|False|3\n"
          ]
        }
      ]
    },
    {
      "cell_type": "code",
      "source": [
        "my_print(1, 2, False, 3, print_hello=False)"
      ],
      "metadata": {
        "id": "85ix-HDMfSK5",
        "colab": {
          "base_uri": "https://localhost:8080/"
        },
        "outputId": "1d14717d-d656-48c5-cd5c-081bf06553ca"
      },
      "execution_count": null,
      "outputs": [
        {
          "output_type": "stream",
          "name": "stdout",
          "text": [
            "1|2|False|3\n"
          ]
        }
      ]
    },
    {
      "cell_type": "code",
      "source": [
        "my_print(1, 2, False, 3, True)"
      ],
      "metadata": {
        "id": "MeMLkTr8fTLw"
      },
      "execution_count": null,
      "outputs": []
    },
    {
      "cell_type": "code",
      "source": [
        "def my_print(begin, *args, **kwargs):\n",
        "    print(begin)\n",
        "    print(*args, sep='|')\n",
        "    for key, value in kwargs.items():\n",
        "      print(key, value)"
      ],
      "metadata": {
        "id": "oku49QTmfYr6"
      },
      "execution_count": null,
      "outputs": []
    },
    {
      "cell_type": "code",
      "source": [],
      "metadata": {
        "id": "q97tRRpN7RQj"
      },
      "execution_count": null,
      "outputs": []
    },
    {
      "cell_type": "code",
      "source": [
        "my_print(0, 1, 2, False, 3, a=True, b=True)"
      ],
      "metadata": {
        "id": "1V2X0OgPfU9b",
        "colab": {
          "base_uri": "https://localhost:8080/"
        },
        "outputId": "45f325b3-5e8d-4fa5-8027-24cee1d4b5cb"
      },
      "execution_count": null,
      "outputs": [
        {
          "output_type": "stream",
          "name": "stdout",
          "text": [
            "0\n",
            "1|2|False|3\n",
            "{'a': True, 'b': True}\n"
          ]
        }
      ]
    },
    {
      "cell_type": "code",
      "source": [
        "begin = 0\n",
        "args = (1, 2, False, 3)\n",
        "kwargs = {'a' : True, 'b' : True}"
      ],
      "metadata": {
        "id": "AXjDxXdS7SEg"
      },
      "execution_count": null,
      "outputs": []
    },
    {
      "cell_type": "code",
      "source": [
        "for key, value in kwargs.items():\n",
        "    print(key, value)"
      ],
      "metadata": {
        "colab": {
          "base_uri": "https://localhost:8080/"
        },
        "id": "pq5WvM2r7zch",
        "outputId": "073110d6-c495-4158-9ae3-e2222f5b973b"
      },
      "execution_count": null,
      "outputs": [
        {
          "output_type": "stream",
          "name": "stdout",
          "text": [
            "a True\n",
            "b True\n"
          ]
        }
      ]
    },
    {
      "cell_type": "code",
      "source": [
        "kwargs.items()"
      ],
      "metadata": {
        "colab": {
          "base_uri": "https://localhost:8080/"
        },
        "id": "LXXr_MX379tn",
        "outputId": "2e652e89-59c4-4826-b28c-bf2cd1521cb8"
      },
      "execution_count": null,
      "outputs": [
        {
          "output_type": "execute_result",
          "data": {
            "text/plain": [
              "dict_items([('a', True), ('b', True)])"
            ]
          },
          "metadata": {},
          "execution_count": 111
        }
      ]
    },
    {
      "cell_type": "markdown",
      "source": [
        "### Генераторы\n",
        "Генератор представляет собой объект, который не вычисляет значения всех своих элементов непосредственно при создании. Вместо этого он сохраняет в памяти только последний вычисленный элемент, правило перехода к следующему и условие, при котором выполнение прерывается. Расчет следующего значения осуществляется только при вызове метода next(). При этом предыдущее значение теряется. Этот механизм отличает генераторы от списков, которые хранят все свои элементы в памяти. Использование генераторов позволяет проводить \"ленивые\" вычисления, что способствует экономии памяти.\n",
        "\n",
        "Пример:"
      ],
      "metadata": {
        "id": "JmuxDsm0c72x"
      }
    },
    {
      "cell_type": "code",
      "source": [
        "def gen():\n",
        "  yield 1\n",
        "  yield 2\n",
        "  yield 3"
      ],
      "metadata": {
        "id": "FW6b-JvA8P9a"
      },
      "execution_count": null,
      "outputs": []
    },
    {
      "cell_type": "code",
      "source": [
        "generator = gen()"
      ],
      "metadata": {
        "id": "S4zSr-wV8Tjl"
      },
      "execution_count": null,
      "outputs": []
    },
    {
      "cell_type": "code",
      "source": [
        "next(gen())"
      ],
      "metadata": {
        "colab": {
          "base_uri": "https://localhost:8080/"
        },
        "id": "JEYQBN2_8XxU",
        "outputId": "5363a33a-5ae5-45b8-ca91-d5121c8e1544"
      },
      "execution_count": null,
      "outputs": [
        {
          "output_type": "execute_result",
          "data": {
            "text/plain": [
              "1"
            ]
          },
          "metadata": {},
          "execution_count": 126
        }
      ]
    },
    {
      "cell_type": "code",
      "source": [
        "next(generator)"
      ],
      "metadata": {
        "colab": {
          "base_uri": "https://localhost:8080/",
          "height": 141
        },
        "id": "PHKYtI6K8iF3",
        "outputId": "4e7dab61-5815-4426-b850-96736d1a6076"
      },
      "execution_count": null,
      "outputs": [
        {
          "output_type": "error",
          "ename": "StopIteration",
          "evalue": "",
          "traceback": [
            "\u001b[0;31m---------------------------------------------------------------------------\u001b[0m",
            "\u001b[0;31mStopIteration\u001b[0m                             Traceback (most recent call last)",
            "\u001b[0;32m<ipython-input-119-323ce5d717bb>\u001b[0m in \u001b[0;36m<cell line: 1>\u001b[0;34m()\u001b[0m\n\u001b[0;32m----> 1\u001b[0;31m \u001b[0mnext\u001b[0m\u001b[0;34m(\u001b[0m\u001b[0mgenerator\u001b[0m\u001b[0;34m)\u001b[0m\u001b[0;34m\u001b[0m\u001b[0;34m\u001b[0m\u001b[0m\n\u001b[0m",
            "\u001b[0;31mStopIteration\u001b[0m: "
          ]
        }
      ]
    },
    {
      "cell_type": "code",
      "source": [
        "def gen():\n",
        "  i = 0\n",
        "  while True:\n",
        "    yield i\n",
        "    i += 1"
      ],
      "metadata": {
        "id": "7lArrlDrPJKv"
      },
      "execution_count": null,
      "outputs": []
    },
    {
      "cell_type": "code",
      "source": [
        "generator = gen()"
      ],
      "metadata": {
        "id": "OfbY1vYg826Z"
      },
      "execution_count": null,
      "outputs": []
    },
    {
      "cell_type": "code",
      "source": [
        "next(generator)"
      ],
      "metadata": {
        "colab": {
          "base_uri": "https://localhost:8080/"
        },
        "id": "8pkqRwBj85xV",
        "outputId": "e801bb0d-cb25-432c-b33f-2b3686634b35"
      },
      "execution_count": null,
      "outputs": [
        {
          "output_type": "execute_result",
          "data": {
            "text/plain": [
              "6"
            ]
          },
          "metadata": {},
          "execution_count": 135
        }
      ]
    },
    {
      "cell_type": "code",
      "source": [
        "def gen():\n",
        "  yield 1\n",
        "  yield 2"
      ],
      "metadata": {
        "id": "wS5Anv4GQJbd"
      },
      "execution_count": null,
      "outputs": []
    },
    {
      "cell_type": "code",
      "source": [],
      "metadata": {
        "id": "PLsIHzfwU1gJ"
      },
      "execution_count": null,
      "outputs": []
    },
    {
      "cell_type": "code",
      "source": [
        "generator = gen()"
      ],
      "metadata": {
        "id": "yjjo9zCvPRHZ"
      },
      "execution_count": null,
      "outputs": []
    },
    {
      "cell_type": "code",
      "source": [
        "next(generator)"
      ],
      "metadata": {
        "colab": {
          "base_uri": "https://localhost:8080/"
        },
        "id": "E6eDCzwzQKHm",
        "outputId": "a8fbd15b-47ed-40c6-e3a3-0e9074fb6d1e"
      },
      "execution_count": null,
      "outputs": [
        {
          "output_type": "execute_result",
          "data": {
            "text/plain": [
              "1"
            ]
          },
          "metadata": {},
          "execution_count": 185
        }
      ]
    },
    {
      "cell_type": "code",
      "source": [
        "next(generator)"
      ],
      "metadata": {
        "colab": {
          "base_uri": "https://localhost:8080/"
        },
        "id": "jwUXsSvJU3rb",
        "outputId": "151c35ab-59a2-49d1-e5af-6ffa135db86a"
      },
      "execution_count": null,
      "outputs": [
        {
          "output_type": "execute_result",
          "data": {
            "text/plain": [
              "2"
            ]
          },
          "metadata": {},
          "execution_count": 186
        }
      ]
    },
    {
      "cell_type": "code",
      "source": [
        "next(generator)"
      ],
      "metadata": {
        "colab": {
          "base_uri": "https://localhost:8080/",
          "height": 141
        },
        "id": "_evjsyN3U4-2",
        "outputId": "a3c45e7d-db1d-4757-c226-7d638f0a1a89"
      },
      "execution_count": null,
      "outputs": [
        {
          "output_type": "error",
          "ename": "StopIteration",
          "evalue": "3",
          "traceback": [
            "\u001b[0;31m---------------------------------------------------------------------------\u001b[0m",
            "\u001b[0;31mStopIteration\u001b[0m                             Traceback (most recent call last)",
            "\u001b[0;32m<ipython-input-187-323ce5d717bb>\u001b[0m in \u001b[0;36m<cell line: 1>\u001b[0;34m()\u001b[0m\n\u001b[0;32m----> 1\u001b[0;31m \u001b[0mnext\u001b[0m\u001b[0;34m(\u001b[0m\u001b[0mgenerator\u001b[0m\u001b[0;34m)\u001b[0m\u001b[0;34m\u001b[0m\u001b[0;34m\u001b[0m\u001b[0m\n\u001b[0m",
            "\u001b[0;31mStopIteration\u001b[0m: 3"
          ]
        }
      ]
    },
    {
      "cell_type": "code",
      "source": [
        "def gen():\n",
        "  yield 1\n",
        "  yield 2\n",
        "  yield 3"
      ],
      "metadata": {
        "id": "GoW1V5lM9Hao"
      },
      "execution_count": null,
      "outputs": []
    },
    {
      "cell_type": "code",
      "source": [
        "generator = gen()"
      ],
      "metadata": {
        "id": "yEAJPZQ69J9i"
      },
      "execution_count": null,
      "outputs": []
    },
    {
      "cell_type": "code",
      "source": [
        "for item in generator:\n",
        "  print(item)"
      ],
      "metadata": {
        "colab": {
          "base_uri": "https://localhost:8080/"
        },
        "id": "Zp0WNAT-Pv3a",
        "outputId": "c7b87fcb-0285-4e37-8ecb-08e08f750467"
      },
      "execution_count": null,
      "outputs": [
        {
          "output_type": "stream",
          "name": "stdout",
          "text": [
            "1\n",
            "2\n",
            "3\n"
          ]
        }
      ]
    },
    {
      "cell_type": "code",
      "source": [
        "for item in generator:\n",
        "  print(item)"
      ],
      "metadata": {
        "id": "MVhJ1rLiPz5x"
      },
      "execution_count": null,
      "outputs": []
    },
    {
      "cell_type": "code",
      "source": [
        "next(generator)"
      ],
      "metadata": {
        "colab": {
          "base_uri": "https://localhost:8080/",
          "height": 141
        },
        "id": "WhBT99pPPSw-",
        "outputId": "a163206b-3416-4e24-8b62-6800a65c8dc5"
      },
      "execution_count": null,
      "outputs": [
        {
          "output_type": "error",
          "ename": "StopIteration",
          "evalue": "",
          "traceback": [
            "\u001b[0;31m---------------------------------------------------------------------------\u001b[0m",
            "\u001b[0;31mStopIteration\u001b[0m                             Traceback (most recent call last)",
            "\u001b[0;32m<ipython-input-141-323ce5d717bb>\u001b[0m in \u001b[0;36m<cell line: 1>\u001b[0;34m()\u001b[0m\n\u001b[0;32m----> 1\u001b[0;31m \u001b[0mnext\u001b[0m\u001b[0;34m(\u001b[0m\u001b[0mgenerator\u001b[0m\u001b[0;34m)\u001b[0m\u001b[0;34m\u001b[0m\u001b[0;34m\u001b[0m\u001b[0m\n\u001b[0m",
            "\u001b[0;31mStopIteration\u001b[0m: "
          ]
        }
      ]
    },
    {
      "cell_type": "code",
      "source": [
        "next(generator)"
      ],
      "metadata": {
        "colab": {
          "base_uri": "https://localhost:8080/"
        },
        "id": "rMqr-RUpPU9J",
        "outputId": "03fe268c-50f6-48b0-b8fa-f4aa00278b83"
      },
      "execution_count": null,
      "outputs": [
        {
          "output_type": "execute_result",
          "data": {
            "text/plain": [
              "2"
            ]
          },
          "metadata": {},
          "execution_count": 109
        }
      ]
    },
    {
      "cell_type": "code",
      "source": [
        "next(generator)"
      ],
      "metadata": {
        "colab": {
          "base_uri": "https://localhost:8080/"
        },
        "id": "8GP1DLZEPqrb",
        "outputId": "c2183d0e-24c8-4a25-b3d5-807a2fca5b4c"
      },
      "execution_count": null,
      "outputs": [
        {
          "output_type": "execute_result",
          "data": {
            "text/plain": [
              "3"
            ]
          },
          "metadata": {},
          "execution_count": 110
        }
      ]
    },
    {
      "cell_type": "code",
      "source": [
        "next(generator)"
      ],
      "metadata": {
        "colab": {
          "base_uri": "https://localhost:8080/",
          "height": 141
        },
        "id": "FyDVFHkYPsmv",
        "outputId": "2aee6438-1338-4519-f55c-bdf4fdfc1a48"
      },
      "execution_count": null,
      "outputs": [
        {
          "output_type": "error",
          "ename": "StopIteration",
          "evalue": "",
          "traceback": [
            "\u001b[0;31m---------------------------------------------------------------------------\u001b[0m",
            "\u001b[0;31mStopIteration\u001b[0m                             Traceback (most recent call last)",
            "\u001b[0;32m<ipython-input-111-323ce5d717bb>\u001b[0m in \u001b[0;36m<cell line: 1>\u001b[0;34m()\u001b[0m\n\u001b[0;32m----> 1\u001b[0;31m \u001b[0mnext\u001b[0m\u001b[0;34m(\u001b[0m\u001b[0mgenerator\u001b[0m\u001b[0;34m)\u001b[0m\u001b[0;34m\u001b[0m\u001b[0;34m\u001b[0m\u001b[0m\n\u001b[0m",
            "\u001b[0;31mStopIteration\u001b[0m: "
          ]
        }
      ]
    },
    {
      "cell_type": "code",
      "source": [
        "r"
      ],
      "metadata": {
        "id": "Hcou1mWd9ZJf"
      },
      "execution_count": null,
      "outputs": []
    },
    {
      "cell_type": "code",
      "source": [
        "def my_range(a, b):\n",
        "    while a < b:\n",
        "        yield a\n",
        "        a += 1"
      ],
      "metadata": {
        "id": "UiyS1MMPIMh_"
      },
      "execution_count": null,
      "outputs": []
    },
    {
      "cell_type": "code",
      "source": [
        "rng = my_range(2, 10)"
      ],
      "metadata": {
        "id": "GVplCMwUQd__"
      },
      "execution_count": null,
      "outputs": []
    },
    {
      "cell_type": "code",
      "source": [],
      "metadata": {
        "id": "FkU4-3uDQlTu"
      },
      "execution_count": null,
      "outputs": []
    },
    {
      "cell_type": "code",
      "source": [
        "for x in rng:\n",
        "    print(x)"
      ],
      "metadata": {
        "colab": {
          "base_uri": "https://localhost:8080/"
        },
        "id": "X1YLjrJQIRRY",
        "outputId": "a2b012f8-aabe-4c38-8312-eff69931e89a"
      },
      "execution_count": null,
      "outputs": [
        {
          "output_type": "stream",
          "name": "stdout",
          "text": [
            "2\n",
            "3\n",
            "4\n",
            "5\n",
            "6\n",
            "7\n",
            "8\n",
            "9\n"
          ]
        }
      ]
    },
    {
      "cell_type": "code",
      "source": [
        "next(rng)"
      ],
      "metadata": {
        "colab": {
          "base_uri": "https://localhost:8080/",
          "height": 141
        },
        "id": "sifgitW7Qmwi",
        "outputId": "d51f56f6-8435-4238-c8f9-11a51c3b98f8"
      },
      "execution_count": null,
      "outputs": [
        {
          "output_type": "error",
          "ename": "StopIteration",
          "evalue": "",
          "traceback": [
            "\u001b[0;31m---------------------------------------------------------------------------\u001b[0m",
            "\u001b[0;31mStopIteration\u001b[0m                             Traceback (most recent call last)",
            "\u001b[0;32m<ipython-input-146-1e5a4c1e213d>\u001b[0m in \u001b[0;36m<cell line: 1>\u001b[0;34m()\u001b[0m\n\u001b[0;32m----> 1\u001b[0;31m \u001b[0mnext\u001b[0m\u001b[0;34m(\u001b[0m\u001b[0mrng\u001b[0m\u001b[0;34m)\u001b[0m\u001b[0;34m\u001b[0m\u001b[0;34m\u001b[0m\u001b[0m\n\u001b[0m",
            "\u001b[0;31mStopIteration\u001b[0m: "
          ]
        }
      ]
    },
    {
      "cell_type": "code",
      "source": [
        "a, _, c = [1, 0, 3]"
      ],
      "metadata": {
        "id": "MD2pmZ-W-Lui"
      },
      "execution_count": null,
      "outputs": []
    },
    {
      "cell_type": "code",
      "source": [
        "a"
      ],
      "metadata": {
        "colab": {
          "base_uri": "https://localhost:8080/"
        },
        "id": "89x8wve6-O9x",
        "outputId": "423540d6-b5f1-4441-f7dd-6d6c93a17744"
      },
      "execution_count": null,
      "outputs": [
        {
          "output_type": "execute_result",
          "data": {
            "text/plain": [
              "1"
            ]
          },
          "metadata": {},
          "execution_count": 153
        }
      ]
    },
    {
      "cell_type": "code",
      "source": [
        "c"
      ],
      "metadata": {
        "colab": {
          "base_uri": "https://localhost:8080/"
        },
        "id": "-e04fTO4-Pni",
        "outputId": "b0b5257e-de28-4477-cef1-0307bac11ad1"
      },
      "execution_count": null,
      "outputs": [
        {
          "output_type": "execute_result",
          "data": {
            "text/plain": [
              "3"
            ]
          },
          "metadata": {},
          "execution_count": 154
        }
      ]
    },
    {
      "cell_type": "code",
      "source": [
        "def generate_fib(max_number):\n",
        "    fib_1, fib_2 = 1, 1\n",
        "    yield fib_1\n",
        "    yield fib_2\n",
        "\n",
        "    for i in range(2, max_number):\n",
        "        fib_1, fib_2 = fib_2, fib_1 + fib_2\n",
        "        yield fib_2\n",
        "\n",
        "fibs = generate_fib(10)\n",
        "\n",
        "print(next(fibs))\n",
        "print(next(fibs))\n",
        "\n",
        "print(next(fibs))\n",
        "print(next(fibs))\n",
        "print(next(fibs))\n",
        "print(next(fibs))\n",
        "print(next(fibs))\n",
        "print(next(fibs))"
      ],
      "metadata": {
        "colab": {
          "base_uri": "https://localhost:8080/"
        },
        "id": "j2DDS1LRIlXW",
        "outputId": "6b0edfd7-24c7-4653-c45d-7491b2421429"
      },
      "execution_count": null,
      "outputs": [
        {
          "output_type": "stream",
          "name": "stdout",
          "text": [
            "1\n",
            "1\n",
            "2\n",
            "3\n",
            "5\n",
            "8\n",
            "13\n",
            "21\n"
          ]
        }
      ]
    },
    {
      "cell_type": "code",
      "source": [
        "print(next(fibs))\n",
        "print(next(fibs))\n",
        "print(next(fibs))\n",
        "print(next(fibs))\n",
        "print(next(fibs))"
      ],
      "metadata": {
        "colab": {
          "base_uri": "https://localhost:8080/",
          "height": 245
        },
        "id": "A114Kq1B-AfM",
        "outputId": "9f24cc20-90e5-499a-fe31-786f012e540c"
      },
      "execution_count": null,
      "outputs": [
        {
          "output_type": "stream",
          "name": "stdout",
          "text": [
            "34\n",
            "55\n"
          ]
        },
        {
          "output_type": "error",
          "ename": "StopIteration",
          "evalue": "",
          "traceback": [
            "\u001b[0;31m---------------------------------------------------------------------------\u001b[0m",
            "\u001b[0;31mStopIteration\u001b[0m                             Traceback (most recent call last)",
            "\u001b[0;32m<ipython-input-150-df1dc1bc3b5e>\u001b[0m in \u001b[0;36m<cell line: 3>\u001b[0;34m()\u001b[0m\n\u001b[1;32m      1\u001b[0m \u001b[0mprint\u001b[0m\u001b[0;34m(\u001b[0m\u001b[0mnext\u001b[0m\u001b[0;34m(\u001b[0m\u001b[0mfibs\u001b[0m\u001b[0;34m)\u001b[0m\u001b[0;34m)\u001b[0m\u001b[0;34m\u001b[0m\u001b[0;34m\u001b[0m\u001b[0m\n\u001b[1;32m      2\u001b[0m \u001b[0mprint\u001b[0m\u001b[0;34m(\u001b[0m\u001b[0mnext\u001b[0m\u001b[0;34m(\u001b[0m\u001b[0mfibs\u001b[0m\u001b[0;34m)\u001b[0m\u001b[0;34m)\u001b[0m\u001b[0;34m\u001b[0m\u001b[0;34m\u001b[0m\u001b[0m\n\u001b[0;32m----> 3\u001b[0;31m \u001b[0mprint\u001b[0m\u001b[0;34m(\u001b[0m\u001b[0mnext\u001b[0m\u001b[0;34m(\u001b[0m\u001b[0mfibs\u001b[0m\u001b[0;34m)\u001b[0m\u001b[0;34m)\u001b[0m\u001b[0;34m\u001b[0m\u001b[0;34m\u001b[0m\u001b[0m\n\u001b[0m\u001b[1;32m      4\u001b[0m \u001b[0mprint\u001b[0m\u001b[0;34m(\u001b[0m\u001b[0mnext\u001b[0m\u001b[0;34m(\u001b[0m\u001b[0mfibs\u001b[0m\u001b[0;34m)\u001b[0m\u001b[0;34m)\u001b[0m\u001b[0;34m\u001b[0m\u001b[0;34m\u001b[0m\u001b[0m\n\u001b[1;32m      5\u001b[0m \u001b[0mprint\u001b[0m\u001b[0;34m(\u001b[0m\u001b[0mnext\u001b[0m\u001b[0;34m(\u001b[0m\u001b[0mfibs\u001b[0m\u001b[0;34m)\u001b[0m\u001b[0;34m)\u001b[0m\u001b[0;34m\u001b[0m\u001b[0;34m\u001b[0m\u001b[0m\n",
            "\u001b[0;31mStopIteration\u001b[0m: "
          ]
        }
      ]
    },
    {
      "cell_type": "code",
      "source": [
        "fibs = generate_fib(10)\n",
        "for x in fibs:\n",
        "    print(x)\n",
        "\n",
        "for x in fibs:\n",
        "    print(x)"
      ],
      "metadata": {
        "colab": {
          "base_uri": "https://localhost:8080/"
        },
        "id": "-AafzNHvItFa",
        "outputId": "bc94b357-55c2-4a5c-faeb-26040bc57e91"
      },
      "execution_count": null,
      "outputs": [
        {
          "output_type": "stream",
          "name": "stdout",
          "text": [
            "1\n",
            "1\n",
            "2\n",
            "3\n",
            "5\n",
            "8\n",
            "13\n",
            "21\n",
            "34\n",
            "55\n"
          ]
        }
      ]
    },
    {
      "cell_type": "code",
      "source": [],
      "metadata": {
        "id": "6walqbBQIxTu"
      },
      "execution_count": null,
      "outputs": []
    },
    {
      "cell_type": "markdown",
      "source": [
        "### Итераторы"
      ],
      "metadata": {
        "id": "W1azJ7geIxvK"
      }
    },
    {
      "cell_type": "markdown",
      "source": [
        "Итератор — это объект, который возвращает свои элементы по одному за раз. Одно из главных преимуществ итераторов — то, что он не хранит все свои элементы в памяти, а вычисляет их \"на ходу\".\n",
        "\n",
        "У всех итераторов есть метод __next()__, который возвращает следующий элемент, если он есть, и вызывает исключение StopIteration, если элементов не осталось. Метод можно вызвать, передав итератор в функцию next.\n",
        "\n",
        "Итерируемый объект — объект, который можно итерировать, т.е. возвращать элементы по одному. Мы уже встречались итерируемыми объектами: списки, кортежи, строки, множества — итерируемые. По их элементам можно пройтись с помощью цикла for.\n",
        "\n",
        "Важно понимать разницу между понятиями итератор и итерируемый объект. Списки, кортежи, строки, множества являются итерируемыми объектами (по их элементам можно пройтись с помощью списка for), но не являются итераторами и не реализуют метод __next()__. При этом на их основе можно создать итератор с помощью функции iter, который реализует метод __iter__()."
      ],
      "metadata": {
        "id": "9S6ryzmWS9t4"
      }
    },
    {
      "cell_type": "code",
      "source": [
        "dct = {1 : 'a', 2 : 'b'}"
      ],
      "metadata": {
        "id": "orh_qu3u-ydZ"
      },
      "execution_count": null,
      "outputs": []
    },
    {
      "cell_type": "code",
      "source": [
        "for i in 'abcdef':\n",
        "  print(i)"
      ],
      "metadata": {
        "colab": {
          "base_uri": "https://localhost:8080/"
        },
        "id": "pewuCShB-m_7",
        "outputId": "607a90da-442c-4b19-8cc2-56aa489f91ff"
      },
      "execution_count": null,
      "outputs": [
        {
          "output_type": "stream",
          "name": "stdout",
          "text": [
            "a\n",
            "b\n",
            "c\n",
            "d\n",
            "e\n",
            "f\n"
          ]
        }
      ]
    },
    {
      "cell_type": "code",
      "source": [
        "for i in 'abcdef':\n",
        "  print(i)"
      ],
      "metadata": {
        "colab": {
          "base_uri": "https://localhost:8080/"
        },
        "id": "dIHCLlqO-_ho",
        "outputId": "73430468-b2f1-4e01-9baf-1825475b5ffc"
      },
      "execution_count": null,
      "outputs": [
        {
          "output_type": "stream",
          "name": "stdout",
          "text": [
            "a\n",
            "b\n",
            "c\n",
            "d\n",
            "e\n",
            "f\n"
          ]
        }
      ]
    },
    {
      "cell_type": "code",
      "source": [
        "collection = [1, 2, 3, 4, 5]\n",
        "# def __iter__ - метод __iter()__ возвращает итератор, метод __next()__ — следующий элемент потока данных.\n",
        "list_iter = iter(collection)\n",
        "\n",
        "print(next(list_iter))\n",
        "print(next(list_iter))\n",
        "print(next(list_iter))\n",
        "print(next(list_iter))\n",
        "print(next(list_iter))"
      ],
      "metadata": {
        "colab": {
          "base_uri": "https://localhost:8080/"
        },
        "id": "eV_liAvoL9lq",
        "outputId": "4fa0cc91-89fa-4fe8-f4b8-29419538c2e4"
      },
      "execution_count": null,
      "outputs": [
        {
          "output_type": "stream",
          "name": "stdout",
          "text": [
            "1\n",
            "2\n",
            "3\n",
            "4\n",
            "5\n"
          ]
        }
      ]
    },
    {
      "cell_type": "code",
      "source": [
        "collection = [1, 2, 3, 4, 5]\n",
        "list_iter = iter(collection)\n",
        "for i in list_iter:\n",
        "  print(i)"
      ],
      "metadata": {
        "colab": {
          "base_uri": "https://localhost:8080/"
        },
        "id": "Vv5gIQG6_Grh",
        "outputId": "6579e883-1616-41cf-b3fb-d4f87ead4c48"
      },
      "execution_count": null,
      "outputs": [
        {
          "output_type": "stream",
          "name": "stdout",
          "text": [
            "1\n",
            "2\n",
            "3\n",
            "4\n",
            "5\n"
          ]
        }
      ]
    },
    {
      "cell_type": "code",
      "source": [
        "for i in list_iter:\n",
        "  print(i)"
      ],
      "metadata": {
        "id": "kdlHyHfc_U4s"
      },
      "execution_count": null,
      "outputs": []
    },
    {
      "cell_type": "code",
      "source": [
        "collection = [1, 2, 3, 4, 5]\n",
        "list_iter = iter(collection)"
      ],
      "metadata": {
        "id": "CUkV6JkKRhpU"
      },
      "execution_count": null,
      "outputs": []
    },
    {
      "cell_type": "code",
      "source": [
        "4 in list_iter"
      ],
      "metadata": {
        "colab": {
          "base_uri": "https://localhost:8080/"
        },
        "id": "K1qcZrzMRkv6",
        "outputId": "7caf48c2-f12c-4a65-b4dc-34d53b51ee2f"
      },
      "execution_count": null,
      "outputs": [
        {
          "output_type": "execute_result",
          "data": {
            "text/plain": [
              "True"
            ]
          },
          "metadata": {},
          "execution_count": 178
        }
      ]
    },
    {
      "cell_type": "code",
      "source": [
        "for i in list_iter:\n",
        "  print(i)"
      ],
      "metadata": {
        "id": "iQIWHMM9Rn4K"
      },
      "execution_count": null,
      "outputs": []
    },
    {
      "cell_type": "code",
      "source": [],
      "metadata": {
        "id": "ajB44USNR4TU"
      },
      "execution_count": null,
      "outputs": []
    },
    {
      "cell_type": "code",
      "source": [
        "print(next(list_iter))"
      ],
      "metadata": {
        "colab": {
          "base_uri": "https://localhost:8080/",
          "height": 141
        },
        "id": "Qu3aIQXlMEEb",
        "outputId": "209989c3-8a25-4c75-8e97-72d0c1b1d66a"
      },
      "execution_count": null,
      "outputs": [
        {
          "output_type": "error",
          "ename": "StopIteration",
          "evalue": "",
          "traceback": [
            "\u001b[0;31m---------------------------------------------------------------------------\u001b[0m",
            "\u001b[0;31mStopIteration\u001b[0m                             Traceback (most recent call last)",
            "\u001b[0;32m<ipython-input-140-847004f5f0d0>\u001b[0m in \u001b[0;36m<cell line: 1>\u001b[0;34m()\u001b[0m\n\u001b[0;32m----> 1\u001b[0;31m \u001b[0mprint\u001b[0m\u001b[0;34m(\u001b[0m\u001b[0mnext\u001b[0m\u001b[0;34m(\u001b[0m\u001b[0mlist_iter\u001b[0m\u001b[0;34m)\u001b[0m\u001b[0;34m)\u001b[0m\u001b[0;34m\u001b[0m\u001b[0;34m\u001b[0m\u001b[0m\n\u001b[0m",
            "\u001b[0;31mStopIteration\u001b[0m: "
          ]
        }
      ]
    },
    {
      "cell_type": "code",
      "source": [],
      "metadata": {
        "id": "OcA4QWtDSAi6"
      },
      "execution_count": null,
      "outputs": []
    },
    {
      "cell_type": "code",
      "source": [
        "lst = [1, 2, 2, 4, 11, 57]\n",
        "enum_iterator = enumerate(lst)\n",
        "for x in enum_iterator:\n",
        "    print(x)"
      ],
      "metadata": {
        "colab": {
          "base_uri": "https://localhost:8080/"
        },
        "id": "R4YgzKygMGeq",
        "outputId": "3022ea32-f415-4cab-c781-e0b0b2ff283a"
      },
      "execution_count": null,
      "outputs": [
        {
          "output_type": "stream",
          "name": "stdout",
          "text": [
            "(0, 1)\n",
            "(1, 2)\n",
            "(2, 2)\n",
            "(3, 4)\n",
            "(4, 11)\n",
            "(5, 57)\n"
          ]
        }
      ]
    },
    {
      "cell_type": "code",
      "source": [
        "for x in enum_iterator:\n",
        "    print(x)"
      ],
      "metadata": {
        "id": "usEpf9JWSEwD"
      },
      "execution_count": null,
      "outputs": []
    },
    {
      "cell_type": "code",
      "source": [
        "it = enumerate(lst)\n",
        "\n",
        "while True:\n",
        "    try:\n",
        "        print(next(it))\n",
        "    except StopIteration:\n",
        "        break"
      ],
      "metadata": {
        "id": "a71ZJaKaMOHV"
      },
      "execution_count": null,
      "outputs": []
    },
    {
      "cell_type": "code",
      "source": [
        "map_object = map(lambda x: x**3, [1, 2, 4, 12, 5, 13])"
      ],
      "metadata": {
        "id": "2xbXBMBcAezm"
      },
      "execution_count": null,
      "outputs": []
    },
    {
      "cell_type": "code",
      "source": [
        "next(map_object)"
      ],
      "metadata": {
        "colab": {
          "base_uri": "https://localhost:8080/"
        },
        "id": "3zVHrKBrA_p4",
        "outputId": "faa36b3b-8ef3-4ad9-dff6-a2471995caf9"
      },
      "execution_count": null,
      "outputs": [
        {
          "output_type": "execute_result",
          "data": {
            "text/plain": [
              "1"
            ]
          },
          "metadata": {},
          "execution_count": 193
        }
      ]
    },
    {
      "cell_type": "code",
      "source": [
        "next(map_object)"
      ],
      "metadata": {
        "colab": {
          "base_uri": "https://localhost:8080/"
        },
        "id": "iIOUVcKTBSbC",
        "outputId": "4e26f29b-1f19-4235-afcc-2aec0b12cd1f"
      },
      "execution_count": null,
      "outputs": [
        {
          "output_type": "execute_result",
          "data": {
            "text/plain": [
              "8"
            ]
          },
          "metadata": {},
          "execution_count": 194
        }
      ]
    },
    {
      "cell_type": "code",
      "source": [
        "for i in map_object:\n",
        "  print(i)"
      ],
      "metadata": {
        "id": "Mk5bGrBMAkH_"
      },
      "execution_count": null,
      "outputs": []
    },
    {
      "cell_type": "code",
      "source": [
        "list(map(str, [1, 2, 12, 3, 51]))"
      ],
      "metadata": {
        "id": "OoOUAi4RMZei"
      },
      "execution_count": null,
      "outputs": []
    },
    {
      "cell_type": "code",
      "source": [
        "map_obj = map(str, [1, 2, 12, 3, 51])\n",
        "print(next(map_obj))\n",
        "print(next(map_obj))\n",
        "print(next(map_obj))\n",
        "print(next(map_obj))\n",
        "print(next(map_obj))"
      ],
      "metadata": {
        "id": "UzItBEUXMcho"
      },
      "execution_count": null,
      "outputs": []
    },
    {
      "cell_type": "code",
      "source": [
        "numbers = [1, 11, 12, 5, 7, 13, 16, 8]\n",
        "iter_numbers = iter(numbers)\n",
        "print(13 in iter_numbers)\n",
        "for num in iter_numbers:\n",
        "    print(num)"
      ],
      "metadata": {
        "id": "E41soVpNTG2V"
      },
      "execution_count": null,
      "outputs": []
    },
    {
      "cell_type": "code",
      "source": [],
      "metadata": {
        "id": "1f-KougjTTXb"
      },
      "execution_count": null,
      "outputs": []
    },
    {
      "cell_type": "markdown",
      "source": [
        "Функции, которые возращают итератор:\n",
        "\n",
        "map"
      ],
      "metadata": {
        "id": "5fOHJY6VVK0j"
      }
    },
    {
      "cell_type": "code",
      "source": [
        "iter_map = map(lambda x: x**2, [1, 1, 3, 12, 1])"
      ],
      "metadata": {
        "id": "JntO2H-1XPZG"
      },
      "execution_count": null,
      "outputs": []
    },
    {
      "cell_type": "code",
      "source": [
        "numbers = [1, 2, 3, 4, 8]"
      ],
      "metadata": {
        "id": "lW-8sqS1S5HN"
      },
      "execution_count": null,
      "outputs": []
    },
    {
      "cell_type": "code",
      "source": [
        "next(numbers)"
      ],
      "metadata": {
        "colab": {
          "base_uri": "https://localhost:8080/",
          "height": 141
        },
        "id": "KQzxaYQZT9QU",
        "outputId": "f5437add-16dd-4f8d-d87a-25f85bf65182"
      },
      "execution_count": null,
      "outputs": [
        {
          "output_type": "error",
          "ename": "TypeError",
          "evalue": "'list' object is not an iterator",
          "traceback": [
            "\u001b[0;31m---------------------------------------------------------------------------\u001b[0m",
            "\u001b[0;31mTypeError\u001b[0m                                 Traceback (most recent call last)",
            "\u001b[0;32m<ipython-input-180-270f72471946>\u001b[0m in \u001b[0;36m<cell line: 1>\u001b[0;34m()\u001b[0m\n\u001b[0;32m----> 1\u001b[0;31m \u001b[0mnext\u001b[0m\u001b[0;34m(\u001b[0m\u001b[0mnumbers\u001b[0m\u001b[0;34m)\u001b[0m\u001b[0;34m\u001b[0m\u001b[0;34m\u001b[0m\u001b[0m\n\u001b[0m",
            "\u001b[0;31mTypeError\u001b[0m: 'list' object is not an iterator"
          ]
        }
      ]
    },
    {
      "cell_type": "code",
      "source": [
        "numbers_iter = iter(numbers)"
      ],
      "metadata": {
        "id": "2z_1ykchTmVa"
      },
      "execution_count": null,
      "outputs": []
    },
    {
      "cell_type": "code",
      "source": [
        "for i in numbers:\n",
        "  print(i)"
      ],
      "metadata": {
        "colab": {
          "base_uri": "https://localhost:8080/"
        },
        "id": "S-ggw40lTaTO",
        "outputId": "2d1a5960-5ace-487f-ba10-d3058b21a52e"
      },
      "execution_count": null,
      "outputs": [
        {
          "output_type": "stream",
          "name": "stdout",
          "text": [
            "1\n",
            "2\n",
            "3\n",
            "4\n",
            "8\n"
          ]
        }
      ]
    },
    {
      "cell_type": "code",
      "source": [
        "for i in numbers_iter:\n",
        "  print(i)"
      ],
      "metadata": {
        "id": "TnEwq4fcTcv0"
      },
      "execution_count": null,
      "outputs": []
    },
    {
      "cell_type": "code",
      "source": [
        "next(iter_map)"
      ],
      "metadata": {
        "colab": {
          "base_uri": "https://localhost:8080/"
        },
        "id": "zHfnZf0GS2Tj",
        "outputId": "7eb5a224-ff44-467f-a60b-ec3805ed64d6"
      },
      "execution_count": null,
      "outputs": [
        {
          "output_type": "execute_result",
          "data": {
            "text/plain": [
              "1"
            ]
          },
          "metadata": {},
          "execution_count": 166
        }
      ]
    },
    {
      "cell_type": "code",
      "source": [
        "lst = list(iter_map)"
      ],
      "metadata": {
        "id": "9bfUm8iIS53E"
      },
      "execution_count": null,
      "outputs": []
    },
    {
      "cell_type": "code",
      "source": [
        "lst"
      ],
      "metadata": {
        "colab": {
          "base_uri": "https://localhost:8080/"
        },
        "id": "NFRSUKBFS8fg",
        "outputId": "26e5c8f0-ea30-4bce-fe36-4fa9355c854c"
      },
      "execution_count": null,
      "outputs": [
        {
          "output_type": "execute_result",
          "data": {
            "text/plain": [
              "[1, 9, 144, 1]"
            ]
          },
          "metadata": {},
          "execution_count": 168
        }
      ]
    },
    {
      "cell_type": "code",
      "source": [
        "next(iter_map)"
      ],
      "metadata": {
        "colab": {
          "base_uri": "https://localhost:8080/",
          "height": 141
        },
        "id": "lf4TZDQQTAkr",
        "outputId": "a1938b6a-4af3-4d14-f7a0-6179fb27abcb"
      },
      "execution_count": null,
      "outputs": [
        {
          "output_type": "error",
          "ename": "StopIteration",
          "evalue": "",
          "traceback": [
            "\u001b[0;31m---------------------------------------------------------------------------\u001b[0m",
            "\u001b[0;31mStopIteration\u001b[0m                             Traceback (most recent call last)",
            "\u001b[0;32m<ipython-input-169-bcdc20b4346f>\u001b[0m in \u001b[0;36m<cell line: 1>\u001b[0;34m()\u001b[0m\n\u001b[0;32m----> 1\u001b[0;31m \u001b[0mnext\u001b[0m\u001b[0;34m(\u001b[0m\u001b[0miter_map\u001b[0m\u001b[0;34m)\u001b[0m\u001b[0;34m\u001b[0m\u001b[0;34m\u001b[0m\u001b[0m\n\u001b[0m",
            "\u001b[0;31mStopIteration\u001b[0m: "
          ]
        }
      ]
    },
    {
      "cell_type": "code",
      "source": [
        "iter_lst = list(map(lambda x: x**2, [1, 1, 3, 12, 1]))"
      ],
      "metadata": {
        "id": "Dpf7hnrzSxCB"
      },
      "execution_count": null,
      "outputs": []
    },
    {
      "cell_type": "code",
      "source": [
        "iter_lst"
      ],
      "metadata": {
        "colab": {
          "base_uri": "https://localhost:8080/"
        },
        "id": "aVp_SQVsS019",
        "outputId": "937e757d-a800-4787-eb1f-eae56b09cd8c"
      },
      "execution_count": null,
      "outputs": [
        {
          "output_type": "execute_result",
          "data": {
            "text/plain": [
              "[1, 1, 9, 144, 1]"
            ]
          },
          "metadata": {},
          "execution_count": 164
        }
      ]
    },
    {
      "cell_type": "code",
      "source": [
        "for elem in iter_map:\n",
        "  print(elem)"
      ],
      "metadata": {
        "colab": {
          "base_uri": "https://localhost:8080/"
        },
        "id": "fkm2U3VxSUmd",
        "outputId": "5cbcdc1e-e2cb-44ed-b4a9-7f43a6f968e1"
      },
      "execution_count": null,
      "outputs": [
        {
          "output_type": "stream",
          "name": "stdout",
          "text": [
            "1\n",
            "1\n",
            "9\n",
            "144\n",
            "1\n"
          ]
        }
      ]
    },
    {
      "cell_type": "markdown",
      "source": [
        "filter"
      ],
      "metadata": {
        "id": "qTGZb8_SVW9y"
      }
    },
    {
      "cell_type": "code",
      "source": [
        "numbers = [1,3, 10, 12, 2]\n",
        "filter_numbers = list(filter(lambda x: x % 2 == 0, numbers))"
      ],
      "metadata": {
        "id": "vqsawwrbXUY4"
      },
      "execution_count": null,
      "outputs": []
    },
    {
      "cell_type": "code",
      "source": [
        "for num in filter_numbers:\n",
        "  print(num)"
      ],
      "metadata": {
        "colab": {
          "base_uri": "https://localhost:8080/"
        },
        "id": "a4cz7uduSfvE",
        "outputId": "63e39718-4b96-48dc-82a1-49055b6819f4"
      },
      "execution_count": null,
      "outputs": [
        {
          "output_type": "stream",
          "name": "stdout",
          "text": [
            "10\n",
            "12\n",
            "2\n"
          ]
        }
      ]
    },
    {
      "cell_type": "code",
      "source": [
        "for num in filter_numbers:\n",
        "  print(num)"
      ],
      "metadata": {
        "id": "rWWW7dPfSlid",
        "colab": {
          "base_uri": "https://localhost:8080/"
        },
        "outputId": "970046b1-97c6-49df-a372-c6b45c5c4a75"
      },
      "execution_count": null,
      "outputs": [
        {
          "output_type": "stream",
          "name": "stdout",
          "text": [
            "10\n",
            "12\n",
            "2\n"
          ]
        }
      ]
    },
    {
      "cell_type": "markdown",
      "source": [
        "zip"
      ],
      "metadata": {
        "id": "UzN97r0kVXtE"
      }
    },
    {
      "cell_type": "code",
      "source": [
        "lst1 = [5, 3, 1, 2, 3]\n",
        "lst2 = [1, 12, 124, 1]\n",
        "zip_iterator = zip(lst1, lst2)\n",
        "for item in zip_iterator:\n",
        "    print(item)\n",
        "for item in zip_iterator:\n",
        "    print(item)"
      ],
      "metadata": {
        "colab": {
          "base_uri": "https://localhost:8080/"
        },
        "id": "3lcMgiXRXazp",
        "outputId": "e3a595a5-b66d-4885-eb54-9a520f8f9ec3"
      },
      "execution_count": null,
      "outputs": [
        {
          "output_type": "stream",
          "name": "stdout",
          "text": [
            "(5, 1)\n",
            "(3, 12)\n",
            "(1, 124)\n",
            "(2, 1)\n"
          ]
        }
      ]
    },
    {
      "cell_type": "markdown",
      "source": [
        "reversed"
      ],
      "metadata": {
        "id": "K5ew5W-SVZJK"
      }
    },
    {
      "cell_type": "code",
      "source": [
        "lst = [1, 9, 12, 2]\n",
        "reversed_iterator = reversed(lst)\n",
        "for item in reversed_iterator:\n",
        "    print(item)\n",
        "for item in reversed_iterator:\n",
        "    print(item)"
      ],
      "metadata": {
        "id": "jd6cy-bCXhvt"
      },
      "execution_count": null,
      "outputs": []
    },
    {
      "cell_type": "code",
      "source": [
        "lst = [1, 9, 12, 2]\n",
        "gen = reversed(lst)"
      ],
      "metadata": {
        "id": "__sFotxpB75q"
      },
      "execution_count": null,
      "outputs": []
    },
    {
      "cell_type": "code",
      "source": [
        "list(gen) == list(gen)"
      ],
      "metadata": {
        "colab": {
          "base_uri": "https://localhost:8080/"
        },
        "id": "zpxaT8WkCovT",
        "outputId": "c4e4dc78-da07-47f6-cb89-3e2bd7038fc7"
      },
      "execution_count": null,
      "outputs": [
        {
          "output_type": "execute_result",
          "data": {
            "text/plain": [
              "False"
            ]
          },
          "metadata": {},
          "execution_count": 224
        }
      ]
    },
    {
      "cell_type": "code",
      "source": [
        "reversed(lst)"
      ],
      "metadata": {
        "colab": {
          "base_uri": "https://localhost:8080/"
        },
        "id": "2JaGk5hiCZHW",
        "outputId": "2c33b075-d8c3-4793-b3cb-2b0f98c422e1"
      },
      "execution_count": null,
      "outputs": [
        {
          "output_type": "execute_result",
          "data": {
            "text/plain": [
              "<list_reverseiterator at 0x7f5ed6801db0>"
            ]
          },
          "metadata": {},
          "execution_count": 213
        }
      ]
    },
    {
      "cell_type": "code",
      "source": [],
      "metadata": {
        "id": "clTdiLYVCgbF"
      },
      "execution_count": null,
      "outputs": []
    },
    {
      "cell_type": "code",
      "source": [
        "lst1 = [1, 2, 4]\n",
        "lst2 = [1, 2, 4]"
      ],
      "metadata": {
        "id": "auv6UEZ-CEaM"
      },
      "execution_count": null,
      "outputs": []
    },
    {
      "cell_type": "code",
      "source": [
        "lst1 == lst2"
      ],
      "metadata": {
        "colab": {
          "base_uri": "https://localhost:8080/"
        },
        "id": "7j09qndvCIfE",
        "outputId": "a3e93ac2-62b3-49fd-9087-dc24575eedd5"
      },
      "execution_count": null,
      "outputs": [
        {
          "output_type": "execute_result",
          "data": {
            "text/plain": [
              "True"
            ]
          },
          "metadata": {},
          "execution_count": 206
        }
      ]
    },
    {
      "cell_type": "code",
      "source": [
        "lst1 is lst2"
      ],
      "metadata": {
        "colab": {
          "base_uri": "https://localhost:8080/"
        },
        "id": "zedKJ1ZqCKvM",
        "outputId": "6a1c65f7-066c-4127-ea50-c9bba0ae24ff"
      },
      "execution_count": null,
      "outputs": [
        {
          "output_type": "execute_result",
          "data": {
            "text/plain": [
              "False"
            ]
          },
          "metadata": {},
          "execution_count": 207
        }
      ]
    },
    {
      "cell_type": "code",
      "source": [
        "lst1 = [1, 2, 4]\n",
        "lst2 = lst1"
      ],
      "metadata": {
        "id": "BfOBpHwsCQ5g"
      },
      "execution_count": null,
      "outputs": []
    },
    {
      "cell_type": "code",
      "source": [
        "lst1 == lst2"
      ],
      "metadata": {
        "colab": {
          "base_uri": "https://localhost:8080/"
        },
        "id": "wLEWkWgRCS8F",
        "outputId": "3c34586a-a14d-4a22-8657-a09c9c4cc7f3"
      },
      "execution_count": null,
      "outputs": [
        {
          "output_type": "execute_result",
          "data": {
            "text/plain": [
              "True"
            ]
          },
          "metadata": {},
          "execution_count": 209
        }
      ]
    },
    {
      "cell_type": "code",
      "source": [
        "lst1 is lst2"
      ],
      "metadata": {
        "colab": {
          "base_uri": "https://localhost:8080/"
        },
        "id": "ARJjfNsOCU4I",
        "outputId": "5dcc09ed-bf70-4c09-e083-af315ffc0f97"
      },
      "execution_count": null,
      "outputs": [
        {
          "output_type": "execute_result",
          "data": {
            "text/plain": [
              "True"
            ]
          },
          "metadata": {},
          "execution_count": 210
        }
      ]
    },
    {
      "cell_type": "markdown",
      "source": [
        "enumerate"
      ],
      "metadata": {
        "id": "86etBTC8VaN7"
      }
    },
    {
      "cell_type": "code",
      "source": [
        "lst = [1, 9, 12, 2]\n",
        "iterator = enumerate(lst)"
      ],
      "metadata": {
        "id": "qJUsJq7YXlpr"
      },
      "execution_count": null,
      "outputs": []
    },
    {
      "cell_type": "code",
      "source": [
        "for item in iterator:\n",
        "  print(item)"
      ],
      "metadata": {
        "colab": {
          "base_uri": "https://localhost:8080/"
        },
        "id": "jKLdbJF_SKaE",
        "outputId": "83393b7a-37c2-4786-86d9-3e9ef5eb9d35"
      },
      "execution_count": null,
      "outputs": [
        {
          "output_type": "stream",
          "name": "stdout",
          "text": [
            "(0, 1)\n",
            "(1, 9)\n",
            "(2, 12)\n",
            "(3, 2)\n"
          ]
        }
      ]
    },
    {
      "cell_type": "code",
      "source": [
        "for item in iterator:\n",
        "  print(item)"
      ],
      "metadata": {
        "id": "GdKVLzYISO7O"
      },
      "execution_count": null,
      "outputs": []
    },
    {
      "cell_type": "markdown",
      "source": [
        "### Декораторы\n"
      ],
      "metadata": {
        "id": "qNljKFhQMgxV"
      }
    },
    {
      "cell_type": "markdown",
      "source": [
        "Функция, которая принимает другую функцию и изменяет её функциональность без изменения её кода."
      ],
      "metadata": {
        "id": "2xubsj5dMz_T"
      }
    },
    {
      "cell_type": "code",
      "source": [
        "def uppercase(func):  # передаем функцию, которую будем оборачивать\n",
        "    def wrapper():\n",
        "        result = func()\n",
        "        return result.upper()\n",
        "    return wrapper # вернуть нужно функцию-обертку\n",
        "\n",
        "@uppercase\n",
        "def print_hello(st=''):\n",
        "    return \"hello world\" + st"
      ],
      "metadata": {
        "id": "Ut1oNml0M2hQ"
      },
      "execution_count": null,
      "outputs": []
    },
    {
      "cell_type": "code",
      "source": [],
      "metadata": {
        "id": "M9lLbCwGEPzY"
      },
      "execution_count": null,
      "outputs": []
    },
    {
      "cell_type": "code",
      "source": [
        "print_hello()"
      ],
      "metadata": {
        "id": "A9r0xJiAM43w",
        "colab": {
          "base_uri": "https://localhost:8080/",
          "height": 36
        },
        "outputId": "efc4ef7d-6ee8-4186-e577-17b39e3f335a"
      },
      "execution_count": null,
      "outputs": [
        {
          "output_type": "execute_result",
          "data": {
            "text/plain": [
              "'HELLO WORLD'"
            ],
            "application/vnd.google.colaboratory.intrinsic+json": {
              "type": "string"
            }
          },
          "metadata": {},
          "execution_count": 236
        }
      ]
    },
    {
      "cell_type": "markdown",
      "source": [
        "### Задание"
      ],
      "metadata": {
        "id": "jycQwj2jNCa-"
      }
    },
    {
      "cell_type": "markdown",
      "source": [
        "Напишите декоратор repeat_twice, который будет выполнять функцию 2 раза. Функция не принимает аргументов и ничего не возращает, только печатает что-то на экран."
      ],
      "metadata": {
        "id": "IG3T4wFgNEub"
      }
    },
    {
      "cell_type": "code",
      "source": [
        "def repeat_twice(func):\n",
        "    def wrapper():\n",
        "        func()\n",
        "        func()\n",
        "    return wrapper # вернуть нужно функцию-обертку\n",
        "\n",
        "@repeat_twice\n",
        "def print_hello(st=''):\n",
        "    print(\"hello world\" + st)"
      ],
      "metadata": {
        "id": "c1T1IM8qOHOs"
      },
      "execution_count": null,
      "outputs": []
    },
    {
      "cell_type": "code",
      "source": [
        "print_hello()"
      ],
      "metadata": {
        "colab": {
          "base_uri": "https://localhost:8080/"
        },
        "id": "BOzUoavZEmjM",
        "outputId": "6a8b28f1-c70e-439e-e0ba-f3af19eb1274"
      },
      "execution_count": null,
      "outputs": [
        {
          "output_type": "stream",
          "name": "stdout",
          "text": [
            "hello world\n",
            "hello world\n"
          ]
        }
      ]
    }
  ]
}