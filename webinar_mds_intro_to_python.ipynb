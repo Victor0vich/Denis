{
  "cells": [
    {
      "cell_type": "markdown",
      "metadata": {
        "id": "view-in-github",
        "colab_type": "text"
      },
      "source": [
        "<a href=\"https://colab.research.google.com/github/Victor0vich/Denis/blob/main/webinar_mds_intro_to_python.ipynb\" target=\"_parent\"><img src=\"https://colab.research.google.com/assets/colab-badge.svg\" alt=\"Open In Colab\"/></a>"
      ]
    },
    {
      "cell_type": "markdown",
      "id": "1a8bd0e9",
      "metadata": {
        "id": "1a8bd0e9"
      },
      "source": [
        "# Введение в Python\n",
        "\n",
        "<img src=\"https://raw.githubusercontent.com/karpovmax/images_python_teaching/refs/heads/main/google_trends_python.png\" alt=\"drawing\" width=\"800\"/>"
      ]
    },
    {
      "cell_type": "markdown",
      "source": [
        "## Ввод и вывод"
      ],
      "metadata": {
        "id": "IET1Yr650fB8"
      },
      "id": "IET1Yr650fB8"
    },
    {
      "cell_type": "code",
      "source": [
        "name = input(\"Введите ваше имя: \")\n",
        "print(\"Привет,\",name)"
      ],
      "metadata": {
        "id": "Am0L0Xlq0hmr",
        "colab": {
          "base_uri": "https://localhost:8080/"
        },
        "outputId": "68073e3e-8f49-4d21-8541-82d0f51324bd"
      },
      "id": "Am0L0Xlq0hmr",
      "execution_count": null,
      "outputs": [
        {
          "output_type": "stream",
          "name": "stdout",
          "text": [
            "Введите ваше имя: Максим\n",
            "Привет, Максим\n"
          ]
        }
      ]
    },
    {
      "cell_type": "markdown",
      "source": [
        "Что здесь произшло? В первой строчке мы использовали функцию `input`. Она вывела на экран строчку, которую ей передали (обязательно в кавычках) и запросила ответ с клавиатуры. Я его ввёл, указав своё имя. После чего `input` вернула строчку с именем и присвоила её переменной `name`.\n",
        "\n",
        "После этого во второй строке была вызвана функция `print` и ей были переданы две строчки — \"Привет,\" и то, что хранилось в переменной `name` Функция `print` вывела эти две строчки последовательно, разделив пробелом. Заметим, что в переменной `name` по-прежнему лежит та строчка, которую мы ввели с клавиатуры."
      ],
      "metadata": {
        "id": "VEt0E0DP0lfu"
      },
      "id": "VEt0E0DP0lfu"
    },
    {
      "cell_type": "markdown",
      "id": "873997b5",
      "metadata": {
        "id": "873997b5"
      },
      "source": [
        "## Переменные и арифметические действия"
      ]
    },
    {
      "cell_type": "markdown",
      "id": "72f73e16",
      "metadata": {
        "id": "72f73e16"
      },
      "source": [
        "Переменная - “коробочка” или более корректно “ссылка” на то, что в ней хранится. Ее мы используем для хранения переменных и результатов самых разных вычислений\n",
        "\n",
        "Переменные в Python нетипизированы, это значит что у них нет типа, а значит хранить в них можно все что угодно - строки, числа и все, что захочется"
      ]
    },
    {
      "cell_type": "markdown",
      "id": "93616552",
      "metadata": {
        "id": "93616552"
      },
      "source": [
        "<img src=\"https://raw.githubusercontent.com/karpovmax/images_python_teaching/refs/heads/main/variable.png\" alt=\"drawing\" width=\"400\"/>"
      ]
    },
    {
      "cell_type": "markdown",
      "id": "71a3c338",
      "metadata": {
        "id": "71a3c338"
      },
      "source": [
        "Тут просто записываем всякие штуки в переменные"
      ]
    },
    {
      "cell_type": "code",
      "execution_count": null,
      "id": "b51f43ff",
      "metadata": {
        "id": "b51f43ff"
      },
      "outputs": [],
      "source": [
        "message = 'Hello!' # str - string (строка)\n",
        "some_number = 1 # int - integer (целое число)\n",
        "another_number = 2\n",
        "# 1. не могут начинаться с цифр\n",
        "# 2. используются _ вместо пробелов в составных названиях переменных\n",
        "# 3. строчные латинские буквы"
      ]
    },
    {
      "cell_type": "code",
      "source": [
        "type(some_number)"
      ],
      "metadata": {
        "colab": {
          "base_uri": "https://localhost:8080/"
        },
        "id": "pq2hkIbSi1D9",
        "outputId": "8de05dc4-73d2-4f5a-cd26-78bb20f477fd"
      },
      "id": "pq2hkIbSi1D9",
      "execution_count": null,
      "outputs": [
        {
          "output_type": "execute_result",
          "data": {
            "text/plain": [
              "int"
            ]
          },
          "metadata": {},
          "execution_count": 3
        }
      ]
    },
    {
      "cell_type": "markdown",
      "id": "ed15d363",
      "metadata": {
        "id": "ed15d363"
      },
      "source": [
        "Теперь мы можем к ним обращаться на протяжении всей нашей программы."
      ]
    },
    {
      "cell_type": "markdown",
      "id": "4d590cda",
      "metadata": {
        "id": "4d590cda"
      },
      "source": [
        "К числам, как ни странно, можно применять все известные арифметические операции"
      ]
    },
    {
      "cell_type": "code",
      "execution_count": null,
      "id": "812178df",
      "metadata": {
        "id": "812178df",
        "outputId": "8de8531f-e71a-4419-fbfd-06a8ab9b009f",
        "colab": {
          "base_uri": "https://localhost:8080/"
        }
      },
      "outputs": [
        {
          "output_type": "execute_result",
          "data": {
            "text/plain": [
              "3"
            ]
          },
          "metadata": {},
          "execution_count": 6
        }
      ],
      "source": [
        "some_number + another_number  # 3"
      ]
    },
    {
      "cell_type": "markdown",
      "id": "7023fd29",
      "metadata": {
        "id": "7023fd29"
      },
      "source": [
        "Для промежуточного хранения результата мы можем использовать переменные."
      ]
    },
    {
      "cell_type": "markdown",
      "id": "d7c26785",
      "metadata": {
        "id": "d7c26785"
      },
      "source": [
        "Обратите внимание, что вместо длинной конструкции `result = result + another_number` мы можем использовать оператор `+=`, аналогичный оператор предусмотрен для всех арифметических операций"
      ]
    },
    {
      "cell_type": "code",
      "execution_count": null,
      "id": "7c9149c3",
      "metadata": {
        "id": "7c9149c3",
        "outputId": "28d9d6c3-ec3e-4f3e-b94b-34e8691021c7"
      },
      "outputs": [
        {
          "data": {
            "text/plain": [
              "3"
            ]
          },
          "execution_count": 3,
          "metadata": {},
          "output_type": "execute_result"
        }
      ],
      "source": [
        "result = some_number\n",
        "result += another_number\n",
        "result  # 3"
      ]
    },
    {
      "cell_type": "code",
      "source": [
        "5 // 2 # целочисленное деление"
      ],
      "metadata": {
        "colab": {
          "base_uri": "https://localhost:8080/"
        },
        "id": "9s6brL8_jq6v",
        "outputId": "a63ff508-32a6-41ea-a877-028af3376935"
      },
      "id": "9s6brL8_jq6v",
      "execution_count": null,
      "outputs": [
        {
          "output_type": "execute_result",
          "data": {
            "text/plain": [
              "2"
            ]
          },
          "metadata": {},
          "execution_count": 8
        }
      ]
    },
    {
      "cell_type": "code",
      "source": [
        "5 % 2 # остаток от деления"
      ],
      "metadata": {
        "colab": {
          "base_uri": "https://localhost:8080/"
        },
        "id": "A_Xj5afQj1tk",
        "outputId": "2d42319a-b326-4464-cdfc-f55e93b92285"
      },
      "id": "A_Xj5afQj1tk",
      "execution_count": null,
      "outputs": [
        {
          "output_type": "execute_result",
          "data": {
            "text/plain": [
              "1"
            ]
          },
          "metadata": {},
          "execution_count": 9
        }
      ]
    },
    {
      "cell_type": "code",
      "source": [
        "5 / 2 # float (число с плавающей точкой)"
      ],
      "metadata": {
        "colab": {
          "base_uri": "https://localhost:8080/"
        },
        "id": "Z3BwmZ13j6sR",
        "outputId": "0653705f-ffca-4bfb-9df2-06e17663117a"
      },
      "id": "Z3BwmZ13j6sR",
      "execution_count": null,
      "outputs": [
        {
          "output_type": "execute_result",
          "data": {
            "text/plain": [
              "2.5"
            ]
          },
          "metadata": {},
          "execution_count": 10
        }
      ]
    },
    {
      "cell_type": "markdown",
      "id": "2d4a1543",
      "metadata": {
        "id": "2d4a1543"
      },
      "source": [
        "Еще примеры арифметических операций, которые наверняка вам всем уже достаточно хорошо известны"
      ]
    },
    {
      "cell_type": "code",
      "execution_count": null,
      "id": "607ef1c7",
      "metadata": {
        "id": "607ef1c7",
        "outputId": "ce0e4f7e-f436-4fe4-b8cd-7353b0f8c7c8",
        "colab": {
          "base_uri": "https://localhost:8080/"
        }
      },
      "outputs": [
        {
          "output_type": "execute_result",
          "data": {
            "text/plain": [
              "8"
            ]
          },
          "metadata": {},
          "execution_count": 11
        }
      ],
      "source": [
        "5 // 3  # 1\n",
        "5.0 // 3.0  # 1.0\n",
        "10.0 / 3  # 3.333...\n",
        "(1 + 3) * 2  # 8\n",
        "2 ** 3  # 8"
      ]
    },
    {
      "cell_type": "markdown",
      "id": "e4bc4dc1",
      "metadata": {
        "id": "e4bc4dc1"
      },
      "source": [
        "## Типы данных в Python"
      ]
    },
    {
      "cell_type": "markdown",
      "id": "bb85439d",
      "metadata": {
        "id": "bb85439d"
      },
      "source": [
        "Рассмотрим самые простые типы данных"
      ]
    },
    {
      "cell_type": "markdown",
      "id": "3d342b32",
      "metadata": {
        "id": "3d342b32"
      },
      "source": [
        "**Числа**"
      ]
    },
    {
      "cell_type": "markdown",
      "id": "dbd6bbf5",
      "metadata": {
        "id": "dbd6bbf5"
      },
      "source": [
        "Самые обычные числа, либо целые (`int`), либо вещественные (`float`). С ними мы можем производить арифметические операции"
      ]
    },
    {
      "cell_type": "code",
      "execution_count": null,
      "id": "e2c1cd1a",
      "metadata": {
        "id": "e2c1cd1a",
        "outputId": "738a8368-86b4-48bb-840f-dbc709848df0",
        "colab": {
          "base_uri": "https://localhost:8080/"
        }
      },
      "outputs": [
        {
          "output_type": "execute_result",
          "data": {
            "text/plain": [
              "3.0"
            ]
          },
          "metadata": {},
          "execution_count": 12
        }
      ],
      "source": [
        "3  # int\n",
        "3.0  # float"
      ]
    },
    {
      "cell_type": "markdown",
      "id": "d5524a42",
      "metadata": {
        "id": "d5524a42"
      },
      "source": [
        "**Булевы**"
      ]
    },
    {
      "cell_type": "markdown",
      "id": "ab5b8d81",
      "metadata": {
        "id": "ab5b8d81"
      },
      "source": [
        "Значения истинности (`float`) представляются значения Истина и Ложь (True и False)."
      ]
    },
    {
      "cell_type": "code",
      "source": [
        "2 == 2"
      ],
      "metadata": {
        "colab": {
          "base_uri": "https://localhost:8080/"
        },
        "id": "qyFiftk1kb48",
        "outputId": "11241bc1-4b57-42e6-fba4-41767be98ad5"
      },
      "id": "qyFiftk1kb48",
      "execution_count": null,
      "outputs": [
        {
          "output_type": "execute_result",
          "data": {
            "text/plain": [
              "True"
            ]
          },
          "metadata": {},
          "execution_count": 13
        }
      ]
    },
    {
      "cell_type": "code",
      "source": [
        "type(2 == 2)"
      ],
      "metadata": {
        "colab": {
          "base_uri": "https://localhost:8080/"
        },
        "id": "MAWl2WKfkhNz",
        "outputId": "21231308-9bb2-4ab2-c2c9-d8cbbe3d06a1"
      },
      "id": "MAWl2WKfkhNz",
      "execution_count": null,
      "outputs": [
        {
          "output_type": "execute_result",
          "data": {
            "text/plain": [
              "bool"
            ]
          },
          "metadata": {},
          "execution_count": 14
        }
      ]
    },
    {
      "cell_type": "markdown",
      "id": "ae189368",
      "metadata": {
        "id": "ae189368"
      },
      "source": [
        "С булевыми значениями доступны 3 логические операции - И, ИЛИ и отрицание:"
      ]
    },
    {
      "cell_type": "code",
      "execution_count": null,
      "id": "1eb62d5a",
      "metadata": {
        "id": "1eb62d5a",
        "outputId": "8a62a96c-37d7-4afa-c0b1-74b7ca024d5f"
      },
      "outputs": [
        {
          "data": {
            "text/plain": [
              "True"
            ]
          },
          "execution_count": 8,
          "metadata": {},
          "output_type": "execute_result"
        }
      ],
      "source": [
        "True  # True\n",
        "False  # False\n",
        "\n",
        "not True  # False\n",
        "not False  # True\n",
        "\n",
        "True and False  # False\n",
        "False or True  # True"
      ]
    },
    {
      "cell_type": "code",
      "source": [
        "7 > 5 and 6 < 8"
      ],
      "metadata": {
        "colab": {
          "base_uri": "https://localhost:8080/"
        },
        "id": "Hqw3bsMLkww2",
        "outputId": "712bf721-936c-4c82-c5c5-041fc5d7957a"
      },
      "id": "Hqw3bsMLkww2",
      "execution_count": null,
      "outputs": [
        {
          "output_type": "execute_result",
          "data": {
            "text/plain": [
              "True"
            ]
          },
          "metadata": {},
          "execution_count": 15
        }
      ]
    },
    {
      "cell_type": "code",
      "source": [
        "7 > 5 and 6 < 5"
      ],
      "metadata": {
        "colab": {
          "base_uri": "https://localhost:8080/"
        },
        "id": "i1vAvbhnk0ge",
        "outputId": "234bc42a-634c-4625-9124-864b927d7332"
      },
      "id": "i1vAvbhnk0ge",
      "execution_count": null,
      "outputs": [
        {
          "output_type": "execute_result",
          "data": {
            "text/plain": [
              "False"
            ]
          },
          "metadata": {},
          "execution_count": 16
        }
      ]
    },
    {
      "cell_type": "code",
      "source": [
        "7 > 5 or 6 < 5"
      ],
      "metadata": {
        "colab": {
          "base_uri": "https://localhost:8080/"
        },
        "id": "3o6jTNy2k5SI",
        "outputId": "4d10b503-fc86-47b2-e7b8-b0ffb553d6b1"
      },
      "id": "3o6jTNy2k5SI",
      "execution_count": null,
      "outputs": [
        {
          "output_type": "execute_result",
          "data": {
            "text/plain": [
              "True"
            ]
          },
          "metadata": {},
          "execution_count": 17
        }
      ]
    },
    {
      "cell_type": "markdown",
      "id": "c5f6fb7a",
      "metadata": {
        "id": "c5f6fb7a"
      },
      "source": [
        "На самом деле тоже числа, True - 1, False - 0, но использовать их следует только по их прямому назначению - в рамках логических конструкций. Использование их как чисел оправдано лишь не в многих случаях, которые будут рассмотрены в курсе далее (например, при использовании масок в датафреймах - что это такое мы узнаем потом)."
      ]
    },
    {
      "cell_type": "code",
      "execution_count": null,
      "id": "c6fc16f4",
      "metadata": {
        "id": "c6fc16f4",
        "outputId": "188e7551-b872-41c1-ec75-605673acae44"
      },
      "outputs": [
        {
          "data": {
            "text/plain": [
              "-5"
            ]
          },
          "execution_count": 10,
          "metadata": {},
          "output_type": "execute_result"
        }
      ],
      "source": [
        "True + True  # 2\n",
        "True * 8  # 8\n",
        "False - 5  # -5"
      ]
    },
    {
      "cell_type": "markdown",
      "id": "c98e367d",
      "metadata": {
        "id": "c98e367d"
      },
      "source": [
        "**Строки**"
      ]
    },
    {
      "cell_type": "markdown",
      "id": "5b5f1861",
      "metadata": {
        "id": "5b5f1861"
      },
      "source": [
        "Строки представляются типом данных `string`, существует 3 вида строк, которые отличаются удобством записи для разработчика, но после их присвоения в переменную ничем друг от друга не отличаются."
      ]
    },
    {
      "cell_type": "code",
      "execution_count": null,
      "id": "2d41491c",
      "metadata": {
        "id": "2d41491c",
        "outputId": "7d713a2e-c80b-4e5a-8567-390994e08fb3",
        "colab": {
          "base_uri": "https://localhost:8080/",
          "height": 36
        }
      },
      "outputs": [
        {
          "output_type": "execute_result",
          "data": {
            "text/plain": [
              "'Hello world!'"
            ],
            "application/vnd.google.colaboratory.intrinsic+json": {
              "type": "string"
            }
          },
          "metadata": {},
          "execution_count": 18
        }
      ],
      "source": [
        "\"Строка\"\n",
        "\n",
        "'Тоже строка'\n",
        "\n",
        "\"\"\"\n",
        "Большая строка,\n",
        "можно использовать как многострочный\n",
        "комментарий\n",
        "\"\"\"\n",
        "\n",
        "\"Hello \" + \"world!\"  # \"Hello world!\""
      ]
    },
    {
      "cell_type": "markdown",
      "id": "6008c597",
      "metadata": {
        "id": "6008c597"
      },
      "source": [
        "## Строки и форматирование вывода"
      ]
    },
    {
      "cell_type": "markdown",
      "id": "ea5254f0",
      "metadata": {
        "id": "ea5254f0"
      },
      "source": [
        "Рассмотрим как можно красиво вывести строку, которую мы каким-то магическим образом получили:"
      ]
    },
    {
      "cell_type": "code",
      "execution_count": null,
      "id": "e04a9ce3",
      "metadata": {
        "id": "e04a9ce3"
      },
      "outputs": [],
      "source": [
        "some_string = 'МГУ ШРГ'"
      ]
    },
    {
      "cell_type": "markdown",
      "id": "ad9fe994",
      "metadata": {
        "id": "ad9fe994"
      },
      "source": [
        "Модифицируем строку так, чтобы включить в вывод длину строки и саму эту строку."
      ]
    },
    {
      "cell_type": "markdown",
      "id": "4de23fa9",
      "metadata": {
        "id": "4de23fa9"
      },
      "source": [
        "Можно заметить, что конструкция выглядит достаточно пугающей и сложной. Как минимум тут присутствует несколько операций конкатенации (умное слово для названия соединения строк) `+` и приведение числа к строке (функция `str`), т.к. соединять строки мы можем только со строками:"
      ]
    },
    {
      "cell_type": "code",
      "source": [
        "len(some_string) # length"
      ],
      "metadata": {
        "colab": {
          "base_uri": "https://localhost:8080/"
        },
        "id": "l_nxHqsTlctD",
        "outputId": "1ebfed2f-8610-415f-b076-3c76e036d736"
      },
      "id": "l_nxHqsTlctD",
      "execution_count": null,
      "outputs": [
        {
          "output_type": "execute_result",
          "data": {
            "text/plain": [
              "7"
            ]
          },
          "metadata": {},
          "execution_count": 20
        }
      ]
    },
    {
      "cell_type": "code",
      "execution_count": null,
      "id": "35e35938",
      "metadata": {
        "id": "35e35938",
        "outputId": "a623574f-e916-475c-d619-cf63651cf6f1"
      },
      "outputs": [
        {
          "data": {
            "text/plain": [
              "'Длина строки МГУ ШРГ = 7 символов.'"
            ]
          },
          "execution_count": 13,
          "metadata": {},
          "output_type": "execute_result"
        }
      ],
      "source": [
        "\"Длина строки \" + some_string + \" = \" + str(len(some_string)) + \" символов.\"  # требуется приведение типов"
      ]
    },
    {
      "cell_type": "markdown",
      "id": "283a0e6c",
      "metadata": {
        "id": "283a0e6c"
      },
      "source": [
        "Сложные и непонятные конструкции - это плохо. Поэтому разработчики питона ввели в язык так называемые f-string - синтаксис, который позволяет делать то же самое, но намного проще и приятнее:"
      ]
    },
    {
      "cell_type": "code",
      "execution_count": null,
      "id": "c094537f",
      "metadata": {
        "id": "c094537f",
        "outputId": "2c7242f8-9f20-4704-c0ab-a7db4eee2e29"
      },
      "outputs": [
        {
          "data": {
            "text/plain": [
              "'Длина строки МГУ ШРГ = 7 символов.'"
            ]
          },
          "execution_count": 14,
          "metadata": {},
          "output_type": "execute_result"
        }
      ],
      "source": [
        "f\"Длина строки {some_string} = {len(some_string)} символов.\"  # f-string, легко и просто"
      ]
    },
    {
      "cell_type": "markdown",
      "id": "db910fb1",
      "metadata": {
        "id": "db910fb1"
      },
      "source": [
        "Кроме того, f-string упрощает отладку кода. Питонистам, особенно при работе в ноутбуках (Jupyter Notebook, Google Colab) привычнее выводить содержимое переменных с помощью функции print. Для упрощения вывода введена поддержка сокращенного красивого вывода значения переменной:"
      ]
    },
    {
      "cell_type": "code",
      "execution_count": null,
      "id": "367ed017",
      "metadata": {
        "id": "367ed017",
        "outputId": "4695e341-1242-4ae6-d301-817c8fc379c6"
      },
      "outputs": [
        {
          "name": "stdout",
          "output_type": "stream",
          "text": [
            "some_var = 'My little pony is 20% cooler!'\n"
          ]
        }
      ],
      "source": [
        "some_var = 'My little pony is 20% cooler!'\n",
        "print(f'{some_var = }')  # some_var = 'My little pony is 20% cooler!'"
      ]
    },
    {
      "cell_type": "markdown",
      "id": "824906bc",
      "metadata": {
        "id": "824906bc"
      },
      "source": [
        "Для вывода сообщения в консоли существует специальная функция `print`. У функции есть различные параметры, которые позволяют контролировать вывод, один из них параметр end, который позволяет контролировать то, что будет выведено в конце вывода - удобно, когда требуется выводить все выводы не построчно, а, например, через разделитель."
      ]
    },
    {
      "cell_type": "code",
      "execution_count": null,
      "id": "99daec25",
      "metadata": {
        "id": "99daec25",
        "outputId": "ea688edd-25c9-44ce-f225-4951ffef7a6f",
        "colab": {
          "base_uri": "https://localhost:8080/"
        }
      },
      "outputs": [
        {
          "output_type": "stream",
          "name": "stdout",
          "text": [
            "Hello, World *** "
          ]
        }
      ],
      "source": [
        "print('Hello, World', end=' *** ')  # Hello, World!"
      ]
    },
    {
      "cell_type": "markdown",
      "id": "3b0a13fc",
      "metadata": {
        "id": "3b0a13fc"
      },
      "source": [
        "## Логический тип данных и условный оператор"
      ]
    },
    {
      "cell_type": "markdown",
      "id": "8fb60dfa",
      "metadata": {
        "id": "8fb60dfa"
      },
      "source": [
        "Условный оператор позволяет совершать магию путем контроля над тем, каким путем пойдет выполнение вашего сценария."
      ]
    },
    {
      "cell_type": "markdown",
      "id": "d30c6c72",
      "metadata": {
        "id": "d30c6c72"
      },
      "source": [
        "<img src=\"https://raw.githubusercontent.com/karpovmax/images_python_teaching/refs/heads/main/condititons.png\" alt=\"drawing\"/>"
      ]
    },
    {
      "cell_type": "markdown",
      "source": [
        "![](https://cdn.otus.ru/media/public/07/96/1-20219-07963f.png)"
      ],
      "metadata": {
        "id": "P8khm17H2sMX"
      },
      "id": "P8khm17H2sMX"
    },
    {
      "cell_type": "markdown",
      "source": [
        "## Условные конструкции"
      ],
      "metadata": {
        "id": "2Ah06eSW2_Pd"
      },
      "id": "2Ah06eSW2_Pd"
    },
    {
      "cell_type": "markdown",
      "source": [
        "Условные конструкции – конструкции с операторами условия. Условная конструкция обычно предполагает «развилку»: если условие выполняется, то должен выполняться один набор действий, если нет – другой набор действий."
      ],
      "metadata": {
        "id": "vNOIhZRD3DNd"
      },
      "id": "vNOIhZRD3DNd"
    },
    {
      "cell_type": "markdown",
      "source": [
        "<img src=\"https://raw.githubusercontent.com/karpovmax/images_python_teaching/refs/heads/main/if_else.png\" alt=\"drawing\"/>"
      ],
      "metadata": {
        "id": "_Xh_pwEI3Jvx"
      },
      "id": "_Xh_pwEI3Jvx"
    },
    {
      "cell_type": "markdown",
      "source": [
        "Давайте напишем программу, которая будет просить пользователя ввести целое число, и если это число менее 10, на экран будет выводиться сообщение \"Мало\", иначе – \"Много\". И заодно познакомимся с конструкцией *if-else*."
      ],
      "metadata": {
        "id": "kb2ds2943pom"
      },
      "id": "kb2ds2943pom"
    },
    {
      "cell_type": "code",
      "source": [
        "x = int(input(\"Введите число: \"))\n",
        "\n",
        "if x < 10:\n",
        "    print('Меньше 10')\n",
        "else:\n",
        "    print(\"Много\")"
      ],
      "metadata": {
        "id": "0XI_lp943ozm",
        "colab": {
          "base_uri": "https://localhost:8080/"
        },
        "outputId": "3ac55cf3-1802-40b9-98fe-8092bc2bf059"
      },
      "id": "0XI_lp943ozm",
      "execution_count": null,
      "outputs": [
        {
          "output_type": "stream",
          "name": "stdout",
          "text": [
            "Введите число: 6\n",
            "Меньше 10\n"
          ]
        }
      ]
    },
    {
      "cell_type": "markdown",
      "source": [
        "Давайте напишем код, который будет выдавать комментарий к оценке в 10-балльной шкале: оценка выше 7 – «отлично», выше 5 и ниже 8 – «хорошо», выше 3 и ниже 6 – «удовлетворительно», ниже 4 – «плохо»."
      ],
      "metadata": {
        "id": "IWtv3-FU4BFH"
      },
      "id": "IWtv3-FU4BFH"
    },
    {
      "cell_type": "code",
      "source": [
        "grade = 2\n",
        "if grade > 7:\n",
        "    print(\"Отлично\")\n",
        "elif grade > 5:\n",
        "    print(\"Хорошо\")\n",
        "elif grade > 3:\n",
        "    print(\"Удовлетворительно\")\n",
        "else:\n",
        "    print(\"Плохо\")"
      ],
      "metadata": {
        "id": "nAealpkK4AYT",
        "colab": {
          "base_uri": "https://localhost:8080/"
        },
        "outputId": "59a6a1c1-b492-4677-9da8-fb4d9b1d5ca6"
      },
      "id": "nAealpkK4AYT",
      "execution_count": null,
      "outputs": [
        {
          "output_type": "stream",
          "name": "stdout",
          "text": [
            "Плохо\n"
          ]
        }
      ]
    },
    {
      "cell_type": "markdown",
      "source": [
        "### Задача. Распродажа\n",
        "\n",
        "В магазине проходит акция:\n",
        "\n",
        "* На все товары дешевле 1000 рублей скидка 15%\n",
        "* На все товары дороже 1000, но дешевле 5000 рублей скидка 20%\n",
        "* На все товары дороже 5000 рублей скидка 25%\n",
        "\n",
        "Ввод\n",
        "Целое неотрицательное число - цена товара в рублях\n",
        "\n",
        "Вывод\n",
        "Целое неотрицательное число - скидка на товар в рублях"
      ],
      "metadata": {
        "id": "1lPLxNLA4cKc"
      },
      "id": "1lPLxNLA4cKc"
    },
    {
      "cell_type": "code",
      "source": [
        "# ваш код\n"
      ],
      "metadata": {
        "id": "s8AlyA204Zqy",
        "colab": {
          "base_uri": "https://localhost:8080/"
        },
        "outputId": "1a9aa59e-e55a-4961-a293-783159990400"
      },
      "id": "s8AlyA204Zqy",
      "execution_count": null,
      "outputs": [
        {
          "output_type": "stream",
          "name": "stdout",
          "text": [
            "Цена товара:1000\n",
            "200.0\n"
          ]
        }
      ]
    },
    {
      "cell_type": "markdown",
      "id": "b4a7f824",
      "metadata": {
        "id": "b4a7f824"
      },
      "source": [
        "## Цикл while"
      ]
    },
    {
      "cell_type": "markdown",
      "id": "9220fb0b",
      "metadata": {
        "id": "9220fb0b"
      },
      "source": [
        "Выведите числа от 0 до 999999999999 без использования циклов."
      ]
    },
    {
      "cell_type": "markdown",
      "id": "748560ed",
      "metadata": {
        "id": "748560ed"
      },
      "source": [
        "Через 3 часа ручного прописывания чисел вам покажется, что вы могли бы провести ваше время куда увлекательнее и интереснее. А если число повторов вывода еще и неизвестно (например, вычисляется в процессе работы программы или вводится пользователем), то задача становится нерешаемой. Поэтому в языках программирования для повторения каких-то одинаковых операций были созданы циклы."
      ]
    },
    {
      "cell_type": "markdown",
      "id": "7e7948f1",
      "metadata": {
        "id": "7e7948f1"
      },
      "source": [
        "Их существует два типа. Цикл while и цикл for. В целом можно обойтись и циклом while, но в питоне их задачи достаточно легко могут быть разделены. Для начала рассмотрим цикл while. Цикл while служит для выполнения любых повторяющихся операций до тех пор, пока верно условие."
      ]
    },
    {
      "cell_type": "code",
      "execution_count": null,
      "id": "9fbc861a",
      "metadata": {
        "id": "9fbc861a",
        "outputId": "fa61bb1f-3fca-4b3b-957c-9a80b2ce3151",
        "colab": {
          "base_uri": "https://localhost:8080/"
        }
      },
      "outputs": [
        {
          "output_type": "stream",
          "name": "stdout",
          "text": [
            "0\n",
            "0 1 2 3 "
          ]
        }
      ],
      "source": [
        "\"\"\"\n",
        "0 1 2 3\n",
        "\"\"\"\n"
      ]
    },
    {
      "cell_type": "markdown",
      "id": "b52573db",
      "metadata": {
        "id": "b52573db"
      },
      "source": [
        "Для создания бесконечных циклов просто используем слово True, так как True всегда будет True, то цикл будет выполняться до тех пор, пока его не прервать изнутри (как - увидим далее), либо закрыть программу:"
      ]
    },
    {
      "cell_type": "code",
      "execution_count": null,
      "id": "7da0827a",
      "metadata": {
        "id": "7da0827a",
        "outputId": "3f32487b-5b5f-4efb-e41a-a1b1e5be73c5",
        "colab": {
          "base_uri": "https://localhost:8080/"
        }
      },
      "outputs": [
        {
          "output_type": "stream",
          "name": "stdout",
          "text": [
            "1 1 1 1 1 1 1 1 1 1 "
          ]
        }
      ],
      "source": [
        "\"\"\"\n",
        "1 1 1 1 1 1....\n",
        "\"\"\"\n",
        "c = 0 # counter\n",
        "while True:\n",
        "    print(1, end=' ')\n",
        "    c += 1\n",
        "    if c == 10:\n",
        "        break"
      ]
    },
    {
      "cell_type": "markdown",
      "id": "fbbfb9ee",
      "metadata": {
        "id": "fbbfb9ee"
      },
      "source": [
        "Прервать выполнение цикла изнутри можно при помощи ключевого слова `break`"
      ]
    },
    {
      "cell_type": "code",
      "execution_count": null,
      "id": "0a22e294",
      "metadata": {
        "id": "0a22e294",
        "outputId": "1a1bd23b-2fbb-41ac-c073-c03e0ca33b4a"
      },
      "outputs": [
        {
          "name": "stdout",
          "output_type": "stream",
          "text": [
            "0 1 2 3 "
          ]
        }
      ],
      "source": [
        "\"\"\"\n",
        "0 1 2 3\n",
        "\"\"\"\n",
        "i = 0\n",
        "while True:\n",
        "    print(i, end=' ')\n",
        "    i += 1\n",
        "    if i == 4:\n",
        "        break"
      ]
    },
    {
      "cell_type": "markdown",
      "id": "4a43000f",
      "metadata": {
        "id": "4a43000f"
      },
      "source": [
        "Если же нам необходимо изнутри пропустить какие-либо итерации (буквально - встретили ключевое слово, решили, что итерация цикла завершения и нужно переходить к следующей), то используется ключевое слово `continue`"
      ]
    },
    {
      "cell_type": "code",
      "execution_count": null,
      "id": "36ae8adb",
      "metadata": {
        "id": "36ae8adb",
        "outputId": "4437c967-dfd4-46bf-fea3-498a7a44a909"
      },
      "outputs": [
        {
          "name": "stdout",
          "output_type": "stream",
          "text": [
            "1 2 3 4 5 6 7 8 9 10 "
          ]
        }
      ],
      "source": [
        "\"\"\"\n",
        "1 2 3 4 6 7 8 9 10...\n",
        "\"\"\"\n",
        "i = 1\n",
        "while i <= 10:\n",
        "    print(i, end=' ')\n",
        "    i += 1\n",
        "    if i == 5:\n",
        "        continue"
      ]
    },
    {
      "cell_type": "markdown",
      "source": [
        "## Задача. Степени числа 2\n",
        "Используя цикл while, выведите на экран для числа 2 его степени от 0 до 10."
      ],
      "metadata": {
        "id": "yn9-uCRKXTZC"
      },
      "id": "yn9-uCRKXTZC"
    },
    {
      "cell_type": "code",
      "source": [
        "# ваш код\n"
      ],
      "metadata": {
        "id": "a335Riw0XThD",
        "colab": {
          "base_uri": "https://localhost:8080/"
        },
        "outputId": "e0c094b3-8efb-4643-86cf-212a076ec24b"
      },
      "id": "a335Riw0XThD",
      "execution_count": null,
      "outputs": [
        {
          "output_type": "stream",
          "name": "stdout",
          "text": [
            "1 2 4 8 16 32 64 128 256 512 1024 "
          ]
        }
      ]
    },
    {
      "cell_type": "markdown",
      "id": "dfc07e4a",
      "metadata": {
        "id": "dfc07e4a"
      },
      "source": [
        "## Введение в структурированные типы данных и цикл for"
      ]
    },
    {
      "cell_type": "markdown",
      "id": "268bb3a6",
      "metadata": {
        "id": "268bb3a6"
      },
      "source": [
        "Циклу for отведена роль перебора всего того, что можно перебрать - буквы в строке, значения в списке, итерации в генераторе (втф? Магическая штука, которую можно перебирать, можно создать свой собственный тип данных, которых будет вести себя как, например, список)"
      ]
    },
    {
      "cell_type": "markdown",
      "id": "64b22b4b",
      "metadata": {
        "id": "64b22b4b"
      },
      "source": [
        "Все перебираемые объекты на техническом языке зовутся iterable. Вот для них цикл for и нужен"
      ]
    },
    {
      "cell_type": "markdown",
      "id": "ebbad421",
      "metadata": {
        "id": "ebbad421"
      },
      "source": [
        "Перед тем, как мы будем что-то перебирать, давайте сначала изучим то, что можно перебирать. Начнем почти с самоиспользуемой перебираемой структуры данных - со списков"
      ]
    },
    {
      "cell_type": "code",
      "execution_count": null,
      "id": "3c417090",
      "metadata": {
        "id": "3c417090",
        "colab": {
          "base_uri": "https://localhost:8080/"
        },
        "outputId": "ed17e4a1-448a-4851-851c-fab18e099743"
      },
      "outputs": [
        {
          "output_type": "stream",
          "name": "stdout",
          "text": [
            "[1, 2, 4]\n"
          ]
        }
      ],
      "source": [
        "lst = [] # список\n",
        "lst.append(1)  # [1] метод -- функция, реализованная для конкретного объекта\n",
        "lst.append(2)  # [1, 2]\n",
        "lst.append(4)  # [1, 2, 4]\n",
        "\n",
        "print(lst)"
      ]
    },
    {
      "cell_type": "markdown",
      "id": "756d5452",
      "metadata": {
        "id": "756d5452"
      },
      "source": [
        "К элементам списка обращаться так"
      ]
    },
    {
      "cell_type": "code",
      "source": [
        "'hello'[1]"
      ],
      "metadata": {
        "colab": {
          "base_uri": "https://localhost:8080/",
          "height": 36
        },
        "id": "epYvG5sYr1HH",
        "outputId": "988aaacf-2917-48df-c3f6-fbb466876394"
      },
      "id": "epYvG5sYr1HH",
      "execution_count": null,
      "outputs": [
        {
          "output_type": "execute_result",
          "data": {
            "text/plain": [
              "'e'"
            ],
            "application/vnd.google.colaboratory.intrinsic+json": {
              "type": "string"
            }
          },
          "metadata": {},
          "execution_count": 36
        }
      ]
    },
    {
      "cell_type": "code",
      "execution_count": null,
      "id": "c8bf2b9a",
      "metadata": {
        "id": "c8bf2b9a",
        "outputId": "0f149ced-27cd-44d7-e34c-1238a1cc7e1e",
        "colab": {
          "base_uri": "https://localhost:8080/"
        }
      },
      "outputs": [
        {
          "output_type": "execute_result",
          "data": {
            "text/plain": [
              "2"
            ]
          },
          "metadata": {},
          "execution_count": 37
        }
      ],
      "source": [
        "lst[1]  # 1"
      ]
    },
    {
      "cell_type": "markdown",
      "id": "4d913fbb",
      "metadata": {
        "id": "4d913fbb"
      },
      "source": [
        "Или так (с конца считаем с единицы, 0 с минусом вы никак не запишете, поэтому с единицы, лучше так, чем никак)"
      ]
    },
    {
      "cell_type": "code",
      "execution_count": null,
      "id": "ad5354e5",
      "metadata": {
        "id": "ad5354e5",
        "outputId": "45ce7319-4c77-437a-9ec0-3a8813015d2f",
        "colab": {
          "base_uri": "https://localhost:8080/"
        }
      },
      "outputs": [
        {
          "output_type": "execute_result",
          "data": {
            "text/plain": [
              "4"
            ]
          },
          "metadata": {},
          "execution_count": 38
        }
      ],
      "source": [
        "lst[-1]  # 4"
      ]
    },
    {
      "cell_type": "markdown",
      "id": "20645583",
      "metadata": {
        "id": "20645583"
      },
      "source": [
        "Можно брать срезы списка, выделяя диапазон значений, которые нам нужны"
      ]
    },
    {
      "cell_type": "code",
      "execution_count": null,
      "id": "c8d728c7",
      "metadata": {
        "id": "c8d728c7",
        "outputId": "2d7ee87e-fa26-4e80-dbf3-6bb8bc99c709",
        "colab": {
          "base_uri": "https://localhost:8080/"
        }
      },
      "outputs": [
        {
          "output_type": "execute_result",
          "data": {
            "text/plain": [
              "[4]"
            ]
          },
          "metadata": {},
          "execution_count": 41
        }
      ],
      "source": [
        "lst[2:]  # [1, 2] slice"
      ]
    },
    {
      "cell_type": "markdown",
      "id": "164448b5",
      "metadata": {
        "id": "164448b5"
      },
      "source": [
        "Так же можно получать каждый Nй элемент (0й элемент включается всегда)"
      ]
    },
    {
      "cell_type": "code",
      "execution_count": null,
      "id": "5fe86bab",
      "metadata": {
        "id": "5fe86bab",
        "outputId": "1e608e66-84f8-43c4-d89c-91b4013a8a5b",
        "colab": {
          "base_uri": "https://localhost:8080/"
        }
      },
      "outputs": [
        {
          "output_type": "execute_result",
          "data": {
            "text/plain": [
              "[1, 4]"
            ]
          },
          "metadata": {},
          "execution_count": 42
        }
      ],
      "source": [
        "lst[::2]  # [1, 4]"
      ]
    },
    {
      "cell_type": "markdown",
      "id": "9a1514df",
      "metadata": {
        "id": "9a1514df"
      },
      "source": [
        "Тоже можно идти с конца"
      ]
    },
    {
      "cell_type": "code",
      "execution_count": null,
      "id": "2d2e03a2",
      "metadata": {
        "id": "2d2e03a2",
        "outputId": "6c8080b0-8213-4874-cea7-929600984255",
        "colab": {
          "base_uri": "https://localhost:8080/"
        }
      },
      "outputs": [
        {
          "output_type": "execute_result",
          "data": {
            "text/plain": [
              "[4, 1]"
            ]
          },
          "metadata": {},
          "execution_count": 43
        }
      ],
      "source": [
        "lst[::-2]  # [4, 1]"
      ]
    },
    {
      "cell_type": "markdown",
      "id": "d266c760",
      "metadata": {
        "id": "d266c760"
      },
      "source": [
        "Но обычно с помощью этой фичи разворачивают список"
      ]
    },
    {
      "cell_type": "code",
      "execution_count": null,
      "id": "878051d7",
      "metadata": {
        "id": "878051d7",
        "outputId": "652b348b-4570-4fee-9846-2bc189aa46ca",
        "colab": {
          "base_uri": "https://localhost:8080/"
        }
      },
      "outputs": [
        {
          "output_type": "execute_result",
          "data": {
            "text/plain": [
              "[4, 2, 1]"
            ]
          },
          "metadata": {},
          "execution_count": 44
        }
      ],
      "source": [
        "lst[::-1]  # [4, 2, 1]"
      ]
    },
    {
      "cell_type": "code",
      "source": [
        "lst.reverse()\n",
        "print(lst)"
      ],
      "metadata": {
        "colab": {
          "base_uri": "https://localhost:8080/"
        },
        "id": "j85inS-esxUJ",
        "outputId": "57e59846-effe-4c88-8acd-7bc94b22e9cc"
      },
      "id": "j85inS-esxUJ",
      "execution_count": null,
      "outputs": [
        {
          "output_type": "stream",
          "name": "stdout",
          "text": [
            "[4, 2, 1]\n"
          ]
        }
      ]
    },
    {
      "cell_type": "markdown",
      "id": "7b156cac",
      "metadata": {
        "id": "7b156cac"
      },
      "source": [
        "Не стоит ломать себе мозги и пытаться с помощью комбинации всех индексов пытаться чего-либо достичь, индексы всегда можно скомбинировать:"
      ]
    },
    {
      "cell_type": "code",
      "execution_count": null,
      "id": "ee214814",
      "metadata": {
        "id": "ee214814",
        "outputId": "8dd81146-e3f7-4cb1-bf9b-71e3ee602e1c"
      },
      "outputs": [
        {
          "data": {
            "text/plain": [
              "[2, 1]"
            ]
          },
          "execution_count": 43,
          "metadata": {},
          "output_type": "execute_result"
        }
      ],
      "source": [
        "lst[::-1][1:]"
      ]
    },
    {
      "cell_type": "markdown",
      "id": "2b04fd15",
      "metadata": {
        "id": "2b04fd15"
      },
      "source": [
        "Удаление элементов из списка происходит так. Учтите, что удалять элементы **не** с конца списка дорого, так как питону придется пересчитывать все индексы (а если их слишком много, то это будет очень долго)"
      ]
    },
    {
      "cell_type": "code",
      "execution_count": null,
      "id": "81ba8829",
      "metadata": {
        "id": "81ba8829"
      },
      "outputs": [],
      "source": [
        "del lst[0]  # [2, 4]\n",
        "lst.remove(2)  # [4]"
      ]
    },
    {
      "cell_type": "code",
      "source": [
        "lst"
      ],
      "metadata": {
        "colab": {
          "base_uri": "https://localhost:8080/"
        },
        "id": "UeOWgfPutBMy",
        "outputId": "94da20d3-eb15-4d93-863d-fc40d34fd06e"
      },
      "id": "UeOWgfPutBMy",
      "execution_count": null,
      "outputs": [
        {
          "output_type": "execute_result",
          "data": {
            "text/plain": [
              "[1]"
            ]
          },
          "metadata": {},
          "execution_count": 47
        }
      ]
    },
    {
      "cell_type": "code",
      "source": [
        "products = ['apple', 'milk']\n",
        "products2 = ('orange', 'bread')\n",
        "products[0] = 'banana'\n",
        "print(products)"
      ],
      "metadata": {
        "colab": {
          "base_uri": "https://localhost:8080/"
        },
        "id": "p57-UC0otMM-",
        "outputId": "134163fc-765c-41c5-e17b-6e1e020df27d"
      },
      "id": "p57-UC0otMM-",
      "execution_count": null,
      "outputs": [
        {
          "output_type": "stream",
          "name": "stdout",
          "text": [
            "['banana', 'milk']\n"
          ]
        }
      ]
    },
    {
      "cell_type": "code",
      "source": [
        "products2[0] = 'water'"
      ],
      "metadata": {
        "colab": {
          "base_uri": "https://localhost:8080/",
          "height": 147
        },
        "id": "xgrEGMdPtVVT",
        "outputId": "736bb3b9-5c34-470b-fd46-801a738eeff5"
      },
      "id": "xgrEGMdPtVVT",
      "execution_count": null,
      "outputs": [
        {
          "output_type": "error",
          "ename": "TypeError",
          "evalue": "'tuple' object does not support item assignment",
          "traceback": [
            "\u001b[0;31m---------------------------------------------------------------------------\u001b[0m",
            "\u001b[0;31mTypeError\u001b[0m                                 Traceback (most recent call last)",
            "\u001b[0;32m<ipython-input-49-b8af2216793f>\u001b[0m in \u001b[0;36m<cell line: 1>\u001b[0;34m()\u001b[0m\n\u001b[0;32m----> 1\u001b[0;31m \u001b[0mproducts2\u001b[0m\u001b[0;34m[\u001b[0m\u001b[0;36m0\u001b[0m\u001b[0;34m]\u001b[0m \u001b[0;34m=\u001b[0m \u001b[0;34m'water'\u001b[0m\u001b[0;34m\u001b[0m\u001b[0;34m\u001b[0m\u001b[0m\n\u001b[0m",
            "\u001b[0;31mTypeError\u001b[0m: 'tuple' object does not support item assignment"
          ]
        }
      ]
    },
    {
      "cell_type": "markdown",
      "id": "0411e78b",
      "metadata": {
        "id": "0411e78b"
      },
      "source": [
        "Рассмотрим еще один тип данных, который очень похож на список - кортеж (tuple)."
      ]
    },
    {
      "cell_type": "markdown",
      "id": "7f583bbf",
      "metadata": {
        "id": "7f583bbf"
      },
      "source": [
        "В чем его отличия? Во-первых, кортеж нельзя изменять (нельзя удалять элементы из него и добавлять новые)."
      ]
    },
    {
      "cell_type": "markdown",
      "id": "45450128",
      "metadata": {
        "id": "45450128"
      },
      "source": [
        "Зачем оно нужно и почему нельзя обойтись только списками, спросите вы?"
      ]
    },
    {
      "cell_type": "markdown",
      "id": "0271e5fc",
      "metadata": {
        "id": "0271e5fc"
      },
      "source": [
        "Неизменяемость кортежа позволяет питону считать его цельным значением (почти как число), а значит, его можно использовать в качестве ключей словарей (увидим далее)."
      ]
    },
    {
      "cell_type": "markdown",
      "id": "93715e25",
      "metadata": {
        "id": "93715e25"
      },
      "source": [
        "Так как кортежи почти как числа, то их можно объединять в множества, так как их можно быстро сравнивать и можно быть увереным, что их значение всегда будет неизменным."
      ]
    },
    {
      "cell_type": "markdown",
      "id": "cbc831dc",
      "metadata": {
        "id": "cbc831dc"
      },
      "source": [
        "Кроме того, так как значение кортежа неизменно, не нужно хранить в памяти компьютера триллион одинаковых кортежей (так же как и не нужно хранить в памяти триллион разных цифр 3), поэтому любой одинаковый кортеж является той же самой сущностью."
      ]
    },
    {
      "cell_type": "code",
      "execution_count": null,
      "id": "a7970e1d",
      "metadata": {
        "id": "a7970e1d",
        "outputId": "4b0f547e-9b73-4928-ce86-7506afeebfcd",
        "colab": {
          "base_uri": "https://localhost:8080/"
        }
      },
      "outputs": [
        {
          "output_type": "execute_result",
          "data": {
            "text/plain": [
              "2"
            ]
          },
          "metadata": {},
          "execution_count": 50
        }
      ],
      "source": [
        "tpl = (1, 2, 3)  # hashable, можно как ключ для словарей и в множествах\n",
        "tpl[1]  # 2"
      ]
    },
    {
      "cell_type": "markdown",
      "id": "694dc3e7",
      "metadata": {
        "id": "694dc3e7"
      },
      "source": [
        "Для списков и кортежей доступна операция распаковки. Иными словами, если кортеж или список содержит N значений, то их можно одновременно  соответственно присвоить нескольким переменным сразу"
      ]
    },
    {
      "cell_type": "code",
      "execution_count": null,
      "id": "36b8d56e",
      "metadata": {
        "id": "36b8d56e"
      },
      "outputs": [],
      "source": [
        "tpl = (1, 2, 3)\n",
        "a, b, c = tpl\n",
        "a, b, c = (1, 2, 3)"
      ]
    },
    {
      "cell_type": "code",
      "source": [
        "a"
      ],
      "metadata": {
        "colab": {
          "base_uri": "https://localhost:8080/"
        },
        "id": "Sm-MWUtktsA4",
        "outputId": "149bbb00-23fc-4989-c935-95d556bd5277"
      },
      "id": "Sm-MWUtktsA4",
      "execution_count": null,
      "outputs": [
        {
          "output_type": "execute_result",
          "data": {
            "text/plain": [
              "1"
            ]
          },
          "metadata": {},
          "execution_count": 53
        }
      ]
    },
    {
      "cell_type": "markdown",
      "id": "3b8966e1",
      "metadata": {
        "id": "3b8966e1"
      },
      "source": [
        "Перечисление значений через запятую - тоже обычный кортеж"
      ]
    },
    {
      "cell_type": "code",
      "execution_count": null,
      "id": "312332c0",
      "metadata": {
        "id": "312332c0"
      },
      "outputs": [],
      "source": [
        "a, b, c = 1, 2, 3"
      ]
    },
    {
      "cell_type": "markdown",
      "id": "05939b02",
      "metadata": {
        "id": "05939b02"
      },
      "source": [
        "Побочный эффект этого в том, что мы можем быстро обменивать значения двух переменных"
      ]
    },
    {
      "cell_type": "code",
      "execution_count": null,
      "id": "1a8a7b90",
      "metadata": {
        "id": "1a8a7b90"
      },
      "outputs": [],
      "source": [
        "a, b = b, c"
      ]
    },
    {
      "cell_type": "markdown",
      "id": "33f42699",
      "metadata": {
        "id": "33f42699"
      },
      "source": [
        "Наконец, для списков и кортежей доступен оператор in. Этот оператор позволяет проверить наличие элемента в списке или кортеже"
      ]
    },
    {
      "cell_type": "code",
      "execution_count": null,
      "id": "fd9daa07",
      "metadata": {
        "id": "fd9daa07",
        "outputId": "3ce5d161-9d74-4782-fadb-f2ccf0d90da3",
        "colab": {
          "base_uri": "https://localhost:8080/"
        }
      },
      "outputs": [
        {
          "output_type": "execute_result",
          "data": {
            "text/plain": [
              "False"
            ]
          },
          "metadata": {},
          "execution_count": 56
        }
      ],
      "source": [
        "4 in lst  # True\n",
        "2 not in tpl  # True"
      ]
    },
    {
      "cell_type": "markdown",
      "id": "3aa0c667",
      "metadata": {
        "id": "3aa0c667"
      },
      "source": [
        "Теперь посмотрим как можно перебирать значения в списках и кортежах"
      ]
    },
    {
      "cell_type": "markdown",
      "id": "e97b062f",
      "metadata": {
        "id": "e97b062f"
      },
      "source": [
        "Перебор значений происходит при помощи конструкции `for in` (обратите внимание, что in в данном случае не имеет ничего общего с оператором `in` выше)"
      ]
    },
    {
      "cell_type": "markdown",
      "id": "7ba26204",
      "metadata": {
        "id": "7ba26204"
      },
      "source": [
        "Перебор значений осуществляется достаточно очевидно. После for пишем название переменной, в которую будет присваиваться значение перебираемого объекта на данном этапе"
      ]
    },
    {
      "cell_type": "code",
      "execution_count": null,
      "id": "4dcd1f05",
      "metadata": {
        "id": "4dcd1f05",
        "outputId": "0b20fe67-42ac-4d05-a39c-db79d6fb0454",
        "colab": {
          "base_uri": "https://localhost:8080/"
        }
      },
      "outputs": [
        {
          "output_type": "stream",
          "name": "stdout",
          "text": [
            "dollar is a currency, euro is a currency, ruble is a currency, "
          ]
        }
      ],
      "source": [
        "\"\"\"\n",
        "dollar is a currency, euro is a currency, ruble is a currency,\n",
        "\"\"\"\n",
        "for currency in ['dollar', 'euro', 'ruble']:\n",
        "    print(f'{currency} is a currency', end=', ')"
      ]
    },
    {
      "cell_type": "markdown",
      "id": "17ad67df",
      "metadata": {
        "id": "17ad67df"
      },
      "source": [
        "Наверняка вы видели, что цикл for позволяет перебирать числа из промежутка"
      ]
    },
    {
      "cell_type": "markdown",
      "id": "767e6091",
      "metadata": {
        "id": "767e6091"
      },
      "source": [
        "Механизм работы ничем не отличается от случая выше. Дело в том, что для перебора чисел существует функция `range`, которая возвращает перебираемый объект (по своей сути такой же равноправный объект как список и кортеж). Вот его то цикл и будет перебирать"
      ]
    },
    {
      "cell_type": "code",
      "execution_count": null,
      "id": "6f957104",
      "metadata": {
        "id": "6f957104",
        "outputId": "8d2a16c9-6661-4644-b8e0-a8c2d9bd2326",
        "colab": {
          "base_uri": "https://localhost:8080/"
        }
      },
      "outputs": [
        {
          "output_type": "execute_result",
          "data": {
            "text/plain": [
              "False"
            ]
          },
          "metadata": {},
          "execution_count": 64
        }
      ],
      "source": [
        "r = range(2, 10, 3)\n",
        "2 in r  # True\n",
        "1 in r  # False"
      ]
    },
    {
      "cell_type": "code",
      "execution_count": null,
      "id": "4c7db60c",
      "metadata": {
        "id": "4c7db60c",
        "outputId": "a4a5ef4a-20b2-4c9f-f2ae-9bf599fd9283",
        "colab": {
          "base_uri": "https://localhost:8080/"
        }
      },
      "outputs": [
        {
          "output_type": "stream",
          "name": "stdout",
          "text": [
            "2 5 8 "
          ]
        }
      ],
      "source": [
        "\"\"\"\n",
        "0 2 4 6 8\n",
        "\"\"\"\n",
        "for i in r:\n",
        "    print(i, end=' ')"
      ]
    },
    {
      "cell_type": "markdown",
      "id": "c0b981f2",
      "metadata": {
        "id": "c0b981f2"
      },
      "source": [
        "## Вложенные циклы"
      ]
    },
    {
      "cell_type": "markdown",
      "id": "3d53d42a",
      "metadata": {
        "id": "3d53d42a"
      },
      "source": [
        "Циклы можно вкладывать друг в друга, например так:"
      ]
    },
    {
      "cell_type": "code",
      "execution_count": null,
      "id": "eda599eb",
      "metadata": {
        "id": "eda599eb",
        "outputId": "c4e971ea-9657-4aff-ef82-bc1828152653",
        "colab": {
          "base_uri": "https://localhost:8080/"
        }
      },
      "outputs": [
        {
          "output_type": "stream",
          "name": "stdout",
          "text": [
            "##########\n",
            "#########\n",
            "########\n",
            "#######\n",
            "######\n",
            "#####\n",
            "####\n",
            "###\n",
            "##\n",
            "#\n"
          ]
        }
      ],
      "source": [
        "\"\"\"\n",
        "##########\n",
        "#########\n",
        "########\n",
        "#######\n",
        "######\n",
        "#####\n",
        "####\n",
        "###\n",
        "##\n",
        "#\n",
        "\"\"\"\n",
        "\n",
        "for i in range(0, 10):\n",
        "    for j in range(i, 10):\n",
        "        print('#', end='')\n",
        "    print('')"
      ]
    },
    {
      "cell_type": "markdown",
      "source": [
        "## Задача. Наименьший положительный элемент\n",
        "\n",
        "Выведите значение наименьшего из всех положительных элементов в списке. Известно, что в списке есть хотя бы один положительный элемент, а значения всех элементов списка по модулю не превосходят 1000.\n",
        "\n",
        "**Формат ввода**\n",
        "\n",
        "Вводится список чисел. Все числа списка находятся на одной строке.\n",
        "\n",
        "**Формат вывода**\n",
        "\n",
        "Выведите ответ на задачу.\n",
        "\n",
        "**Пример 1**\n",
        "\n",
        "**Ввод**\n",
        "\n",
        "5 -4 3 -2 1\n",
        "\n",
        "**Вывод**\n",
        "\n",
        "1\n",
        "\n",
        "**Пример 2**\n",
        "\n",
        "**Ввод**\n",
        "\n",
        "10 5 0 -5 -10\n",
        "\n",
        "**Вывод**\n",
        "\n",
        "5\n",
        "\n",
        "**Пример 3**\n",
        "\n",
        "**Ввод**\n",
        "\n",
        "-1 -2 -3 -4 100\n",
        "\n",
        "**Вывод**\n",
        "\n",
        "100"
      ],
      "metadata": {
        "id": "2IKutKRLZ2MW"
      },
      "id": "2IKutKRLZ2MW"
    },
    {
      "cell_type": "code",
      "source": [
        "# ваш код\n"
      ],
      "metadata": {
        "id": "iDbsmdc2Z2Uk",
        "colab": {
          "base_uri": "https://localhost:8080/"
        },
        "outputId": "4ec0e20e-e754-487c-d020-ef6fc02591ea"
      },
      "id": "iDbsmdc2Z2Uk",
      "execution_count": null,
      "outputs": [
        {
          "output_type": "stream",
          "name": "stdout",
          "text": [
            "10 5 0 -5 -10\n",
            "5\n"
          ]
        }
      ]
    },
    {
      "cell_type": "markdown",
      "id": "b89b8cd9",
      "metadata": {
        "id": "b89b8cd9"
      },
      "source": [
        "## Методы"
      ]
    },
    {
      "cell_type": "markdown",
      "id": "cf305be4",
      "metadata": {
        "id": "cf305be4"
      },
      "source": [
        "Функции, которые вызываются через какой-то объект (например, [1, 2, 3].append(1)), называются методами. Они могут выполнять самые разные вещи, чтобы понять, что именно стоит смотреть в документации к питону. Если в документации найти что-либо тяжело, то ищем нужный метод средствами гугла"
      ]
    },
    {
      "cell_type": "markdown",
      "id": "b6018673",
      "metadata": {
        "id": "b6018673"
      },
      "source": [
        "Документация по методам для списков:"
      ]
    },
    {
      "cell_type": "markdown",
      "id": "69485019",
      "metadata": {
        "id": "69485019"
      },
      "source": [
        "[5. Data Structures — Python 3.10.4 documentation](https://docs.python.org/3/tutorial/datastructures.html)"
      ]
    },
    {
      "cell_type": "code",
      "execution_count": null,
      "id": "687683fa",
      "metadata": {
        "id": "687683fa",
        "outputId": "9a541546-52cf-4aba-9557-169782467949",
        "colab": {
          "base_uri": "https://localhost:8080/"
        }
      },
      "outputs": [
        {
          "output_type": "execute_result",
          "data": {
            "text/plain": [
              "4"
            ]
          },
          "metadata": {},
          "execution_count": 70
        }
      ],
      "source": [
        "a = [1, 2, 3, 4]\n",
        "a.pop()  # 4"
      ]
    },
    {
      "cell_type": "code",
      "source": [
        "a"
      ],
      "metadata": {
        "colab": {
          "base_uri": "https://localhost:8080/"
        },
        "id": "QjVgGYd9w1Fu",
        "outputId": "04bcc47a-18de-49f7-f37e-19b6e8c59a33"
      },
      "id": "QjVgGYd9w1Fu",
      "execution_count": null,
      "outputs": [
        {
          "output_type": "execute_result",
          "data": {
            "text/plain": [
              "[1, 2, 3]"
            ]
          },
          "metadata": {},
          "execution_count": 71
        }
      ]
    },
    {
      "cell_type": "code",
      "source": [
        "a = [1, 2, 3, 4]\n",
        "a.clear()\n",
        "a  # []"
      ],
      "metadata": {
        "colab": {
          "base_uri": "https://localhost:8080/"
        },
        "id": "vlaGzCJHw4DN",
        "outputId": "c64a4d3f-d010-4d2c-9453-15809cc65280"
      },
      "id": "vlaGzCJHw4DN",
      "execution_count": null,
      "outputs": [
        {
          "output_type": "execute_result",
          "data": {
            "text/plain": [
              "[]"
            ]
          },
          "metadata": {},
          "execution_count": 72
        }
      ]
    },
    {
      "cell_type": "code",
      "source": [
        "a = [1, 2, 3, 1]\n",
        "a.remove(1)\n",
        "a"
      ],
      "metadata": {
        "colab": {
          "base_uri": "https://localhost:8080/"
        },
        "id": "7hA8bZBLw6xi",
        "outputId": "ad9d44d6-ab49-4c95-f508-81070673f827"
      },
      "id": "7hA8bZBLw6xi",
      "execution_count": null,
      "outputs": [
        {
          "output_type": "execute_result",
          "data": {
            "text/plain": [
              "[2, 3, 1]"
            ]
          },
          "metadata": {},
          "execution_count": 73
        }
      ]
    },
    {
      "cell_type": "code",
      "source": [
        "a.append(4)"
      ],
      "metadata": {
        "id": "s4ZEa2K8xEdD"
      },
      "id": "s4ZEa2K8xEdD",
      "execution_count": null,
      "outputs": []
    },
    {
      "cell_type": "markdown",
      "id": "32f6a67b",
      "metadata": {
        "id": "32f6a67b"
      },
      "source": [
        "Документация по методам для строк:"
      ]
    },
    {
      "cell_type": "markdown",
      "id": "7c0cc941",
      "metadata": {
        "id": "7c0cc941"
      },
      "source": [
        "[Built-in Types — Python 3.10.4 documentation](https://docs.python.org/3.10/library/stdtypes.html#text-sequence-type-str)"
      ]
    },
    {
      "cell_type": "code",
      "execution_count": null,
      "id": "399588e4",
      "metadata": {
        "id": "399588e4",
        "outputId": "12fc4d91-f520-4225-c6ac-92ac7b5e12cf",
        "colab": {
          "base_uri": "https://localhost:8080/",
          "height": 36
        }
      },
      "outputs": [
        {
          "output_type": "execute_result",
          "data": {
            "text/plain": [
              "'Smol string'"
            ],
            "application/vnd.google.colaboratory.intrinsic+json": {
              "type": "string"
            }
          },
          "metadata": {},
          "execution_count": 75
        }
      ],
      "source": [
        "str_example = 'smol string'\n",
        "str_example.capitalize()  # Smol string"
      ]
    },
    {
      "cell_type": "code",
      "source": [
        "str_example.title()"
      ],
      "metadata": {
        "colab": {
          "base_uri": "https://localhost:8080/",
          "height": 36
        },
        "id": "dEy2REhxxV8k",
        "outputId": "05ae1dc1-5766-4463-a9e0-fcf33fb160ed"
      },
      "id": "dEy2REhxxV8k",
      "execution_count": null,
      "outputs": [
        {
          "output_type": "execute_result",
          "data": {
            "text/plain": [
              "'Smol String'"
            ],
            "application/vnd.google.colaboratory.intrinsic+json": {
              "type": "string"
            }
          },
          "metadata": {},
          "execution_count": 76
        }
      ]
    },
    {
      "cell_type": "code",
      "source": [
        "str_example.isalpha() # cостоит ли только из букв"
      ],
      "metadata": {
        "colab": {
          "base_uri": "https://localhost:8080/"
        },
        "id": "kzQbYgdIxdq-",
        "outputId": "92c0fe82-a7a6-422c-9145-ba6fd461c462"
      },
      "id": "kzQbYgdIxdq-",
      "execution_count": null,
      "outputs": [
        {
          "output_type": "execute_result",
          "data": {
            "text/plain": [
              "False"
            ]
          },
          "metadata": {},
          "execution_count": 77
        }
      ]
    },
    {
      "cell_type": "code",
      "source": [
        "'123'.isdigit()"
      ],
      "metadata": {
        "colab": {
          "base_uri": "https://localhost:8080/"
        },
        "id": "_XqBwuAuxlWV",
        "outputId": "f8f05881-ed37-485e-db08-ef3010bc23e0"
      },
      "id": "_XqBwuAuxlWV",
      "execution_count": null,
      "outputs": [
        {
          "output_type": "execute_result",
          "data": {
            "text/plain": [
              "True"
            ]
          },
          "metadata": {},
          "execution_count": 78
        }
      ]
    },
    {
      "cell_type": "code",
      "source": [
        "'123abc '.isalnum()"
      ],
      "metadata": {
        "colab": {
          "base_uri": "https://localhost:8080/"
        },
        "id": "8fYLL9Jmxo8g",
        "outputId": "51bda979-f8ba-420c-b9aa-43170d23a23b"
      },
      "id": "8fYLL9Jmxo8g",
      "execution_count": null,
      "outputs": [
        {
          "output_type": "execute_result",
          "data": {
            "text/plain": [
              "False"
            ]
          },
          "metadata": {},
          "execution_count": 80
        }
      ]
    },
    {
      "cell_type": "code",
      "source": [
        "str_example.islower()"
      ],
      "metadata": {
        "colab": {
          "base_uri": "https://localhost:8080/"
        },
        "id": "cwEIRJgoxp2S",
        "outputId": "bd40e98c-78f2-4a59-f252-0359c7c33bfa"
      },
      "id": "cwEIRJgoxp2S",
      "execution_count": null,
      "outputs": [
        {
          "output_type": "execute_result",
          "data": {
            "text/plain": [
              "True"
            ]
          },
          "metadata": {},
          "execution_count": 81
        }
      ]
    },
    {
      "cell_type": "code",
      "source": [
        "str_example.upper()"
      ],
      "metadata": {
        "colab": {
          "base_uri": "https://localhost:8080/",
          "height": 36
        },
        "id": "X-JZbz7RxzZV",
        "outputId": "a654093c-6a8c-4426-a576-91fc9aa1b0df"
      },
      "id": "X-JZbz7RxzZV",
      "execution_count": null,
      "outputs": [
        {
          "output_type": "execute_result",
          "data": {
            "text/plain": [
              "'SMOL STRING'"
            ],
            "application/vnd.google.colaboratory.intrinsic+json": {
              "type": "string"
            }
          },
          "metadata": {},
          "execution_count": 82
        }
      ]
    },
    {
      "cell_type": "markdown",
      "id": "2853034a",
      "metadata": {
        "id": "2853034a"
      },
      "source": [
        "## Множества"
      ]
    },
    {
      "cell_type": "markdown",
      "id": "ef56a529",
      "metadata": {
        "id": "ef56a529"
      },
      "source": [
        "Рассмотрим множества. Это те самые множества из математики, со всеми своими операциями объединения, пересечения, сравнения множеств и т.д."
      ]
    },
    {
      "cell_type": "markdown",
      "id": "e3c68e56",
      "metadata": {
        "id": "e3c68e56"
      },
      "source": [
        "Создается множество так (обратите внимание, что одинаковые кортежи является единой сущностью и могут присутствовать в списках на равне с обычными числами). Плюс обратите внимание, что создать пустое множество пустыми фигурными скобками нельзя, так вы создадите пустой словарь:"
      ]
    },
    {
      "cell_type": "code",
      "execution_count": null,
      "id": "e8244486",
      "metadata": {
        "id": "e8244486"
      },
      "outputs": [],
      "source": [
        "empty_set = set()\n",
        "some_set = {1, 1, 2, 2, 3, 3, 4}  # {1, 2, 3, 4}\n",
        "tpl_set = {(1, 2), (2, 4), (1, 2)}  # {(1, 2), (2, 4)}\n",
        "some_set.add(5)  # {1, 2, 3, 4, 5}"
      ]
    },
    {
      "cell_type": "code",
      "source": [
        "some_set = {[1, 2]}"
      ],
      "metadata": {
        "colab": {
          "base_uri": "https://localhost:8080/",
          "height": 147
        },
        "id": "oRy3j2_23GcD",
        "outputId": "85ee549e-0a27-454c-aa0f-d05544d9b12f"
      },
      "id": "oRy3j2_23GcD",
      "execution_count": null,
      "outputs": [
        {
          "output_type": "error",
          "ename": "TypeError",
          "evalue": "unhashable type: 'list'",
          "traceback": [
            "\u001b[0;31m---------------------------------------------------------------------------\u001b[0m",
            "\u001b[0;31mTypeError\u001b[0m                                 Traceback (most recent call last)",
            "\u001b[0;32m<ipython-input-85-e79d47872632>\u001b[0m in \u001b[0;36m<cell line: 1>\u001b[0;34m()\u001b[0m\n\u001b[0;32m----> 1\u001b[0;31m \u001b[0msome_set\u001b[0m \u001b[0;34m=\u001b[0m \u001b[0;34m{\u001b[0m\u001b[0;34m[\u001b[0m\u001b[0;36m1\u001b[0m\u001b[0;34m,\u001b[0m \u001b[0;36m2\u001b[0m\u001b[0;34m]\u001b[0m\u001b[0;34m}\u001b[0m\u001b[0;34m\u001b[0m\u001b[0;34m\u001b[0m\u001b[0m\n\u001b[0m",
            "\u001b[0;31mTypeError\u001b[0m: unhashable type: 'list'"
          ]
        }
      ]
    },
    {
      "cell_type": "markdown",
      "source": [
        "Представим, что вы и ваш друг снимаете квартиру, и вы решили завести домашнее животное. Хозяева согласны, но только одно! Каждый из вас составил список животных, на которых он согласен."
      ],
      "metadata": {
        "id": "jXdh6eGpy3l4"
      },
      "id": "jXdh6eGpy3l4"
    },
    {
      "cell_type": "code",
      "source": [
        "my_pets_list = {'кошка', 'рыбка', 'шиншилла', 'ужик'}\n",
        "friend_pets_list = {'собака', 'питон', 'ужик', 'кошка', 'хамелеон'}\n",
        "\n",
        "print(f'Животные, которых хочу завести я:', *my_pets_list)\n",
        "print(f'Животные, которых хочет завести мой друг:', *friend_pets_list)"
      ],
      "metadata": {
        "id": "0OPAFlLNzCI8",
        "colab": {
          "base_uri": "https://localhost:8080/"
        },
        "outputId": "a90842aa-86eb-4e1c-916f-8c9201a9d039"
      },
      "id": "0OPAFlLNzCI8",
      "execution_count": null,
      "outputs": [
        {
          "output_type": "stream",
          "name": "stdout",
          "text": [
            "Животные, которых хочу завести я: рыбка шиншилла кошка ужик\n",
            "Животные, которых хочет завести мой друг: собака хамелеон питон кошка ужик\n"
          ]
        }
      ]
    },
    {
      "cell_type": "markdown",
      "source": [
        "Множества удобно представлять в виде диаграмм Эйлера — Венна, и мы тоже будем ими пользоваться.  \n",
        "\n",
        "<img src='https://github.com/rogovich/Data/blob/master/img/eiler_1.png?raw=true' width=\"400\">\n",
        "\n",
        "\n",
        "\n",
        "* Зеленый круг — животные, которых хотите завести вы.\n",
        "* Оранжевый круг — животные, которых хочет завести ваш друг.\n",
        "* Голубая область на пересечении кругов — животные, которых хотите завести вы оба."
      ],
      "metadata": {
        "id": "hOs7d1yNzLCo"
      },
      "id": "hOs7d1yNzLCo"
    },
    {
      "cell_type": "markdown",
      "source": [
        "## Объединение\n",
        "\n",
        "Операция *объединения* множеств A и B создает множество, содержащее все уникальные элементы входящие в оба множества.\n",
        "\n",
        "<img src='https://github.com/rogovich/Data/blob/master/img/eiler_2.png?raw=true' width=\"300\">\n",
        "\n",
        "В нашем примере объединением будет список всех животных, которых хотя бы кто-то из вас не против завести\n",
        "\n",
        "В Python объедение множеств можно получить двумя способами\n",
        "* `A | B` — с помощью оператора объединения `|` (вертикальная черта)\n",
        "* `A.union(B)` — с помощью метода множеств `.union()`, который вызывается от одного множества и берет аргументом второе.\n",
        "\n",
        "Какой бы способ вы ни использовали, для операции объединения порядок множеств не важен. Так, результат объединения `A | B` совпадёт с результатом объединения `B | A`.\n",
        "\n",
        "\n"
      ],
      "metadata": {
        "id": "QFXIIC6izR-Y"
      },
      "id": "QFXIIC6izR-Y"
    },
    {
      "cell_type": "code",
      "source": [
        "my_pets_list = {'кошка', 'рыбка', 'шиншилла', 'ужик'}\n",
        "friend_pets_list = {'собака', 'питон', 'ужик', 'кошка', 'хамелеон'}\n",
        "\n",
        "# Находим объединение с помощью оператора `|`\n",
        "print(f'Животные, которых мы не против завести: {my_pets_list | friend_pets_list}')\n",
        "\n",
        "# Находим объединение с помощью метода `.union()`\n",
        "print(f'Животные, которых мы не против завести: {my_pets_list.union(friend_pets_list)}')"
      ],
      "metadata": {
        "id": "xHgVQm5EzZah",
        "colab": {
          "base_uri": "https://localhost:8080/"
        },
        "outputId": "431392d9-69c8-47c1-8c92-8f1d9f5ac10d"
      },
      "id": "xHgVQm5EzZah",
      "execution_count": null,
      "outputs": [
        {
          "output_type": "stream",
          "name": "stdout",
          "text": [
            "Животные, которых мы не против завести: {'собака', 'хамелеон', 'кошка', 'рыбка', 'ужик', 'питон', 'шиншилла'}\n",
            "Животные, которых мы не против завести: {'собака', 'хамелеон', 'кошка', 'рыбка', 'ужик', 'питон', 'шиншилла'}\n"
          ]
        }
      ]
    },
    {
      "cell_type": "markdown",
      "source": [
        "## Пересечение\n",
        "\n",
        "Операция *пересечения* множеств A и B создает множество, содержащее только те элементы, которые одновременно входят и в A, и в B.\n",
        "\n",
        "В нашем примере пересечением будут те животные, которых одновременно хотите завести и вы, и ваш друг — голубая область на рисунке.\n",
        "\n",
        "<img src='https://github.com/rogovich/Data/blob/master/img/eiler_1.png?raw=true' width=\"300\">\n",
        "\n",
        "В Python пересечение множеств можно получить двумя способами\n",
        "* `A & B` — с помощью оператора пересечения `&` (амперсанд)\n",
        "* `A.intersection(B)` — с помощью метода множеств `.intersection()`, который вызывается от одного множества и берет аргументом второе.\n",
        "\n",
        "Как и в случае с объединением множеств, порядок множеств для операции пересечения не важен.\n"
      ],
      "metadata": {
        "id": "GnT8WUZvzdss"
      },
      "id": "GnT8WUZvzdss"
    },
    {
      "cell_type": "code",
      "source": [
        "my_pets_list = {'кошка', 'рыбка', 'шиншилла', 'ужик'}\n",
        "friend_pets_list = {'собака', 'питон', 'ужик', 'кошка', 'хамелеон'}\n",
        "\n",
        "# Находим пересечение с помощью оператора `&`\n",
        "print(f'Животные, которые нравятся нам обоим: {my_pets_list & friend_pets_list}')\n",
        "\n",
        "# Находим объединение с помощью метода `.intersection()`\n",
        "print(f'Животные, которые нравятся нам обоим: {my_pets_list.intersection(friend_pets_list)}')"
      ],
      "metadata": {
        "id": "d3cIn37rzgvz",
        "colab": {
          "base_uri": "https://localhost:8080/"
        },
        "outputId": "13dc9d85-9042-4516-99f1-c64c790fa8e9"
      },
      "id": "d3cIn37rzgvz",
      "execution_count": null,
      "outputs": [
        {
          "output_type": "stream",
          "name": "stdout",
          "text": [
            "Животные, которые нравятся нам обоим: {'ужик', 'кошка'}\n",
            "Животные, которые нравятся нам обоим: {'ужик', 'кошка'}\n"
          ]
        }
      ]
    },
    {
      "cell_type": "code",
      "source": [
        "my_pets_list[0]"
      ],
      "metadata": {
        "colab": {
          "base_uri": "https://localhost:8080/",
          "height": 147
        },
        "id": "RzoOu0Vt4t2-",
        "outputId": "e2e47ba3-5b12-4a69-a38e-3e47126a4333"
      },
      "id": "RzoOu0Vt4t2-",
      "execution_count": null,
      "outputs": [
        {
          "output_type": "error",
          "ename": "TypeError",
          "evalue": "'set' object is not subscriptable",
          "traceback": [
            "\u001b[0;31m---------------------------------------------------------------------------\u001b[0m",
            "\u001b[0;31mTypeError\u001b[0m                                 Traceback (most recent call last)",
            "\u001b[0;32m<ipython-input-89-b70d01ca1af7>\u001b[0m in \u001b[0;36m<cell line: 1>\u001b[0;34m()\u001b[0m\n\u001b[0;32m----> 1\u001b[0;31m \u001b[0mmy_pets_list\u001b[0m\u001b[0;34m[\u001b[0m\u001b[0;36m0\u001b[0m\u001b[0;34m]\u001b[0m\u001b[0;34m\u001b[0m\u001b[0;34m\u001b[0m\u001b[0m\n\u001b[0m",
            "\u001b[0;31mTypeError\u001b[0m: 'set' object is not subscriptable"
          ]
        }
      ]
    },
    {
      "cell_type": "markdown",
      "source": [
        "## Разность\n",
        "\n",
        "Операция *разности* множеств A и B создает множество, содержащее только те элементы, которые входят в A, но не входят в B (или наоборот).\n",
        "\n",
        "В нашем примере результатом разности множеств будет либо множество животных, которые нравятся вам, но не нравятся вашему другу, и наоборот.\n",
        "\n",
        "Животные, которые нравятся мне и не нравятся другу:  \n",
        "<img src='https://github.com/rogovich/Data/blob/master/img/eiler_4.png?raw=true' width=\"300\">\n",
        "\n",
        "Животные, которые нравятся другу и не нравятся мне:  \n",
        "<img src='https://github.com/rogovich/Data/blob/master/img/eiler_3.png?raw=true' width=\"300\">\n",
        "\n",
        "В Python разность множеств можно получить двумя способами\n",
        "* `A - B` — с помощью оператора `-`\n",
        "* `A.difference(B)` — с помощью метода множеств `.difference()`, который вызывается от одного множества и берет аргументом второе.\n",
        "\n",
        "**ВАЖНО!** В отличие от операций объединения и пересечения, для операции разности важен порядок элементов. Так `A - B` вернет множество только тех элементов, которые входят в A, но не входят в B. А `B - A` — наоборот.\n",
        "\n"
      ],
      "metadata": {
        "id": "uWiHvEqkzh-Y"
      },
      "id": "uWiHvEqkzh-Y"
    },
    {
      "cell_type": "code",
      "source": [
        "my_pets_list = {'кошка', 'рыбка', 'шиншилла', 'ужик'}\n",
        "friend_pets_list = {'собака', 'питон', 'ужик', 'кошка', 'хамелеон'}\n",
        "\n",
        "# Находим разность с помощью оператора `-`\n",
        "print(f'Животные, которые нравятся мне, но не нравятся другу: {my_pets_list - friend_pets_list}')\n",
        "\n",
        "# Находим разность с помощью метода `.difference()`\n",
        "# Обратите внимание, что мы поменяли наши множества местами и результат изменится\n",
        "print(f'Животные, которые нравятся другу, но не нравятся мне: {friend_pets_list.difference(my_pets_list)}')"
      ],
      "metadata": {
        "id": "fhUPlOypzrK5",
        "colab": {
          "base_uri": "https://localhost:8080/"
        },
        "outputId": "a6b74516-0b03-43ee-f645-3073c62d5e0b"
      },
      "id": "fhUPlOypzrK5",
      "execution_count": null,
      "outputs": [
        {
          "output_type": "stream",
          "name": "stdout",
          "text": [
            "Животные, которые нравятся мне, но не нравятся другу: {'рыбка', 'шиншилла'}\n",
            "Животные, которые нравятся другу, но не нравятся мне: {'собака', 'хамелеон', 'питон'}\n"
          ]
        }
      ]
    },
    {
      "cell_type": "markdown",
      "source": [
        "## Симметрическая разность\n",
        "\n",
        "Иногда нам нужно найти все элементы, входящие в A или в B, но не в оба из них одновременно.\n",
        "\n",
        "В нашем примере это те животные, которых мы точно не заведем (они не нравятся кому-то из вас, а значит в шорт-лист точно не попадут).\n",
        "\n",
        "<img src='https://github.com/rogovich/Data/blob/master/img/eiler_5.png?raw=true' width=\"300\">\n",
        "\n",
        "Операция, которая возвращает нам такое множество, называется операцией *симметрической разности*.\n",
        "\n",
        "В Python симметрическую разность множеств можно получить двумя способами\n",
        "\n",
        "* `A ^ B` — с помощью оператора `^`\n",
        "* `A.symmetric_difference(B)` — с помощью метода множеств `.symmetric_difference()`, который вызывается от одного множества и берет аргументом второе.\n",
        "\n",
        "Здесь, в отличие от разности, порядок множеств опять не важен."
      ],
      "metadata": {
        "id": "q3q1XtfKzulL"
      },
      "id": "q3q1XtfKzulL"
    },
    {
      "cell_type": "code",
      "source": [
        "my_pets_list = {'кошка', 'рыбка', 'шиншилла', 'ужик'}\n",
        "friend_pets_list = {'собака', 'питон', 'ужик', 'кошка', 'хамелеон'}\n",
        "\n",
        "# Находим симметрическую разность с помощью оператора `^`\n",
        "print(f'Этих животных мы точно заводить не будем: {my_pets_list ^ friend_pets_list}')\n",
        "\n",
        "# Находим симметрическую разность с помощью метода `.symmetric_difference()`\n",
        "print(f'Этих животных мы точно заводить не будем: {my_pets_list.symmetric_difference(friend_pets_list)}')"
      ],
      "metadata": {
        "id": "2jnHV7SsztGB",
        "colab": {
          "base_uri": "https://localhost:8080/"
        },
        "outputId": "431ff22d-4e5f-4084-e16b-a1968fc62564"
      },
      "id": "2jnHV7SsztGB",
      "execution_count": null,
      "outputs": [
        {
          "output_type": "stream",
          "name": "stdout",
          "text": [
            "Этих животных мы точно заводить не будем: {'собака', 'хамелеон', 'питон', 'шиншилла', 'рыбка'}\n",
            "Этих животных мы точно заводить не будем: {'собака', 'хамелеон', 'питон', 'шиншилла', 'рыбка'}\n"
          ]
        }
      ]
    },
    {
      "cell_type": "markdown",
      "id": "a2e1426e",
      "metadata": {
        "id": "a2e1426e"
      },
      "source": [
        "Левое множество является подмножеством правого множества"
      ]
    },
    {
      "cell_type": "code",
      "execution_count": null,
      "id": "bd4bd83f",
      "metadata": {
        "id": "bd4bd83f",
        "outputId": "1029d3ce-ebc2-438c-d055-15eb39182c03",
        "colab": {
          "base_uri": "https://localhost:8080/"
        }
      },
      "outputs": [
        {
          "output_type": "execute_result",
          "data": {
            "text/plain": [
              "True"
            ]
          },
          "metadata": {},
          "execution_count": 92
        }
      ],
      "source": [
        "{1, 2} <= {1, 2, 3}  # True, {1, 2} is a subset of {1, 2, 3}"
      ]
    },
    {
      "cell_type": "markdown",
      "id": "2c92b4ef",
      "metadata": {
        "id": "2c92b4ef"
      },
      "source": [
        "`in` работает и с хешами он работает особенно быстро (мгновенно вне зависимости от размера множества)"
      ]
    },
    {
      "cell_type": "code",
      "execution_count": null,
      "id": "84f42a29",
      "metadata": {
        "id": "84f42a29",
        "outputId": "6b8b88a1-a51f-4c68-fca4-6bac49e70a35",
        "colab": {
          "base_uri": "https://localhost:8080/"
        }
      },
      "outputs": [
        {
          "output_type": "execute_result",
          "data": {
            "text/plain": [
              "True"
            ]
          },
          "metadata": {},
          "execution_count": 93
        }
      ],
      "source": [
        "1 in some_set  # True"
      ]
    },
    {
      "cell_type": "markdown",
      "source": [
        "## Задача. Список гостей на свадьбу\n",
        "\n",
        "Вам поручили проанализировать список гостей на свадьбе. В качестве данных вам предоставили два множества: гости со стороны жениха (groom) и гости со стороны невесты (bride). При этом некоторые гости есть в списках и жениха, и невесты одновременно.\n",
        "\n",
        "Нужно вывести:\n",
        "\n",
        "* Количество гостей на свадьбе (помните, что некоторые гости есть в списках и жениха, и невесты одновременно)\n",
        "* Выведите имена общих гостей жениха и невесты отсортированные по алфавиту\n",
        "* Выведите имена тех гостей, которые не являются общими гостями жениха и невесты отсортированные по алфавиту\n",
        "* Выведите имена гостей невесты, но только тех, кто не являются при этом гостями жениха отсортированные по алфавиту"
      ],
      "metadata": {
        "id": "k20PSYrVdTEl"
      },
      "id": "k20PSYrVdTEl"
    },
    {
      "cell_type": "code",
      "source": [
        "groom = {'Татьяна', 'Мария', 'Ирина', 'Юлия', 'Александр', 'Михаил', 'Максим',\n",
        "         'Лев', 'Артём', 'Марк', 'Иван', 'Дмитрий', 'Матвей', 'Даниил'}\n",
        "bride = {'Анастасия', 'Елена', 'Даниил', 'Ольга', 'Наталья', 'Екатерина',\n",
        "         'Анна', 'Татьяна', 'Мария', 'Ирина', 'Юлия', 'Марк', 'Иван'}\n",
        "\n",
        "# ваш код\n"
      ],
      "metadata": {
        "colab": {
          "base_uri": "https://localhost:8080/"
        },
        "id": "xMSAZGMbdTLn",
        "outputId": "f2643766-dec9-46b0-a581-cfe3f7978348"
      },
      "id": "xMSAZGMbdTLn",
      "execution_count": null,
      "outputs": [
        {
          "output_type": "stream",
          "name": "stdout",
          "text": [
            "20\n",
            "20\n"
          ]
        }
      ]
    },
    {
      "cell_type": "code",
      "source": [
        "print(sorted(groom.intersection(bride)))\n",
        "print(sorted(groom & bride))"
      ],
      "metadata": {
        "colab": {
          "base_uri": "https://localhost:8080/"
        },
        "id": "qi2LujD56kMc",
        "outputId": "da5b95df-1319-458e-fbbb-a0c2ad3d19eb"
      },
      "id": "qi2LujD56kMc",
      "execution_count": null,
      "outputs": [
        {
          "output_type": "stream",
          "name": "stdout",
          "text": [
            "['Даниил', 'Иван', 'Ирина', 'Мария', 'Марк', 'Татьяна', 'Юлия']\n",
            "['Даниил', 'Иван', 'Ирина', 'Мария', 'Марк', 'Татьяна', 'Юлия']\n"
          ]
        }
      ]
    },
    {
      "cell_type": "code",
      "source": [
        "print(sorted(groom.symmetric_difference(bride)))\n",
        "print(sorted(groom ^ bride))"
      ],
      "metadata": {
        "colab": {
          "base_uri": "https://localhost:8080/"
        },
        "id": "S1XD3ijb6vB9",
        "outputId": "24f75554-fca1-402a-c196-9d82319ee226"
      },
      "id": "S1XD3ijb6vB9",
      "execution_count": null,
      "outputs": [
        {
          "output_type": "stream",
          "name": "stdout",
          "text": [
            "['Александр', 'Анастасия', 'Анна', 'Артём', 'Дмитрий', 'Екатерина', 'Елена', 'Лев', 'Максим', 'Матвей', 'Михаил', 'Наталья', 'Ольга']\n",
            "['Александр', 'Анастасия', 'Анна', 'Артём', 'Дмитрий', 'Екатерина', 'Елена', 'Лев', 'Максим', 'Матвей', 'Михаил', 'Наталья', 'Ольга']\n"
          ]
        }
      ]
    },
    {
      "cell_type": "code",
      "source": [
        "print(sorted(bride.difference(groom)))\n",
        "print(sorted(bride - groom))"
      ],
      "metadata": {
        "colab": {
          "base_uri": "https://localhost:8080/"
        },
        "id": "JrWPGEu-7BoT",
        "outputId": "1eb7c613-a7e7-443d-a787-8548610d2fd3"
      },
      "id": "JrWPGEu-7BoT",
      "execution_count": null,
      "outputs": [
        {
          "output_type": "stream",
          "name": "stdout",
          "text": [
            "['Анастасия', 'Анна', 'Екатерина', 'Елена', 'Наталья', 'Ольга']\n",
            "['Анастасия', 'Анна', 'Екатерина', 'Елена', 'Наталья', 'Ольга']\n"
          ]
        }
      ]
    },
    {
      "cell_type": "markdown",
      "id": "3b01789f",
      "metadata": {
        "id": "3b01789f"
      },
      "source": [
        "## Словари"
      ]
    },
    {
      "cell_type": "markdown",
      "id": "cedbc0a8",
      "metadata": {
        "id": "cedbc0a8"
      },
      "source": [
        "Словарь - структура данных, которая позволяет хранить какие-то данные по какому-то ключу"
      ]
    },
    {
      "cell_type": "markdown",
      "id": "8feafcf5",
      "metadata": {
        "id": "8feafcf5"
      },
      "source": [
        "Создается так:"
      ]
    },
    {
      "cell_type": "code",
      "execution_count": null,
      "id": "5ba0a735",
      "metadata": {
        "id": "5ba0a735"
      },
      "outputs": [],
      "source": [
        "empty_dict = {}\n",
        "filled_dict = {'one': 1, 'two': 2, 'three': 3}\n",
        "another_dict = {(1, 2): 'tuple'}"
      ]
    },
    {
      "cell_type": "code",
      "source": [
        "list(filled_dict.items())\n",
        "# ключ словаря - неизменяемый тип данных (str, int, float, tuple, bool)\n",
        "# значения словаря - любые типы данных"
      ],
      "metadata": {
        "colab": {
          "base_uri": "https://localhost:8080/"
        },
        "id": "abIKQbCP7wfs",
        "outputId": "2cdad2c1-8682-4985-a089-e284b542ac00"
      },
      "id": "abIKQbCP7wfs",
      "execution_count": null,
      "outputs": [
        {
          "output_type": "execute_result",
          "data": {
            "text/plain": [
              "[('one', 1), ('two', 2), ('three', 3)]"
            ]
          },
          "metadata": {},
          "execution_count": 103
        }
      ]
    },
    {
      "cell_type": "markdown",
      "id": "c9c5e946",
      "metadata": {
        "id": "c9c5e946"
      },
      "source": [
        "Получаем значение из словаря:"
      ]
    },
    {
      "cell_type": "code",
      "execution_count": null,
      "id": "3d30aeaa",
      "metadata": {
        "id": "3d30aeaa",
        "outputId": "25de8073-e517-4d6e-d5ba-3e0f66ea88a9",
        "colab": {
          "base_uri": "https://localhost:8080/"
        }
      },
      "outputs": [
        {
          "output_type": "execute_result",
          "data": {
            "text/plain": [
              "1"
            ]
          },
          "metadata": {},
          "execution_count": 104
        }
      ],
      "source": [
        "filled_dict['one']  # 1"
      ]
    },
    {
      "cell_type": "code",
      "source": [
        "for i in filled_dict:\n",
        "  print(filled_dict[i] * 2)"
      ],
      "metadata": {
        "colab": {
          "base_uri": "https://localhost:8080/"
        },
        "id": "8YeivE5s9UWK",
        "outputId": "59faed6b-2f3d-4c49-96af-c2cf25f877be"
      },
      "id": "8YeivE5s9UWK",
      "execution_count": null,
      "outputs": [
        {
          "output_type": "stream",
          "name": "stdout",
          "text": [
            "2\n",
            "4\n",
            "6\n",
            "10\n",
            "8\n"
          ]
        }
      ]
    },
    {
      "cell_type": "markdown",
      "id": "4d2a247c",
      "metadata": {
        "id": "4d2a247c"
      },
      "source": [
        "Просмотреть ключи, значения или пары ключ-значение можно с помощью встроенных в словарь методов:"
      ]
    },
    {
      "cell_type": "code",
      "execution_count": null,
      "id": "41730b9f",
      "metadata": {
        "id": "41730b9f",
        "outputId": "5dd4270b-eb23-4ae7-ccae-fe069e75a2c0",
        "colab": {
          "base_uri": "https://localhost:8080/"
        }
      },
      "outputs": [
        {
          "output_type": "stream",
          "name": "stdout",
          "text": [
            "['one', 'two', 'three']\n",
            "[1, 2, 3]\n",
            "[('one', 1), ('two', 2), ('three', 3)]\n"
          ]
        }
      ],
      "source": [
        "print(list(filled_dict.keys()))  # ['one', 'two', 'three'], ordered in recent Python versions\n",
        "print(list(filled_dict.values()))  # [1, 2, 3]\n",
        "print(list(filled_dict.items()))  # [('one', 1), ('two', 2), ('three', 3)]"
      ]
    },
    {
      "cell_type": "markdown",
      "id": "a5e55f09",
      "metadata": {
        "id": "a5e55f09"
      },
      "source": [
        "in так же работает и так же быстро, как и во множествах. Поиск осуществляется по ключам"
      ]
    },
    {
      "cell_type": "code",
      "execution_count": null,
      "id": "5d66fce1",
      "metadata": {
        "id": "5d66fce1",
        "outputId": "3d1e14dd-6a61-4bde-893d-804e499cb69d",
        "colab": {
          "base_uri": "https://localhost:8080/"
        }
      },
      "outputs": [
        {
          "output_type": "execute_result",
          "data": {
            "text/plain": [
              "True"
            ]
          },
          "metadata": {},
          "execution_count": 107
        }
      ],
      "source": [
        "'one' in filled_dict  # True, looks by keys"
      ]
    },
    {
      "cell_type": "markdown",
      "id": "12ed2e09",
      "metadata": {
        "id": "12ed2e09"
      },
      "source": [
        "Если обратиться к ключу можно через квадратные скобки. Однако, если ключ окажется несуществующим, то вы получите ошибку в программе. Дабы этого избежать предусмотрен метод `get`."
      ]
    },
    {
      "cell_type": "code",
      "execution_count": null,
      "id": "49fa3f0f",
      "metadata": {
        "id": "49fa3f0f",
        "colab": {
          "base_uri": "https://localhost:8080/"
        },
        "outputId": "62bd3843-93ee-4386-b9dd-8498f95b6dd0"
      },
      "outputs": [
        {
          "output_type": "stream",
          "name": "stdout",
          "text": [
            "1\n",
            "1\n",
            "None\n"
          ]
        }
      ],
      "source": [
        "print(filled_dict['one'])\n",
        "print(filled_dict.get('one'))  # 1\n",
        "print(filled_dict.get('four'))  # None"
      ]
    },
    {
      "cell_type": "markdown",
      "id": "06347230",
      "metadata": {
        "id": "06347230"
      },
      "source": [
        "Можно возвращать значения по умолчанию, которые вернутся только в том случае, если соответствующего ключа не существует"
      ]
    },
    {
      "cell_type": "code",
      "execution_count": null,
      "id": "b904c0a8",
      "metadata": {
        "id": "b904c0a8",
        "outputId": "a462971c-8f89-4911-be55-0e7cb4389beb",
        "colab": {
          "base_uri": "https://localhost:8080/"
        }
      },
      "outputs": [
        {
          "output_type": "stream",
          "name": "stdout",
          "text": [
            "1\n",
            "44\n"
          ]
        }
      ],
      "source": [
        "print(filled_dict.get('one', 11))  # 1\n",
        "print(filled_dict.get('four', 44))  # 44"
      ]
    },
    {
      "cell_type": "markdown",
      "id": "9b8ec1b7",
      "metadata": {
        "id": "9b8ec1b7"
      },
      "source": [
        "Так же стоит отметить метод, который добавляет значение в словарь только в том случае, если ключ еще не существует"
      ]
    },
    {
      "cell_type": "code",
      "execution_count": null,
      "id": "fba85461",
      "metadata": {
        "id": "fba85461",
        "outputId": "61c6d675-a896-480a-d6d3-8874c86280cc",
        "colab": {
          "base_uri": "https://localhost:8080/"
        }
      },
      "outputs": [
        {
          "output_type": "execute_result",
          "data": {
            "text/plain": [
              "5"
            ]
          },
          "metadata": {},
          "execution_count": 111
        }
      ],
      "source": [
        "filled_dict.setdefault(\"five\", 5)  # {1, 2, 3, 5}\n",
        "filled_dict.setdefault(\"five\", 6)  # {1, 2, 3, 5}"
      ]
    },
    {
      "cell_type": "code",
      "source": [
        "filled_dict"
      ],
      "metadata": {
        "colab": {
          "base_uri": "https://localhost:8080/"
        },
        "id": "m6CdTxnR9FLR",
        "outputId": "1fdd934f-6274-4273-c27c-e96b31fde9b3"
      },
      "id": "m6CdTxnR9FLR",
      "execution_count": null,
      "outputs": [
        {
          "output_type": "execute_result",
          "data": {
            "text/plain": [
              "{'one': 1, 'two': 2, 'three': 3, 'five': 5}"
            ]
          },
          "metadata": {},
          "execution_count": 112
        }
      ]
    },
    {
      "cell_type": "markdown",
      "id": "d338cf15",
      "metadata": {
        "id": "d338cf15"
      },
      "source": [
        "Замена и добавление новых значений в словарь может осуществляться простым присваиванием по ключу словаря"
      ]
    },
    {
      "cell_type": "code",
      "execution_count": null,
      "id": "4f832ec1",
      "metadata": {
        "id": "4f832ec1"
      },
      "outputs": [],
      "source": [
        "filled_dict['four'] = 4  # {1, 2, 3, 4, 5}"
      ]
    },
    {
      "cell_type": "markdown",
      "source": [
        "## Задача. Оценки\n",
        "\n",
        "Напишите программу, которая вычисляет средний балл студентов с помощью цикла for. Затем программа должна вывести имя каждого студента вместе с характеристикой его оценки (Отлично; Хорошо; Удовлетворительно; Неудовлетворительно) на основе среднего балла.\n",
        "\n",
        "8-10 – Отлично \\\n",
        "6-7 – Хорошо \\\n",
        "4-5 – Удовлетворительно \\\n",
        "0-3 – Неудовлетворительно\n"
      ],
      "metadata": {
        "id": "fOV03yjGYA_U"
      },
      "id": "fOV03yjGYA_U"
    },
    {
      "cell_type": "code",
      "source": [
        "marks = [8, 8, 5, 7, 10, 1, 8, 1, 9, 7, 9]\n",
        "round(sum(marks) / len(marks), 0)"
      ],
      "metadata": {
        "colab": {
          "base_uri": "https://localhost:8080/"
        },
        "id": "Ic-K__o9_TPu",
        "outputId": "0d9f32d4-5e57-4afe-ee40-1bf4af7aaa5e"
      },
      "id": "Ic-K__o9_TPu",
      "execution_count": null,
      "outputs": [
        {
          "output_type": "execute_result",
          "data": {
            "text/plain": [
              "7.0"
            ]
          },
          "metadata": {},
          "execution_count": 115
        }
      ]
    },
    {
      "cell_type": "code",
      "source": [
        "students = { # словарь списков\n",
        "    \"Маша\": [8, 8, 5, 7, 10, 1, 8, 1, 9, 7, 9],\n",
        "    \"Миша\": [1, 1, 2, 3, 2, 5, 1, 9, 10, 2, 4],\n",
        "    \"Глаша\": [5, 3, 8, 4, 1, 1, 1, 5, 7, 10, 2],\n",
        "    \"Иван\": [3, 4, 6, 6, 3, 3, 10, 9, 4, 6, 3],\n",
        "    \"Наталья\": [8, 10, 8, 10, 4, 8, 10, 7, 5, 10, 6]\n",
        "}\n",
        "\n",
        "# ваш код\n"
      ],
      "metadata": {
        "id": "cIB_5oYoYG91",
        "colab": {
          "base_uri": "https://localhost:8080/"
        },
        "outputId": "76401921-45e0-4666-e589-4a786ee1131e"
      },
      "id": "cIB_5oYoYG91",
      "execution_count": null,
      "outputs": [
        {
          "output_type": "stream",
          "name": "stdout",
          "text": [
            "7.0 Хорошо\n",
            "4.0 Удовлетворительно\n",
            "4.0 Удовлетворительно\n",
            "5.0 Удовлетворительно\n",
            "8.0 Отлично\n"
          ]
        }
      ]
    },
    {
      "cell_type": "markdown",
      "id": "c388cb79",
      "metadata": {
        "id": "c388cb79"
      },
      "source": [
        "## Словари словарей"
      ]
    },
    {
      "cell_type": "markdown",
      "id": "01f32443",
      "metadata": {
        "id": "01f32443"
      },
      "source": [
        "Значением словаря по ключу может быть любое значение, включая другой словарь. Так может быть создана сложная вложенная структура"
      ]
    },
    {
      "cell_type": "markdown",
      "id": "20bb5f99",
      "metadata": {
        "id": "20bb5f99"
      },
      "source": [
        "Подобные вложенные структуры активно применяются во всем Интернете при общении серверов с устройствами пользователей (данные часто передаются в похожем на вложенные словари формате)"
      ]
    },
    {
      "cell_type": "markdown",
      "id": "72871544",
      "metadata": {
        "id": "72871544"
      },
      "source": [
        "Так выглядит вложенный словарь в питоне:"
      ]
    },
    {
      "cell_type": "code",
      "execution_count": null,
      "id": "6dc5077b",
      "metadata": {
        "id": "6dc5077b",
        "outputId": "f278b87e-f7f8-416c-ca34-f2ffcd7f91f8"
      },
      "outputs": [
        {
          "data": {
            "text/plain": [
              "[1, 2, 3]"
            ]
          },
          "execution_count": 72,
          "metadata": {},
          "output_type": "execute_result"
        }
      ],
      "source": [
        "json_dict = {\n",
        "    'meta': {\n",
        "        'some_info': 123\n",
        "    },\n",
        "    'data': {\n",
        "        'values': [1, 2, 3],\n",
        "        'dtype': 'integers'\n",
        "    }\n",
        "}\n",
        "json_dict['data']['values']"
      ]
    },
    {
      "cell_type": "markdown",
      "id": "3fffb957",
      "metadata": {
        "id": "3fffb957"
      },
      "source": [
        "Можем заметить похожую структуру на сайте РУЗа ВШЭ (при обращении к РУЗу, он возвращает в браузер эту структуру и уже на стороне браузера происходит генерация страницы):"
      ]
    },
    {
      "cell_type": "markdown",
      "id": "5c87e15b",
      "metadata": {
        "id": "5c87e15b"
      },
      "source": [
        "<img src=\"https://raw.githubusercontent.com/karpovmax/images_python_teaching/refs/heads/main/ruz.png\" alt=\"drawing\" width=\"900\"/>"
      ]
    },
    {
      "cell_type": "markdown",
      "id": "b1d0dbe9",
      "metadata": {
        "id": "b1d0dbe9"
      },
      "source": [
        "Общепринятое название этой структуры данных носит название JSON (JavaScript Object Notation)"
      ]
    },
    {
      "cell_type": "markdown",
      "id": "0258acdf",
      "metadata": {
        "id": "0258acdf"
      },
      "source": [
        "## Функции"
      ]
    },
    {
      "cell_type": "markdown",
      "id": "cae92060",
      "metadata": {
        "id": "cae92060"
      },
      "source": [
        "В питоне так же есть функции, которые живут сами по себе, независимо от каких-то структур данных (поэтому они функции, а не методы)"
      ]
    },
    {
      "cell_type": "markdown",
      "id": "a9a6b4e7",
      "metadata": {
        "id": "a9a6b4e7"
      },
      "source": [
        "Многими функциями мы уже пользовались, исчерпывающий список нам предоставляется документацией по питону"
      ]
    },
    {
      "cell_type": "markdown",
      "id": "b49085f2",
      "metadata": {
        "id": "b49085f2"
      },
      "source": [
        "Пример использования функций:"
      ]
    },
    {
      "cell_type": "code",
      "execution_count": null,
      "id": "9a07d211",
      "metadata": {
        "id": "9a07d211",
        "outputId": "21b811cc-144e-47aa-8a1b-d7c18e254011",
        "colab": {
          "base_uri": "https://localhost:8080/"
        }
      },
      "outputs": [
        {
          "output_type": "stream",
          "name": "stdout",
          "text": [
            "3\n",
            "4\n"
          ]
        }
      ],
      "source": [
        "print(max([1, 2, 3, 2]))  # 3\n",
        "print(len([1, 2, 3, 2]))  # 4"
      ]
    },
    {
      "cell_type": "markdown",
      "id": "d23f09ae",
      "metadata": {
        "id": "d23f09ae"
      },
      "source": [
        "## Пользовательские функции"
      ]
    },
    {
      "cell_type": "markdown",
      "id": "e719b643",
      "metadata": {
        "id": "e719b643"
      },
      "source": [
        "Функции можем создавать и мы сами. Зачем? Дабы мы могли написать сложную (или не очень) процедуру, дать ей имя и забыть про ее страшный код, постоянно вызывая ее по имени."
      ]
    },
    {
      "cell_type": "markdown",
      "id": "4ab7ef6e",
      "metadata": {
        "id": "4ab7ef6e"
      },
      "source": [
        "Напишем функцию сложения, при чем так, чтобы на каждое сложение, она об этом сообщала в выводе"
      ]
    },
    {
      "cell_type": "code",
      "execution_count": null,
      "id": "a1470a84",
      "metadata": {
        "id": "a1470a84",
        "outputId": "c6942426-3a8a-454f-c6a8-37226d93effa",
        "colab": {
          "base_uri": "https://localhost:8080/"
        }
      },
      "outputs": [
        {
          "output_type": "stream",
          "name": "stdout",
          "text": [
            "x + y = 3\n",
            "x + y = 3\n"
          ]
        },
        {
          "output_type": "execute_result",
          "data": {
            "text/plain": [
              "3"
            ]
          },
          "metadata": {},
          "execution_count": 125
        }
      ],
      "source": [
        "def add(x, y):\n",
        "    print(f'x + y = {x + y}')\n",
        "    return x + y\n",
        "\n",
        "add(1, 2)  # 3\n",
        "add(y=2, x=1)  # 3"
      ]
    },
    {
      "cell_type": "markdown",
      "id": "349ede04",
      "metadata": {
        "id": "349ede04"
      },
      "source": [
        "Аргументы могут вызываться непозиционно (без привязки к позиции) путем указания имени ожидаемой функцией переменной"
      ]
    },
    {
      "cell_type": "code",
      "execution_count": null,
      "id": "ed72b1c9",
      "metadata": {
        "id": "ed72b1c9",
        "outputId": "d96d2723-424e-4f0a-df0c-0d9dd65960e3"
      },
      "outputs": [
        {
          "name": "stdout",
          "output_type": "stream",
          "text": [
            "x + y = 3\n"
          ]
        },
        {
          "data": {
            "text/plain": [
              "3"
            ]
          },
          "execution_count": 76,
          "metadata": {},
          "output_type": "execute_result"
        }
      ],
      "source": [
        "add(y=2, x=1)  # 3"
      ]
    },
    {
      "cell_type": "markdown",
      "source": [
        "<img src=\"https://raw.githubusercontent.com/karpovmax/images_python_teaching/refs/heads/main/fahr_kelvin.png\" alt=\"drawing\" width=\"700\"/>"
      ],
      "metadata": {
        "id": "qGDbvITxxnYR"
      },
      "id": "qGDbvITxxnYR"
    },
    {
      "cell_type": "markdown",
      "id": "24325d03",
      "metadata": {
        "id": "24325d03"
      },
      "source": [
        "Иногда (тоже увидим когда) требуется передать короткую функцию как аргумент, для такой функции нам уже не нужно ее название, так как вызываться она будет уже не нами. Для записи таких коротких и безымянных (правильно называть анонимными) функций придумали короткий способ записи функций в виде лямбда-выражений (умная фраза, которая просто обозначает анонимную функцию)"
      ]
    },
    {
      "cell_type": "markdown",
      "source": [
        "## Задача. Отпуск\n",
        "\n",
        "Сотрудникам трактира полагается 30 дней отпуска в год. Владелец трактира ведет учет, записывая в книгу имена сотрудников и число использованных дней отпуска.\n",
        "\n",
        "Напишите функцию, которая выводит имена сотрудников, у которых еще остались дни отпуска.\n",
        "\n",
        "__ТРЕБУЕМАЯ ФУНКЦИЯ__\n",
        "\n",
        "* Функция remaining_days принимает на вход два списка:\n",
        "  * в первом списке содержатся имена сотрудников (строки);\n",
        "  * во втором — соответствующее количество использованных каждым из них дней отпуска (целые числа).\n",
        "* Функция должна возвращать список сотрудников, у которых остались неиспользованные дни отпуска (т.е. использованных дней меньше 30).\n",
        "* Имена сотрудников должны идти в том же порядке, что и в оригинальном списке.\n",
        "* При отсутствии таких сотрудников функция возвращает пустой список.\n",
        "\n",
        "\n",
        "__пример ввода__\n",
        "\n",
        "`\n",
        "['Юра', 'Люда', 'Кирилл', 'Никита', 'Оля'], [24, 28, 29, 26, 30]\n",
        "`\n",
        "\n",
        "__пример вывода__\n",
        "\n",
        "`['Юра', 'Люда', 'Кирилл', 'Никита']`"
      ],
      "metadata": {
        "id": "ZNpq573oeVMp"
      },
      "id": "ZNpq573oeVMp"
    },
    {
      "cell_type": "code",
      "source": [
        "# ваш код"
      ],
      "metadata": {
        "id": "MJFvkroDeVFY"
      },
      "id": "MJFvkroDeVFY",
      "execution_count": null,
      "outputs": []
    },
    {
      "cell_type": "code",
      "source": [
        "remaining_days(['Юра', 'Люда', 'Кирилл', 'Никита', 'Оля'], [24, 28, 29, 26, 30])"
      ],
      "metadata": {
        "colab": {
          "base_uri": "https://localhost:8080/"
        },
        "id": "CaU7-3OND6Nj",
        "outputId": "a6d9ff94-80d0-4347-f5f5-79a57dfa536d"
      },
      "id": "CaU7-3OND6Nj",
      "execution_count": null,
      "outputs": [
        {
          "output_type": "execute_result",
          "data": {
            "text/plain": [
              "['Юра', 'Люда', 'Кирилл', 'Никита']"
            ]
          },
          "metadata": {},
          "execution_count": 128
        }
      ]
    },
    {
      "cell_type": "markdown",
      "id": "0eb50d0b",
      "metadata": {
        "id": "0eb50d0b"
      },
      "source": [
        "## Библиотеки и модули"
      ]
    },
    {
      "cell_type": "markdown",
      "id": "64b794d9",
      "metadata": {
        "id": "64b794d9"
      },
      "source": [
        "Когда-то давно разработчики писали код каждый раз с нуля. Одно и то же писало миллионы человек. Подобное называется изобретением велосипеда"
      ]
    },
    {
      "cell_type": "markdown",
      "id": "984c8f74",
      "metadata": {
        "id": "984c8f74"
      },
      "source": [
        "Изобретать велосипеды нет никакого смысла (кроме, разве что, в образовательных), поэтому придумали концепт библиотек и модулей. В питоне применяется термин модуль"
      ]
    },
    {
      "cell_type": "markdown",
      "id": "9c8ffd6b",
      "metadata": {
        "id": "9c8ffd6b"
      },
      "source": [
        "Модуль по своей сути просто скрипт (.py файл), который содержит определения функций"
      ]
    },
    {
      "cell_type": "markdown",
      "id": "250d2258",
      "metadata": {
        "id": "250d2258"
      },
      "source": [
        "Модули можно писать самостоятельно (например, под какой-либо свой проект), либо брать уже существующие (коих великое множество)"
      ]
    },
    {
      "cell_type": "markdown",
      "id": "e54eef4b",
      "metadata": {
        "id": "e54eef4b"
      },
      "source": [
        "В мире питона модули, которыми разработчики хотят поделиться, принято размещать в репозитории (хранилище) pypy. Для удобной установки из этого репозитория придумана утилита pip. Например, `pip install pony` установит модуль PonyORM [pony · PyPI](https://pypi.org/project/pony/) (что это вам пока знать не надо и ставить тоже, мне просто название нравится)"
      ]
    },
    {
      "cell_type": "markdown",
      "id": "74ecf3f1",
      "metadata": {
        "id": "74ecf3f1"
      },
      "source": [
        "Подключить модуль можно при помощи оператора `import`"
      ]
    },
    {
      "cell_type": "code",
      "execution_count": null,
      "id": "f07bad5e",
      "metadata": {
        "id": "f07bad5e",
        "outputId": "972cce2b-776b-4c63-bf73-145912c6365c",
        "colab": {
          "base_uri": "https://localhost:8080/"
        }
      },
      "outputs": [
        {
          "output_type": "stream",
          "name": "stdout",
          "text": [
            "4.0\n"
          ]
        }
      ],
      "source": [
        "import math\n",
        "print(math.sqrt(16))  # 4.0"
      ]
    },
    {
      "cell_type": "markdown",
      "id": "2fb9a16e",
      "metadata": {
        "id": "2fb9a16e"
      },
      "source": [
        "Если имя модуля длинное, а используется модуль часто, то можно использовать алиасы (сокращения) для названий модулей"
      ]
    },
    {
      "cell_type": "code",
      "execution_count": null,
      "id": "7e34cec1",
      "metadata": {
        "id": "7e34cec1",
        "outputId": "b7bc3277-82e4-4be0-837c-fb084c1f69dd",
        "colab": {
          "base_uri": "https://localhost:8080/"
        }
      },
      "outputs": [
        {
          "output_type": "execute_result",
          "data": {
            "text/plain": [
              "4.0"
            ]
          },
          "metadata": {},
          "execution_count": 130
        }
      ],
      "source": [
        "import math as m\n",
        "m.sqrt(16)  # 4.0"
      ]
    },
    {
      "cell_type": "markdown",
      "id": "24bcb4ae",
      "metadata": {
        "id": "24bcb4ae"
      },
      "source": [
        "Из модулей можно импортировать лишь некоторые нужные нам функции, тогда они будут вести себя как обычные функции"
      ]
    },
    {
      "cell_type": "code",
      "execution_count": null,
      "id": "7f7f656a",
      "metadata": {
        "id": "7f7f656a",
        "outputId": "cba66e60-3773-4d84-90bf-3e5046da1b75",
        "colab": {
          "base_uri": "https://localhost:8080/"
        }
      },
      "outputs": [
        {
          "output_type": "stream",
          "name": "stdout",
          "text": [
            "4\n",
            "3\n"
          ]
        }
      ],
      "source": [
        "from math import ceil, floor\n",
        "print(ceil(3.7))  # 4.0\n",
        "print(floor(3.7))  # 3.0"
      ]
    },
    {
      "cell_type": "markdown",
      "id": "04c81c66",
      "metadata": {
        "id": "04c81c66"
      },
      "source": [
        "Так же можно импортировать все существующие в модули функции при помощи звездочки, но так делать не нужно, так как если модуль слишком большой, то на это потребуется много дополнительной памяти"
      ]
    },
    {
      "cell_type": "code",
      "execution_count": null,
      "id": "5800688e",
      "metadata": {
        "id": "5800688e"
      },
      "outputs": [],
      "source": [
        "from sklearn import *"
      ]
    },
    {
      "cell_type": "markdown",
      "id": "d3358156",
      "metadata": {
        "id": "d3358156"
      },
      "source": [
        "Содержимое модуля можно просмотреть так"
      ]
    },
    {
      "cell_type": "code",
      "execution_count": null,
      "id": "4c40bdf5",
      "metadata": {
        "id": "4c40bdf5",
        "outputId": "71304f98-ba14-4f1e-b6c8-e3e498a304ea",
        "colab": {
          "base_uri": "https://localhost:8080/"
        }
      },
      "outputs": [
        {
          "output_type": "execute_result",
          "data": {
            "text/plain": [
              "['__doc__',\n",
              " '__loader__',\n",
              " '__name__',\n",
              " '__package__',\n",
              " '__spec__',\n",
              " 'acos',\n",
              " 'acosh',\n",
              " 'asin',\n",
              " 'asinh',\n",
              " 'atan',\n",
              " 'atan2',\n",
              " 'atanh',\n",
              " 'ceil',\n",
              " 'comb',\n",
              " 'copysign',\n",
              " 'cos',\n",
              " 'cosh',\n",
              " 'degrees',\n",
              " 'dist',\n",
              " 'e',\n",
              " 'erf',\n",
              " 'erfc',\n",
              " 'exp',\n",
              " 'expm1',\n",
              " 'fabs',\n",
              " 'factorial',\n",
              " 'floor',\n",
              " 'fmod',\n",
              " 'frexp',\n",
              " 'fsum',\n",
              " 'gamma',\n",
              " 'gcd',\n",
              " 'hypot',\n",
              " 'inf',\n",
              " 'isclose',\n",
              " 'isfinite',\n",
              " 'isinf',\n",
              " 'isnan',\n",
              " 'isqrt',\n",
              " 'lcm',\n",
              " 'ldexp',\n",
              " 'lgamma',\n",
              " 'log',\n",
              " 'log10',\n",
              " 'log1p',\n",
              " 'log2',\n",
              " 'modf',\n",
              " 'nan',\n",
              " 'nextafter',\n",
              " 'perm',\n",
              " 'pi',\n",
              " 'pow',\n",
              " 'prod',\n",
              " 'radians',\n",
              " 'remainder',\n",
              " 'sin',\n",
              " 'sinh',\n",
              " 'sqrt',\n",
              " 'tan',\n",
              " 'tanh',\n",
              " 'tau',\n",
              " 'trunc',\n",
              " 'ulp']"
            ]
          },
          "metadata": {},
          "execution_count": 132
        }
      ],
      "source": [
        "import math\n",
        "dir(math)"
      ]
    },
    {
      "cell_type": "markdown",
      "id": "9f5a12a6",
      "metadata": {
        "id": "9f5a12a6"
      },
      "source": [
        "## Collections"
      ]
    },
    {
      "cell_type": "markdown",
      "id": "c3d7de8c",
      "metadata": {
        "id": "c3d7de8c"
      },
      "source": [
        "В качестве еще одного примера посмотрим на модуль collections, откуда вызовем класс Counter. Этот класс помогает нам быстро и удобно считать объекты и имеет методы для получения базовой статистики по количеству слов"
      ]
    },
    {
      "cell_type": "code",
      "execution_count": null,
      "id": "77e242b4",
      "metadata": {
        "id": "77e242b4",
        "outputId": "cc20c0f1-60c2-4dfb-b761-de771ab8d95e",
        "colab": {
          "base_uri": "https://localhost:8080/"
        }
      },
      "outputs": [
        {
          "output_type": "execute_result",
          "data": {
            "text/plain": [
              "[('blue', 3)]"
            ]
          },
          "metadata": {},
          "execution_count": 133
        }
      ],
      "source": [
        "from collections import Counter\n",
        "cnt = Counter()\n",
        "for word in ['red', 'blue', 'red', 'green', 'blue', 'blue']:\n",
        "    cnt[word] += 1\n",
        "cnt  # Counter({'blue': 3, 'red': 2, 'green': 1})\n",
        "\n",
        "cnt.most_common(1)  # ('blue', 3)"
      ]
    },
    {
      "cell_type": "code",
      "source": [
        "from datetime import datetime"
      ],
      "metadata": {
        "id": "IRhWq5uoFkMB"
      },
      "id": "IRhWq5uoFkMB",
      "execution_count": null,
      "outputs": []
    },
    {
      "cell_type": "code",
      "source": [
        "datetime.today().year"
      ],
      "metadata": {
        "colab": {
          "base_uri": "https://localhost:8080/"
        },
        "id": "omN08L4gFm8q",
        "outputId": "62558d1a-e54d-4de6-b602-8073f31e7109"
      },
      "id": "omN08L4gFm8q",
      "execution_count": null,
      "outputs": [
        {
          "output_type": "execute_result",
          "data": {
            "text/plain": [
              "2024"
            ]
          },
          "metadata": {},
          "execution_count": 137
        }
      ]
    },
    {
      "cell_type": "code",
      "source": [
        "datetime.today().month"
      ],
      "metadata": {
        "colab": {
          "base_uri": "https://localhost:8080/"
        },
        "id": "YlK-PXc_Fz6S",
        "outputId": "9e00b0b8-bd21-4d53-c091-4447c00b564c"
      },
      "id": "YlK-PXc_Fz6S",
      "execution_count": null,
      "outputs": [
        {
          "output_type": "execute_result",
          "data": {
            "text/plain": [
              "12"
            ]
          },
          "metadata": {},
          "execution_count": 138
        }
      ]
    },
    {
      "cell_type": "markdown",
      "id": "92ebf0c6",
      "metadata": {
        "id": "92ebf0c6"
      },
      "source": [
        "## Введение в работу с файлами"
      ]
    },
    {
      "cell_type": "markdown",
      "id": "1a5931bb",
      "metadata": {
        "id": "1a5931bb"
      },
      "source": [
        "Работа с файлами осуществляется при помощи менеджера контекста `with as`. Менеджер контекста сначала резервирует (открывает) файл и и автоматически его закрывает. Можно обойти без него при помощи `f = open()` `f.close()`, но это менее красиво"
      ]
    },
    {
      "cell_type": "markdown",
      "id": "d796bdf6",
      "metadata": {
        "id": "d796bdf6"
      },
      "source": [
        "Открытие файла осуществляется при помощи функции open, которая принимает на вход путь к файлу и режим открытия файла (все режимы можно найти в документации, для демонстрации посмотрим лишь на два)"
      ]
    },
    {
      "cell_type": "markdown",
      "id": "ee23da57",
      "metadata": {
        "id": "ee23da57"
      },
      "source": [
        "Открытие файла на запись (запишем туда строку)"
      ]
    },
    {
      "cell_type": "code",
      "execution_count": null,
      "id": "aca99c68",
      "metadata": {
        "id": "aca99c68"
      },
      "outputs": [],
      "source": [
        "with open(\"myfile.txt\", \"w\") as f:\n",
        "    f.write('1 2 3 4 1 2 3 7 6')"
      ]
    },
    {
      "cell_type": "markdown",
      "id": "28430725",
      "metadata": {
        "id": "28430725"
      },
      "source": [
        "Открытие файла на чтение (считаем что мы туда записали)"
      ]
    },
    {
      "cell_type": "code",
      "execution_count": null,
      "id": "09b41680",
      "metadata": {
        "id": "09b41680",
        "outputId": "c01057d9-2041-4203-d992-6472fd3d7279",
        "colab": {
          "base_uri": "https://localhost:8080/"
        }
      },
      "outputs": [
        {
          "output_type": "stream",
          "name": "stdout",
          "text": [
            "1 2 3 4 1 2 3 7 6\n"
          ]
        }
      ],
      "source": [
        "with open(\"myfile.txt\", \"r\") as f:\n",
        "    content = f.read()\n",
        "\n",
        "print(content)  # with не скрывает переменные, HSE"
      ]
    },
    {
      "cell_type": "code",
      "source": [
        "with open(\"myfile.txt\", \"r\") as f:\n",
        "    content = f.read()\n",
        "    content = content.split()\n",
        "    for i in content:\n",
        "      if int(i) >= 4:\n",
        "        print(\"Зачёт\")\n",
        "      else:\n",
        "        print(\"Незачёт\")\n",
        "\n",
        "# with не скрывает переменные, HSE"
      ],
      "metadata": {
        "colab": {
          "base_uri": "https://localhost:8080/"
        },
        "id": "xHrXBncuGgQ2",
        "outputId": "e8a4c771-c073-48d0-a277-14bf240c4fdc"
      },
      "id": "xHrXBncuGgQ2",
      "execution_count": null,
      "outputs": [
        {
          "output_type": "stream",
          "name": "stdout",
          "text": [
            "Незачёт\n",
            "Незачёт\n",
            "Незачёт\n",
            "Зачёт\n",
            "Незачёт\n",
            "Незачёт\n",
            "Незачёт\n",
            "Зачёт\n",
            "Зачёт\n"
          ]
        }
      ]
    }
  ],
  "metadata": {
    "kernelspec": {
      "display_name": "Python 3 (ipykernel)",
      "language": "python",
      "name": "python3"
    },
    "language_info": {
      "codemirror_mode": {
        "name": "ipython",
        "version": 3
      },
      "file_extension": ".py",
      "mimetype": "text/x-python",
      "name": "python",
      "nbconvert_exporter": "python",
      "pygments_lexer": "ipython3",
      "version": "3.9.13"
    },
    "colab": {
      "provenance": [],
      "include_colab_link": true
    }
  },
  "nbformat": 4,
  "nbformat_minor": 5
}